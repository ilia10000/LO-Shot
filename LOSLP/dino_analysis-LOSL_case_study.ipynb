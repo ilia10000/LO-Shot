{
 "cells": [
  {
   "cell_type": "code",
   "execution_count": 1,
   "id": "conservative-poultry",
   "metadata": {},
   "outputs": [
    {
     "name": "stdout",
     "output_type": "stream",
     "text": [
      "['b', 'html-button-response.csv', 'participants.csv', 'survey-multi-choice.csv']\n"
     ]
    }
   ],
   "source": [
    "%matplotlib inline\n",
    "import os, sys, gc\n",
    "import numpy as np\n",
    "import matplotlib.pyplot as plt\n",
    "import csv\n",
    "import pandas as pd\n",
    "import seaborn as sns\n",
    "from IPython.display import display, HTML\n",
    "from tqdm import tqdm\n",
    "from numpy import array\n",
    "\n",
    "load_dir = 'lo-shot-dinos-classification-genetic-pilot'\n",
    "print(os.listdir(load_dir))"
   ]
  },
  {
   "cell_type": "code",
   "execution_count": 44,
   "id": "legitimate-render",
   "metadata": {},
   "outputs": [],
   "source": [
    "ignore = ['w93e05c8', 'w8f3a5e6', 'w72ff099', 'w6189e36', 'w3cbe79c',\n",
    "       'w86d39ac', 'wfc8e96c', 'wf2fae6e', 'w2c152d2', 'wbfb9c6f',]\n",
    "       #'wcfe7234', 'wb38724c', 'we815cde', 'wb2873cd', 'wf369503']\n",
    "button_response_data = pd.read_csv(\"{}/html-button-response.csv\".format(load_dir))\n",
    "responses = button_response_data[(button_response_data.task == 'testing_c1_categorize') | (button_response_data.task == 'testing_c2_categorize')]\n",
    "responses = responses[[\"wid\", \"task\", \"response\", \"target_dino\", \"label_pair\", \"manifold_jitter\"]]\n",
    "for wid in ignore:\n",
    "    responses = responses[responses.wid != wid]\n",
    "responses[\"response\"] = responses[\"response\"].astype('category',copy=False)\n",
    "responses[\"target_dino\"] = responses[\"target_dino\"].astype('category',copy=False)\n",
    "sl =[[array([0., 0., 1.]), array([0.25, 0.25, 0.5 ])],\n",
    " [array([0., 0., 1.]), array([0.25, 0.5 , 0.25])],\n",
    " [array([0., 0., 1.]), array([0.25, 0.75, 0.  ])],\n",
    " [array([0., 0., 1.]), array([0.5, 0.5, 0. ])],\n",
    " [array([0.  , 0.25, 0.75]), array([0.25, 0.  , 0.75])],\n",
    " [array([0.  , 0.25, 0.75]), array([0.25, 0.25, 0.5 ])],\n",
    " [array([0.  , 0.25, 0.75]), array([0.25, 0.5 , 0.25])],\n",
    " [array([0.  , 0.25, 0.75]), array([0.25, 0.75, 0.  ])],\n",
    " [array([0.  , 0.25, 0.75]), array([0.5, 0. , 0.5])],\n",
    " [array([0.  , 0.25, 0.75]), array([0.5 , 0.25, 0.25])],\n",
    " [array([0.  , 0.25, 0.75]), array([0.5, 0.5, 0. ])],\n",
    " [array([0.  , 0.25, 0.75]), array([0.75, 0.25, 0.  ])],\n",
    " [array([0. , 0.5, 0.5]), array([0.25, 0.25, 0.5 ])],\n",
    " [array([0. , 0.5, 0.5]), array([0.5, 0. , 0.5])],\n",
    " [array([0. , 0.5, 0.5]), array([0.5 , 0.25, 0.25])],\n",
    " [array([0.25, 0.25, 0.5 ]), array([0.25, 0.25, 0.5 ])],\n",
    " [array([0.25, 0.25, 0.5 ]), array([0.25, 0.5 , 0.25])]]\n"
   ]
  },
  {
   "cell_type": "code",
   "execution_count": 45,
   "id": "hollow-argument",
   "metadata": {},
   "outputs": [
    {
     "name": "stdout",
     "output_type": "stream",
     "text": [
      "Mean within-subject agreement between point clouds: 0.7407142857142858\n"
     ]
    }
   ],
   "source": [
    "def agreement(df1, df2):\n",
    "    agreed=0\n",
    "    for i in range(20):\n",
    "        agreed+= set(df1[df1['target_dino']==i]['response'])==set(df2[df2['target_dino']==i]['response'])\n",
    "    return agreed\n",
    "subject_dfs=[]\n",
    "for i in set(responses[\"label_pair\"]):\n",
    "    r=responses[responses[\"label_pair\"]==i]\n",
    "    wids=set(r[\"wid\"])\n",
    "    \n",
    "    for w in wids:\n",
    "        subject_dfs.append(r[r[\"wid\"]==w])\n",
    "agreements=[]\n",
    "for i in range(len(subject_dfs)):\n",
    "    subj = subject_dfs[i]\n",
    "    subjc1 = subj[subj.task == 'testing_c1_categorize']\n",
    "    subjc2 = subj[subj.task == 'testing_c2_categorize']\n",
    "#     plt.scatter(subjc1['target_dino'],subjc1['response'])\n",
    "#     plt.show()\n",
    "#     plt.scatter(subjc2['target_dino'],subjc2['response'])\n",
    "#     plt.show()\n",
    "    agreements.append(agreement(subjc1, subjc2))\n",
    "print(\"Mean within-subject agreement between point clouds: {0}\".format(np.mean(agreements)/20))"
   ]
  },
  {
   "cell_type": "code",
   "execution_count": 83,
   "id": "continental-logging",
   "metadata": {},
   "outputs": [
    {
     "data": {
      "text/plain": [
       "14.814285714285715"
      ]
     },
     "execution_count": 83,
     "metadata": {},
     "output_type": "execute_result"
    }
   ],
   "source": [
    "np.mean(agreements)"
   ]
  },
  {
   "cell_type": "code",
   "execution_count": 42,
   "id": "expired-columbus",
   "metadata": {},
   "outputs": [
    {
     "data": {
      "text/plain": [
       "0.17526326351652116"
      ]
     },
     "execution_count": 42,
     "metadata": {},
     "output_type": "execute_result"
    }
   ],
   "source": []
  },
  {
   "cell_type": "code",
   "execution_count": 46,
   "id": "lasting-cathedral",
   "metadata": {},
   "outputs": [
    {
     "name": "stderr",
     "output_type": "stream",
     "text": [
      "100%|██████████| 70/70 [01:46<00:00,  1.52s/it]\n"
     ]
    }
   ],
   "source": [
    "n=len(subject_dfs)\n",
    "ags_mat1=np.empty((n,n))\n",
    "ags_mat2=np.empty((n,n))\n",
    "\n",
    "for i in tqdm(range(n)):\n",
    "    subj1=subject_dfs[i]\n",
    "    for j in range(i,n):\n",
    "        subj2=subject_dfs[j]\n",
    "        ags_mat1[i,j]=ags_mat1[j,i]=agreement(subj1[subj1.task == 'testing_c1_categorize'],subj2[subj2.task == 'testing_c1_categorize'])\n",
    "        ags_mat2[i,j]=ags_mat2[j,i]=agreement(subj1[subj1.task == 'testing_c2_categorize'],subj2[subj2.task == 'testing_c2_categorize'])"
   ]
  },
  {
   "cell_type": "code",
   "execution_count": 47,
   "id": "turned-velvet",
   "metadata": {},
   "outputs": [
    {
     "data": {
      "text/plain": [
       "<matplotlib.colorbar.Colorbar at 0x7f6ac3471080>"
      ]
     },
     "execution_count": 47,
     "metadata": {},
     "output_type": "execute_result"
    },
    {
     "data": {
      "image/png": "[encoded data removed]",
      "text/plain": [
       "<Figure size 288x288 with 2 Axes>"
      ]
     },
     "metadata": {
      "needs_background": "light"
     },
     "output_type": "display_data"
    }
   ],
   "source": [
    "#Inter-subject agreement matrix\n",
    "plt.matshow((ags_mat1+ags_mat2)/40)\n",
    "plt.colorbar()"
   ]
  },
  {
   "cell_type": "code",
   "execution_count": 131,
   "id": "apparent-villa",
   "metadata": {},
   "outputs": [
    {
     "name": "stdout",
     "output_type": "stream",
     "text": [
      "Correlation between inter-subject agreement and similarity of observed labels:  (0.5661291250036837, 1.2959968428422728e-210)\n"
     ]
    },
    {
     "data": {
      "image/png": "[encoded data removed]",
      "text/plain": [
       "<Figure size 288x288 with 2 Axes>"
      ]
     },
     "metadata": {
      "needs_background": "light"
     },
     "output_type": "display_data"
    }
   ],
   "source": [
    "#Inter-trial label_pair similarity matrix\n",
    "lps=list(set(responses.label_pair))\n",
    "label_similarity=np.empty((len(subject_dfs),len(subject_dfs)))\n",
    "for i in range(len(subject_dfs)):\n",
    "    for j in range(len(subject_dfs)):\n",
    "        s1=subject_dfs[i]\n",
    "        s2=subject_dfs[j]\n",
    "        sl1=array(sl[list(s1.label_pair)[0]]).flatten()\n",
    "        sl2=array(sl[list(s2.label_pair)[0]]).flatten()\n",
    "        label_similarity[i,j]=np.sum((sl1*sl2))/(np.linalg.norm(sl1)*np.linalg.norm(sl2))#1/np.sum((np.array(sl[lps[i]])-np.array(sl[lps[j]]))**2)#1/(np.sum((np.array(sl1)-np.array(sl2))**2)+1)#\n",
    "plt.matshow(label_similarity**3)\n",
    "plt.colorbar()\n",
    "from scipy.stats import spearmanr, pearsonr\n",
    "new_inds=np.triu_indices(n)\n",
    "print(\"Correlation between inter-subject agreement and similarity of observed labels: \",pearsonr((ags_mat1+ags_mat2)[new_inds].flatten(), label_similarity[new_inds].flatten()**3))"
   ]
  },
  {
   "cell_type": "code",
   "execution_count": 136,
   "id": "complimentary-glance",
   "metadata": {},
   "outputs": [
    {
     "data": {
      "text/plain": [
       "2485"
      ]
     },
     "execution_count": 136,
     "metadata": {},
     "output_type": "execute_result"
    }
   ],
   "source": [
    "len(new_inds[0])"
   ]
  },
  {
   "cell_type": "code",
   "execution_count": 49,
   "id": "painful-tribute",
   "metadata": {},
   "outputs": [
    {
     "name": "stdout",
     "output_type": "stream",
     "text": [
      "Mean inter-subject agreement: 0.6817857142857141\n"
     ]
    }
   ],
   "source": [
    "joint_mat=ags_mat1+ags_mat2\n",
    "inds=np.triu_indices(5,1)\n",
    "isags=[]\n",
    "for i in range(len(joint_mat)//5):\n",
    "    isags.append(np.mean(joint_mat[i*5:(i+1)*5,i*5:(i+1)*5][inds])/40)\n",
    "print(\"Mean inter-subject agreement:\",np.mean(isags))\n"
   ]
  },
  {
   "cell_type": "code",
   "execution_count": 84,
   "id": "ready-christian",
   "metadata": {},
   "outputs": [
    {
     "data": {
      "text/plain": [
       "27.271428571428565"
      ]
     },
     "execution_count": 84,
     "metadata": {},
     "output_type": "execute_result"
    }
   ],
   "source": [
    "np.mean(isags)*40"
   ]
  },
  {
   "cell_type": "code",
   "execution_count": 54,
   "id": "damaged-electronics",
   "metadata": {},
   "outputs": [
    {
     "name": "stdout",
     "output_type": "stream",
     "text": [
      "0.4731632653061224\n"
     ]
    }
   ],
   "source": [
    "print(np.mean(joint_mat)/40)"
   ]
  },
  {
   "cell_type": "code",
   "execution_count": null,
   "id": "peaceful-circulation",
   "metadata": {
    "scrolled": true
   },
   "outputs": [],
   "source": [
    "#PLEASE ADD ONE OF THE LINE PLOTS HERE FOR A POINT CLOUD THAT SHOWS ALL 3 CLASSES BEING USED"
   ]
  },
  {
   "cell_type": "code",
   "execution_count": 50,
   "id": "caroline-observation",
   "metadata": {},
   "outputs": [
    {
     "data": {
      "image/png": "[encoded data removed]",
      "text/plain": [
       "<Figure size 288x288 with 1 Axes>"
      ]
     },
     "metadata": {
      "needs_background": "light"
     },
     "output_type": "display_data"
    },
    {
     "data": {
      "image/png": "[encoded data removed]",
      "text/plain": [
       "<Figure size 288x288 with 1 Axes>"
      ]
     },
     "metadata": {
      "needs_background": "light"
     },
     "output_type": "display_data"
    }
   ],
   "source": [
    "plt.matshow((ags_mat1+ags_mat2)/40, cmap=plt.cm.magma)\n",
    "\n",
    "plt.matshow(label_similarity**2, cmap=plt.cm.magma)\n",
    "\n",
    "\n",
    "plt.show()"
   ]
  },
  {
   "cell_type": "code",
   "execution_count": 127,
   "id": "enclosed-barcelona",
   "metadata": {},
   "outputs": [
    {
     "data": {
      "image/png": "[encoded data removed]",
      "text/plain": [
       "<Figure size 288x288 with 2 Axes>"
      ]
     },
     "metadata": {
      "needs_background": "light"
     },
     "output_type": "display_data"
    },
    {
     "data": {
      "image/png": "[encoded data removed]",
      "text/plain": [
       "<Figure size 288x288 with 2 Axes>"
      ]
     },
     "metadata": {
      "needs_background": "light"
     },
     "output_type": "display_data"
    }
   ],
   "source": [
    "plt.matshow((ags_mat1+ags_mat2)/40, cmap=plt.cm.magma)\n",
    "plt.ylabel(\"Participant Index\", fontsize=15)\n",
    "plt.title(\"Participant Index\", fontsize=15)\n",
    "c=plt.colorbar(ticks=[0.0, 0.2, 0.4, 0.6,0.8,1.0])\n",
    "c.set_label(label=\"Between-Subject Agreement\", fontsize=12)\n",
    "plt.savefig(\"figs/LOSL/heatmap_human.png\")\n",
    "plt.matshow(label_similarity**3, cmap=plt.cm.magma)\n",
    "plt.ylabel(\"Participant Index\", fontsize=15)\n",
    "plt.title(\"Participant Index\", fontsize=15)\n",
    "c=plt.colorbar(ticks=[0.0, 0.2, 0.4, 0.6,0.8,1.0])\n",
    "c.set_label(label=\"SLP Cosine Similarity\", fontsize=12)\n",
    "plt.savefig(\"figs/LOSL/heatmap_label_sims.png\")\n",
    "\n"
   ]
  },
  {
   "cell_type": "code",
   "execution_count": 141,
   "id": "charitable-express",
   "metadata": {},
   "outputs": [
    {
     "name": "stdout",
     "output_type": "stream",
     "text": [
      "Average shannon entropy over SLPs:  0.9123275966966887\n",
      "Average shannon entropy over subjects:  0.8293964270895848\n"
     ]
    }
   ],
   "source": [
    "from scipy.stats import entropy\n",
    "slps=responses.groupby(['label_pair',\"response\",])['response'].count()\n",
    "individuals=responses.groupby(['wid',\"response\",])['response'].count()\n",
    "lps=list(set(responses.label_pair))\n",
    "wids=list(set(responses.wid))\n",
    "\n",
    "slp_probs=np.array([list(slps[lp]) for lp in lps])\n",
    "ind_probs=np.array([list(individuals[w]) for w in wids])\n",
    "print(\"Average shannon entropy over SLPs: \",np.mean(entropy(slp_probs,axis=1)))\n",
    "print(\"Average shannon entropy over subjects: \",np.mean(entropy(ind_probs,axis=1)))"
   ]
  },
  {
   "cell_type": "code",
   "execution_count": 156,
   "id": "owned-sister",
   "metadata": {},
   "outputs": [
    {
     "data": {
      "text/plain": [
       "array([[ 18,  91,  91],\n",
       "       [ 25,  87,  88],\n",
       "       [ 10,  15, 175],\n",
       "       [ 30,  16, 154],\n",
       "       [ 11,  99,  90],\n",
       "       [ 11,  92,  97],\n",
       "       [ 54,  39, 107],\n",
       "       [ 95,  23,  82],\n",
       "       [ 58,  64,  78],\n",
       "       [ 88,  30,  82],\n",
       "       [ 34,  92,  74],\n",
       "       [ 74,  87,  39],\n",
       "       [ 80,  78,  42],\n",
       "       [  3, 104,  93]])"
      ]
     },
     "execution_count": 156,
     "metadata": {},
     "output_type": "execute_result"
    }
   ],
   "source": [
    "slp_probs"
   ]
  },
  {
   "cell_type": "code",
   "execution_count": 149,
   "id": "saving-mounting",
   "metadata": {},
   "outputs": [],
   "source": [
    "from scipy.stats import chi2_contingency\n",
    "\n",
    "buckets=responses.groupby(['label_pair','target_dino',\"response\",])['response'].count()\n",
    "tables=[[[list(buckets[lp,target])] for target in list(set(responses.target_dino))] for lp in lps]"
   ]
  },
  {
   "cell_type": "code",
   "execution_count": 155,
   "id": "capable-tackle",
   "metadata": {},
   "outputs": [
    {
     "data": {
      "text/plain": [
       "[(200.56166056166057, 5.610078910182181e-24, 38),\n",
       " (206.42758620689656, 4.988147155319361e-25, 38),\n",
       " (41.71428571428572, 0.31246238116476216, 38),\n",
       " (47.038961038961034, 0.1492636800144876, 38),\n",
       " (168.4040404040404, 2.4195067617285735e-18, 38),\n",
       " (202.58343180799477, 2.4402509183740334e-24, 38),\n",
       " (128.9820805708656, 7.857195471367793e-12, 38),\n",
       " (188.14377406931965, 8.952893115319612e-22, 38),\n",
       " (132.07283377541998, 2.544041023480042e-12, 38),\n",
       " (159.4863266814486, 7.966435662553317e-17, 38),\n",
       " (90.46865279601853, 3.6144312337543487e-06, 38),\n",
       " (173.13690348173105, 3.7116332848248853e-19, 38),\n",
       " (101.55860805860806, 1.062433728645168e-07, 38),\n",
       " (170.40529363110008, 1.0969215779117549e-18, 38)]"
      ]
     },
     "execution_count": 155,
     "metadata": {},
     "output_type": "execute_result"
    }
   ],
   "source": [
    "[chi2_contingency(table)[:3] for table in tables]"
   ]
  },
  {
   "cell_type": "code",
   "execution_count": 157,
   "id": "excellent-conservative",
   "metadata": {},
   "outputs": [
    {
     "data": {
      "text/plain": [
       "(721.9419009082384,\n",
       " 1.804174738861678e-135,\n",
       " 26,\n",
       " array([[42.21428571, 65.5       , 92.28571429],\n",
       "        [42.21428571, 65.5       , 92.28571429],\n",
       "        [42.21428571, 65.5       , 92.28571429],\n",
       "        [42.21428571, 65.5       , 92.28571429],\n",
       "        [42.21428571, 65.5       , 92.28571429],\n",
       "        [42.21428571, 65.5       , 92.28571429],\n",
       "        [42.21428571, 65.5       , 92.28571429],\n",
       "        [42.21428571, 65.5       , 92.28571429],\n",
       "        [42.21428571, 65.5       , 92.28571429],\n",
       "        [42.21428571, 65.5       , 92.28571429],\n",
       "        [42.21428571, 65.5       , 92.28571429],\n",
       "        [42.21428571, 65.5       , 92.28571429],\n",
       "        [42.21428571, 65.5       , 92.28571429],\n",
       "        [42.21428571, 65.5       , 92.28571429]]))"
      ]
     },
     "execution_count": 157,
     "metadata": {},
     "output_type": "execute_result"
    }
   ],
   "source": [
    "chi2_contingency(slp_probs)"
   ]
  },
  {
   "cell_type": "code",
   "execution_count": 175,
   "id": "julian-jacob",
   "metadata": {},
   "outputs": [
    {
     "data": {
      "text/plain": [
       "(3019.1917505602332,\n",
       " 1.3366506386887225e-252,\n",
       " 805,\n",
       " array([[[[2.11071429, 3.275     , 4.61428571]],\n",
       " \n",
       "         [[2.11071429, 3.275     , 4.61428571]],\n",
       " \n",
       "         [[2.11071429, 3.275     , 4.61428571]],\n",
       " \n",
       "         [[2.11071429, 3.275     , 4.61428571]],\n",
       " \n",
       "         [[2.11071429, 3.275     , 4.61428571]],\n",
       " \n",
       "         [[2.11071429, 3.275     , 4.61428571]],\n",
       " \n",
       "         [[2.11071429, 3.275     , 4.61428571]],\n",
       " \n",
       "         [[2.11071429, 3.275     , 4.61428571]],\n",
       " \n",
       "         [[2.11071429, 3.275     , 4.61428571]],\n",
       " \n",
       "         [[2.11071429, 3.275     , 4.61428571]],\n",
       " \n",
       "         [[2.11071429, 3.275     , 4.61428571]],\n",
       " \n",
       "         [[2.11071429, 3.275     , 4.61428571]],\n",
       " \n",
       "         [[2.11071429, 3.275     , 4.61428571]],\n",
       " \n",
       "         [[2.11071429, 3.275     , 4.61428571]],\n",
       " \n",
       "         [[2.11071429, 3.275     , 4.61428571]],\n",
       " \n",
       "         [[2.11071429, 3.275     , 4.61428571]],\n",
       " \n",
       "         [[2.11071429, 3.275     , 4.61428571]],\n",
       " \n",
       "         [[2.11071429, 3.275     , 4.61428571]],\n",
       " \n",
       "         [[2.11071429, 3.275     , 4.61428571]],\n",
       " \n",
       "         [[2.11071429, 3.275     , 4.61428571]]],\n",
       " \n",
       " \n",
       "        [[[2.11071429, 3.275     , 4.61428571]],\n",
       " \n",
       "         [[2.11071429, 3.275     , 4.61428571]],\n",
       " \n",
       "         [[2.11071429, 3.275     , 4.61428571]],\n",
       " \n",
       "         [[2.11071429, 3.275     , 4.61428571]],\n",
       " \n",
       "         [[2.11071429, 3.275     , 4.61428571]],\n",
       " \n",
       "         [[2.11071429, 3.275     , 4.61428571]],\n",
       " \n",
       "         [[2.11071429, 3.275     , 4.61428571]],\n",
       " \n",
       "         [[2.11071429, 3.275     , 4.61428571]],\n",
       " \n",
       "         [[2.11071429, 3.275     , 4.61428571]],\n",
       " \n",
       "         [[2.11071429, 3.275     , 4.61428571]],\n",
       " \n",
       "         [[2.11071429, 3.275     , 4.61428571]],\n",
       " \n",
       "         [[2.11071429, 3.275     , 4.61428571]],\n",
       " \n",
       "         [[2.11071429, 3.275     , 4.61428571]],\n",
       " \n",
       "         [[2.11071429, 3.275     , 4.61428571]],\n",
       " \n",
       "         [[2.11071429, 3.275     , 4.61428571]],\n",
       " \n",
       "         [[2.11071429, 3.275     , 4.61428571]],\n",
       " \n",
       "         [[2.11071429, 3.275     , 4.61428571]],\n",
       " \n",
       "         [[2.11071429, 3.275     , 4.61428571]],\n",
       " \n",
       "         [[2.11071429, 3.275     , 4.61428571]],\n",
       " \n",
       "         [[2.11071429, 3.275     , 4.61428571]]],\n",
       " \n",
       " \n",
       "        [[[2.11071429, 3.275     , 4.61428571]],\n",
       " \n",
       "         [[2.11071429, 3.275     , 4.61428571]],\n",
       " \n",
       "         [[2.11071429, 3.275     , 4.61428571]],\n",
       " \n",
       "         [[2.11071429, 3.275     , 4.61428571]],\n",
       " \n",
       "         [[2.11071429, 3.275     , 4.61428571]],\n",
       " \n",
       "         [[2.11071429, 3.275     , 4.61428571]],\n",
       " \n",
       "         [[2.11071429, 3.275     , 4.61428571]],\n",
       " \n",
       "         [[2.11071429, 3.275     , 4.61428571]],\n",
       " \n",
       "         [[2.11071429, 3.275     , 4.61428571]],\n",
       " \n",
       "         [[2.11071429, 3.275     , 4.61428571]],\n",
       " \n",
       "         [[2.11071429, 3.275     , 4.61428571]],\n",
       " \n",
       "         [[2.11071429, 3.275     , 4.61428571]],\n",
       " \n",
       "         [[2.11071429, 3.275     , 4.61428571]],\n",
       " \n",
       "         [[2.11071429, 3.275     , 4.61428571]],\n",
       " \n",
       "         [[2.11071429, 3.275     , 4.61428571]],\n",
       " \n",
       "         [[2.11071429, 3.275     , 4.61428571]],\n",
       " \n",
       "         [[2.11071429, 3.275     , 4.61428571]],\n",
       " \n",
       "         [[2.11071429, 3.275     , 4.61428571]],\n",
       " \n",
       "         [[2.11071429, 3.275     , 4.61428571]],\n",
       " \n",
       "         [[2.11071429, 3.275     , 4.61428571]]],\n",
       " \n",
       " \n",
       "        [[[2.11071429, 3.275     , 4.61428571]],\n",
       " \n",
       "         [[2.11071429, 3.275     , 4.61428571]],\n",
       " \n",
       "         [[2.11071429, 3.275     , 4.61428571]],\n",
       " \n",
       "         [[2.11071429, 3.275     , 4.61428571]],\n",
       " \n",
       "         [[2.11071429, 3.275     , 4.61428571]],\n",
       " \n",
       "         [[2.11071429, 3.275     , 4.61428571]],\n",
       " \n",
       "         [[2.11071429, 3.275     , 4.61428571]],\n",
       " \n",
       "         [[2.11071429, 3.275     , 4.61428571]],\n",
       " \n",
       "         [[2.11071429, 3.275     , 4.61428571]],\n",
       " \n",
       "         [[2.11071429, 3.275     , 4.61428571]],\n",
       " \n",
       "         [[2.11071429, 3.275     , 4.61428571]],\n",
       " \n",
       "         [[2.11071429, 3.275     , 4.61428571]],\n",
       " \n",
       "         [[2.11071429, 3.275     , 4.61428571]],\n",
       " \n",
       "         [[2.11071429, 3.275     , 4.61428571]],\n",
       " \n",
       "         [[2.11071429, 3.275     , 4.61428571]],\n",
       " \n",
       "         [[2.11071429, 3.275     , 4.61428571]],\n",
       " \n",
       "         [[2.11071429, 3.275     , 4.61428571]],\n",
       " \n",
       "         [[2.11071429, 3.275     , 4.61428571]],\n",
       " \n",
       "         [[2.11071429, 3.275     , 4.61428571]],\n",
       " \n",
       "         [[2.11071429, 3.275     , 4.61428571]]],\n",
       " \n",
       " \n",
       "        [[[2.11071429, 3.275     , 4.61428571]],\n",
       " \n",
       "         [[2.11071429, 3.275     , 4.61428571]],\n",
       " \n",
       "         [[2.11071429, 3.275     , 4.61428571]],\n",
       " \n",
       "         [[2.11071429, 3.275     , 4.61428571]],\n",
       " \n",
       "         [[2.11071429, 3.275     , 4.61428571]],\n",
       " \n",
       "         [[2.11071429, 3.275     , 4.61428571]],\n",
       " \n",
       "         [[2.11071429, 3.275     , 4.61428571]],\n",
       " \n",
       "         [[2.11071429, 3.275     , 4.61428571]],\n",
       " \n",
       "         [[2.11071429, 3.275     , 4.61428571]],\n",
       " \n",
       "         [[2.11071429, 3.275     , 4.61428571]],\n",
       " \n",
       "         [[2.11071429, 3.275     , 4.61428571]],\n",
       " \n",
       "         [[2.11071429, 3.275     , 4.61428571]],\n",
       " \n",
       "         [[2.11071429, 3.275     , 4.61428571]],\n",
       " \n",
       "         [[2.11071429, 3.275     , 4.61428571]],\n",
       " \n",
       "         [[2.11071429, 3.275     , 4.61428571]],\n",
       " \n",
       "         [[2.11071429, 3.275     , 4.61428571]],\n",
       " \n",
       "         [[2.11071429, 3.275     , 4.61428571]],\n",
       " \n",
       "         [[2.11071429, 3.275     , 4.61428571]],\n",
       " \n",
       "         [[2.11071429, 3.275     , 4.61428571]],\n",
       " \n",
       "         [[2.11071429, 3.275     , 4.61428571]]],\n",
       " \n",
       " \n",
       "        [[[2.11071429, 3.275     , 4.61428571]],\n",
       " \n",
       "         [[2.11071429, 3.275     , 4.61428571]],\n",
       " \n",
       "         [[2.11071429, 3.275     , 4.61428571]],\n",
       " \n",
       "         [[2.11071429, 3.275     , 4.61428571]],\n",
       " \n",
       "         [[2.11071429, 3.275     , 4.61428571]],\n",
       " \n",
       "         [[2.11071429, 3.275     , 4.61428571]],\n",
       " \n",
       "         [[2.11071429, 3.275     , 4.61428571]],\n",
       " \n",
       "         [[2.11071429, 3.275     , 4.61428571]],\n",
       " \n",
       "         [[2.11071429, 3.275     , 4.61428571]],\n",
       " \n",
       "         [[2.11071429, 3.275     , 4.61428571]],\n",
       " \n",
       "         [[2.11071429, 3.275     , 4.61428571]],\n",
       " \n",
       "         [[2.11071429, 3.275     , 4.61428571]],\n",
       " \n",
       "         [[2.11071429, 3.275     , 4.61428571]],\n",
       " \n",
       "         [[2.11071429, 3.275     , 4.61428571]],\n",
       " \n",
       "         [[2.11071429, 3.275     , 4.61428571]],\n",
       " \n",
       "         [[2.11071429, 3.275     , 4.61428571]],\n",
       " \n",
       "         [[2.11071429, 3.275     , 4.61428571]],\n",
       " \n",
       "         [[2.11071429, 3.275     , 4.61428571]],\n",
       " \n",
       "         [[2.11071429, 3.275     , 4.61428571]],\n",
       " \n",
       "         [[2.11071429, 3.275     , 4.61428571]]],\n",
       " \n",
       " \n",
       "        [[[2.11071429, 3.275     , 4.61428571]],\n",
       " \n",
       "         [[2.11071429, 3.275     , 4.61428571]],\n",
       " \n",
       "         [[2.11071429, 3.275     , 4.61428571]],\n",
       " \n",
       "         [[2.11071429, 3.275     , 4.61428571]],\n",
       " \n",
       "         [[2.11071429, 3.275     , 4.61428571]],\n",
       " \n",
       "         [[2.11071429, 3.275     , 4.61428571]],\n",
       " \n",
       "         [[2.11071429, 3.275     , 4.61428571]],\n",
       " \n",
       "         [[2.11071429, 3.275     , 4.61428571]],\n",
       " \n",
       "         [[2.11071429, 3.275     , 4.61428571]],\n",
       " \n",
       "         [[2.11071429, 3.275     , 4.61428571]],\n",
       " \n",
       "         [[2.11071429, 3.275     , 4.61428571]],\n",
       " \n",
       "         [[2.11071429, 3.275     , 4.61428571]],\n",
       " \n",
       "         [[2.11071429, 3.275     , 4.61428571]],\n",
       " \n",
       "         [[2.11071429, 3.275     , 4.61428571]],\n",
       " \n",
       "         [[2.11071429, 3.275     , 4.61428571]],\n",
       " \n",
       "         [[2.11071429, 3.275     , 4.61428571]],\n",
       " \n",
       "         [[2.11071429, 3.275     , 4.61428571]],\n",
       " \n",
       "         [[2.11071429, 3.275     , 4.61428571]],\n",
       " \n",
       "         [[2.11071429, 3.275     , 4.61428571]],\n",
       " \n",
       "         [[2.11071429, 3.275     , 4.61428571]]],\n",
       " \n",
       " \n",
       "        [[[2.11071429, 3.275     , 4.61428571]],\n",
       " \n",
       "         [[2.11071429, 3.275     , 4.61428571]],\n",
       " \n",
       "         [[2.11071429, 3.275     , 4.61428571]],\n",
       " \n",
       "         [[2.11071429, 3.275     , 4.61428571]],\n",
       " \n",
       "         [[2.11071429, 3.275     , 4.61428571]],\n",
       " \n",
       "         [[2.11071429, 3.275     , 4.61428571]],\n",
       " \n",
       "         [[2.11071429, 3.275     , 4.61428571]],\n",
       " \n",
       "         [[2.11071429, 3.275     , 4.61428571]],\n",
       " \n",
       "         [[2.11071429, 3.275     , 4.61428571]],\n",
       " \n",
       "         [[2.11071429, 3.275     , 4.61428571]],\n",
       " \n",
       "         [[2.11071429, 3.275     , 4.61428571]],\n",
       " \n",
       "         [[2.11071429, 3.275     , 4.61428571]],\n",
       " \n",
       "         [[2.11071429, 3.275     , 4.61428571]],\n",
       " \n",
       "         [[2.11071429, 3.275     , 4.61428571]],\n",
       " \n",
       "         [[2.11071429, 3.275     , 4.61428571]],\n",
       " \n",
       "         [[2.11071429, 3.275     , 4.61428571]],\n",
       " \n",
       "         [[2.11071429, 3.275     , 4.61428571]],\n",
       " \n",
       "         [[2.11071429, 3.275     , 4.61428571]],\n",
       " \n",
       "         [[2.11071429, 3.275     , 4.61428571]],\n",
       " \n",
       "         [[2.11071429, 3.275     , 4.61428571]]],\n",
       " \n",
       " \n",
       "        [[[2.11071429, 3.275     , 4.61428571]],\n",
       " \n",
       "         [[2.11071429, 3.275     , 4.61428571]],\n",
       " \n",
       "         [[2.11071429, 3.275     , 4.61428571]],\n",
       " \n",
       "         [[2.11071429, 3.275     , 4.61428571]],\n",
       " \n",
       "         [[2.11071429, 3.275     , 4.61428571]],\n",
       " \n",
       "         [[2.11071429, 3.275     , 4.61428571]],\n",
       " \n",
       "         [[2.11071429, 3.275     , 4.61428571]],\n",
       " \n",
       "         [[2.11071429, 3.275     , 4.61428571]],\n",
       " \n",
       "         [[2.11071429, 3.275     , 4.61428571]],\n",
       " \n",
       "         [[2.11071429, 3.275     , 4.61428571]],\n",
       " \n",
       "         [[2.11071429, 3.275     , 4.61428571]],\n",
       " \n",
       "         [[2.11071429, 3.275     , 4.61428571]],\n",
       " \n",
       "         [[2.11071429, 3.275     , 4.61428571]],\n",
       " \n",
       "         [[2.11071429, 3.275     , 4.61428571]],\n",
       " \n",
       "         [[2.11071429, 3.275     , 4.61428571]],\n",
       " \n",
       "         [[2.11071429, 3.275     , 4.61428571]],\n",
       " \n",
       "         [[2.11071429, 3.275     , 4.61428571]],\n",
       " \n",
       "         [[2.11071429, 3.275     , 4.61428571]],\n",
       " \n",
       "         [[2.11071429, 3.275     , 4.61428571]],\n",
       " \n",
       "         [[2.11071429, 3.275     , 4.61428571]]],\n",
       " \n",
       " \n",
       "        [[[2.11071429, 3.275     , 4.61428571]],\n",
       " \n",
       "         [[2.11071429, 3.275     , 4.61428571]],\n",
       " \n",
       "         [[2.11071429, 3.275     , 4.61428571]],\n",
       " \n",
       "         [[2.11071429, 3.275     , 4.61428571]],\n",
       " \n",
       "         [[2.11071429, 3.275     , 4.61428571]],\n",
       " \n",
       "         [[2.11071429, 3.275     , 4.61428571]],\n",
       " \n",
       "         [[2.11071429, 3.275     , 4.61428571]],\n",
       " \n",
       "         [[2.11071429, 3.275     , 4.61428571]],\n",
       " \n",
       "         [[2.11071429, 3.275     , 4.61428571]],\n",
       " \n",
       "         [[2.11071429, 3.275     , 4.61428571]],\n",
       " \n",
       "         [[2.11071429, 3.275     , 4.61428571]],\n",
       " \n",
       "         [[2.11071429, 3.275     , 4.61428571]],\n",
       " \n",
       "         [[2.11071429, 3.275     , 4.61428571]],\n",
       " \n",
       "         [[2.11071429, 3.275     , 4.61428571]],\n",
       " \n",
       "         [[2.11071429, 3.275     , 4.61428571]],\n",
       " \n",
       "         [[2.11071429, 3.275     , 4.61428571]],\n",
       " \n",
       "         [[2.11071429, 3.275     , 4.61428571]],\n",
       " \n",
       "         [[2.11071429, 3.275     , 4.61428571]],\n",
       " \n",
       "         [[2.11071429, 3.275     , 4.61428571]],\n",
       " \n",
       "         [[2.11071429, 3.275     , 4.61428571]]],\n",
       " \n",
       " \n",
       "        [[[2.11071429, 3.275     , 4.61428571]],\n",
       " \n",
       "         [[2.11071429, 3.275     , 4.61428571]],\n",
       " \n",
       "         [[2.11071429, 3.275     , 4.61428571]],\n",
       " \n",
       "         [[2.11071429, 3.275     , 4.61428571]],\n",
       " \n",
       "         [[2.11071429, 3.275     , 4.61428571]],\n",
       " \n",
       "         [[2.11071429, 3.275     , 4.61428571]],\n",
       " \n",
       "         [[2.11071429, 3.275     , 4.61428571]],\n",
       " \n",
       "         [[2.11071429, 3.275     , 4.61428571]],\n",
       " \n",
       "         [[2.11071429, 3.275     , 4.61428571]],\n",
       " \n",
       "         [[2.11071429, 3.275     , 4.61428571]],\n",
       " \n",
       "         [[2.11071429, 3.275     , 4.61428571]],\n",
       " \n",
       "         [[2.11071429, 3.275     , 4.61428571]],\n",
       " \n",
       "         [[2.11071429, 3.275     , 4.61428571]],\n",
       " \n",
       "         [[2.11071429, 3.275     , 4.61428571]],\n",
       " \n",
       "         [[2.11071429, 3.275     , 4.61428571]],\n",
       " \n",
       "         [[2.11071429, 3.275     , 4.61428571]],\n",
       " \n",
       "         [[2.11071429, 3.275     , 4.61428571]],\n",
       " \n",
       "         [[2.11071429, 3.275     , 4.61428571]],\n",
       " \n",
       "         [[2.11071429, 3.275     , 4.61428571]],\n",
       " \n",
       "         [[2.11071429, 3.275     , 4.61428571]]],\n",
       " \n",
       " \n",
       "        [[[2.11071429, 3.275     , 4.61428571]],\n",
       " \n",
       "         [[2.11071429, 3.275     , 4.61428571]],\n",
       " \n",
       "         [[2.11071429, 3.275     , 4.61428571]],\n",
       " \n",
       "         [[2.11071429, 3.275     , 4.61428571]],\n",
       " \n",
       "         [[2.11071429, 3.275     , 4.61428571]],\n",
       " \n",
       "         [[2.11071429, 3.275     , 4.61428571]],\n",
       " \n",
       "         [[2.11071429, 3.275     , 4.61428571]],\n",
       " \n",
       "         [[2.11071429, 3.275     , 4.61428571]],\n",
       " \n",
       "         [[2.11071429, 3.275     , 4.61428571]],\n",
       " \n",
       "         [[2.11071429, 3.275     , 4.61428571]],\n",
       " \n",
       "         [[2.11071429, 3.275     , 4.61428571]],\n",
       " \n",
       "         [[2.11071429, 3.275     , 4.61428571]],\n",
       " \n",
       "         [[2.11071429, 3.275     , 4.61428571]],\n",
       " \n",
       "         [[2.11071429, 3.275     , 4.61428571]],\n",
       " \n",
       "         [[2.11071429, 3.275     , 4.61428571]],\n",
       " \n",
       "         [[2.11071429, 3.275     , 4.61428571]],\n",
       " \n",
       "         [[2.11071429, 3.275     , 4.61428571]],\n",
       " \n",
       "         [[2.11071429, 3.275     , 4.61428571]],\n",
       " \n",
       "         [[2.11071429, 3.275     , 4.61428571]],\n",
       " \n",
       "         [[2.11071429, 3.275     , 4.61428571]]],\n",
       " \n",
       " \n",
       "        [[[2.11071429, 3.275     , 4.61428571]],\n",
       " \n",
       "         [[2.11071429, 3.275     , 4.61428571]],\n",
       " \n",
       "         [[2.11071429, 3.275     , 4.61428571]],\n",
       " \n",
       "         [[2.11071429, 3.275     , 4.61428571]],\n",
       " \n",
       "         [[2.11071429, 3.275     , 4.61428571]],\n",
       " \n",
       "         [[2.11071429, 3.275     , 4.61428571]],\n",
       " \n",
       "         [[2.11071429, 3.275     , 4.61428571]],\n",
       " \n",
       "         [[2.11071429, 3.275     , 4.61428571]],\n",
       " \n",
       "         [[2.11071429, 3.275     , 4.61428571]],\n",
       " \n",
       "         [[2.11071429, 3.275     , 4.61428571]],\n",
       " \n",
       "         [[2.11071429, 3.275     , 4.61428571]],\n",
       " \n",
       "         [[2.11071429, 3.275     , 4.61428571]],\n",
       " \n",
       "         [[2.11071429, 3.275     , 4.61428571]],\n",
       " \n",
       "         [[2.11071429, 3.275     , 4.61428571]],\n",
       " \n",
       "         [[2.11071429, 3.275     , 4.61428571]],\n",
       " \n",
       "         [[2.11071429, 3.275     , 4.61428571]],\n",
       " \n",
       "         [[2.11071429, 3.275     , 4.61428571]],\n",
       " \n",
       "         [[2.11071429, 3.275     , 4.61428571]],\n",
       " \n",
       "         [[2.11071429, 3.275     , 4.61428571]],\n",
       " \n",
       "         [[2.11071429, 3.275     , 4.61428571]]],\n",
       " \n",
       " \n",
       "        [[[2.11071429, 3.275     , 4.61428571]],\n",
       " \n",
       "         [[2.11071429, 3.275     , 4.61428571]],\n",
       " \n",
       "         [[2.11071429, 3.275     , 4.61428571]],\n",
       " \n",
       "         [[2.11071429, 3.275     , 4.61428571]],\n",
       " \n",
       "         [[2.11071429, 3.275     , 4.61428571]],\n",
       " \n",
       "         [[2.11071429, 3.275     , 4.61428571]],\n",
       " \n",
       "         [[2.11071429, 3.275     , 4.61428571]],\n",
       " \n",
       "         [[2.11071429, 3.275     , 4.61428571]],\n",
       " \n",
       "         [[2.11071429, 3.275     , 4.61428571]],\n",
       " \n",
       "         [[2.11071429, 3.275     , 4.61428571]],\n",
       " \n",
       "         [[2.11071429, 3.275     , 4.61428571]],\n",
       " \n",
       "         [[2.11071429, 3.275     , 4.61428571]],\n",
       " \n",
       "         [[2.11071429, 3.275     , 4.61428571]],\n",
       " \n",
       "         [[2.11071429, 3.275     , 4.61428571]],\n",
       " \n",
       "         [[2.11071429, 3.275     , 4.61428571]],\n",
       " \n",
       "         [[2.11071429, 3.275     , 4.61428571]],\n",
       " \n",
       "         [[2.11071429, 3.275     , 4.61428571]],\n",
       " \n",
       "         [[2.11071429, 3.275     , 4.61428571]],\n",
       " \n",
       "         [[2.11071429, 3.275     , 4.61428571]],\n",
       " \n",
       "         [[2.11071429, 3.275     , 4.61428571]]]]))"
      ]
     },
     "execution_count": 175,
     "metadata": {},
     "output_type": "execute_result"
    }
   ],
   "source": [
    "chi2_contingency(tables)"
   ]
  },
  {
   "cell_type": "code",
   "execution_count": 181,
   "id": "hundred-custody",
   "metadata": {},
   "outputs": [
    {
     "data": {
      "text/plain": [
       "Power_divergenceResult(statistic=936.8299999999999, pvalue=2.7266160423687443e-173)"
      ]
     },
     "execution_count": 181,
     "metadata": {},
     "output_type": "execute_result"
    }
   ],
   "source": [
    "chisq(slp_probs, axis=None, ddof=5)"
   ]
  },
  {
   "cell_type": "code",
   "execution_count": 182,
   "id": "filled-lodge",
   "metadata": {},
   "outputs": [
    {
     "data": {
      "text/plain": [
       "[Power_divergenceResult(statistic=290.7999999999999, pvalue=1.0723155837719137e-40),\n",
       " Power_divergenceResult(statistic=275.7999999999999, pvalue=7.530407399378561e-38),\n",
       " Power_divergenceResult(statistic=278.79999999999995, pvalue=2.0382706314274114e-38),\n",
       " Power_divergenceResult(statistic=204.39999999999998, pvalue=1.1533122163018677e-24),\n",
       " Power_divergenceResult(statistic=273.99999999999994, pvalue=1.6478490990843143e-37),\n",
       " Power_divergenceResult(statistic=323.1999999999999, pvalue=6.524224528759868e-47),\n",
       " Power_divergenceResult(statistic=161.79999999999995, pvalue=3.2337807034870224e-17),\n",
       " Power_divergenceResult(statistic=257.19999999999993, pvalue=2.3691156499113133e-34),\n",
       " Power_divergenceResult(statistic=138.99999999999997, pvalue=1.9647169343810307e-13),\n",
       " Power_divergenceResult(statistic=214.59999999999997, pvalue=1.6728244040979593e-26),\n",
       " Power_divergenceResult(statistic=123.39999999999999, pvalue=5.872023134572694e-11),\n",
       " Power_divergenceResult(statistic=209.79999999999995, pvalue=1.2327522840038902e-25),\n",
       " Power_divergenceResult(statistic=123.39999999999999, pvalue=5.872023134572694e-11),\n",
       " Power_divergenceResult(statistic=318.39999999999986, pvalue=5.503958548494469e-46)]"
      ]
     },
     "execution_count": 182,
     "metadata": {},
     "output_type": "execute_result"
    }
   ],
   "source": [
    "[chisq(table, axis=None, ddof=21) for table in tables]"
   ]
  },
  {
   "cell_type": "code",
   "execution_count": 178,
   "id": "palestinian-reservation",
   "metadata": {},
   "outputs": [
    {
     "data": {
      "text/plain": [
       "Power_divergenceResult(statistic=3194.5999999999995, pvalue=7.501881705798926e-281)"
      ]
     },
     "execution_count": 178,
     "metadata": {},
     "output_type": "execute_result"
    }
   ],
   "source": [
    "from scipy.stats import chisquare as chisq\n",
    "chisq(tables, axis=None, ddof=34)"
   ]
  },
  {
   "cell_type": "code",
   "execution_count": 173,
   "id": "swiss-potter",
   "metadata": {},
   "outputs": [
    {
     "data": {
      "text/plain": [
       "840"
      ]
     },
     "execution_count": 173,
     "metadata": {},
     "output_type": "execute_result"
    }
   ],
   "source": [
    "14*20*3"
   ]
  }
 ],
 "metadata": {
  "kernelspec": {
   "display_name": "Python 3 (ipykernel)",
   "language": "python",
   "name": "python3"
  },
  "language_info": {
   "codemirror_mode": {
    "name": "ipython",
    "version": 3
   },
   "file_extension": ".py",
   "mimetype": "text/x-python",
   "name": "python",
   "nbconvert_exporter": "python",
   "pygments_lexer": "ipython3",
   "version": "3.9.7"
  }
 },
 "nbformat": 4,
 "nbformat_minor": 5
}
