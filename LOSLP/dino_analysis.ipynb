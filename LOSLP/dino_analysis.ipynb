{
 "cells": [
  {
   "cell_type": "code",
   "execution_count": 511,
   "id": "1c8ee856",
   "metadata": {},
   "outputs": [],
   "source": [
    "%matplotlib inline\n",
    "import os, sys, gc\n",
    "import numpy as np\n",
    "import matplotlib.pyplot as plt\n",
    "import csv\n",
    "import pandas as pd\n",
    "import seaborn as sns\n",
    "from IPython.display import display, HTML"
   ]
  },
  {
   "cell_type": "code",
   "execution_count": 512,
   "id": "51040027",
   "metadata": {},
   "outputs": [
    {
     "name": "stdout",
     "output_type": "stream",
     "text": [
      "['b', 'html-button-response.csv', 'participants.csv', 'survey-multi-choice.csv']\n"
     ]
    }
   ],
   "source": [
    "load_dir = 'lo-shot-dinos-classification-genetic-pilot'\n",
    "print(os.listdir(load_dir))"
   ]
  },
  {
   "cell_type": "markdown",
   "id": "1e079ce8",
   "metadata": {},
   "source": [
    "## Building Dataframes"
   ]
  },
  {
   "cell_type": "code",
   "execution_count": 513,
   "id": "45caf32c",
   "metadata": {},
   "outputs": [
    {
     "data": {
      "text/html": [
       "<div>\n",
       "<style scoped>\n",
       "    .dataframe tbody tr th:only-of-type {\n",
       "        vertical-align: middle;\n",
       "    }\n",
       "\n",
       "    .dataframe tbody tr th {\n",
       "        vertical-align: top;\n",
       "    }\n",
       "\n",
       "    .dataframe thead th {\n",
       "        text-align: right;\n",
       "    }\n",
       "</style>\n",
       "<table border=\"1\" class=\"dataframe\">\n",
       "  <thead>\n",
       "    <tr style=\"text-align: right;\">\n",
       "      <th></th>\n",
       "      <th>wid</th>\n",
       "      <th>task</th>\n",
       "      <th>response</th>\n",
       "      <th>target_dino</th>\n",
       "      <th>label_pair</th>\n",
       "      <th>manifold_jitter</th>\n",
       "    </tr>\n",
       "  </thead>\n",
       "  <tbody>\n",
       "    <tr>\n",
       "      <th>9</th>\n",
       "      <td>w93e05c8</td>\n",
       "      <td>testing_c1_categorize</td>\n",
       "      <td>1</td>\n",
       "      <td>0.0</td>\n",
       "      <td>13</td>\n",
       "      <td>True</td>\n",
       "    </tr>\n",
       "    <tr>\n",
       "      <th>10</th>\n",
       "      <td>w93e05c8</td>\n",
       "      <td>testing_c1_categorize</td>\n",
       "      <td>2</td>\n",
       "      <td>18.0</td>\n",
       "      <td>13</td>\n",
       "      <td>True</td>\n",
       "    </tr>\n",
       "    <tr>\n",
       "      <th>11</th>\n",
       "      <td>w93e05c8</td>\n",
       "      <td>testing_c1_categorize</td>\n",
       "      <td>2</td>\n",
       "      <td>10.0</td>\n",
       "      <td>13</td>\n",
       "      <td>True</td>\n",
       "    </tr>\n",
       "    <tr>\n",
       "      <th>12</th>\n",
       "      <td>w93e05c8</td>\n",
       "      <td>testing_c1_categorize</td>\n",
       "      <td>1</td>\n",
       "      <td>8.0</td>\n",
       "      <td>13</td>\n",
       "      <td>True</td>\n",
       "    </tr>\n",
       "    <tr>\n",
       "      <th>13</th>\n",
       "      <td>w93e05c8</td>\n",
       "      <td>testing_c1_categorize</td>\n",
       "      <td>1</td>\n",
       "      <td>1.0</td>\n",
       "      <td>13</td>\n",
       "      <td>True</td>\n",
       "    </tr>\n",
       "    <tr>\n",
       "      <th>...</th>\n",
       "      <td>...</td>\n",
       "      <td>...</td>\n",
       "      <td>...</td>\n",
       "      <td>...</td>\n",
       "      <td>...</td>\n",
       "      <td>...</td>\n",
       "    </tr>\n",
       "    <tr>\n",
       "      <th>4153</th>\n",
       "      <td>wf902735</td>\n",
       "      <td>testing_c2_categorize</td>\n",
       "      <td>2</td>\n",
       "      <td>2.0</td>\n",
       "      <td>16</td>\n",
       "      <td>True</td>\n",
       "    </tr>\n",
       "    <tr>\n",
       "      <th>4154</th>\n",
       "      <td>wf902735</td>\n",
       "      <td>testing_c2_categorize</td>\n",
       "      <td>2</td>\n",
       "      <td>4.0</td>\n",
       "      <td>16</td>\n",
       "      <td>True</td>\n",
       "    </tr>\n",
       "    <tr>\n",
       "      <th>4155</th>\n",
       "      <td>wf902735</td>\n",
       "      <td>testing_c2_categorize</td>\n",
       "      <td>2</td>\n",
       "      <td>3.0</td>\n",
       "      <td>16</td>\n",
       "      <td>True</td>\n",
       "    </tr>\n",
       "    <tr>\n",
       "      <th>4156</th>\n",
       "      <td>wf902735</td>\n",
       "      <td>testing_c2_categorize</td>\n",
       "      <td>1</td>\n",
       "      <td>14.0</td>\n",
       "      <td>16</td>\n",
       "      <td>True</td>\n",
       "    </tr>\n",
       "    <tr>\n",
       "      <th>4157</th>\n",
       "      <td>wf902735</td>\n",
       "      <td>testing_c2_categorize</td>\n",
       "      <td>2</td>\n",
       "      <td>5.0</td>\n",
       "      <td>16</td>\n",
       "      <td>True</td>\n",
       "    </tr>\n",
       "  </tbody>\n",
       "</table>\n",
       "<p>3200 rows × 6 columns</p>\n",
       "</div>"
      ],
      "text/plain": [
       "           wid                   task response target_dino  label_pair  \\\n",
       "9     w93e05c8  testing_c1_categorize        1         0.0          13   \n",
       "10    w93e05c8  testing_c1_categorize        2        18.0          13   \n",
       "11    w93e05c8  testing_c1_categorize        2        10.0          13   \n",
       "12    w93e05c8  testing_c1_categorize        1         8.0          13   \n",
       "13    w93e05c8  testing_c1_categorize        1         1.0          13   \n",
       "...        ...                    ...      ...         ...         ...   \n",
       "4153  wf902735  testing_c2_categorize        2         2.0          16   \n",
       "4154  wf902735  testing_c2_categorize        2         4.0          16   \n",
       "4155  wf902735  testing_c2_categorize        2         3.0          16   \n",
       "4156  wf902735  testing_c2_categorize        1        14.0          16   \n",
       "4157  wf902735  testing_c2_categorize        2         5.0          16   \n",
       "\n",
       "      manifold_jitter  \n",
       "9                True  \n",
       "10               True  \n",
       "11               True  \n",
       "12               True  \n",
       "13               True  \n",
       "...               ...  \n",
       "4153             True  \n",
       "4154             True  \n",
       "4155             True  \n",
       "4156             True  \n",
       "4157             True  \n",
       "\n",
       "[3200 rows x 6 columns]"
      ]
     },
     "execution_count": 513,
     "metadata": {},
     "output_type": "execute_result"
    }
   ],
   "source": [
    "num=1\n",
    "ignore = ['w93e05c8', 'w8f3a5e6', 'w72ff099', 'w6189e36', 'w3cbe79c',\n",
    "       'w86d39ac', 'wfc8e96c', 'wf2fae6e', 'w2c152d2', 'wbfb9c6f',]\n",
    "       #'wcfe7234', 'wb38724c', 'we815cde', 'wb2873cd', 'wf369503']\n",
    "button_response_data = pd.read_csv(\"{}/html-button-response.csv\".format(load_dir))\n",
    "responses = button_response_data[(button_response_data.task == 'testing_c1_categorize') | (button_response_data.task == 'testing_c2_categorize')]\n",
    "responses = responses[[\"wid\", \"task\", \"response\", \"target_dino\", \"label_pair\", \"manifold_jitter\"]]\n",
    "responses[\"response\"] = responses[\"response\"].astype('category',copy=False)\n",
    "responses[\"target_dino\"] = responses[\"target_dino\"].astype('category',copy=False)\n",
    "responses_test = responses[responses.label_pair == num]\n",
    "responses_train = responses[responses.label_pair != num]\n",
    "#responses=responses[responses.label_pair == num]\n",
    "cloud1 = responses_test[responses_test.task == 'testing_c1_categorize']\n",
    "cloud2 = responses_test[responses_test.task == 'testing_c2_categorize']\n",
    "responses\n"
   ]
  },
  {
   "cell_type": "code",
   "execution_count": 370,
   "id": "wooden-atlantic",
   "metadata": {},
   "outputs": [
    {
     "data": {
      "text/plain": [
       "label_pair  wid       target_dino\n",
       "1           w01366f0  0.0            False\n",
       "                      1.0            False\n",
       "                      2.0            False\n",
       "                      3.0            False\n",
       "                      4.0            False\n",
       "                                     ...  \n",
       "13          wfc37f43  15.0           False\n",
       "                      16.0           False\n",
       "                      17.0           False\n",
       "                      18.0           False\n",
       "                      19.0           False\n",
       "Name: response, Length: 9000, dtype: bool"
      ]
     },
     "execution_count": 370,
     "metadata": {},
     "output_type": "execute_result"
    }
   ],
   "source": [
    "responses_train.groupby(['label_pair','wid',\"target_dino\",])['response'].count()!=0\n"
   ]
  },
  {
   "cell_type": "code",
   "execution_count": 509,
   "id": "colonial-closing",
   "metadata": {},
   "outputs": [
    {
     "name": "stdout",
     "output_type": "stream",
     "text": [
      "40\n",
      "Mean within-subject agreement between point clouds: 0.7458333333333333\n"
     ]
    }
   ],
   "source": [
    "def agreement(df1, df2):\n",
    "    agreed=0\n",
    "    for i in range(20):\n",
    "        agreed+= set(df1[df1['target_dino']==i]['response'])==set(df2[df2['target_dino']==i]['response'])\n",
    "    return agreed\n",
    "subject_dfs=[]\n",
    "for i in set(responses[\"label_pair\"]):\n",
    "    r=responses[responses[\"label_pair\"]==i]\n",
    "    wids=set(r[\"wid\"])\n",
    "    \n",
    "    for w in wids:\n",
    "        subject_dfs.append(r[r[\"wid\"]==w])\n",
    "print(len(subject_dfs[0]))\n",
    "agreements=[]\n",
    "for i in range(len(subject_dfs)):\n",
    "    subj = subject_dfs[i]\n",
    "    subjc1 = subj[subj.task == 'testing_c1_categorize']\n",
    "    subjc2 = subj[subj.task == 'testing_c2_categorize']\n",
    "#     plt.scatter(subjc1['target_dino'],subjc1['response'])\n",
    "#     plt.show()\n",
    "#     plt.scatter(subjc2['target_dino'],subjc2['response'])\n",
    "#     plt.show()\n",
    "    agreements.append(agreement(subjc1, subjc2))\n",
    "print(\"Mean within-subject agreement between point clouds: {0}\".format(np.mean(agreements)/20))"
   ]
  },
  {
   "cell_type": "code",
   "execution_count": 508,
   "id": "underlying-humanity",
   "metadata": {},
   "outputs": [
    {
     "name": "stdout",
     "output_type": "stream",
     "text": [
      "(0.5974814781738702, 1.6172459773555944e-177)\n"
     ]
    },
    {
     "data": {
      "image/png": "[encoded data removed]",
      "text/plain": [
       "<Figure size 360x360 with 1 Axes>"
      ]
     },
     "metadata": {
      "needs_background": "light"
     },
     "output_type": "display_data"
    },
    {
     "data": {
      "image/png": "[encoded data removed]",
      "text/plain": [
       "<Figure size 360x360 with 1 Axes>"
      ]
     },
     "metadata": {
      "needs_background": "light"
     },
     "output_type": "display_data"
    }
   ],
   "source": [
    "n=60\n",
    "ags_mat1=np.empty((n,n))\n",
    "ags_mat2=np.empty((n,n))\n",
    "\n",
    "for i in range(n):\n",
    "    for j in range(n):\n",
    "        subj1=subject_dfs[i]\n",
    "        subj2=subject_dfs[j]\n",
    "        ags_mat1[i,j]=agreement(subj1[subj1.task == 'testing_c1_categorize'],subj2[subj2.task == 'testing_c1_categorize'])\n",
    "        ags_mat2[i,j]=agreement(subj1[subj1.task == 'testing_c2_categorize'],subj2[subj2.task == 'testing_c2_categorize'])\n",
    "\n",
    "plt.matshow(ags_mat1+ags_mat2)\n",
    "\n",
    "lps=list(set(responses.label_pair))\n",
    "label_similarity=np.empty((len(subject_dfs),len(subject_dfs)))\n",
    "for i in range(len(subject_dfs)):\n",
    "    for j in range(len(subject_dfs)):\n",
    "        s1=subject_dfs[i]\n",
    "        s2=subject_dfs[j]\n",
    "        sl1=sl[list(s1.label_pair)[0]]\n",
    "        sl2=sl[list(s2.label_pair)[0]]\n",
    "        label_similarity[i,j]=np.sum((np.array(sl1)*np.array(sl2)))/(np.linalg.norm(sl1)*np.linalg.norm(sl2))#1/np.sum((np.array(sl[lps[i]])-np.array(sl[lps[j]]))**2)#1/(np.sum((np.array(sl1)-np.array(sl2))**2)+1)#\n",
    "plt.matshow(label_similarity)\n",
    "from scipy.stats import spearmanr, pearsonr\n",
    "new_inds=np.triu_indices(60)\n",
    "print(pearsonr((ags_mat1+ags_mat2)[new_inds].flatten(), label_similarity[new_inds].flatten()))"
   ]
  },
  {
   "cell_type": "code",
   "execution_count": 477,
   "id": "auburn-differential",
   "metadata": {},
   "outputs": [
    {
     "data": {
      "text/plain": [
       "<matplotlib.image.AxesImage at 0x7f787a0ce278>"
      ]
     },
     "execution_count": 477,
     "metadata": {},
     "output_type": "execute_result"
    },
    {
     "data": {
      "image/png": "[encoded data removed]",
      "text/plain": [
       "<Figure size 360x360 with 1 Axes>"
      ]
     },
     "metadata": {
      "needs_background": "light"
     },
     "output_type": "display_data"
    }
   ],
   "source": [
    "lps=list(set(responses.label_pair))\n",
    "label_similarity=np.empty((len(lps),len(lps)))\n",
    "for i in range(len(lps)):\n",
    "    for j in range(len(lps)):\n",
    "        label_similarity[i,j]=np.sum((np.array(sl[lps[i]])*np.array(sl[lps[j]])))/(np.linalg.norm(sl[lps[i]])*np.linalg.norm(sl[lps[j]]))#1/np.sum((np.array(sl[lps[i]])-np.array(sl[lps[j]]))**2)\n",
    "plt.matshow(label_similarity)"
   ]
  },
  {
   "cell_type": "code",
   "execution_count": 507,
   "id": "competent-examination",
   "metadata": {},
   "outputs": [
    {
     "name": "stdout",
     "output_type": "stream",
     "text": [
      "(0.5974814781738702, 1.6172459773555944e-177)\n"
     ]
    },
    {
     "data": {
      "image/png": "[encoded data removed]",
      "text/plain": [
       "<Figure size 360x360 with 1 Axes>"
      ]
     },
     "metadata": {
      "needs_background": "light"
     },
     "output_type": "display_data"
    }
   ],
   "source": []
  },
  {
   "cell_type": "code",
   "execution_count": 472,
   "id": "british-response",
   "metadata": {},
   "outputs": [
    {
     "data": {
      "text/plain": [
       "[1, 2, 4, 5, 6, 7, 8, 9, 13, 14]"
      ]
     },
     "execution_count": 472,
     "metadata": {},
     "output_type": "execute_result"
    }
   ],
   "source": [
    "lps"
   ]
  },
  {
   "cell_type": "code",
   "execution_count": 427,
   "id": "automotive-guess",
   "metadata": {},
   "outputs": [
    {
     "name": "stdout",
     "output_type": "stream",
     "text": [
      "1\n",
      "2\n",
      "4\n",
      "5\n",
      "6\n",
      "7\n",
      "8\n",
      "9\n",
      "13\n",
      "14\n"
     ]
    },
    {
     "data": {
      "image/png": "[encoded data removed]",
      "text/plain": [
       "<Figure size 360x360 with 1 Axes>"
      ]
     },
     "metadata": {
      "needs_background": "light"
     },
     "output_type": "display_data"
    }
   ],
   "source": [
    "joint_mat=(ags_mat1+ags_mat2)/40\n",
    "plt.matshow(joint_mat[:10,:10])\n",
    "ags_mat=ags_mat1+ags_mat2\n",
    "for i in set(responses.label_pair):\n",
    "    print(i)"
   ]
  },
  {
   "cell_type": "code",
   "execution_count": 443,
   "id": "cellular-extreme",
   "metadata": {},
   "outputs": [
    {
     "data": {
      "text/html": [
       "<div>\n",
       "<style scoped>\n",
       "    .dataframe tbody tr th:only-of-type {\n",
       "        vertical-align: middle;\n",
       "    }\n",
       "\n",
       "    .dataframe tbody tr th {\n",
       "        vertical-align: top;\n",
       "    }\n",
       "\n",
       "    .dataframe thead th {\n",
       "        text-align: right;\n",
       "    }\n",
       "</style>\n",
       "<table border=\"1\" class=\"dataframe\">\n",
       "  <thead>\n",
       "    <tr style=\"text-align: right;\">\n",
       "      <th></th>\n",
       "      <th>wid</th>\n",
       "      <th>task</th>\n",
       "      <th>response</th>\n",
       "      <th>target_dino</th>\n",
       "      <th>label_pair</th>\n",
       "      <th>manifold_jitter</th>\n",
       "    </tr>\n",
       "  </thead>\n",
       "  <tbody>\n",
       "    <tr>\n",
       "      <th>2921</th>\n",
       "      <td>wfc37f43</td>\n",
       "      <td>testing_c1_categorize</td>\n",
       "      <td>0</td>\n",
       "      <td>18.0</td>\n",
       "      <td>9</td>\n",
       "      <td>True</td>\n",
       "    </tr>\n",
       "    <tr>\n",
       "      <th>2922</th>\n",
       "      <td>wfc37f43</td>\n",
       "      <td>testing_c1_categorize</td>\n",
       "      <td>2</td>\n",
       "      <td>8.0</td>\n",
       "      <td>9</td>\n",
       "      <td>True</td>\n",
       "    </tr>\n",
       "    <tr>\n",
       "      <th>2923</th>\n",
       "      <td>wfc37f43</td>\n",
       "      <td>testing_c1_categorize</td>\n",
       "      <td>1</td>\n",
       "      <td>1.0</td>\n",
       "      <td>9</td>\n",
       "      <td>True</td>\n",
       "    </tr>\n",
       "    <tr>\n",
       "      <th>2924</th>\n",
       "      <td>wfc37f43</td>\n",
       "      <td>testing_c1_categorize</td>\n",
       "      <td>0</td>\n",
       "      <td>15.0</td>\n",
       "      <td>9</td>\n",
       "      <td>True</td>\n",
       "    </tr>\n",
       "    <tr>\n",
       "      <th>2925</th>\n",
       "      <td>wfc37f43</td>\n",
       "      <td>testing_c1_categorize</td>\n",
       "      <td>1</td>\n",
       "      <td>9.0</td>\n",
       "      <td>9</td>\n",
       "      <td>True</td>\n",
       "    </tr>\n",
       "    <tr>\n",
       "      <th>2926</th>\n",
       "      <td>wfc37f43</td>\n",
       "      <td>testing_c1_categorize</td>\n",
       "      <td>0</td>\n",
       "      <td>11.0</td>\n",
       "      <td>9</td>\n",
       "      <td>True</td>\n",
       "    </tr>\n",
       "    <tr>\n",
       "      <th>2927</th>\n",
       "      <td>wfc37f43</td>\n",
       "      <td>testing_c1_categorize</td>\n",
       "      <td>0</td>\n",
       "      <td>17.0</td>\n",
       "      <td>9</td>\n",
       "      <td>True</td>\n",
       "    </tr>\n",
       "    <tr>\n",
       "      <th>2928</th>\n",
       "      <td>wfc37f43</td>\n",
       "      <td>testing_c1_categorize</td>\n",
       "      <td>2</td>\n",
       "      <td>7.0</td>\n",
       "      <td>9</td>\n",
       "      <td>True</td>\n",
       "    </tr>\n",
       "    <tr>\n",
       "      <th>2929</th>\n",
       "      <td>wfc37f43</td>\n",
       "      <td>testing_c1_categorize</td>\n",
       "      <td>0</td>\n",
       "      <td>16.0</td>\n",
       "      <td>9</td>\n",
       "      <td>True</td>\n",
       "    </tr>\n",
       "    <tr>\n",
       "      <th>2930</th>\n",
       "      <td>wfc37f43</td>\n",
       "      <td>testing_c1_categorize</td>\n",
       "      <td>2</td>\n",
       "      <td>6.0</td>\n",
       "      <td>9</td>\n",
       "      <td>True</td>\n",
       "    </tr>\n",
       "    <tr>\n",
       "      <th>2931</th>\n",
       "      <td>wfc37f43</td>\n",
       "      <td>testing_c1_categorize</td>\n",
       "      <td>2</td>\n",
       "      <td>5.0</td>\n",
       "      <td>9</td>\n",
       "      <td>True</td>\n",
       "    </tr>\n",
       "    <tr>\n",
       "      <th>2932</th>\n",
       "      <td>wfc37f43</td>\n",
       "      <td>testing_c1_categorize</td>\n",
       "      <td>2</td>\n",
       "      <td>4.0</td>\n",
       "      <td>9</td>\n",
       "      <td>True</td>\n",
       "    </tr>\n",
       "    <tr>\n",
       "      <th>2933</th>\n",
       "      <td>wfc37f43</td>\n",
       "      <td>testing_c1_categorize</td>\n",
       "      <td>1</td>\n",
       "      <td>10.0</td>\n",
       "      <td>9</td>\n",
       "      <td>True</td>\n",
       "    </tr>\n",
       "    <tr>\n",
       "      <th>2934</th>\n",
       "      <td>wfc37f43</td>\n",
       "      <td>testing_c1_categorize</td>\n",
       "      <td>1</td>\n",
       "      <td>12.0</td>\n",
       "      <td>9</td>\n",
       "      <td>True</td>\n",
       "    </tr>\n",
       "    <tr>\n",
       "      <th>2935</th>\n",
       "      <td>wfc37f43</td>\n",
       "      <td>testing_c1_categorize</td>\n",
       "      <td>2</td>\n",
       "      <td>3.0</td>\n",
       "      <td>9</td>\n",
       "      <td>True</td>\n",
       "    </tr>\n",
       "    <tr>\n",
       "      <th>2936</th>\n",
       "      <td>wfc37f43</td>\n",
       "      <td>testing_c1_categorize</td>\n",
       "      <td>1</td>\n",
       "      <td>0.0</td>\n",
       "      <td>9</td>\n",
       "      <td>True</td>\n",
       "    </tr>\n",
       "    <tr>\n",
       "      <th>2937</th>\n",
       "      <td>wfc37f43</td>\n",
       "      <td>testing_c1_categorize</td>\n",
       "      <td>1</td>\n",
       "      <td>19.0</td>\n",
       "      <td>9</td>\n",
       "      <td>True</td>\n",
       "    </tr>\n",
       "    <tr>\n",
       "      <th>2938</th>\n",
       "      <td>wfc37f43</td>\n",
       "      <td>testing_c1_categorize</td>\n",
       "      <td>0</td>\n",
       "      <td>13.0</td>\n",
       "      <td>9</td>\n",
       "      <td>True</td>\n",
       "    </tr>\n",
       "    <tr>\n",
       "      <th>2939</th>\n",
       "      <td>wfc37f43</td>\n",
       "      <td>testing_c1_categorize</td>\n",
       "      <td>0</td>\n",
       "      <td>14.0</td>\n",
       "      <td>9</td>\n",
       "      <td>True</td>\n",
       "    </tr>\n",
       "    <tr>\n",
       "      <th>2940</th>\n",
       "      <td>wfc37f43</td>\n",
       "      <td>testing_c1_categorize</td>\n",
       "      <td>1</td>\n",
       "      <td>2.0</td>\n",
       "      <td>9</td>\n",
       "      <td>True</td>\n",
       "    </tr>\n",
       "    <tr>\n",
       "      <th>2942</th>\n",
       "      <td>wfc37f43</td>\n",
       "      <td>testing_c2_categorize</td>\n",
       "      <td>2</td>\n",
       "      <td>3.0</td>\n",
       "      <td>9</td>\n",
       "      <td>True</td>\n",
       "    </tr>\n",
       "    <tr>\n",
       "      <th>2943</th>\n",
       "      <td>wfc37f43</td>\n",
       "      <td>testing_c2_categorize</td>\n",
       "      <td>1</td>\n",
       "      <td>19.0</td>\n",
       "      <td>9</td>\n",
       "      <td>True</td>\n",
       "    </tr>\n",
       "    <tr>\n",
       "      <th>2944</th>\n",
       "      <td>wfc37f43</td>\n",
       "      <td>testing_c2_categorize</td>\n",
       "      <td>1</td>\n",
       "      <td>9.0</td>\n",
       "      <td>9</td>\n",
       "      <td>True</td>\n",
       "    </tr>\n",
       "    <tr>\n",
       "      <th>2945</th>\n",
       "      <td>wfc37f43</td>\n",
       "      <td>testing_c2_categorize</td>\n",
       "      <td>1</td>\n",
       "      <td>7.0</td>\n",
       "      <td>9</td>\n",
       "      <td>True</td>\n",
       "    </tr>\n",
       "    <tr>\n",
       "      <th>2946</th>\n",
       "      <td>wfc37f43</td>\n",
       "      <td>testing_c2_categorize</td>\n",
       "      <td>0</td>\n",
       "      <td>15.0</td>\n",
       "      <td>9</td>\n",
       "      <td>True</td>\n",
       "    </tr>\n",
       "    <tr>\n",
       "      <th>2947</th>\n",
       "      <td>wfc37f43</td>\n",
       "      <td>testing_c2_categorize</td>\n",
       "      <td>0</td>\n",
       "      <td>18.0</td>\n",
       "      <td>9</td>\n",
       "      <td>True</td>\n",
       "    </tr>\n",
       "    <tr>\n",
       "      <th>2948</th>\n",
       "      <td>wfc37f43</td>\n",
       "      <td>testing_c2_categorize</td>\n",
       "      <td>1</td>\n",
       "      <td>10.0</td>\n",
       "      <td>9</td>\n",
       "      <td>True</td>\n",
       "    </tr>\n",
       "    <tr>\n",
       "      <th>2949</th>\n",
       "      <td>wfc37f43</td>\n",
       "      <td>testing_c2_categorize</td>\n",
       "      <td>0</td>\n",
       "      <td>12.0</td>\n",
       "      <td>9</td>\n",
       "      <td>True</td>\n",
       "    </tr>\n",
       "    <tr>\n",
       "      <th>2950</th>\n",
       "      <td>wfc37f43</td>\n",
       "      <td>testing_c2_categorize</td>\n",
       "      <td>2</td>\n",
       "      <td>5.0</td>\n",
       "      <td>9</td>\n",
       "      <td>True</td>\n",
       "    </tr>\n",
       "    <tr>\n",
       "      <th>2951</th>\n",
       "      <td>wfc37f43</td>\n",
       "      <td>testing_c2_categorize</td>\n",
       "      <td>0</td>\n",
       "      <td>14.0</td>\n",
       "      <td>9</td>\n",
       "      <td>True</td>\n",
       "    </tr>\n",
       "    <tr>\n",
       "      <th>2952</th>\n",
       "      <td>wfc37f43</td>\n",
       "      <td>testing_c2_categorize</td>\n",
       "      <td>2</td>\n",
       "      <td>2.0</td>\n",
       "      <td>9</td>\n",
       "      <td>True</td>\n",
       "    </tr>\n",
       "    <tr>\n",
       "      <th>2953</th>\n",
       "      <td>wfc37f43</td>\n",
       "      <td>testing_c2_categorize</td>\n",
       "      <td>1</td>\n",
       "      <td>1.0</td>\n",
       "      <td>9</td>\n",
       "      <td>True</td>\n",
       "    </tr>\n",
       "    <tr>\n",
       "      <th>2954</th>\n",
       "      <td>wfc37f43</td>\n",
       "      <td>testing_c2_categorize</td>\n",
       "      <td>0</td>\n",
       "      <td>13.0</td>\n",
       "      <td>9</td>\n",
       "      <td>True</td>\n",
       "    </tr>\n",
       "    <tr>\n",
       "      <th>2955</th>\n",
       "      <td>wfc37f43</td>\n",
       "      <td>testing_c2_categorize</td>\n",
       "      <td>2</td>\n",
       "      <td>6.0</td>\n",
       "      <td>9</td>\n",
       "      <td>True</td>\n",
       "    </tr>\n",
       "    <tr>\n",
       "      <th>2956</th>\n",
       "      <td>wfc37f43</td>\n",
       "      <td>testing_c2_categorize</td>\n",
       "      <td>1</td>\n",
       "      <td>8.0</td>\n",
       "      <td>9</td>\n",
       "      <td>True</td>\n",
       "    </tr>\n",
       "    <tr>\n",
       "      <th>2957</th>\n",
       "      <td>wfc37f43</td>\n",
       "      <td>testing_c2_categorize</td>\n",
       "      <td>2</td>\n",
       "      <td>4.0</td>\n",
       "      <td>9</td>\n",
       "      <td>True</td>\n",
       "    </tr>\n",
       "    <tr>\n",
       "      <th>2958</th>\n",
       "      <td>wfc37f43</td>\n",
       "      <td>testing_c2_categorize</td>\n",
       "      <td>0</td>\n",
       "      <td>16.0</td>\n",
       "      <td>9</td>\n",
       "      <td>True</td>\n",
       "    </tr>\n",
       "    <tr>\n",
       "      <th>2959</th>\n",
       "      <td>wfc37f43</td>\n",
       "      <td>testing_c2_categorize</td>\n",
       "      <td>0</td>\n",
       "      <td>17.0</td>\n",
       "      <td>9</td>\n",
       "      <td>True</td>\n",
       "    </tr>\n",
       "    <tr>\n",
       "      <th>2960</th>\n",
       "      <td>wfc37f43</td>\n",
       "      <td>testing_c2_categorize</td>\n",
       "      <td>0</td>\n",
       "      <td>11.0</td>\n",
       "      <td>9</td>\n",
       "      <td>True</td>\n",
       "    </tr>\n",
       "    <tr>\n",
       "      <th>2961</th>\n",
       "      <td>wfc37f43</td>\n",
       "      <td>testing_c2_categorize</td>\n",
       "      <td>2</td>\n",
       "      <td>0.0</td>\n",
       "      <td>9</td>\n",
       "      <td>True</td>\n",
       "    </tr>\n",
       "  </tbody>\n",
       "</table>\n",
       "</div>"
      ],
      "text/plain": [
       "           wid                   task response target_dino  label_pair  \\\n",
       "2921  wfc37f43  testing_c1_categorize        0        18.0           9   \n",
       "2922  wfc37f43  testing_c1_categorize        2         8.0           9   \n",
       "2923  wfc37f43  testing_c1_categorize        1         1.0           9   \n",
       "2924  wfc37f43  testing_c1_categorize        0        15.0           9   \n",
       "2925  wfc37f43  testing_c1_categorize        1         9.0           9   \n",
       "2926  wfc37f43  testing_c1_categorize        0        11.0           9   \n",
       "2927  wfc37f43  testing_c1_categorize        0        17.0           9   \n",
       "2928  wfc37f43  testing_c1_categorize        2         7.0           9   \n",
       "2929  wfc37f43  testing_c1_categorize        0        16.0           9   \n",
       "2930  wfc37f43  testing_c1_categorize        2         6.0           9   \n",
       "2931  wfc37f43  testing_c1_categorize        2         5.0           9   \n",
       "2932  wfc37f43  testing_c1_categorize        2         4.0           9   \n",
       "2933  wfc37f43  testing_c1_categorize        1        10.0           9   \n",
       "2934  wfc37f43  testing_c1_categorize        1        12.0           9   \n",
       "2935  wfc37f43  testing_c1_categorize        2         3.0           9   \n",
       "2936  wfc37f43  testing_c1_categorize        1         0.0           9   \n",
       "2937  wfc37f43  testing_c1_categorize        1        19.0           9   \n",
       "2938  wfc37f43  testing_c1_categorize        0        13.0           9   \n",
       "2939  wfc37f43  testing_c1_categorize        0        14.0           9   \n",
       "2940  wfc37f43  testing_c1_categorize        1         2.0           9   \n",
       "2942  wfc37f43  testing_c2_categorize        2         3.0           9   \n",
       "2943  wfc37f43  testing_c2_categorize        1        19.0           9   \n",
       "2944  wfc37f43  testing_c2_categorize        1         9.0           9   \n",
       "2945  wfc37f43  testing_c2_categorize        1         7.0           9   \n",
       "2946  wfc37f43  testing_c2_categorize        0        15.0           9   \n",
       "2947  wfc37f43  testing_c2_categorize        0        18.0           9   \n",
       "2948  wfc37f43  testing_c2_categorize        1        10.0           9   \n",
       "2949  wfc37f43  testing_c2_categorize        0        12.0           9   \n",
       "2950  wfc37f43  testing_c2_categorize        2         5.0           9   \n",
       "2951  wfc37f43  testing_c2_categorize        0        14.0           9   \n",
       "2952  wfc37f43  testing_c2_categorize        2         2.0           9   \n",
       "2953  wfc37f43  testing_c2_categorize        1         1.0           9   \n",
       "2954  wfc37f43  testing_c2_categorize        0        13.0           9   \n",
       "2955  wfc37f43  testing_c2_categorize        2         6.0           9   \n",
       "2956  wfc37f43  testing_c2_categorize        1         8.0           9   \n",
       "2957  wfc37f43  testing_c2_categorize        2         4.0           9   \n",
       "2958  wfc37f43  testing_c2_categorize        0        16.0           9   \n",
       "2959  wfc37f43  testing_c2_categorize        0        17.0           9   \n",
       "2960  wfc37f43  testing_c2_categorize        0        11.0           9   \n",
       "2961  wfc37f43  testing_c2_categorize        2         0.0           9   \n",
       "\n",
       "      manifold_jitter  \n",
       "2921             True  \n",
       "2922             True  \n",
       "2923             True  \n",
       "2924             True  \n",
       "2925             True  \n",
       "2926             True  \n",
       "2927             True  \n",
       "2928             True  \n",
       "2929             True  \n",
       "2930             True  \n",
       "2931             True  \n",
       "2932             True  \n",
       "2933             True  \n",
       "2934             True  \n",
       "2935             True  \n",
       "2936             True  \n",
       "2937             True  \n",
       "2938             True  \n",
       "2939             True  \n",
       "2940             True  \n",
       "2942             True  \n",
       "2943             True  \n",
       "2944             True  \n",
       "2945             True  \n",
       "2946             True  \n",
       "2947             True  \n",
       "2948             True  \n",
       "2949             True  \n",
       "2950             True  \n",
       "2951             True  \n",
       "2952             True  \n",
       "2953             True  \n",
       "2954             True  \n",
       "2955             True  \n",
       "2956             True  \n",
       "2957             True  \n",
       "2958             True  \n",
       "2959             True  \n",
       "2960             True  \n",
       "2961             True  "
      ]
     },
     "execution_count": 443,
     "metadata": {},
     "output_type": "execute_result"
    }
   ],
   "source": [
    "subject_dfs[-25]"
   ]
  },
  {
   "cell_type": "code",
   "execution_count": 400,
   "id": "adaptive-discharge",
   "metadata": {},
   "outputs": [
    {
     "data": {
      "text/plain": [
       "({5, 6, 7, 8, 9, 10, 11, 12, 13, 14, 15, 16, 17, 18, 19, 20},\n",
       " [1, 1, 2, 2, 1, 1, 3, 2, 5, 6, 4, 9, 6, 7, 3, 7])"
      ]
     },
     "execution_count": 400,
     "metadata": {},
     "output_type": "execute_result"
    }
   ],
   "source": [
    "set(agreements),[agreements.count(a) for a in set(agreements)]"
   ]
  },
  {
   "cell_type": "code",
   "execution_count": 402,
   "id": "bright-devices",
   "metadata": {},
   "outputs": [
    {
     "data": {
      "text/plain": [
       "<BarContainer object of 16 artists>"
      ]
     },
     "execution_count": 402,
     "metadata": {},
     "output_type": "execute_result"
    },
    {
     "data": {
      "image/png": "[encoded data removed]",
      "text/plain": [
       "<Figure size 720x360 with 1 Axes>"
      ]
     },
     "metadata": {
      "needs_background": "light"
     },
     "output_type": "display_data"
    }
   ],
   "source": [
    "plt.bar(list(set(agreements)), [agreements.count(a) for a in set(agreements)])"
   ]
  },
  {
   "cell_type": "code",
   "execution_count": 394,
   "id": "given-paper",
   "metadata": {},
   "outputs": [
    {
     "data": {
      "text/plain": [
       "14.916666666666666"
      ]
     },
     "execution_count": 394,
     "metadata": {},
     "output_type": "execute_result"
    }
   ],
   "source": [
    "np.mean(agreements)"
   ]
  },
  {
   "cell_type": "code",
   "execution_count": null,
   "id": "supported-history",
   "metadata": {},
   "outputs": [],
   "source": [
    "from numpy import array\n",
    "sl =[[array([0., 0., 1.]), array([0.25, 0.25, 0.5 ])],\n",
    " [array([0., 0., 1.]), array([0.25, 0.5 , 0.25])],\n",
    " [array([0., 0., 1.]), array([0.25, 0.75, 0.  ])],\n",
    " [array([0., 0., 1.]), array([0.5, 0.5, 0. ])],\n",
    " [array([0.  , 0.25, 0.75]), array([0.25, 0.  , 0.75])],\n",
    " [array([0.  , 0.25, 0.75]), array([0.25, 0.25, 0.5 ])],\n",
    " [array([0.  , 0.25, 0.75]), array([0.25, 0.5 , 0.25])],\n",
    " [array([0.  , 0.25, 0.75]), array([0.25, 0.75, 0.  ])],\n",
    " [array([0.  , 0.25, 0.75]), array([0.5, 0. , 0.5])],\n",
    " [array([0.  , 0.25, 0.75]), array([0.5 , 0.25, 0.25])],\n",
    " [array([0.  , 0.25, 0.75]), array([0.5, 0.5, 0. ])],\n",
    " [array([0.  , 0.25, 0.75]), array([0.75, 0.25, 0.  ])],\n",
    " [array([0. , 0.5, 0.5]), array([0.25, 0.25, 0.5 ])],\n",
    " [array([0. , 0.5, 0.5]), array([0.5, 0. , 0.5])],\n",
    " [array([0. , 0.5, 0.5]), array([0.5 , 0.25, 0.25])],\n",
    " [array([0.25, 0.25, 0.5 ]), array([0.25, 0.25, 0.5 ])],\n",
    " [array([0.25, 0.25, 0.5 ]), array([0.25, 0.5 , 0.25])]]\n",
    "print(sl[0][0])"
   ]
  },
  {
   "cell_type": "code",
   "execution_count": 344,
   "id": "treated-symbol",
   "metadata": {},
   "outputs": [
    {
     "data": {
      "text/plain": [
       "{1, 2, 4, 5, 6, 7, 8, 9, 13, 14}"
      ]
     },
     "execution_count": 344,
     "metadata": {},
     "output_type": "execute_result"
    }
   ],
   "source": [
    "set(responses[\"label_pair\"])"
   ]
  },
  {
   "cell_type": "code",
   "execution_count": 193,
   "id": "7362c492",
   "metadata": {},
   "outputs": [
    {
     "data": {
      "text/plain": [
       "wid                  object\n",
       "task                 object\n",
       "response           category\n",
       "target_dino        category\n",
       "label_pair            int64\n",
       "manifold_jitter        bool\n",
       "dtype: object"
      ]
     },
     "execution_count": 193,
     "metadata": {},
     "output_type": "execute_result"
    }
   ],
   "source": [
    "responses.dtypes"
   ]
  },
  {
   "cell_type": "markdown",
   "id": "00ebef06",
   "metadata": {},
   "source": [
    "## Visualizing Data"
   ]
  },
  {
   "cell_type": "code",
   "execution_count": 36,
   "id": "2075b11d",
   "metadata": {},
   "outputs": [
    {
     "data": {
      "text/plain": [
       "wid                91\n",
       "task               91\n",
       "response           91\n",
       "target_dino        91\n",
       "label_pair         91\n",
       "manifold_jitter    91\n",
       "dtype: int64"
      ]
     },
     "execution_count": 36,
     "metadata": {},
     "output_type": "execute_result"
    }
   ],
   "source": [
    "# for i in np.arange(20):\n",
    "#     print(cloud1[cloud1.target_dino == i].count())\n",
    "cloud1[cloud1.response==2].count()"
   ]
  },
  {
   "cell_type": "code",
   "execution_count": 156,
   "id": "eaf4789b",
   "metadata": {},
   "outputs": [],
   "source": [
    "plt.rcParams[\"figure.figsize\"] = (10,5)"
   ]
  },
  {
   "cell_type": "code",
   "execution_count": null,
   "id": "maritime-faith",
   "metadata": {},
   "outputs": [],
   "source": []
  },
  {
   "cell_type": "code",
   "execution_count": 228,
   "id": "55c3e014",
   "metadata": {},
   "outputs": [
    {
     "data": {
      "image/png": "[encoded data removed]",
      "text/plain": [
       "<Figure size 720x360 with 1 Axes>"
      ]
     },
     "metadata": {
      "needs_background": "light"
     },
     "output_type": "display_data"
    }
   ],
   "source": [
    "plt.scatter(cloud1.target_dino, cloud1.response, alpha = .3, s=400)\n",
    "plt.show()"
   ]
  },
  {
   "cell_type": "code",
   "execution_count": 176,
   "id": "65640b49",
   "metadata": {},
   "outputs": [
    {
     "data": {
      "image/png": "[encoded data removed]",
      "text/plain": [
       "<Figure size 720x360 with 1 Axes>"
      ]
     },
     "metadata": {
      "needs_background": "light"
     },
     "output_type": "display_data"
    }
   ],
   "source": [
    "plt.scatter(cloud2.target_dino, cloud2.response, alpha = .3, s=400)\n",
    "plt.show()"
   ]
  },
  {
   "cell_type": "code",
   "execution_count": 543,
   "id": "norman-doubt",
   "metadata": {},
   "outputs": [
    {
     "data": {
      "image/png": "[encoded data removed]",
      "text/plain": [
       "<Figure size 432x288 with 1 Axes>"
      ]
     },
     "metadata": {
      "needs_background": "light"
     },
     "output_type": "display_data"
    },
    {
     "name": "stdout",
     "output_type": "stream",
     "text": [
      "[26.80555556 18.39010989  4.8021978 ]\n",
      "[12.61111111 13.78021978  4.6043956 ]\n"
     ]
    },
    {
     "data": {
      "image/png": "[encoded data removed]",
      "text/plain": [
       "<Figure size 432x288 with 1 Axes>"
      ]
     },
     "metadata": {
      "needs_background": "light"
     },
     "output_type": "display_data"
    },
    {
     "name": "stdout",
     "output_type": "stream",
     "text": [
      "[[0.01646603 0.04240386 0.94113011]\n",
      " [0.01553296 0.96196493 0.0225021 ]]\n",
      "[[0.11110664 0.22262183 0.66627153]\n",
      " [0.10956039 0.4265579  0.46388172]\n",
      " [0.11207336 0.52212213 0.36580451]\n",
      " [0.30789277 0.50793304 0.18417419]]\n"
     ]
    }
   ],
   "source": [
    "cloud=responses_test\n",
    "cloud_dict={}\n",
    "for i in range(20):\n",
    "    cloud_dict[i]=[0, 0, 0]\n",
    "for i in range(len(cloud.target_dino)):\n",
    "    cloud_dict[int(list(cloud.target_dino)[i])][list(cloud.response)[i]]+=1\n",
    "class1 = [cloud_dict[i][0]/sum(cloud_dict[i]) for i in range(20)]\n",
    "class2 = [cloud_dict[i][1]/sum(cloud_dict[i]) for i in range(20)]\n",
    "class3 = [cloud_dict[i][2]/sum(cloud_dict[i]) for i in range(20)]\n",
    "plt.plot(list(range(20)),class1, label='c1')\n",
    "plt.plot(list(range(20)),class2, label='c2')\n",
    "plt.plot(list(range(20)),class3, label='c3')\n",
    "plt.legend()\n",
    "plt.show()\n",
    "mp1=np.sum(class1*np.array(range(20)))/np.sum(class1)\n",
    "mp2=np.sum(class2*np.array(range(20)))/np.sum(class2)\n",
    "mp3=np.sum(class3*np.array(range(20)))/np.sum(class3)\n",
    "mean_peaks=np.array([mp1,mp2,mp3])\n",
    "\n",
    "def peaks(lab1, lab2):\n",
    "    diffs = lab2-lab1\n",
    "    shift=(1-lab2)/diffs\n",
    "    shift[diffs==0]=-0.5\n",
    "    return 14+(shift*(14-5))\n",
    "peaks(*sl[num])\n",
    "print((mean_peaks+peaks(*sl[num]))/2)\n",
    "print(mean_peaks)\n",
    "from soft_knn import SoftKNN, softmax\n",
    "\n",
    "clf=SoftKNN(k=3)\n",
    "prototype_loc = mean_peaks+[15,0,0]#np.array([18,13.7,4.6])\n",
    "prototype_lab = np.array([np.array([1., 0., 0.]), np.array([0.,1.,0.]), np.array([0.,0.,1.])])\n",
    "clf.fit(prototype_loc, prototype_lab)\n",
    "x=np.linspace(0,19, 20)\n",
    "preds=clf.probabilities(x)\n",
    "plt.plot(x,preds)\n",
    "plt.show()\n",
    "print(clf.probabilities([5,14]))\n",
    "print(clf.probabilities([0,9,10,19]))"
   ]
  },
  {
   "cell_type": "code",
   "execution_count": 514,
   "id": "8cd62241",
   "metadata": {},
   "outputs": [
    {
     "data": {
      "image/png": "[encoded data removed]",
      "text/plain": [
       "<Figure size 432x288 with 1 Axes>"
      ]
     },
     "metadata": {
      "needs_background": "light"
     },
     "output_type": "display_data"
    },
    {
     "name": "stdout",
     "output_type": "stream",
     "text": [
      "7.714285714285715\n",
      "13.795918367346939\n",
      "5.000000000000001\n"
     ]
    }
   ],
   "source": [
    "cloud1_dict={}\n",
    "for i in range(20):\n",
    "    cloud1_dict[i]=[0, 0, 0]\n",
    "for i in range(len(cloud1.target_dino)):\n",
    "    cloud1_dict[int(list(cloud1.target_dino)[i])][list(cloud1.response)[i]]+=1\n",
    "class1 = [cloud1_dict[i][0]/sum(cloud1_dict[i]) for i in range(20)]\n",
    "class2 = [cloud1_dict[i][1]/sum(cloud1_dict[i]) for i in range(20)]\n",
    "class3 = [cloud1_dict[i][2]/sum(cloud1_dict[i]) for i in range(20)]\n",
    "plt.plot(list(range(20)),class1)\n",
    "plt.plot(list(range(20)),class2)\n",
    "plt.plot(list(range(20)),class3)\n",
    "plt.show()\n",
    "print(np.sum(class1*np.array(range(20)))/np.sum(class1))\n",
    "print(np.sum(class2*np.array(range(20)))/np.sum(class2))\n",
    "print(np.sum(class3*np.array(range(20)))/np.sum(class3))"
   ]
  },
  {
   "cell_type": "code",
   "execution_count": 515,
   "id": "hundred-snowboard",
   "metadata": {},
   "outputs": [
    {
     "data": {
      "image/png": "[encoded data removed]",
      "text/plain": [
       "<Figure size 432x288 with 1 Axes>"
      ]
     },
     "metadata": {
      "needs_background": "light"
     },
     "output_type": "display_data"
    },
    {
     "name": "stdout",
     "output_type": "stream",
     "text": [
      "15.727272727272727\n",
      "13.761904761904761\n",
      "4.234042553191489\n"
     ]
    }
   ],
   "source": [
    "cloud2_dict={}\n",
    "for i in range(20):\n",
    "    cloud2_dict[i]=[0, 0, 0]\n",
    "for i in range(len(cloud2.target_dino)):\n",
    "    cloud2_dict[int(list(cloud2.target_dino)[i])][list(cloud2.response)[i]]+=1\n",
    "class1 = [cloud2_dict[i][0]/sum(cloud2_dict[i]) for i in range(20)]\n",
    "class2 = [cloud2_dict[i][1]/sum(cloud2_dict[i]) for i in range(20)]\n",
    "class3 = [cloud2_dict[i][2]/sum(cloud2_dict[i]) for i in range(20)]\n",
    "plt.plot(list(range(20)),class1)\n",
    "plt.plot(list(range(20)),class2)\n",
    "plt.plot(list(range(20)),class3)\n",
    "plt.show()\n",
    "print(np.sum(class1*np.array(range(20)))/np.sum(class1))\n",
    "print(np.sum(class2*np.array(range(20)))/np.sum(class2))\n",
    "print(np.sum(class3*np.array(range(20)))/np.sum(class3))"
   ]
  },
  {
   "cell_type": "code",
   "execution_count": 151,
   "id": "employed-chile",
   "metadata": {},
   "outputs": [
    {
     "data": {
      "image/png": "[encoded data removed]",
      "text/plain": [
       "<Figure size 720x360 with 1 Axes>"
      ]
     },
     "metadata": {
      "needs_background": "light"
     },
     "output_type": "display_data"
    }
   ],
   "source": [
    "cloud1_dict={}\n",
    "for i in range(20):\n",
    "    cloud1_dict[i]=[0, 0, 0]\n",
    "for i in range(len(cloud1.target_dino)):\n",
    "    cloud1_dict[int(list(cloud1.target_dino)[i])][list(cloud1.response)[i]]+=1\n",
    "class1 = np.array([cloud1_dict[i][0]/sum(cloud1_dict[i]) for i in range(20)])\n",
    "class2 = np.array([cloud1_dict[i][1]/sum(cloud1_dict[i]) for i in range(20)])\n",
    "class3 = np.array([cloud1_dict[i][2]/sum(cloud1_dict[i]) for i in range(20)])\n",
    "plt.bar(list(range(20)),class1)\n",
    "plt.bar(list(range(20)),class2, bottom=class1)\n",
    "plt.bar(list(range(20)),class3, bottom=class1+class2)\n",
    "plt.show()"
   ]
  },
  {
   "cell_type": "code",
   "execution_count": 152,
   "id": "caring-harbor",
   "metadata": {},
   "outputs": [
    {
     "data": {
      "image/png": "[encoded data removed]",
      "text/plain": [
       "<Figure size 720x360 with 1 Axes>"
      ]
     },
     "metadata": {
      "needs_background": "light"
     },
     "output_type": "display_data"
    }
   ],
   "source": [
    "cloud2_dict={}\n",
    "for i in range(20):\n",
    "    cloud2_dict[i]=[0, 0, 0]\n",
    "for i in range(len(cloud2.target_dino)):\n",
    "    cloud2_dict[int(list(cloud2.target_dino)[i])][list(cloud2.response)[i]]+=1\n",
    "class1 = np.array([cloud2_dict[i][0]/sum(cloud2_dict[i]) for i in range(20)])\n",
    "class2 = np.array([cloud2_dict[i][1]/sum(cloud2_dict[i]) for i in range(20)])\n",
    "class3 = np.array([cloud2_dict[i][2]/sum(cloud2_dict[i]) for i in range(20)])\n",
    "plt.bar(list(range(20)),class1)\n",
    "plt.bar(list(range(20)),class2, bottom=class1)\n",
    "plt.bar(list(range(20)),class3, bottom=class1+class2)\n",
    "plt.show()"
   ]
  },
  {
   "cell_type": "code",
   "execution_count": 99,
   "id": "6291c96f",
   "metadata": {},
   "outputs": [],
   "source": [
    "def plot_softlabel_data(all_responses, cloud, label_pair, dataframe):\n",
    "#     fig, ax = plt.subplots()\n",
    "    \n",
    "#     x = np.arange(20)\n",
    "#     width = 0.35 \n",
    "    \n",
    "#     rects1 = ax.bar(x - width/2, [1,2], width, label='Men')\n",
    "#     rects2 = ax.bar(x + width/2, [3,4], width, label='Women')\n",
    "    \n",
    "#     plt.show()\n",
    "\n",
    "    labels = ['G1', 'G2', 'G3', 'G4', 'G5']\n",
    "    men_means = [20, 34, 30, 35, 27]\n",
    "    women_means = [25, 32, 34, 20, 25]\n",
    "\n",
    "    x = np.arange(len(labels))  # the label locations\n",
    "    width = 0.35  # the width of the bars\n",
    "\n",
    "    fig, ax = plt.subplots()\n",
    "    rects1 = ax.bar(x - width/2, men_means, width, label='Men')\n",
    "    rects2 = ax.bar(x + width/2, women_means, width, label='Women')\n",
    "\n",
    "    # Add some text for labels, title and custom x-axis tick labels, etc.\n",
    "    ax.set_ylabel('Scores')\n",
    "    ax.set_title('Scores by group and gender')\n",
    "    ax.set_xticks(x, labels)\n",
    "    ax.legend()\n",
    "\n",
    "    ax.bar_label(rects1, padding=3)\n",
    "    ax.bar_label(rects2, padding=3)\n",
    "\n",
    "    fig.tight_layout()\n",
    "\n",
    "    plt.show()"
   ]
  },
  {
   "cell_type": "code",
   "execution_count": null,
   "id": "e4dfa1ac",
   "metadata": {},
   "outputs": [],
   "source": [
    "plot_softlabel_data(None, None, None, None)"
   ]
  },
  {
   "cell_type": "code",
   "execution_count": null,
   "id": "c98b4b83",
   "metadata": {},
   "outputs": [],
   "source": []
  }
 ],
 "metadata": {
  "kernelspec": {
   "display_name": "Python 3",
   "language": "python",
   "name": "python3"
  },
  "language_info": {
   "codemirror_mode": {
    "name": "ipython",
    "version": 3
   },
   "file_extension": ".py",
   "mimetype": "text/x-python",
   "name": "python",
   "nbconvert_exporter": "python",
   "pygments_lexer": "ipython3",
   "version": "3.7.3"
  }
 },
 "nbformat": 4,
 "nbformat_minor": 5
}
