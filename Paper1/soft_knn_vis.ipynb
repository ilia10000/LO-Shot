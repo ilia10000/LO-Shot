{
 "cells": [
  {
   "cell_type": "markdown",
   "metadata": {},
   "source": [
    "# *Visualizing SLaPkNN with M<N Prototypes*\n",
    "1. Run the first cell to start the visualization.\n",
    "2. Use the 'Mode' dropdown to choose a method of positioning prototypes. \n",
    "3. Use num_points and num_classes to control M and N, respectively.\n",
    "4. Setting a higher resolution improves accuracy but may slow down computation.\n",
    "5. To save the image, first type desired filename in the provided blank, then press the save button."
   ]
  },
  {
   "cell_type": "code",
   "execution_count": 2,
   "metadata": {
    "scrolled": false
   },
   "outputs": [
    {
     "data": {
      "application/javascript": [
       "/* Put everything inside the global mpl namespace */\n",
       "/* global mpl */\n",
       "window.mpl = {};\n",
       "\n",
       "mpl.get_websocket_type = function () {\n",
       "    if (typeof WebSocket !== 'undefined') {\n",
       "        return WebSocket;\n",
       "    } else if (typeof MozWebSocket !== 'undefined') {\n",
       "        return MozWebSocket;\n",
       "    } else {\n",
       "        alert(\n",
       "            'Your browser does not have WebSocket support. ' +\n",
       "                'Please try Chrome, Safari or Firefox ≥ 6. ' +\n",
       "                'Firefox 4 and 5 are also supported but you ' +\n",
       "                'have to enable WebSockets in about:config.'\n",
       "        );\n",
       "    }\n",
       "};\n",
       "\n",
       "mpl.figure = function (figure_id, websocket, ondownload, parent_element) {\n",
       "    this.id = figure_id;\n",
       "\n",
       "    this.ws = websocket;\n",
       "\n",
       "    this.supports_binary = this.ws.binaryType !== undefined;\n",
       "\n",
       "    if (!this.supports_binary) {\n",
       "        var warnings = document.getElementById('mpl-warnings');\n",
       "        if (warnings) {\n",
       "            warnings.style.display = 'block';\n",
       "            warnings.textContent =\n",
       "                'This browser does not support binary websocket messages. ' +\n",
       "                'Performance may be slow.';\n",
       "        }\n",
       "    }\n",
       "\n",
       "    this.imageObj = new Image();\n",
       "\n",
       "    this.context = undefined;\n",
       "    this.message = undefined;\n",
       "    this.canvas = undefined;\n",
       "    this.rubberband_canvas = undefined;\n",
       "    this.rubberband_context = undefined;\n",
       "    this.format_dropdown = undefined;\n",
       "\n",
       "    this.image_mode = 'full';\n",
       "\n",
       "    this.root = document.createElement('div');\n",
       "    this.root.setAttribute('style', 'display: inline-block');\n",
       "    this._root_extra_style(this.root);\n",
       "\n",
       "    parent_element.appendChild(this.root);\n",
       "\n",
       "    this._init_header(this);\n",
       "    this._init_canvas(this);\n",
       "    this._init_toolbar(this);\n",
       "\n",
       "    var fig = this;\n",
       "\n",
       "    this.waiting = false;\n",
       "\n",
       "    this.ws.onopen = function () {\n",
       "        fig.send_message('supports_binary', { value: fig.supports_binary });\n",
       "        fig.send_message('send_image_mode', {});\n",
       "        if (fig.ratio !== 1) {\n",
       "            fig.send_message('set_dpi_ratio', { dpi_ratio: fig.ratio });\n",
       "        }\n",
       "        fig.send_message('refresh', {});\n",
       "    };\n",
       "\n",
       "    this.imageObj.onload = function () {\n",
       "        if (fig.image_mode === 'full') {\n",
       "            // Full images could contain transparency (where diff images\n",
       "            // almost always do), so we need to clear the canvas so that\n",
       "            // there is no ghosting.\n",
       "            fig.context.clearRect(0, 0, fig.canvas.width, fig.canvas.height);\n",
       "        }\n",
       "        fig.context.drawImage(fig.imageObj, 0, 0);\n",
       "    };\n",
       "\n",
       "    this.imageObj.onunload = function () {\n",
       "        fig.ws.close();\n",
       "    };\n",
       "\n",
       "    this.ws.onmessage = this._make_on_message_function(this);\n",
       "\n",
       "    this.ondownload = ondownload;\n",
       "};\n",
       "\n",
       "mpl.figure.prototype._init_header = function () {\n",
       "    var titlebar = document.createElement('div');\n",
       "    titlebar.classList =\n",
       "        'ui-dialog-titlebar ui-widget-header ui-corner-all ui-helper-clearfix';\n",
       "    var titletext = document.createElement('div');\n",
       "    titletext.classList = 'ui-dialog-title';\n",
       "    titletext.setAttribute(\n",
       "        'style',\n",
       "        'width: 100%; text-align: center; padding: 3px;'\n",
       "    );\n",
       "    titlebar.appendChild(titletext);\n",
       "    this.root.appendChild(titlebar);\n",
       "    this.header = titletext;\n",
       "};\n",
       "\n",
       "mpl.figure.prototype._canvas_extra_style = function (_canvas_div) {};\n",
       "\n",
       "mpl.figure.prototype._root_extra_style = function (_canvas_div) {};\n",
       "\n",
       "mpl.figure.prototype._init_canvas = function () {\n",
       "    var fig = this;\n",
       "\n",
       "    var canvas_div = (this.canvas_div = document.createElement('div'));\n",
       "    canvas_div.setAttribute(\n",
       "        'style',\n",
       "        'border: 1px solid #ddd;' +\n",
       "            'box-sizing: content-box;' +\n",
       "            'clear: both;' +\n",
       "            'min-height: 1px;' +\n",
       "            'min-width: 1px;' +\n",
       "            'outline: 0;' +\n",
       "            'overflow: hidden;' +\n",
       "            'position: relative;' +\n",
       "            'resize: both;'\n",
       "    );\n",
       "\n",
       "    function on_keyboard_event_closure(name) {\n",
       "        return function (event) {\n",
       "            return fig.key_event(event, name);\n",
       "        };\n",
       "    }\n",
       "\n",
       "    canvas_div.addEventListener(\n",
       "        'keydown',\n",
       "        on_keyboard_event_closure('key_press')\n",
       "    );\n",
       "    canvas_div.addEventListener(\n",
       "        'keyup',\n",
       "        on_keyboard_event_closure('key_release')\n",
       "    );\n",
       "\n",
       "    this._canvas_extra_style(canvas_div);\n",
       "    this.root.appendChild(canvas_div);\n",
       "\n",
       "    var canvas = (this.canvas = document.createElement('canvas'));\n",
       "    canvas.classList.add('mpl-canvas');\n",
       "    canvas.setAttribute('style', 'box-sizing: content-box;');\n",
       "\n",
       "    this.context = canvas.getContext('2d');\n",
       "\n",
       "    var backingStore =\n",
       "        this.context.backingStorePixelRatio ||\n",
       "        this.context.webkitBackingStorePixelRatio ||\n",
       "        this.context.mozBackingStorePixelRatio ||\n",
       "        this.context.msBackingStorePixelRatio ||\n",
       "        this.context.oBackingStorePixelRatio ||\n",
       "        this.context.backingStorePixelRatio ||\n",
       "        1;\n",
       "\n",
       "    this.ratio = (window.devicePixelRatio || 1) / backingStore;\n",
       "    if (this.ratio !== 1) {\n",
       "        fig.send_message('set_dpi_ratio', { dpi_ratio: this.ratio });\n",
       "    }\n",
       "\n",
       "    var rubberband_canvas = (this.rubberband_canvas = document.createElement(\n",
       "        'canvas'\n",
       "    ));\n",
       "    rubberband_canvas.setAttribute(\n",
       "        'style',\n",
       "        'box-sizing: content-box; position: absolute; left: 0; top: 0; z-index: 1;'\n",
       "    );\n",
       "\n",
       "    var resizeObserver = new ResizeObserver(function (entries) {\n",
       "        var nentries = entries.length;\n",
       "        for (var i = 0; i < nentries; i++) {\n",
       "            var entry = entries[i];\n",
       "            var width, height;\n",
       "            if (entry.contentBoxSize) {\n",
       "                if (entry.contentBoxSize instanceof Array) {\n",
       "                    // Chrome 84 implements new version of spec.\n",
       "                    width = entry.contentBoxSize[0].inlineSize;\n",
       "                    height = entry.contentBoxSize[0].blockSize;\n",
       "                } else {\n",
       "                    // Firefox implements old version of spec.\n",
       "                    width = entry.contentBoxSize.inlineSize;\n",
       "                    height = entry.contentBoxSize.blockSize;\n",
       "                }\n",
       "            } else {\n",
       "                // Chrome <84 implements even older version of spec.\n",
       "                width = entry.contentRect.width;\n",
       "                height = entry.contentRect.height;\n",
       "            }\n",
       "\n",
       "            // Keep the size of the canvas and rubber band canvas in sync with\n",
       "            // the canvas container.\n",
       "            if (entry.devicePixelContentBoxSize) {\n",
       "                // Chrome 84 implements new version of spec.\n",
       "                canvas.setAttribute(\n",
       "                    'width',\n",
       "                    entry.devicePixelContentBoxSize[0].inlineSize\n",
       "                );\n",
       "                canvas.setAttribute(\n",
       "                    'height',\n",
       "                    entry.devicePixelContentBoxSize[0].blockSize\n",
       "                );\n",
       "            } else {\n",
       "                canvas.setAttribute('width', width * fig.ratio);\n",
       "                canvas.setAttribute('height', height * fig.ratio);\n",
       "            }\n",
       "            canvas.setAttribute(\n",
       "                'style',\n",
       "                'width: ' + width + 'px; height: ' + height + 'px;'\n",
       "            );\n",
       "\n",
       "            rubberband_canvas.setAttribute('width', width);\n",
       "            rubberband_canvas.setAttribute('height', height);\n",
       "\n",
       "            // And update the size in Python. We ignore the initial 0/0 size\n",
       "            // that occurs as the element is placed into the DOM, which should\n",
       "            // otherwise not happen due to the minimum size styling.\n",
       "            if (width != 0 && height != 0) {\n",
       "                fig.request_resize(width, height);\n",
       "            }\n",
       "        }\n",
       "    });\n",
       "    resizeObserver.observe(canvas_div);\n",
       "\n",
       "    function on_mouse_event_closure(name) {\n",
       "        return function (event) {\n",
       "            return fig.mouse_event(event, name);\n",
       "        };\n",
       "    }\n",
       "\n",
       "    rubberband_canvas.addEventListener(\n",
       "        'mousedown',\n",
       "        on_mouse_event_closure('button_press')\n",
       "    );\n",
       "    rubberband_canvas.addEventListener(\n",
       "        'mouseup',\n",
       "        on_mouse_event_closure('button_release')\n",
       "    );\n",
       "    // Throttle sequential mouse events to 1 every 20ms.\n",
       "    rubberband_canvas.addEventListener(\n",
       "        'mousemove',\n",
       "        on_mouse_event_closure('motion_notify')\n",
       "    );\n",
       "\n",
       "    rubberband_canvas.addEventListener(\n",
       "        'mouseenter',\n",
       "        on_mouse_event_closure('figure_enter')\n",
       "    );\n",
       "    rubberband_canvas.addEventListener(\n",
       "        'mouseleave',\n",
       "        on_mouse_event_closure('figure_leave')\n",
       "    );\n",
       "\n",
       "    canvas_div.addEventListener('wheel', function (event) {\n",
       "        if (event.deltaY < 0) {\n",
       "            event.step = 1;\n",
       "        } else {\n",
       "            event.step = -1;\n",
       "        }\n",
       "        on_mouse_event_closure('scroll')(event);\n",
       "    });\n",
       "\n",
       "    canvas_div.appendChild(canvas);\n",
       "    canvas_div.appendChild(rubberband_canvas);\n",
       "\n",
       "    this.rubberband_context = rubberband_canvas.getContext('2d');\n",
       "    this.rubberband_context.strokeStyle = '#000000';\n",
       "\n",
       "    this._resize_canvas = function (width, height, forward) {\n",
       "        if (forward) {\n",
       "            canvas_div.style.width = width + 'px';\n",
       "            canvas_div.style.height = height + 'px';\n",
       "        }\n",
       "    };\n",
       "\n",
       "    // Disable right mouse context menu.\n",
       "    this.rubberband_canvas.addEventListener('contextmenu', function (_e) {\n",
       "        event.preventDefault();\n",
       "        return false;\n",
       "    });\n",
       "\n",
       "    function set_focus() {\n",
       "        canvas.focus();\n",
       "        canvas_div.focus();\n",
       "    }\n",
       "\n",
       "    window.setTimeout(set_focus, 100);\n",
       "};\n",
       "\n",
       "mpl.figure.prototype._init_toolbar = function () {\n",
       "    var fig = this;\n",
       "\n",
       "    var toolbar = document.createElement('div');\n",
       "    toolbar.classList = 'mpl-toolbar';\n",
       "    this.root.appendChild(toolbar);\n",
       "\n",
       "    function on_click_closure(name) {\n",
       "        return function (_event) {\n",
       "            return fig.toolbar_button_onclick(name);\n",
       "        };\n",
       "    }\n",
       "\n",
       "    function on_mouseover_closure(tooltip) {\n",
       "        return function (event) {\n",
       "            if (!event.currentTarget.disabled) {\n",
       "                return fig.toolbar_button_onmouseover(tooltip);\n",
       "            }\n",
       "        };\n",
       "    }\n",
       "\n",
       "    fig.buttons = {};\n",
       "    var buttonGroup = document.createElement('div');\n",
       "    buttonGroup.classList = 'mpl-button-group';\n",
       "    for (var toolbar_ind in mpl.toolbar_items) {\n",
       "        var name = mpl.toolbar_items[toolbar_ind][0];\n",
       "        var tooltip = mpl.toolbar_items[toolbar_ind][1];\n",
       "        var image = mpl.toolbar_items[toolbar_ind][2];\n",
       "        var method_name = mpl.toolbar_items[toolbar_ind][3];\n",
       "\n",
       "        if (!name) {\n",
       "            /* Instead of a spacer, we start a new button group. */\n",
       "            if (buttonGroup.hasChildNodes()) {\n",
       "                toolbar.appendChild(buttonGroup);\n",
       "            }\n",
       "            buttonGroup = document.createElement('div');\n",
       "            buttonGroup.classList = 'mpl-button-group';\n",
       "            continue;\n",
       "        }\n",
       "\n",
       "        var button = (fig.buttons[name] = document.createElement('button'));\n",
       "        button.classList = 'mpl-widget';\n",
       "        button.setAttribute('role', 'button');\n",
       "        button.setAttribute('aria-disabled', 'false');\n",
       "        button.addEventListener('click', on_click_closure(method_name));\n",
       "        button.addEventListener('mouseover', on_mouseover_closure(tooltip));\n",
       "\n",
       "        var icon_img = document.createElement('img');\n",
       "        icon_img.src = '_images/' + image + '.png';\n",
       "        icon_img.srcset = '_images/' + image + '_large.png 2x';\n",
       "        icon_img.alt = tooltip;\n",
       "        button.appendChild(icon_img);\n",
       "\n",
       "        buttonGroup.appendChild(button);\n",
       "    }\n",
       "\n",
       "    if (buttonGroup.hasChildNodes()) {\n",
       "        toolbar.appendChild(buttonGroup);\n",
       "    }\n",
       "\n",
       "    var fmt_picker = document.createElement('select');\n",
       "    fmt_picker.classList = 'mpl-widget';\n",
       "    toolbar.appendChild(fmt_picker);\n",
       "    this.format_dropdown = fmt_picker;\n",
       "\n",
       "    for (var ind in mpl.extensions) {\n",
       "        var fmt = mpl.extensions[ind];\n",
       "        var option = document.createElement('option');\n",
       "        option.selected = fmt === mpl.default_extension;\n",
       "        option.innerHTML = fmt;\n",
       "        fmt_picker.appendChild(option);\n",
       "    }\n",
       "\n",
       "    var status_bar = document.createElement('span');\n",
       "    status_bar.classList = 'mpl-message';\n",
       "    toolbar.appendChild(status_bar);\n",
       "    this.message = status_bar;\n",
       "};\n",
       "\n",
       "mpl.figure.prototype.request_resize = function (x_pixels, y_pixels) {\n",
       "    // Request matplotlib to resize the figure. Matplotlib will then trigger a resize in the client,\n",
       "    // which will in turn request a refresh of the image.\n",
       "    this.send_message('resize', { width: x_pixels, height: y_pixels });\n",
       "};\n",
       "\n",
       "mpl.figure.prototype.send_message = function (type, properties) {\n",
       "    properties['type'] = type;\n",
       "    properties['figure_id'] = this.id;\n",
       "    this.ws.send(JSON.stringify(properties));\n",
       "};\n",
       "\n",
       "mpl.figure.prototype.send_draw_message = function () {\n",
       "    if (!this.waiting) {\n",
       "        this.waiting = true;\n",
       "        this.ws.send(JSON.stringify({ type: 'draw', figure_id: this.id }));\n",
       "    }\n",
       "};\n",
       "\n",
       "mpl.figure.prototype.handle_save = function (fig, _msg) {\n",
       "    var format_dropdown = fig.format_dropdown;\n",
       "    var format = format_dropdown.options[format_dropdown.selectedIndex].value;\n",
       "    fig.ondownload(fig, format);\n",
       "};\n",
       "\n",
       "mpl.figure.prototype.handle_resize = function (fig, msg) {\n",
       "    var size = msg['size'];\n",
       "    if (size[0] !== fig.canvas.width || size[1] !== fig.canvas.height) {\n",
       "        fig._resize_canvas(size[0], size[1], msg['forward']);\n",
       "        fig.send_message('refresh', {});\n",
       "    }\n",
       "};\n",
       "\n",
       "mpl.figure.prototype.handle_rubberband = function (fig, msg) {\n",
       "    var x0 = msg['x0'] / fig.ratio;\n",
       "    var y0 = (fig.canvas.height - msg['y0']) / fig.ratio;\n",
       "    var x1 = msg['x1'] / fig.ratio;\n",
       "    var y1 = (fig.canvas.height - msg['y1']) / fig.ratio;\n",
       "    x0 = Math.floor(x0) + 0.5;\n",
       "    y0 = Math.floor(y0) + 0.5;\n",
       "    x1 = Math.floor(x1) + 0.5;\n",
       "    y1 = Math.floor(y1) + 0.5;\n",
       "    var min_x = Math.min(x0, x1);\n",
       "    var min_y = Math.min(y0, y1);\n",
       "    var width = Math.abs(x1 - x0);\n",
       "    var height = Math.abs(y1 - y0);\n",
       "\n",
       "    fig.rubberband_context.clearRect(\n",
       "        0,\n",
       "        0,\n",
       "        fig.canvas.width / fig.ratio,\n",
       "        fig.canvas.height / fig.ratio\n",
       "    );\n",
       "\n",
       "    fig.rubberband_context.strokeRect(min_x, min_y, width, height);\n",
       "};\n",
       "\n",
       "mpl.figure.prototype.handle_figure_label = function (fig, msg) {\n",
       "    // Updates the figure title.\n",
       "    fig.header.textContent = msg['label'];\n",
       "};\n",
       "\n",
       "mpl.figure.prototype.handle_cursor = function (fig, msg) {\n",
       "    var cursor = msg['cursor'];\n",
       "    switch (cursor) {\n",
       "        case 0:\n",
       "            cursor = 'pointer';\n",
       "            break;\n",
       "        case 1:\n",
       "            cursor = 'default';\n",
       "            break;\n",
       "        case 2:\n",
       "            cursor = 'crosshair';\n",
       "            break;\n",
       "        case 3:\n",
       "            cursor = 'move';\n",
       "            break;\n",
       "    }\n",
       "    fig.rubberband_canvas.style.cursor = cursor;\n",
       "};\n",
       "\n",
       "mpl.figure.prototype.handle_message = function (fig, msg) {\n",
       "    fig.message.textContent = msg['message'];\n",
       "};\n",
       "\n",
       "mpl.figure.prototype.handle_draw = function (fig, _msg) {\n",
       "    // Request the server to send over a new figure.\n",
       "    fig.send_draw_message();\n",
       "};\n",
       "\n",
       "mpl.figure.prototype.handle_image_mode = function (fig, msg) {\n",
       "    fig.image_mode = msg['mode'];\n",
       "};\n",
       "\n",
       "mpl.figure.prototype.handle_history_buttons = function (fig, msg) {\n",
       "    for (var key in msg) {\n",
       "        if (!(key in fig.buttons)) {\n",
       "            continue;\n",
       "        }\n",
       "        fig.buttons[key].disabled = !msg[key];\n",
       "        fig.buttons[key].setAttribute('aria-disabled', !msg[key]);\n",
       "    }\n",
       "};\n",
       "\n",
       "mpl.figure.prototype.handle_navigate_mode = function (fig, msg) {\n",
       "    if (msg['mode'] === 'PAN') {\n",
       "        fig.buttons['Pan'].classList.add('active');\n",
       "        fig.buttons['Zoom'].classList.remove('active');\n",
       "    } else if (msg['mode'] === 'ZOOM') {\n",
       "        fig.buttons['Pan'].classList.remove('active');\n",
       "        fig.buttons['Zoom'].classList.add('active');\n",
       "    } else {\n",
       "        fig.buttons['Pan'].classList.remove('active');\n",
       "        fig.buttons['Zoom'].classList.remove('active');\n",
       "    }\n",
       "};\n",
       "\n",
       "mpl.figure.prototype.updated_canvas_event = function () {\n",
       "    // Called whenever the canvas gets updated.\n",
       "    this.send_message('ack', {});\n",
       "};\n",
       "\n",
       "// A function to construct a web socket function for onmessage handling.\n",
       "// Called in the figure constructor.\n",
       "mpl.figure.prototype._make_on_message_function = function (fig) {\n",
       "    return function socket_on_message(evt) {\n",
       "        if (evt.data instanceof Blob) {\n",
       "            /* FIXME: We get \"Resource interpreted as Image but\n",
       "             * transferred with MIME type text/plain:\" errors on\n",
       "             * Chrome.  But how to set the MIME type?  It doesn't seem\n",
       "             * to be part of the websocket stream */\n",
       "            evt.data.type = 'image/png';\n",
       "\n",
       "            /* Free the memory for the previous frames */\n",
       "            if (fig.imageObj.src) {\n",
       "                (window.URL || window.webkitURL).revokeObjectURL(\n",
       "                    fig.imageObj.src\n",
       "                );\n",
       "            }\n",
       "\n",
       "            fig.imageObj.src = (window.URL || window.webkitURL).createObjectURL(\n",
       "                evt.data\n",
       "            );\n",
       "            fig.updated_canvas_event();\n",
       "            fig.waiting = false;\n",
       "            return;\n",
       "        } else if (\n",
       "            typeof evt.data === 'string' &&\n",
       "            evt.data.slice(0, 21) === 'data:image/png;base64'\n",
       "        ) {\n",
       "            fig.imageObj.src = evt.data;\n",
       "            fig.updated_canvas_event();\n",
       "            fig.waiting = false;\n",
       "            return;\n",
       "        }\n",
       "\n",
       "        var msg = JSON.parse(evt.data);\n",
       "        var msg_type = msg['type'];\n",
       "\n",
       "        // Call the  \"handle_{type}\" callback, which takes\n",
       "        // the figure and JSON message as its only arguments.\n",
       "        try {\n",
       "            var callback = fig['handle_' + msg_type];\n",
       "        } catch (e) {\n",
       "            console.log(\n",
       "                \"No handler for the '\" + msg_type + \"' message type: \",\n",
       "                msg\n",
       "            );\n",
       "            return;\n",
       "        }\n",
       "\n",
       "        if (callback) {\n",
       "            try {\n",
       "                // console.log(\"Handling '\" + msg_type + \"' message: \", msg);\n",
       "                callback(fig, msg);\n",
       "            } catch (e) {\n",
       "                console.log(\n",
       "                    \"Exception inside the 'handler_\" + msg_type + \"' callback:\",\n",
       "                    e,\n",
       "                    e.stack,\n",
       "                    msg\n",
       "                );\n",
       "            }\n",
       "        }\n",
       "    };\n",
       "};\n",
       "\n",
       "// from http://stackoverflow.com/questions/1114465/getting-mouse-location-in-canvas\n",
       "mpl.findpos = function (e) {\n",
       "    //this section is from http://www.quirksmode.org/js/events_properties.html\n",
       "    var targ;\n",
       "    if (!e) {\n",
       "        e = window.event;\n",
       "    }\n",
       "    if (e.target) {\n",
       "        targ = e.target;\n",
       "    } else if (e.srcElement) {\n",
       "        targ = e.srcElement;\n",
       "    }\n",
       "    if (targ.nodeType === 3) {\n",
       "        // defeat Safari bug\n",
       "        targ = targ.parentNode;\n",
       "    }\n",
       "\n",
       "    // pageX,Y are the mouse positions relative to the document\n",
       "    var boundingRect = targ.getBoundingClientRect();\n",
       "    var x = e.pageX - (boundingRect.left + document.body.scrollLeft);\n",
       "    var y = e.pageY - (boundingRect.top + document.body.scrollTop);\n",
       "\n",
       "    return { x: x, y: y };\n",
       "};\n",
       "\n",
       "/*\n",
       " * return a copy of an object with only non-object keys\n",
       " * we need this to avoid circular references\n",
       " * http://stackoverflow.com/a/24161582/3208463\n",
       " */\n",
       "function simpleKeys(original) {\n",
       "    return Object.keys(original).reduce(function (obj, key) {\n",
       "        if (typeof original[key] !== 'object') {\n",
       "            obj[key] = original[key];\n",
       "        }\n",
       "        return obj;\n",
       "    }, {});\n",
       "}\n",
       "\n",
       "mpl.figure.prototype.mouse_event = function (event, name) {\n",
       "    var canvas_pos = mpl.findpos(event);\n",
       "\n",
       "    if (name === 'button_press') {\n",
       "        this.canvas.focus();\n",
       "        this.canvas_div.focus();\n",
       "    }\n",
       "\n",
       "    var x = canvas_pos.x * this.ratio;\n",
       "    var y = canvas_pos.y * this.ratio;\n",
       "\n",
       "    this.send_message(name, {\n",
       "        x: x,\n",
       "        y: y,\n",
       "        button: event.button,\n",
       "        step: event.step,\n",
       "        guiEvent: simpleKeys(event),\n",
       "    });\n",
       "\n",
       "    /* This prevents the web browser from automatically changing to\n",
       "     * the text insertion cursor when the button is pressed.  We want\n",
       "     * to control all of the cursor setting manually through the\n",
       "     * 'cursor' event from matplotlib */\n",
       "    event.preventDefault();\n",
       "    return false;\n",
       "};\n",
       "\n",
       "mpl.figure.prototype._key_event_extra = function (_event, _name) {\n",
       "    // Handle any extra behaviour associated with a key event\n",
       "};\n",
       "\n",
       "mpl.figure.prototype.key_event = function (event, name) {\n",
       "    // Prevent repeat events\n",
       "    if (name === 'key_press') {\n",
       "        if (event.which === this._key) {\n",
       "            return;\n",
       "        } else {\n",
       "            this._key = event.which;\n",
       "        }\n",
       "    }\n",
       "    if (name === 'key_release') {\n",
       "        this._key = null;\n",
       "    }\n",
       "\n",
       "    var value = '';\n",
       "    if (event.ctrlKey && event.which !== 17) {\n",
       "        value += 'ctrl+';\n",
       "    }\n",
       "    if (event.altKey && event.which !== 18) {\n",
       "        value += 'alt+';\n",
       "    }\n",
       "    if (event.shiftKey && event.which !== 16) {\n",
       "        value += 'shift+';\n",
       "    }\n",
       "\n",
       "    value += 'k';\n",
       "    value += event.which.toString();\n",
       "\n",
       "    this._key_event_extra(event, name);\n",
       "\n",
       "    this.send_message(name, { key: value, guiEvent: simpleKeys(event) });\n",
       "    return false;\n",
       "};\n",
       "\n",
       "mpl.figure.prototype.toolbar_button_onclick = function (name) {\n",
       "    if (name === 'download') {\n",
       "        this.handle_save(this, null);\n",
       "    } else {\n",
       "        this.send_message('toolbar_button', { name: name });\n",
       "    }\n",
       "};\n",
       "\n",
       "mpl.figure.prototype.toolbar_button_onmouseover = function (tooltip) {\n",
       "    this.message.textContent = tooltip;\n",
       "};\n",
       "mpl.toolbar_items = [[\"Home\", \"Reset original view\", \"fa fa-home icon-home\", \"home\"], [\"Back\", \"Back to previous view\", \"fa fa-arrow-left icon-arrow-left\", \"back\"], [\"Forward\", \"Forward to next view\", \"fa fa-arrow-right icon-arrow-right\", \"forward\"], [\"\", \"\", \"\", \"\"], [\"Pan\", \"Left button pans, Right button zooms\\nx/y fixes axis, CTRL fixes aspect\", \"fa fa-arrows icon-move\", \"pan\"], [\"Zoom\", \"Zoom to rectangle\\nx/y fixes axis, CTRL fixes aspect\", \"fa fa-square-o icon-check-empty\", \"zoom\"], [\"\", \"\", \"\", \"\"], [\"Download\", \"Download plot\", \"fa fa-floppy-o icon-save\", \"download\"]];\n",
       "\n",
       "mpl.extensions = [\"eps\", \"jpeg\", \"pdf\", \"png\", \"ps\", \"raw\", \"svg\", \"tif\"];\n",
       "\n",
       "mpl.default_extension = \"png\";/* global mpl */\n",
       "\n",
       "var comm_websocket_adapter = function (comm) {\n",
       "    // Create a \"websocket\"-like object which calls the given IPython comm\n",
       "    // object with the appropriate methods. Currently this is a non binary\n",
       "    // socket, so there is still some room for performance tuning.\n",
       "    var ws = {};\n",
       "\n",
       "    ws.close = function () {\n",
       "        comm.close();\n",
       "    };\n",
       "    ws.send = function (m) {\n",
       "        //console.log('sending', m);\n",
       "        comm.send(m);\n",
       "    };\n",
       "    // Register the callback with on_msg.\n",
       "    comm.on_msg(function (msg) {\n",
       "        //console.log('receiving', msg['content']['data'], msg);\n",
       "        // Pass the mpl event to the overridden (by mpl) onmessage function.\n",
       "        ws.onmessage(msg['content']['data']);\n",
       "    });\n",
       "    return ws;\n",
       "};\n",
       "\n",
       "mpl.mpl_figure_comm = function (comm, msg) {\n",
       "    // This is the function which gets called when the mpl process\n",
       "    // starts-up an IPython Comm through the \"matplotlib\" channel.\n",
       "\n",
       "    var id = msg.content.data.id;\n",
       "    // Get hold of the div created by the display call when the Comm\n",
       "    // socket was opened in Python.\n",
       "    var element = document.getElementById(id);\n",
       "    var ws_proxy = comm_websocket_adapter(comm);\n",
       "\n",
       "    function ondownload(figure, _format) {\n",
       "        window.open(figure.canvas.toDataURL());\n",
       "    }\n",
       "\n",
       "    var fig = new mpl.figure(id, ws_proxy, ondownload, element);\n",
       "\n",
       "    // Call onopen now - mpl needs it, as it is assuming we've passed it a real\n",
       "    // web socket which is closed, not our websocket->open comm proxy.\n",
       "    ws_proxy.onopen();\n",
       "\n",
       "    fig.parent_element = element;\n",
       "    fig.cell_info = mpl.find_output_cell(\"<div id='\" + id + \"'></div>\");\n",
       "    if (!fig.cell_info) {\n",
       "        console.error('Failed to find cell for figure', id, fig);\n",
       "        return;\n",
       "    }\n",
       "    fig.cell_info[0].output_area.element.one(\n",
       "        'cleared',\n",
       "        { fig: fig },\n",
       "        fig._remove_fig_handler\n",
       "    );\n",
       "};\n",
       "\n",
       "mpl.figure.prototype.handle_close = function (fig, msg) {\n",
       "    var width = fig.canvas.width / fig.ratio;\n",
       "    fig.cell_info[0].output_area.element.off(\n",
       "        'cleared',\n",
       "        fig._remove_fig_handler\n",
       "    );\n",
       "\n",
       "    // Update the output cell to use the data from the current canvas.\n",
       "    fig.push_to_output();\n",
       "    var dataURL = fig.canvas.toDataURL();\n",
       "    // Re-enable the keyboard manager in IPython - without this line, in FF,\n",
       "    // the notebook keyboard shortcuts fail.\n",
       "    IPython.keyboard_manager.enable();\n",
       "    fig.parent_element.innerHTML =\n",
       "        '<img src=\"' + dataURL + '\" width=\"' + width + '\">';\n",
       "    fig.close_ws(fig, msg);\n",
       "};\n",
       "\n",
       "mpl.figure.prototype.close_ws = function (fig, msg) {\n",
       "    fig.send_message('closing', msg);\n",
       "    // fig.ws.close()\n",
       "};\n",
       "\n",
       "mpl.figure.prototype.push_to_output = function (_remove_interactive) {\n",
       "    // Turn the data on the canvas into data in the output cell.\n",
       "    var width = this.canvas.width / this.ratio;\n",
       "    var dataURL = this.canvas.toDataURL();\n",
       "    this.cell_info[1]['text/html'] =\n",
       "        '<img src=\"' + dataURL + '\" width=\"' + width + '\">';\n",
       "};\n",
       "\n",
       "mpl.figure.prototype.updated_canvas_event = function () {\n",
       "    // Tell IPython that the notebook contents must change.\n",
       "    IPython.notebook.set_dirty(true);\n",
       "    this.send_message('ack', {});\n",
       "    var fig = this;\n",
       "    // Wait a second, then push the new image to the DOM so\n",
       "    // that it is saved nicely (might be nice to debounce this).\n",
       "    setTimeout(function () {\n",
       "        fig.push_to_output();\n",
       "    }, 1000);\n",
       "};\n",
       "\n",
       "mpl.figure.prototype._init_toolbar = function () {\n",
       "    var fig = this;\n",
       "\n",
       "    var toolbar = document.createElement('div');\n",
       "    toolbar.classList = 'btn-toolbar';\n",
       "    this.root.appendChild(toolbar);\n",
       "\n",
       "    function on_click_closure(name) {\n",
       "        return function (_event) {\n",
       "            return fig.toolbar_button_onclick(name);\n",
       "        };\n",
       "    }\n",
       "\n",
       "    function on_mouseover_closure(tooltip) {\n",
       "        return function (event) {\n",
       "            if (!event.currentTarget.disabled) {\n",
       "                return fig.toolbar_button_onmouseover(tooltip);\n",
       "            }\n",
       "        };\n",
       "    }\n",
       "\n",
       "    fig.buttons = {};\n",
       "    var buttonGroup = document.createElement('div');\n",
       "    buttonGroup.classList = 'btn-group';\n",
       "    var button;\n",
       "    for (var toolbar_ind in mpl.toolbar_items) {\n",
       "        var name = mpl.toolbar_items[toolbar_ind][0];\n",
       "        var tooltip = mpl.toolbar_items[toolbar_ind][1];\n",
       "        var image = mpl.toolbar_items[toolbar_ind][2];\n",
       "        var method_name = mpl.toolbar_items[toolbar_ind][3];\n",
       "\n",
       "        if (!name) {\n",
       "            /* Instead of a spacer, we start a new button group. */\n",
       "            if (buttonGroup.hasChildNodes()) {\n",
       "                toolbar.appendChild(buttonGroup);\n",
       "            }\n",
       "            buttonGroup = document.createElement('div');\n",
       "            buttonGroup.classList = 'btn-group';\n",
       "            continue;\n",
       "        }\n",
       "\n",
       "        button = fig.buttons[name] = document.createElement('button');\n",
       "        button.classList = 'btn btn-default';\n",
       "        button.href = '#';\n",
       "        button.title = name;\n",
       "        button.innerHTML = '<i class=\"fa ' + image + ' fa-lg\"></i>';\n",
       "        button.addEventListener('click', on_click_closure(method_name));\n",
       "        button.addEventListener('mouseover', on_mouseover_closure(tooltip));\n",
       "        buttonGroup.appendChild(button);\n",
       "    }\n",
       "\n",
       "    if (buttonGroup.hasChildNodes()) {\n",
       "        toolbar.appendChild(buttonGroup);\n",
       "    }\n",
       "\n",
       "    // Add the status bar.\n",
       "    var status_bar = document.createElement('span');\n",
       "    status_bar.classList = 'mpl-message pull-right';\n",
       "    toolbar.appendChild(status_bar);\n",
       "    this.message = status_bar;\n",
       "\n",
       "    // Add the close button to the window.\n",
       "    var buttongrp = document.createElement('div');\n",
       "    buttongrp.classList = 'btn-group inline pull-right';\n",
       "    button = document.createElement('button');\n",
       "    button.classList = 'btn btn-mini btn-primary';\n",
       "    button.href = '#';\n",
       "    button.title = 'Stop Interaction';\n",
       "    button.innerHTML = '<i class=\"fa fa-power-off icon-remove icon-large\"></i>';\n",
       "    button.addEventListener('click', function (_evt) {\n",
       "        fig.handle_close(fig, {});\n",
       "    });\n",
       "    button.addEventListener(\n",
       "        'mouseover',\n",
       "        on_mouseover_closure('Stop Interaction')\n",
       "    );\n",
       "    buttongrp.appendChild(button);\n",
       "    var titlebar = this.root.querySelector('.ui-dialog-titlebar');\n",
       "    titlebar.insertBefore(buttongrp, titlebar.firstChild);\n",
       "};\n",
       "\n",
       "mpl.figure.prototype._remove_fig_handler = function (event) {\n",
       "    var fig = event.data.fig;\n",
       "    fig.close_ws(fig, {});\n",
       "};\n",
       "\n",
       "mpl.figure.prototype._root_extra_style = function (el) {\n",
       "    el.style.boxSizing = 'content-box'; // override notebook setting of border-box.\n",
       "};\n",
       "\n",
       "mpl.figure.prototype._canvas_extra_style = function (el) {\n",
       "    // this is important to make the div 'focusable\n",
       "    el.setAttribute('tabindex', 0);\n",
       "    // reach out to IPython and tell the keyboard manager to turn it's self\n",
       "    // off when our div gets focus\n",
       "\n",
       "    // location in version 3\n",
       "    if (IPython.notebook.keyboard_manager) {\n",
       "        IPython.notebook.keyboard_manager.register_events(el);\n",
       "    } else {\n",
       "        // location in version 2\n",
       "        IPython.keyboard_manager.register_events(el);\n",
       "    }\n",
       "};\n",
       "\n",
       "mpl.figure.prototype._key_event_extra = function (event, _name) {\n",
       "    var manager = IPython.notebook.keyboard_manager;\n",
       "    if (!manager) {\n",
       "        manager = IPython.keyboard_manager;\n",
       "    }\n",
       "\n",
       "    // Check for shift+enter\n",
       "    if (event.shiftKey && event.which === 13) {\n",
       "        this.canvas_div.blur();\n",
       "        // select the cell after this one\n",
       "        var index = IPython.notebook.find_cell_index(this.cell_info[0]);\n",
       "        IPython.notebook.select(index + 1);\n",
       "    }\n",
       "};\n",
       "\n",
       "mpl.figure.prototype.handle_save = function (fig, _msg) {\n",
       "    fig.ondownload(fig, null);\n",
       "};\n",
       "\n",
       "mpl.find_output_cell = function (html_output) {\n",
       "    // Return the cell and output element which can be found *uniquely* in the notebook.\n",
       "    // Note - this is a bit hacky, but it is done because the \"notebook_saving.Notebook\"\n",
       "    // IPython event is triggered only after the cells have been serialised, which for\n",
       "    // our purposes (turning an active figure into a static one), is too late.\n",
       "    var cells = IPython.notebook.get_cells();\n",
       "    var ncells = cells.length;\n",
       "    for (var i = 0; i < ncells; i++) {\n",
       "        var cell = cells[i];\n",
       "        if (cell.cell_type === 'code') {\n",
       "            for (var j = 0; j < cell.output_area.outputs.length; j++) {\n",
       "                var data = cell.output_area.outputs[j];\n",
       "                if (data.data) {\n",
       "                    // IPython >= 3 moved mimebundle to data attribute of output\n",
       "                    data = data.data;\n",
       "                }\n",
       "                if (data['text/html'] === html_output) {\n",
       "                    return [cell, data, j];\n",
       "                }\n",
       "            }\n",
       "        }\n",
       "    }\n",
       "};\n",
       "\n",
       "// Register the function which deals with the matplotlib target/channel.\n",
       "// The kernel may be null if the page has been refreshed.\n",
       "if (IPython.notebook.kernel !== null) {\n",
       "    IPython.notebook.kernel.comm_manager.register_target(\n",
       "        'matplotlib',\n",
       "        mpl.mpl_figure_comm\n",
       "    );\n",
       "}\n"
      ],
      "text/plain": [
       "<IPython.core.display.Javascript object>"
      ]
     },
     "metadata": {},
     "output_type": "display_data"
    },
    {
     "data": {
      "text/html": [
       "<img src=\"data:image/png;base64,iVBORw0KGgoAAAANSUhEUgAAAyAAAAJYCAYAAACadoJwAAAgAElEQVR4XuydB5hX5Zm3f9OZwgy9d0TFQhWDlGgSBY2CLLrGQqImRBONmk2MGt39VvfTaDRuPnWNZTWI3YiaSDT2CiIKgoD03obemcK07zp/HDMMM8zp5/3/z32ui8td5n2f53nv5x2TO+e856TV1NTUiAsCEIAABCAAAQhAAAIQgEAIBNIQkBAokwICEIAABCAAAQhAAAIQSBBAQNgIEIAABCAAAQhAAAIQgEBoBBCQ0FCTCAIQgAAEIAABCEAAAhBAQNgDEIAABCAAAQhAAAIQgEBoBBCQ0FCTCAIQgAAEIAABCEAAAhBAQNgDEIAABCAAAQhAAAIQgEBoBBCQ0FCTCAIQgAAEIAABCEAAAhBAQNgDEIAABCAAAQhAAAIQgEBoBBCQ0FCTCAIQgAAEIAABCEAAAhBAQNgDEIAABCAAAQhAAAIQgEBoBBCQ0FCTCAIQgAAEIAABCEAAAhBAQNgDEIAABCAAAQhAAAIQgEBoBBCQ0FCTCAIQgAAEIAABCEAAAhBAQNgDEIAABCAAAQhAAAIQgEBoBBCQ0FCTCAIQgAAEIAABCEAAAhBAQNgDEIAABCAAAQhAAAIQgEBoBBCQ0FCTCAIQgAAEIAABCEAAAhBAQNgDEIAABCAAAQhAAAIQgEBoBBCQ0FCTCAIQgAAEIAABCEAAAhBAQNgDEIAABCAAAQhAAAIQgEBoBBCQ0FCTCAIQgAAEIAABCEAAAhBAQNgDEIAABCAAAQhAAAIQgEBoBBCQ0FCTCAIQgAAEIAABCEAAAhBAQNgDEIAABCAAAQhAAAIQgEBoBBCQ0FCTCAIQgAAEIAABCEAAAhBAQNgDEIAABCAAAQhAAAIQgEBoBBCQ0FCTCAIQgAAEIAABCEAAAhBAQNgDEIAABCAAAQhAAAIQgEBoBBCQ0FCTCAIQgAAEIAABCEAAAhBAQNgDEIAABCAAAQhAAAIQgEBoBBCQ0FCTCAIQgAAEIAABCEAAAhBAQNgDEIAABCAAAQhAAAIQgEBoBBCQ0FCTCAIQgAAEIAABCEAAAhBAQNgDEIAABCAAAQhAAAIQgEBoBBCQ0FCTCAIQgAAEIAABCEAAAhBAQNgDEIAABCAAAQhAAAIQgEBoBBCQ0FCTCAIQgAAEIAABCEAAAhBAQNgDEIAABCAAAQhAAAIQgEBoBBCQ0FCTCAIQgAAEIAABCEAAAhBAQNgDEIAABCAAAQhAAAIQgEBoBBCQ0FCTCAIQgAAEIAABCEAAAhBAQNgDEIAABCAAAQhAAAIQgEBoBBCQ0FCTCAIQgAAEIAABCEAAAhBAQNgDEIAABCAAAQhAAAIQgEBoBBCQ0FCTCAIQgAAEIAABCEAAAhBAQNgDEIAABCAAAQhAAAIQgEBoBBCQ0FCTCAIQgAAEIAABCEAAAhBAQNgDEIAABCAAAQhAAAIQgEBoBBCQ0FCTCAIQgAAEIAABCEAAAhBAQNgDEIAABCAAAQhAAAIQgEBoBBCQ0FCTCAIQgAAEIAABCEAAAhBAQNgDEIAABCAAAQhAAAIQgEBoBBCQ0FCTCAIQgAAEIAABCEAAAhBAQNgDEIAABCAAAQhAAAIQgEBoBBCQ0FCTCAIQgAAEIAABCEAAAhBAQNgDEIAABCAAAQhAAAIQgEBoBBCQ0FCTCAIQgAAEIAABCEAAAhBAQNgDEIAABCAAAQhAAAIQgEBoBBCQ0FCTCAIQgAAEIAABCEAAAhBAQNgDEIAABCAAAQhAAAIQgEBoBBCQ0FCTCAIQgAAEIAABCEAAAhBAQNgDEIAABCAAAQhAAAIQgEBoBBCQ0FCTCAIQgAAEIAABCEAAAhBAQNgDEIAABCAAAQhAAAIQgEBoBBCQ0FCTCAIQgAAEIAABCEAAAhBAQNgDEIAABCAAAQhAAAIQgEBoBBCQ0FCTCAIQgAAEIAABCEAAAhBAQNgDEIAABCAAAQhAAAIQgEBoBBCQ0FCTCAIQgAAEIAABCEAAAhBAQNgDEIAABCAAAQhAAAIQgEBoBBCQ0FA3nWjbtm1688031aNHD+Xm5jY9gREQgAAEHBIoLS3V6tWrNXr0aLVp08bhbIZDAAIQgAAEvBNAQLwz9C3CM888owkTJvgWj0AQgAAEGiPw9NNP65JLLgEQBCAAAQhAIHQCCEjoyBtPOH36dI0YMUJPj2+mvm0yDKqs4VLOLr/D+BopEAJhEbhy3LFhpfKUp3jFMj16/TWaNm2ahg8f7ikWkyEAAQhAAAJuCCAgbqgFNOeLL77Q4MGDNfuKfA3qaL6A9Ch7NiAShIVA8hH4z58MTIqi13w1X7f9y5maPXu2Bg0alBQ1UyQEIAABCKQWAQTEoH4iIAY1g1Ig4JAAAuIQGMMhAAEIQCC2BBAQg1qPgBjUDEqBgEMCCIhDYAyHAAQgAIHYEkBADGo9AmJQMygFAg4JICAOgTEcAhCAAARiSwABMaj1CIhBzaAUCDgkgIA4BMZwCEAAAhCILQEExKDWJ5uA1KLjMLpBm4hSIiOAgESGnsQQgAAEIJBkBBAQgxqGgBjUDEqBgEMCCIhDYAyHAAQgAIHYEkBADGo9AmJQMygFAg4JICAOgTEcAhCAAARiSwABMaj1CIhBzaAUCNgkkCziUbscvgNis7EMSxkCu0srtHZ7idbvLNG6ndY/S7Vux8F/bthVqoqqauVkZignM13NsjLUKj9b7ZrnqG3zHHVpmauTe7bWwG4tlJWRnjJMWAgEoiaAgETdgTr5ERCDmkEpELBJAAGxCYphEAiRwJrt+/WPBZsSf+at36WaGm/J87IzNLh7Sw3r3UbDerfWiZ2LlJ6e5i0osyEQYwIIiEHNR0AMagalQMAmAQTEJiiGQSBgAsu37NU/5m/S6ws2aVHxnkCzFTbL1NBerfXDU7prZJ+2geYiOARSkQACYlBXERCDmkEpELBJAAGxCYphEAiAQHV1jV6es0GPfLhCy7bsCyBD0yGtuyE/P623zjy+A3dFmsbFCAgkCCAgBm2EZBWQWoS8jtegzUQpoRFAQEJDTSIIHELg42Vbdefri7Uw4LsddrH3apOvK0/tpX8Z2EXZmZwXscuNcfEkgIAY1HcExKBmUAoEbBJAQGyCYhgEfCJgPV71u9cX6eNl23yK6G+YDoXNdNV3euuHQ7srLY1zIv7SJVqqEEBADOokAmJQMygFAjYJICA2QTEMAh4JFO8u1R/eXKpX5qxXtcdD5R5LsTV9ZJ82uveC/mrXvJmt8QyCQJwIICAGdRsBMagZlAKBJggkm3jULofX8LK1k5HA2ws361d/mau9ZZVJVX7r/Gz94YL++s4x7ZKqboqFQNAEEJCgCTuIj4A4gMVQCERMAAGJuAGkjwWBquoa/eGtJXr4wxWeX6UbFTDrKazLh/XUTWcdy9mQqJpAXuMIICAGtQQBMagZlAIB7oCwByAQKYG9ZRW66pkvjD3r4RTO8Z0Kdf9FA9W7bYHTqYyHQMoRQEAMammyC0gtSt6GZdCmopTACHAHJDC0BIaANu0u02WTPtPiTXtTikbzZpl68scna2C3lim1LhYDAacEEBCnxAIcj4AECJfQEPCZAALiM1DCQeBrAss279Wlf/5MG3eXpSQTJCQl28qiHBJAQBwCC3I4AhIkXWJDwF8CCIi/PIkGAYvAtn3lOvd/pmvDrtKUBtI8J1NPTfyWBnRtkdLrZHEQaIwAAmLQ3kBADGoGpUCgEQLJKh61y+EtWGxtUwkcqKzWRf/7qWav2Wlqib7W1So/Wy/9fJh6tsn3NS7BIJAMBBAQg7qEgBjUDEqBAALCHoBAqASuf/FLTZm9PtScUSfr3jpPL/98mFoX5ERdCvkhECoBBCRU3EdOhoAY1AxKgQACwh6AQGgEHvt4pW5/bVFo+UxK1L9rC0352SnKykg3qSxqgUCgBBCQQPE6C46AOOPFaAhEQYBHsKKgTs5UJvDBki36yeRZsr75Edfr+lFH6xff7RPX5bPuGBJAQAxqOgJiUDMoBQLcAWEPQCBwAmu279c5D0xLui+c+w0mJzNdb/zy25wH8Rss8YwlgIAY1BoExKBmUAoEEBD2AAQCJ3DlU7P05lebA8+TDAlO6dVaz10xNBlKpUYIeCaAgHhG6F8ABMQ/lkSCQFAEeAQrKLLEjRuBWat36PyHZ8Rt2Udc793n9dMFQ7rCBAIpTwABMajFqSIgtUj5IrpBm4tSfCOAgPiGkkAxJzD+T9P1xdpdMadw6PJb5GXpnV+dqja8FYt9keIEEBCDGoyAGNQMSoFAIwQQELYGBLwTeH1+sa565gvvgVIwwtj+nXT/RQNTcGUsCQL/JICAGLQbEBCDmkEpEEBA2AMQCIRARVW1zvjvD7V6e0kg8VMhqHUX5Kh2BamwFNYAgQYJICAGbQwExKBmUAoE6hFI9jsftcvhS+hs7agJTJq+SrdNXRh1GUbnnziip/79nOOMrpHiIOCFAALihZ7PcxEQn4ESDgI+EkBAfIRJqNgSqK6u0dA739WWveWxZWBn4a3ys/Xpb7+n7Ew+TmiHF2OSjwACYlDPEBCDmkEpEOAOCHsAAr4TmLlyu37w6Ke+x03FgA9cNFBj+ndKxaWxJggIATFoEyAgBjWDUiCAgLAHIOA7gVtf/UpPfLLa97ipGHBY79Z69qd8FyQVe8uahICYtAlSTUBq2fI6XpN2GbW4JcAjWG7JMQ8CBwnU1NTolDvf06Y9ZSCxQSAtTfrg+tPUvXW+jdEMgUByEeAOiEH9QkAMagalQIA7IOwBCPhK4Iu1OzX+T5/4GjPVg/38tN668cxjU32ZrC+GBBAQg5qOgBjUDEqBAALCHoCArwTueG2h/vfjVb7GTPVgx3Zorjd++e1UXybriyEBBMSgpiMgBjWDUiDwNYFUefSqtqG8hpetHRWBEb9/T+t3lkaVPinzZqan6av/Gq2czIykrJ+iIdAYAQTEoL2BgBjUDEqBAALCHoCAbwSWbt6rUX/8yLd4cQo09RcjdGKXojgtmbXGgAACYlCTERCDmkEpEEBA2AMQ8I3A1C836prn5vgWL06B7hp/oi48uVuclsxaY0AAATGoyakqILWIeRuWQZuNUmwT4BEs26gYCIFGCfzx7aW6791lEHJBYMLQbrp93IkuZjIFAuYSQEAM6g0CYlAzKAUC3AFhD0DANwJXP/uFXptX7Fu8OAUa2K2FXrlqeJyWzFpjQAABMajJCIhBzaAUCCAg7AEI+EZg97MTtW//Pm1Ob6e11W217EArLdhfpFl7CrW/kgPWRwKdm5Whr24brfT0NN/6QSAIRE0AAYm6A3XyIyAGNYNSYk8g1R69qm0ob8GK/daOBsA9R0n7tx6Wu0Zpqs5vp9K8ztqV01Gb0ttrTVVrLStvpfn7W2junubaX5UeTc0GZf3oN99Rt9Z5BlVEKRDwRgAB8cbP19kIiK84CQYBTwQQEE/4mAyBQwnc1lKqqXZMpSYtXdX57VWS11k7sztqU1o7ra5uo6VlrTRvf6G+3NNc5dWpLyhv/HKkju1Q6JgfEyBgKgEExKDOICAGNYNSYk8AAYn9FgCAXwSqKqT/28avaIfEqUnLUFVBh4Sg7MjqqGJLUKraaHFZS83fX6T5ewtUUZ38jy797erh6t+1RSAMCQqBKAggIFFQbyQnAmJQMygl9gQQkNhvAQD4ReDAful3nfyK5ihOTXqWqgo6an9uJ23/RlBaJwRl7t4iLdyXp6oa8++gvHDFUH2rV2tHa2cwBEwmgIAY1J1UF5Ba1LyO16BNRymHEUhV8ahdKGdA2PShEyjdKf2+R+hp7SSsychWZUFn/e2c11SVZq6InNKuSN0KOQNip6eMSQ4CsRWQyy67TJMnT260S7fffrtuueWWRn9+pPnr1q1Tly5dHO8ABMQxMiZAwHcCCIjvSAkYdwIGC4jVGusg/ORLFqrG4D6d1aW1OuTmGFwhpUHAGYHYCsiMGTO0YsWKw2jdd999mjVrlmbPnq1BgwY1KSCWxKSnH/q/mowfP155ec7/lwoExNnmZTQEgiCAgARBlZixJlBdffAMSE2VkRgO5HXQM//yvpG11RY1pmsbtWmWbXSNFAcBJwRiKyANQSopKVGHDh3Uo0cPzZs374gca++AVFRUKDMz0wnzRsciIL5gJAgEPBFAQDzhYzIEGiZwdy+pZLuRdPa1H6gXT3/WyNpqi/pBz/bKy+R7KUY3ieIcEUBA6uB65plnNGHCBP3hD3/Qr3/9a1sCcuDAAZWWlqqgoOCwOyGOOiEJAXFKjPEQ8J8AAuI/UyJCQP8zRNq21EgQO3p9X3875V4ja7OKst7h9aOjOio9Lfnf5mUsZAoLnQACUgf5qFGj9P7772v9+vVq3769LQFp3ry59u7dq9zcXJ111lm6++671bt3b1eNREBcYWMSBHwlgID4ipNgEDhIYPIYadVHRtLYdOJl+ke/G42szSoqNyNdF/bqYGx9FAYBNwQQkK+pbdiwQd26dUtIxN///vcmWd50002yHr8aPHiwcnJy9Omnn+qBBx6QJSTWGZLu3bsfMUZxcbGsP3WvRYsWJe7AzL4iX4M6pv6tVt6G1eQ2Y0CIBFJdPGpR8hasEDcVqf5J4B83SjMfNpLImm/9Ru8d9WMja7OKatssS+d0bWtsfRQGATcEEJCvqd1111367W9/qxdffFHnn3++G5Z6++23Zd1FufTSS/XEE08cMcatt96q2267rcExCIgr/EyCgCcCCIgnfEyGwJEJfPGU9OovjKS07NQ7Na3LOCNrs4rqW5Svoe2KjK2PwiDghgAC8jW14447Tps2bUrclbDuaLi9rDsiVoyNGzceMQR3QCTugLjdZcwLggACEgRVYkLgawIb50iPnmYkjq9GPazP2p5qZG1WUSPbt9BRfAPE2P5QmDsCCIikzz//XCeffLKuuuoqPfjgg+5Ifj3LegWv9QiXdTjd6RWXMyD1uSAiTncK44MggIAEQZWYEPiaQEWZdFc3qarcOCRzznlWc4sGGldXbUH/0r2tWmRnGVsfhUHADQEERNIvfvGLhHjMnDkzISJern79+mnnzp2yPkbo9EJAnBJjPAT8I4CA+MeSSBBokMAT50irPzYOzszxU7Uw9yjj6rIKyklP10W92iuNN2AZ2R+Kck8g9gJi3ano1KmT2rVrp4ULFx5G0jpobn2wsKioSB07dkz8fP/+/Ylvf9R/VOuFF17QhRdeqCuvvFIPP+z8sB0C4n4jMxMCXgkgIF4JMh8CTRCY9v+kd/7TOEwfX/Celmcd/M93064+hbka0b6laWVRDwQ8E4i9gLz88ss677zzZB1Cv/HGw1/Dt3r1avXs2fOQg+Vz587V2WefrXHjxqlPnz7Kzs6W9WX1Z599Vl27dk3cSWnqNb4NdQ4B8byfCQAB1wQQENfomAgBewS2LpUeHGJvbIij3r3oE61NN/O/5H+vYyt1K2gWIg1SQSAcArEXkHPPPTdxZsN6ZMq6E1L/akhArMPq1ocKrbMj1mFz6y6JJR5jxozRLbfcojZt2rjqHgLiChuTIOCJQFzEoxYSr+H1tF2Y7JXAg0OlrYu8RvF1/j8mzNammjxfY/oRLDMtTRf16qDMdD5A6AdPYphFIPYCYlI7EBCTukEtcSGAgMSl06zTCAKfPiy9YdZH//72w3naUW3eIe9ezXN1agcz78wYsZcoIqkJICAGtQ8BMagZlBIbAghIbFrNQk0gULpLuvdYqbLUhGoSNbz4w4XaV23eXYbvd2mt9rnuPwtgDGAKgUADBBAQg7ZFrYDcPPVadTuhi6584naDqgu+FF7HGzxjMhxOAAFhV0AgZAJ/vUqa+0zISRtP98yERTpQY0w5iUJa5WTq3G7tzCqKaiDgIwEExEeYXkMhIM96Rch8CDgmgIA4RsYECHgjsGmB9PAISdH/t/4apWnyJQsNqORQpN9u30K9+figt33GbKMJICAGtQcBQUAM2o6xKQUBiU2rWahJBKb8RFowJfKKygs669lz34m8jroFFGVlalz3tkrn2x9G9YVi/CWAgPjL01O0+gJSP1iqP5LFI1ietg+THRJIdfEYmfZ8g0S++mq9xo37o2bPnq1BgwY5pMZwCPhEYMdK6X9OlqorfAroLszeDkM05XtPupsc0KzTO7ZSV169GxBdwppCAAExpROSEBDugBi0HVO+FAQEAUn5TW76Av/+K2nW45FWub33OXp16D2R1lA3ecfcbJ3Zxd2r/I1ZBIVAwAYBBMQGpLCGICAISFh7jTwSAoKA8HsQMYHSnZL1XZB9myIrpLjfj/XGib+JLH/dxNZ7uMZ2a6tWOea9EtgIQBSRUgQQEIPaiYAgIAZtx5QvBQFBQFJ+kyfDApe8IT33g8gqXfOtG/TeUZdHlr9u4oGtmmtA6+ZG1EIREAiaAAISNGEH8ZsSkMZCpdrZEM6CONg0DHVMIFXFo7EzH/UBcQbE8ZZhQtAEXvmZ9OVzQWdpMP6yU+/StC7nRpK7btJ2zbJ0Vpc2HDyPvBMUEBYBBCQs0jbyICAHISEgNjYLQ1wTQEA4hO568zAxGAJlu6VHT5Osg+khX1+NekSftf12yFkPTZeVnqZzu7VV86zMSOsgOQTCJICAhEm7iVwICAJi0HZM2VIQEAQkZTd3Mi9syyLpsdOlA/tCXcWcMc9pbuGAUHPWTWad+/hux1bqxluvIusBiaMhgIBEw73BrG4FpH6wVHkkizshBm3OFColVQTE7iNX9VvHI1gptJlTbSnWeZDnL5ZqqkJb2czxf9fC3N6h5auf6Ftti3Rci/zI8pMYAlERQECiIt9AXgTkUCgIiEGbM4VKQUC4A5JC2zn1ljLrz5L1et6Qvk3+8QXvaXlWx0g4WuJhCQgXBOJIAAExqOsICAJi0HZM2VIQEAQkZTd3qiwsRAl59+IZWpvWInRyfQrzNLxdkdL42nno7EloBgEExIw+JKrwS0DqLylZH8niDohBmzMFSklW8XD7qFVjLeMRrBTYzHFYwhdPSq9eG/idkNcnfKHNNbmhEj22KE9D2yIfoUInmXEEEBCDWoKAcAfEoO2YcqUgIAdbioCk3NZO3QUteEn62y+kipLA1vjXH87Xzurw3j7Ftz4CayWBk4wAAmJQwxAQBMSg7ZhypSAgCEjKbeo4LKh4nvTCJdKutYGs9i8/XKj91da7qIK9stPTNLx9C/UoCPduS7CrIjoE3BNAQNyz831mUAJSv9BkeySLR7F832qxDJgsAuL3I1f1m80dkFhu/+RedMkOacqPpZXv+76OpycsUkWN72EPCdgqJ1Pf6dBKhdnh3WkJdkVEh4B3AgiId4a+RUBAGkaJgPi2xWIdCAHhDkisfwGSffE1NZJ1OP2dW6XyPb6spiYtQ09cvMCXWA0Fse6rWG+6GtS6UJnpwd9lCWwhBIZAAAQQkACgug2JgCAgbvcO85omgIAgIE3vEkYYT2D3Bum1X0lL3/BcannzLnp27Nue4zQUoG2zLA1r10KtcrICiU9QCCQ7AQTEoA4iIAiIQdsx5UpBQBCQlNvUcV7Q0jeld/9L2uz+DsbejkM05btP+koxPzNDA1oVyHrNLq/Y9RUtwVKMAAJiUEPDEpD6Szb9TAiPYBm0SZOwFNPFI+gzH/VbxhmQJNzElNwwAeuxrEWvSh/dI22a75jS9qPG6NVv3e14XkMTCrMy1K9lc/UuzFU63/bwhSlBUpsAAmJQfxEQ7oAYtB1TphQE5NBWIiAps7VZSF0C6z6TrG+HfPWKdGCfLTbF/SfqjRN+bWtsQ4OsUx2d83LUpyhP3fObccfDNUkmxpEAAmJQ1xEQBMSg7ZgypSAgCEjKbGYW0jSB8n0H74ose0ta+aFUuqPROWuG3qT3el/adMw6IzLS0tSuWZa6FeSqR0Ez5WVmOJrPYAhA4CABBMSgnRCVgNRHYOojWTyKZdBmTYJSEI+Gm8QdkCTYvJToD4Hqaql4jrTqI2nzQmnrImnbMqmyLBF/2Wl3a1rnMY3mSpdUkJWhwqxMtc3NVsfcbLVpli1LQrggAAFvBBAQb/x8nY2AHBknAuLrdkv5YAgIApLym5wFOidgScmuNdL+rdqbVaQteV1VVVOTeHwq0/qTnqastDTlZ2XIOlDOeQ7niJkBATsEEBA7lEIag4AgICFttVikQUAQkFhsdBYJAQhAIAkJICAGNc0UAamPxLRHsrgTYtCmNbgU0wQk7LddNdYaHsEyeNNSGgQgAIGYEEBADGo0AmKvGQiIPU5xH4WAcAck7r8DrB8CEICAqQQQEIM6g4DYawYCYo9T3EchIAhI3H8HWD8EIAABUwkgIAZ1BgGx1wwExB6nuI9CQBCQuP8OsH4IQAACphJAQAzqjKkCUovIlLMgCIhBm9bAUkwRD1POfNRvEWdADNy0lAQBCEAgZgQQEIMajoDYawYCYo9TXEchIEfuPAIS198M1g0BCEDAHAIIiDm9EAJirxkIiD1OcR2FgCAgcd37rBsCEIBAshBAQAzqlOkCUh9V1I9kISIGbV4DSolaPEx95Kp+a7gDYsBmpQQIQAACMSeAgBi0ARAQZ81AQJzxSvXRCIi9DiMg9jgxCgIQgAAEgiOAgATH1nFkBMQZMgTEGa9UH42A2OswAmKPE6MgAAEIQCA4AghIcGwdR042Aam/wKgeyUJEHG+1lJwQlYAky6NXtU1HQFJy+7MoCEAAAklFAAExqF0IiLtmICDuuKXaLATEXkcREHucGAUBCEAAAsERQECCY+s4MgLiGFliAgLijluqzUJA7HUUAbHHiVEQgAAEIBAcAQQkOLaOIye7gNRfcNiPZCEijrdcSkwIWzyS7ZGr+k1GQFJi27MICEAAAklNAAExqH0IiLdmICDe+CXrbATEWecQEGe8GA0BCEAAAv4TQED8Z+o6IgLiGl1iIgLijV+yzkZAnHUOAXHGi9EQgAAEIOA/gdgKyOrVq9WzZ5RIzdsAACAASURBVM8Gif7kJz/RY4891iTtBQsW6IYbbtC0adMSY0eMGKG7775bJ5xwQpNzGxqAgLjC9s2kuAnIgS0rVbJ0hqrL9iu9Wb7yjh6m7HYN72lvZM2ejYA46w8C4owXoyEAAQhAwH8CsReQc889V+eff/4hZI866igNHTr0iLSXLVumIUOGqFWrVrrmmmsSY++//37t2rVLn332mfr06eO4W6kmILUAwjoLEhcBqdi5Udtfv0/l6786bI/ldDlerb9/nbJadnK8/5JtQljikexnPur3FQFJtp1OvRCAAARSj0DsBeSWW27R7bff7rizlrS88cYbWrRokbp27ZqYv27dOvXt21dnnXWWXnzxRccxERDHyA6ZEAcBqdixQZue/o2qS/c0Cis9t1AdfviHlJcQBMTd7wsC4o4bsyAAAQhAwD8CCMgtt8iSEOvKzc21RXbfvn1q3bq1LrzwQk2ePPmQOZdeeqleeOEFbdu2TQUFBbbi1Q5CQBzhOmxwHARk0zM3Nnjnoz4M605Ih0t+7w2o4bMREHcNQkDccWMWBCAAAQj4RyD2AmJJgiUU1mU9evXLX/5SV1999REJz5gxQ8OGDdNDDz2kn/3sZ4eMtf7uqquukjWmqce46idJVQGpv86gH8lKVRGxznwUT7rW9m9/x8sfSMkzIYiH7S3Q4EAExBs/ZkMAAhCAgHcCsRWQtWvX6sc//rHGjRun7t27a+PGjYmD57NmzdL111+ve+65p1G6L730UuLcyKuvvqoxY8YcMs76O+tcyZQpU3Teeec1GqO4uFjWn7qX9TjXhAkTdPPUa9XthC7eu2toBATEXWN2TXtGu6c/Z3ty0fCL1WLExbbHJ8tABMRbpxAQb/yYDQEIQAAC3gnEVkAaQldVVaXvfve7ibdaLV26VL17926Q8FNPPaUf/ehHevPNNzVq1KhDxrz11lsaPXq0rDGWTDR23Xrrrbrtttsa/DEC4m1jp+odkB3vPKq9s1+1Daf54LFqdfoVtscny0AExFunEBBv/JgNAQhAAALeCSAg9RhOnTpVY8eO1SOPPKIrrmj4v7xxB8T7xrMicCfEGUfugBzkFZSApNrbrhrbXQiIs987RkMAAhCAgP8EEJB6TOfNm6f+/fvrjjvu0M0339wgcc6A+LMRERBnHDkDgoA42zENj0ZA/KBIDAhAAAIQ8EIAAalH7+WXX06c3bDOg1gfJGzoauotWM8//7y2b9/OW7Ca2JkIiPNfXd6CxR0Q57vm0BkIiFeCzIcABCAAAa8EYisgO3bsSHxEsO5VWlqq4cOHy/rC+YoVKxLf96ioqEj830VFRerYseM3wy1Jsc6ALF68WF26HDwwXvsdEOsMiPWYltMrLm/BaoxLUEKSSmdCrI8Qbnrq+lh+B4RHr5z+G4U7IP4QIwoEIAABCPhNILYCMn78eJWUlCRelWsJhPUWLOubHitXrtSdd96pm266KcF69erV6tmzp6zvezzxxBPf8F+yZIlOPvnkxPdArr324KtRrS+hW3c+rC+hH3PMMY57hYA4/yCkHcipJCDWeuP6JXQExM5ub3oMd0CaZsQICEAAAhAIlkBsBeTxxx9PCIclEtbdEOt7IIMGDdJ1112XOIReezUmINbPrfMiN9xwg6ZPn54YPmLECP3+979Xv379XHUNAUFAnGycA1tWqWTpDFWX7VN6swLlHX1KSn73o5YJAuJkdzQ+FgHxhyNRIAABCEDAPYHYCoh7ZMHNREAQkOB2V/JHRkD86SEC4g9HokAAAhCAgHsCCIh7dr7PjLuA1AL1+yxIqj2C5fvGMzyg3+IRl9ftNtZWBMTwDU95EIAABGJAAAExqMkIyMFmICAGbUoDSkFA/G0CAuIvT6JBAAIQgIBzAgiIc2aBzUBAEJDANlcSB0ZA/G0eAuIvT6JBAAIQgIBzAgiIc2aBzUBADkXLnZDAtlpSBEY8gmkTAhIMV6JCAAIQgIB9AgiIfVaBj0RAEJDAN1kSJUBAgmkWAhIMV6JCAAIQgIB9AgiIfVaBj0RAEJDAN1kSJUBAgmkWAhIMV6JCAAIQgIB9AgiIfVaBj0RAjozYr0eyeCtW4FvZUwLEwxO+JicjIE0iYgAEIAABCARMAAEJGLCT8AgIAuJkv6TqWAQk2M4iIMHyJToEIAABCDRNAAFpmlFoIxAQBCS0zWZwIgQk2OYgIMHyJbrZBMqrylRStV8lVfuUs2eL2qxbIFWUShlZUlbuwT/ZBVJhZ6lVLyk7z+wFUR0EkpQAAmJQ4xAQBMSg7RhZKQhIsOgRkGD5Et0sAjsPbNfGsrXaULZWxWXrVFZd+k2BR5fn6jvP3XKEgtOk5h2k1kdJnQdLPUZI3YZKOc3NWiTVQCAJCSAgBjUNAbHXDM6C2OOUrKO8Ckjcv3TeVN8RkKYI8fNkJrCvcq/Wl67WhrI12li2LnGno7GrR1WBRj91k7PlpmdKHQdIx54tnTBeatnD2XxGQwACCQIIiEEbAQGx1wwExB6nZB2FgATbOQQkWL5Ej4bA1vLNmrt7plaVLFWNamwV0ammucZMvtHW2IYHpUndTpEG/VA64XwpM9tDLKZCIF4EEBCD+o2A2GsGAmKPU7KOQkCC7RwCEixfoodLYEPp2oR4rC9b7Thx67TmOn+SFwGpk7KwizT8WmnQjw6eI+GCAASOSAABMWiDICDOmoGIOONl+mjEI5wOISDhcCZLcARqamq0umR5Qjy2HCh2naggLU+XTLrZ9fwGJ+a3lUb+Wjr5Cik9w9/YRINAChFAQAxqJgLirBkIiDNepo9GQMLpEAISDmeyBENgd8VOvbf1NU/iUVtZdlq2Lp/0f4IptP2J0jn/LXU9OZj4RIVAkhNAQAxqIALirBkIiDNepo9GQMLpEAISDmey+E9g6b6vNG37O6qoOeBb8CueuENpNs+MOE+aJg2+VBp1h5RT4Hw6MyCQwgQQEIOai4B4a4ZbIeHL6N64e52NeHgl6Gw+AuKMF6OjJ1BRfUAfb39by/Yv9L2Yy6Y8opx9W32Pe0jANkdLFzwptesbbB6iQyCJCCAgBjULAfHWDATEG7+oZiMg4ZJHQMLlTTZvBLaWb9I7W6dqT+Uub4EamX3xmy+pefGiQGIfEjQrTzrnj1L/C4PPRQYIJAEBBMSgJiEg3pqBgHjjF9VsBCRc8ghIuLzJ5p7Agj1faMaO91WtavdBmph53rT31Wb59MDiHxZ42LXSGf8lpaWFl5NMEDCQAAJiUFMQEH+agYj4wzHoKIhH0IQbjo+ARMOdrM4IzN39mWbu/NDZJBejx8yZq05f/t3FTA9TBlwijf0fKT3dQxCmQiC5CSAgBvUPAfGnGQiIPxyDjoKABE0YAYmGMFm9EghLPqw6Ry1eqZ6fPuu1ZOfzrQ8Xjn+UV/U6J8eMFCGAgBjUSATEn2YgIP5wDDoKAhI0YQQkGsJk9ULAeuxq+o53vYRwNPe0NVt0zPuPOprj2+DBl0lj7vMtHIEgkEwEEBCDuoWA+NMMBMQfjkFHQUCCJoyAREOYrG4JrNq/VG9vfVU1gb0W9/DKTtm0X/3e+KPbkr3PO/1WacS/eY9DBAgkGQEExKCGISD+NgMR8ZenX9HcisfItOf9KiHWcTgDEuv2G7v4TWUb9Nrmv6iypjLUGgfvqtZJf/1dqDkPTZYmnf+4dMJ5EdZAagiETwABCZ95oxkREH+bgYD4y9OvaAiIXyTdxUFA3HFjVnAEyqvK9JeNf1ZJ1f7gkjQS+YT9WRr+4n+GnveQhNYreq/8SGrTJ9o6yA6BEAkgICHCbioVAtIUIWc/R0Cc8QprNAISFumG8yAg0fIn++EEPtz2phbvmxcJmqMP5Oo7z94SSe5DknYcIE18R8rIir4WKoBACAQQkBAg202BgNgl5WwcIuKMV1CjEY+gyDqLi4A448XoYAlsLFunqZuie7yye1WBznzqpmAXaTf6yF9L3/s/dkczDgJJTQABMah9CEgwzUBAguHqNCoC4pRYMOMRkGC4EtU5gaqaSk3ZOFm7KnY4n+zTjI5qrrFP3OhTNI9h0tKlie9KnQd5DMR0CJhPAAExqEcISDDNQECC4eo0KgLilFgw4xGQYLgS1TmBz3dO0xe7Zzif6OOMVmnN9a+TDBEQa13dhkk//oePKyQUBMwkgIAY1BcEJNhmICLB8m0sOuIRDffGsiIgZvUjrtXsPLBNUzY+qWpVRYqgIC1Pl0y6OdIaDkt+wVPScWPNqolqIOAzAQTEZ6BewiEgXug1PRcBaZpRECMQkCCouo+JgLhnx0z/CEzd9II2lq31L6DLSNlpWbp8UsRvwapfe6te0lUzpcxsl6tiGgTMJ4CAGNQjBCTYZiAgwfJtLDoCEg33xrIiIGb1I47VWHc//rJxkjFLv2Ly75RWU21MPYlCzn1QGjjBrJqoBgI+EkBAfITpNRQC4pWgs/lOhaRH2bPOEsR8NOJh5gZAQMzsS5yqmr79PS3YO9uYJV/20qPK2bvFmHoShbQ7Troq2vMxZgGhmlQjgIAY1FEEJNxmICDB8kZAguXrNjoC4pYc8/wgYL356ql1D6m8usyPcL7EuOitl1W4caEvsXwNculUqee3fQ1JMAiYQgABMaUTkhCQcJuBgATLGwEJlq/b6AiIW3LM84PAsn0L9d621/wI5VuM86Z/oDbLpvkWz7dAx42TLpjsWzgCQcAkAgiIQd1AQMJtBgISLG8EJFi+bqMjIG7JMc8PAq8WP6/i8nV+hPItxjlzv1TnuVN9i+dboMxc6YaVUnaebyEJBAFTCCAgpnSCOyCRdQIRCQa9UwEZmRbd15CDIWBmVATEzL7EoSrrg4MvbHjcuKWesWSVes14xri6EgX94Gmp7xgza6MqCHgggIB4gOf3VO6A+E3UXjwExB4np6MQEKfEwhmPgITDmSyHEzDhw4MN9eXUtdt07HsPm9myfhdK4x8xszaqgoAHAgiIB3h+T0VA/CZqLx4CYo+T01EIiFNi4YxHQMLhTJbDCfx901+0oWyNcWhO2Vyifv/4b+PqShTUrIV0wyopPd3M+qgKAi4JICAuwQUxDQEJgqr9mIiIfVZHGol4+MMxqCgISFBkidsUgclr/0dl1aVNDQv954N21WjIX+8IPa/thNZHCdsda3s4AyGQDAQQEIO6hIBE2wwExB/+CIg/HIOKgoAERZa4RyKwr3KPnllv5qNEJ+zP0vAXDfsael2Y4x6SBlzMBoNAShFAQAxqJwISbTMQEH/4IyD+cAwqCgISFFniHonA6pLlenPLK0ZC6nMgT9999mYja0sUNeSn0tl/MLc+KoOACwIIiAtoQU1BQIIi6ywuIuKMV+1oxMMdt7BnISBhEyefRWDWrumavesTI2F0r2quM5+60cjaEkV1GSJNfMfc+qgMAi4IICAuoAU1BQEJiqyzuAiIM14IiDteUc1CQKIiH++8b25+RatLlxsJoYMKde4TNxhZW6KogvbS9UvNrY/KIOCCQGwFZNasWXr66af13nvvadWqVcrPz9fxxx+v3/72tzr99NObRHnZZZdp8uSGv1C6bt06denSpckY9QcgII6RBTIBAXGHlTsg7riFPQsBCZs4+SwCz6x7RPuq9hgJo1Vac/3rJIPvgKSlS/+xTUrPMJIfRUHADYHYCsj555+vDz/8UOedd54GDRqkffv2adKkSVqwYIH+9Kc/6ec///kRedYKiCUh6fVejzd+/Hjl5Tn/cikC4mYL+z8HAXHHFAFxxy3sWQhI2MTJZxH439X3qlrVRsIoSMvTJZMMPgNiUfvVIqmwk5H8KAoCbgjEVkCmT5+uk046STk5Od9wKy0t1YABA7R161Zt2bJFmZmZjTKtFZCKioojjnPSFATECa3gxyIi9hjbFQ++dG6PZ9CjEJCgCRO/PoHqmmr975p7jQWTlZalH08y+C1YFrmfvid1HmwsQwqDgFMCsRWQxkD9+te/1n//939r7dq16tq1a5MCcuDAAVniUlBQcNidEKfNQECcEgt2PAJijy8CYo+TKaMQEFM6EZ86KqoP6M9r7zN6wT998i6lV1eaW+Nlr0s9hptbH5VBwCEBBKQesIsuukhTpkzRrl27EudCGrtq74A0b95ce/fuVW5urs466yzdfffd6t27t8M2HByOgLjCFtgkBMQeWgTEHidTRiEgpnQiPnWUVZVq8rr/MXrBZ761WellJcbW2PacK9Ss1wBj66MwCDglgIDUIbZo0aLEI1jnnHOOXnrppSOyvOmmm2Q9fjV48ODEY1yffvqpHnjgAVlCYh1w7969+xHnFxcXy/pT97LyT5gwQTdPvVbdTnB+iN1p8xlvjwAi0jAnxMPe/jFtFAJiWkdSv57y6nI9sfZ+oxdac+8QVVWYeUbFAjfu3waq8zEtjWZIcRBwQgAB+ZrW7t27dcoppySk4Msvv1S3bt2ccEyMffvttzVq1ChdeumleuKJJ444/9Zbb9Vtt93W4BgExDH6QCcgIAhIoBss5OAISMjASaeqmko9tuaPxpJIq8pUxT39ja3PKmz89YPU8agWRtdIcRBwQgABkRJnOEaPHq3PP/9cb7zxhk499VQnDA8Za90RsSRm48aNR4zBHRDXiEOfiIAgIKFvugATIiABwiV0owQeWX2PsXSyS5ur5L6jja3PKuziW7+llh0afyzc6OIpDgINEIi9gFiHyMeOHZv4HsjLL7+cePzKy2W9gvfvf/+7rLhOL86AOCUW7vi4i4jdR65qu8Jbr8Ldn3azISB2STHOTwJ/XnOfKmqc/+einzU0Fqtgdzvteqjxl86EUUNTOX76x28rO7fxN3M2NZ+fQ8A0ArEWkMrKSlnfA5k6daqeeeYZXXjhhZ77069fP+3cuVPWxwidXgiIU2LhjkdABjoCjoA4whXaYAQkNNQkqkPglY1Pa8uBQ889mgKoaGtXbX+8nSnlHFZHVk6GrrjP/ZMZxi6MwmJNILYCUl1drYsvvlgvvPCCHn30Uf30pz9tcCNYB81XrFihoqIidezYMTFm//79iW9/1P2GiPX3VixLYq688ko9/PDDjjcWAuIYWagTEBAEJNQNF1AyBCQgsIQ9IoGPt7+lhXu/NJJS6/VHafPTRUbWZhXVon2eLrltqLH1URgE3BCIrYD86le/0h//+MfEeY+JEycexu6MM85Q+/bttXr1avXs2fOQg+Vz587V2WefrXHjxqlPnz7Kzs7WjBkz9Oyzzya+HTJz5szEXKcXAuKUWDTj4yYiPHoVzT4LKisCEhRZ4h6JgCUfloSYeLVdebyK/9LMxNISNfUa0FZn/exEY+ujMAi4IRBbATnttNP04YcfNsrs/ffflzWmIQHZtGmTrA8WWofWrcPm1l0SSzzGjBmjW265RW3atHHTC74D4opa+JMQkCMz59Gr8Pekk4wIiBNajPWLwJbyYr1S/LRf4XyN025Rf238m7nnK4aO66XBZ/bwdc0Eg0DUBGIrIFGDbyg/d0BM7MrhNSEgCEhy7NSGq0RAkrl7yVt7ZXWlJq29T9Uy71sb7eeepA1v1BgLd+x1A9S1bytj66MwCLghgIC4oRbQHAQkILA+h0VAEBCft1So4RCQUHGTrA6BFzdM0o6KbcYxaf/pt7Thg0rj6koUlCZNvHekcvKyzKyPqiDgkgAC4hJcENMQkCCoBhcz1UWEsx/B7Z0oIyMgUdKPd+73tr6mZfsXGgeh3QenaOOnZr4iuH3PQp1/40nGMaMgCHglgIB4JejjfATER5ghhEJADoXM2Y8QNp0PKRAQHyASwhWBFfsX652tU13NDXJSmzeGa9PcsiBTuI59yr/01qDR3V3PZyIETCWAgBjUGQTEoGbYKAUBQUBsbBPjhiAgxrUkNgVV1VTp6XUPq6y6xKg1t/zrCG1dXGpUTbXFWK/ftV7DywWBVCOAgBjUUQTEoGY4KCXVRMTpo1e1qLgD4mDTRDgUAYkQPqk1Y8cHmrfnc6NIFD43XDvWmHcHpGWHPF18K9//MGqzUIxvBBAQ31B6D4SAeGcYRQQE5CB1BCSK3ec8JwLinBkz/COwq2KHXtjwuH8BfYiUN2mY9mwu9yGSvyGGjT9KA0d18zco0SBgCAEExJBGWGUgIAY1w0EpCAgC4mC7RD4UAYm8BbEv4NXi51Vcvs4YDll/GqrSPRXG1GMVkpmVrkvvGq5m+bz9yqjGUIxvBBAQ31B6D4SAeGcYZYRkFxEevYpy94SXGwEJjzWZGiawbN9CvbftNWPw1Nw7RFUVZn2f5PiRnXTaJccaw4hCIOA3AQTEb6Ie4iEgHuAZMBUBMaAJlNAkAQSkSUQMCJhAVU2lnlr3kMqroz93kV6ZqQN/6B/wip2FT0tP08X/+S0OnzvDxugkI4CAGNQwBMSgZrgoBQFxAY0poRNAQEJHTsIGCMzbPUszdr4fOZuckubaf//RkddRt4ATvt1Zp158jFE1UQwE/CaAgPhN1EM8BMQDPAOmIiAGNIESmiSAgDSJiAEhEKiuqdZfi5/R1gObQsjWeIqC3e2066GukdZQN3l2swxN+L+nKLd5tjE1UQgEgiCAgARB1WVMBMQlOMOmORWR2vJ7lD0byUo4+xEJ9siSIiCRoSdxPQLbyjfrleKnVa3ozl+02NJN2/7c1pjeDB3XS4PP7GFMPRQCgaAIICBBkXURFwFxAc3AKQiIgU2hpG8IICBsBpMIfLrjA30Z4XdBWq3roy3PFBqBpFWnfF3w2yHKyEo3oh6KgECQBBCQIOk6jI2AOARm6HAExNDGUFaCAALCRjCJQEV1haZsnKQ9lbsjKavtiuNV/GKzSHLXTZqRma7zbzpJbboURF4LBUAgDAIISBiUbeZAQGyCSpJhposIj14lyUbyuUwExGeghPNMYF3pKr2+eYrnOG4CtFs4QBtfzXAz1dc5fHTQV5wESwICCIhBTUJADGqGD6UgID5AJITvBBAQ35ES0AcCH29/Wwv3zvUhkrMQ7eecpA1v1jib5PPobse10jnX9FdaWprPkQkHAXMJICAG9QYBMagZPpSCgPgAkRC+E0BAfEdKQB8IWG/FenPLK1pbutKHaPZDtJ8xVBs+jO4r6K0752v89YOVnZtpv2hGQiAFCCAgBjURATGoGT6WYpqI8OiVj81NwlAISBI2LSYlV1Qf0Kubnte2A5tDW3G794dp48zy0PLVTZRflK3zbjxJzVtFfwYlEgAkjTUBBMSg9iMgBjXDx1IQEB9hEsozAQTEM0ICBEigpGq/pm56QbsqtgeY5Z+h27wxXJvmhv9FduuOx7h/G6i23ZqHsk6SQMA0AgiIQR1BQAxqho+lICA+wiSUZwIIiGeEBAiYQEnlPk3d/JdQJKTlKyO0dUlpwCs6NHxOfqbGXjtA7bqb8frfUBdPMgh8TQABMWgrICAGNcPHUtwKSG0JXj9Q6PaRq9r8I9Oe95EGoaImgIBE3QHy2yEQloQUPjdcO9aEdwckv0WOxlzTX60787pdO/uAMalLAAExqLcIiEHN8LEUBMRHmITyTAAB8YyQACERKK8u10fb3tTKkiWBZcz78zDt2RLOGZA2XQv0/Z/348xHYN0kcDIRQEAM6hYCYlAzfCwFAfERJqE8E0BAPCMkQMgEFu+dp+k73lNljf9vq8p6cKhK9/oftz6i40Z00sgf9FFmVvTfHAm5faSDQIMEEBCDNgYCYlAzfCwFAfERJqE8E0BAPCMkQAQEdlXs0Ltbp2rbgS2+Zq/5w0mqqgzuOyCZORk67aKjdczQjr7WTTAIJDsBBMSgDiIgBjUjgFLCFhHOfgTQxBQIiYCkQBNjuoSqmirN3Pmh5u+Z7QuB9MosHfhDP19iNRSkR782ibseha1zA8tBYAgkKwEExKDOISAGNSOAUhCQAKAS0jEBBMQxMiYYRmB96Wp9vnOathwo9lRZs5JC7bu/j6cYDU22vuthiUfP/m19j01ACKQKAQTEoE4iIAY1I4BSEJAAoBLSMQEExDEyJhhKYEPpGs3ZPVMbyta4qrBgV3vteriLq7kNTSpolaNBo7qr7/COnPXwjSqBUpUAAmJQZxEQg5oRYCleRaS2tMZez8ujVwE2LwVCIyAp0ESWcAiBreWbEiKyumSZamT/PEeLLd207c/e71K0aJ+ngaO66ZihHZSRkU53IAABGwQQEBuQwhqCgIRFOto8CEi0/OOeHQGJ+w5I3fVbB9UX7PlC60pXaU/lriYX2nr90dr8tLsvkVsfE+w9sJ2OHdpBHY9q0WQuBkAAAocSQEAM2hEIiEHNCLAUBCRAuIRukgAC0iQiBqQAgX2Ve7ShbK02lq5N/HN/1d7DVtV2xfEqfrGZrdVmZKarXY/m6nx0S3U6uoU69WnB3Q5b5BgEgYYJICAG7QwExKBmhFCKXyIy6ZJFvlTLF899wWh8EATE+BZRYAAEdlfsTIjInoqdKqnan/iTvaSTNr2ZrsqKKqVnpCsz2/qToeycDBW0zFFRuzwVtctVi3Z5sj4iyDc8AmgMIWNLAAExqPUIiEHNCKEUBCQEyKQ4jAACwqaAAAQgAIGoCSAgUXegTn4ExKBmhFAKAhICZFIgIOwBCEAAAhAwjgACYlBLEBCDmhFiKV5FhEewQmxWCqTiDkgKNJElQAACEEhyAgiIQQ1EQAxqRoilICAhwiaVEBA2AQQgAAEIRE0AAYm6A3XyIyAGNSPEUhCQEGGTCgFhD0AAAhCAQOQEEJDIW/DPAhAQg5oRYikISIiwSYWAsAcgAAEIQCByAghI5C1AQAxqQaSluBURr2dAeP1upG0PPTmPYIWOnIQQgAAEIFCPAAJi0JbgDohBzYigFAQkAugxTImAxLDpLBkCEICAYQQQEIMagoAY1IwISkFAIoAew5QISAybzpIhAAEIGEYAATGoIQiIQc2IoJSwBYRHryJosgEpERADmkAJEIAABGJOAAExaAMgvh/q3wAAIABJREFUIAY1I4JSEJAIoMcwJQISw6azZAhAAAKGEUBADGoIAmJQMyIoBQGJAHoMUyIgMWw6S4YABCBgGAEExKCGICAGNSPCUpyKiNO3YPHoVYTNNSA1AmJAEygBAhCAQMwJxFZAqqqqdM899+ixxx7TunXr1LVrV02cOFG/+c1vlJGR0eS2WLBggW644QZNmzYtMXbEiBG6++67dcIJJzQ5t7EBCEjDZNYv3Kg5by1Q6Z4y5RY208DRJ6pL346uOZs+EQHx3qFFizbq7bfna8+eUhUW5mrUqBN17LGdvAdOgQgISAo0kSVAAAIQSHICsRWQq666Sg899JAuv/xyDRs2TJ988okmTZok6+8ffPDBI7Z12bJlGjJkiFq1aqVrrrkmMfb+++/Xrl279Nlnn6lPnz6utgUCcii2Lau36ckbXtTyz1cdxvOoIT31o7v/Ve16tHHF2uRJCIj77qxZs0033fSCZs1aeViQk07qpbvu+oG6d0+9PeOEGALihBZjIQABCEAgCAKxFJD58+erf//+CXm47777vuF63XXX6YEHHtCXX36pE088sVHe559/vt544w0tWrQocefEuqy7KH379tVZZ52lF1980VWvEJB/Ytu8aqvuOe9P2rdzf6MsC1rm64aXr045CUFAXP36aPXqrbrggge08wh7pmXLfL344rWxlhAExN3+YhYEIAABCPhHIJYCcsstt+h3v/udVq5cqZ49e35Dc9WqVerVq5duvvlm3XHHHQ1S3rdvn1q3bq0LL7xQkydPPmTMpZdeqhdeeEHbtm1TQUGB4y4hIP9E9ocLHmrwzkd9qNadkOv/8nPHrJNhgl0R4QzIwW5edNGDDd75qN9r607Ic89dnQxbIJAaEZBAsBIUAhCAAAQcEIilgIwePTpxl2PTpk2HoWrfvr0GDhyYuMPR0DVjxozEI1vW41s/+9nPDhli/Z31CJc1ZujQoQ7acHAoAnKQg3Xm4/az/59tfv/++r+l5JkQBMT2FpB15mPs2HttT5g69dexPROCgNjeJgyEAAQgAIGACMRSQKzHq7KzszV79uzDsA4aNEgVFRWyHtNq6HrppZdkPYL16quvasyYMYcMsf7u3HPP1ZQpU3TeeecdsWXFxcWy/tS9rEe6JkyYoJunXqtuJ3QJqOXmh536/97Sa/e9Y7vQc355hs657gzb45NlIAJiv1P33/+mHnjgLdsTrr12lK65ZrTt8ak0EAFJpW6yFghAAALJSSCWAtK7d29Zdzqsg+f1L+vuxpYtW7R8+fIGO/rUU0/pRz/6kd58802NGjXqkDFvvfWWrLsr1hhLJI503XrrrbrtttsaHBJ3AfnLf72q9yYdfLuYneu7l4/QBf9nrJ2hSTWm8q7Bturd2uEjW+NqB02YUOhofDIMvv32v2ry5I9tl3rppSP17/8+zvb4VBqIgKRSN1kLBCAAgeQkEEsB4Q6I2ZuVOyAH+4OA2N+n3AGxzwoBsc+KkRCAAAQgEAyBWAoIZ0CC2Ux+ReUMCALidC9xBsQ+MQTEPitGQgACEIBAMARiKSDWW67uvPPOQN6C9fzzz2v79u28Bcvjfo3zW7Ds3vmoRez0Eazaean2KBZvwbL3S4eA2OPEKAhAAAIQCI5ALAXEegOW9aarxr4DMnfuXPXr1y9xGH3FihUqKipSx47//PK2dcDcOgOyePFidely8LB47XdArLsr1kF1NxdvwfonNesjhHePfzCW3wFBQNz89kjWRwj/9V/v5zsgTeBDQNztL2ZBAAIQgIB/BGIpIBY+6xW6jzzySOJL6MOHD9f06dMTX0K/8sor9fDDDycIr169OvGdEOv7Hk888cQ31JcsWaKTTz458T2Qa6+9NvH31pfQrTsf1pfQjznmGFcdQkAOxRbXL6EjIK5+fRKT+BJ60+wQkKYZMQICEIAABIIlEFsBqays1N13363HHntM69evT9zJmDhxom644QZlZmYeUUCsH86bNy8x1hIX6xoxYoR+//vfJ+6cuL0QkIbJrV9UrLlvLVDJ7lLlFeVqwKgTUvK7H07Fo5YWj2Advm8WL96ot9+er927S1VUlKszzjgxtt/9qE8HAXH7b2jmQQACEICAXwRiKyB+AfQzDgLiJ83ki4WAJF/PkrFiBCQZu0bNEIAABFKLAAJiUD8REIOaEUEpCEgE0GOYEgGJYdNZMgQgAAHDCCAgBjUEATGoGRGUgoBEAD2GKRGQGDadJUMAAhAwjAACYlBDEBCDmhFiKW7Fo7ZEt2dAauen2ut4Q2xdUqZCQJKybRQNAQhAIKUIICAGtRMBMagZIZaCgIQIm1RCQNgEEIAABCAQNQEEJOoO1MmPgBjUjBBLQUBChE0qBIQ9AAEIQAACkRNAQCJvwT8LQEAMakYIpXgVj9oSvT6CVRuHR7FCaLoBKbgDYkATKAECEIBAzAkgIAZtAATEoGaEUAoCEgJkUhxGAAFhU0AAAhCAQNQEEJCoO1AnPwJiUDNCKAUBCQEyKRAQ9gAEIAABCBhHAAExqCUIiEHNCKEUrwIyYMiiQ6p8e91WX6rmUSxfMBobhDsgxraGwiAAAQjEhgACYlCrERCDmhFCKQhICJBJwR0Q9gAEIAABCBhHAAExqCUIiEHNCKEUBCQEyKRAQNgDEIAABCBgHAEExKCWICAGNSOEUhCQECCTAgFhD0AAAhCAgHEEEBCDWoKAGNSMAEvxWzzql8pZkACblwKhOQOSAk1kCRCAAASSnAACYlADERCDmhFgKQhIgHAJ3SQBBKRJRAxIQQKlu3dpd/EGle7ZpYqSEh0oLVFldZG+nJ6lygPVyshIU2Z2RuJPVk6GClrlqEW7PBW1zVWL9nlq06Ug8TMuCEDAHwIIiD8cfYmCgPiC0fggCIjxLUrpAhGQlG4vi/uaQPm+vdq1cX1COqw/B/bvO4xNTlEXzXynuS1m6Zlpat+jUJ36tFDnY1om/pmRkW5rLoMgAIHDCSAgBu0KBMSgZgRQStDi0VjJXh/J4rW8AWyGCEMiIBHCJ3WgBEp27VTxwvnatX6NyvbuaTJXTlFHzXynRZPjGhqQk5+p3gPa6phTOqrTUe5iuErMJAikCAEExKBGIiAGNSOAUhCQAKAS0jEBBMQxMiYYTmDv1i3aMO8LbV+zUqqpsV1tTmEbzXy3re3xjQ20HtEaOKqbjhnagbsinmkSIC4EEBCDOo2AGNSMAEpBQAKASkjHBBAQx8iYYCiBXRvXaf2XX2j3xvWuKszOL9JnH3RyNbehSda5kYFndNdxIzoqM4vzIr6BJVBKEkBADGorAmJQM3wsJSrxqL8Et49i8QiWj5vBgFAIiAFNoARPBHZtWKc1sz7Vvm1bPMXJbJarWR/38BSjocnNWzXTyB/0Uc/+3u+u+F4cASFgCAEExJBGWGUgIAY1w8dSEBAfYRLKMwEExDNCAkREoLqqSqs//0TFX83zpYK0jAzN+fRoX2I1FKRHvzYJESlsnRtYDgJDIFkJICAGdQ4BMagZPpaCgPgIk1CeCSAgnhESIAIC1gHzpe+/pf07tvmafcHcvqqs8DXkIcEyczJ06kVH69ihHYNLQmQIJCEBBMSgpiEgBjXDh1LciseAIYt8yN54CB7FChSv8cEREONbRIH1CGxaslCrPv1Y1ZWVvrNZvvw47dtp/+C62wKOG95RIy88mrMhbgEyL+UIICAGtRQBMagZPpSCgPgAkRC+E0BAfEdKwIAIVB4o1/JpH2j7quUBZZA2bDxeWzdUBxa/buA2XQv0/Z/3k3VGhAsCcSeAgBi0AxAQg5rhQykIiA8QCeE7AQTEd6QEDIDAgZL9WvCPv6l0184Aov8z5LZdx2n9suDvgNRmzG+RozHX9FfrzgWBrovgEDCdAAJiUIcQEIOa4UMpCIgPEAnhOwEExHekBPSZQFjyYZW9t+w4rZgfnoBYOa2PGI69doDadS/0mRzhIJA8BBAQg3qFgBjUDA+lmCoe9ZfEWRAPTU7iqQhIEjcvBqUfKC3Rgtf/Gvidj1qUZTV9tXhW+GCzczM17t8Gqm235uEnJyMEDCCAgBjQhNoSEBCDmuGhFATEAzymBk4AAQkcMQlcEqiqqND811/R/m1bXUZwPq0q8xjNn5HufKIPM/KLsnXejSdxJsQHloRIPgIIiEE9Q0AMaoaHUhAQD/CYGjgBBCRwxCRwQaCmulqL3n5NO9evdTHb/ZS03D6a81Gm+wAeZ7bunK/x1w+WdUeECwJxIoCAGNRtBMSgZrgoJVnEo/7SeBTLRbOTeAoCksTNS+HSV0z/UJsWLwh9hRkFvTX7/ezQ89ZN2O24Vjrnmv5KS0uLtA6SQyBMAghImLSbyIWAGNQMF6UgIC6gMSV0AghI6MhJ2AQB667HwjenRsIpu7CHPns3+i+VDxt/lAaO6hYJA5JCIAoCCEgU1BvJiYAY1AwXpSAgLqAxJXQCCEjoyEl4BAJVlRWa8/LzKt+7JxJOOUVdNPOd6A+Cp2em6V9vGqI2XXg9byQbgaShE0BAQkfeeEIExKBmOCglWcWjsSU6fSRrwgReJelgu0Q+FAGJvAUUUIfA6s8+0Yb5cyJjklPUQTPfaRlZ/rqJW3XK1wW/HaKMrGgOxRsBgSJiQwABMajVCIhBzXBQCgKCgDjYLpEPRUAibwEFfE1g3/atmve3KaqpCedL5A2Bzylso5nvtjWmJ0PH9dLgM3sYUw+FQCAoAghIUGRdxEVAXEAzYAoCgoAYsA1tl4CA2EbFwAAJWG+9mjf1Je3btiXALE2Hzs4v1GcfdG56YEgjsptlaML/PUW5zaM9GB/SckkTYwIIiEHNR0AMaoaNUlJNPOovmUexbGyCJByCgCRh01Kw5A0L5mr1zOmRrywzJ1ezppl1x+GEb3fWqRcfEzkbCoBAkAQQkCDpOoyNgDgEFvFwBOTQBnAWJOINaTM9AmITFMMCI1BdVaXPn5ukyvLywHLYDZyWnqE5M4+2OzyUcWnpabr4P7+lFu3zQslHEghEQQABiYJ6IzkREIOaYaMUBAQBsbFNjBuCgBjXktgVtGX5Ei378B1j1r3gy76qPGBMOYlCjh/ZSaddcqxZRVENBHwkgID4CNNrKATEK8Fw5yMgCEi4O86fbAiIPxyJ4p7A/Nde0Z5NG90H8HnmiuXHae/OGp+jegtnvQnrsruGq1l+lrdAzIaAoQQQEIMag4AY1AwbpTgVkAFDFtmIat4QzoKY1xMvFSEgXugx1yuB0t279MWUZ7yG8XX+huLjtHW9WQJiLZCPE/raZoIZRgABMaghCIhBzbBRCgLSMCTOgtjYPBEOQUAihE9qrfpsujbOn2sUiW27jtP6ZeYJSMsOebr41qFGsaIYCPhFAAHxi6QPcRAQHyCGGAIBQUBC3G6+pUJAfENJIIcErMPns56frIqyUoczgx2+t+w4rZhvnoBYq7741m+pZYf8YAEQHQIREEBAIoDeWEoExKBmHKGUuIhHfQQ8ipUc+7OpKhGQpgjx86AIbFu5TEvefyuo8K7jltX01eJZrqcHOvGUf+mtQaO7B5qD4BCIggACEgX1RnIiIAY1AwE5jAACkhz7s6kqEZCmCPHzoAgs/fAdbV2+JKjwruNWZR2r+Z+kuZ4f5MT2PQt1/o0nBZmC2BCIhAACEgn2hpMiIAY1AwFBQJJjOzquEgFxjIwJPhGY8/JzKtm5w6do/oVJy+ujOR9m+hfQz0hp0sR7Ryonj7dh+YmVWNETiKWAlJSU6Mknn9Srr76q+fPna/v27erRo4fOOecc3XzzzWrRokWTnVm9erV69uzZ4Lif/OQneuyxx5qMUX8AAuIYWagT4vroVX3I3AkJddv5ngwB8R0pAW0QqK6s1KdP/q9qaqptjA53SGZBL816PyfcpA6yjb1ugLr2beVgBkMhYD6BWArIggUL1K9fP40cOVKjR49Wu3btNHv27IQ0WCJi/d+FhYVH7F6tgJx77rk6//zzDxl71FFHaehQ52+uQEDM/oVBQA72BwExe582VR0C0hQhfh4Egb1bN2veq1OCCO05ZnZRd332jrlfHR86rpcGn9nD8zoJAAGTCMRSQLZt26aNGzcmJKTu9ec//1nW3Yt7771Xv/rVr2wJyC233KLbb7/dl54iIL5gDCwIAoKABLa5QgyMgIQIm1TfENi0+CutmP6BkURyirpo5jvNjazNKqrXgLY662cnGlsfhUHADYFYCkhjoPbs2aOioiL9+Mc/1uOPP25bQCwJsa7c3Fw3PfhmDgLiCV/gkxEQBCTwTRZCAgQkBMikOIyAJR+WhJh45RS118x3zH3EqUX7PF1ym/OnKkxkTU0QqCWAgNTZC0uWLNGxxx6rm266SXfeeactASkoKNC+ffsSY61Hr375y1/q6quvdrXDEBBX2AKfZFc8kvVL524B8iiWW3LRzkNAouUf1+xfvjpF+7ZuNnL5Oc1ba+Z77YyszSoqKydDV9x3qrH1URgE3BBAQOpQ+9GPfqSnn35ac+bMUf/+/Y/Ic+3atYk7JePGjVP37t0Tj3RZZ0hmzZql66+/Xvfcc88R5xcXF8v6U/datGiRJkyYoJunXqtuJ3Rx00/mBEAAAWkYKgISwGYLISQCEgJkUhxG4NMnH1VVRYWRZLLzC/XZB52NrK22qJ/+8dvKzjX0TV1Gk6M4UwkkvYBUVFRoxYoVtvjm5eWpW7duDY599NFHdeWVVybOflhnQNxcVVVV+u53v6tp06Zp6dKl6t27d6Nhbr31Vt12220N/hwBcUM/uDkICAIS3O4KPzICEj5zMkrTH3/QWAyZOc00a1rDb7U0pWi+iG5KJ6jDLwJJLyBHeh1ufUinnnqqPvjg8ENwf/3rXxNvsvr+97+vl19+WZmZ7v9XhqlTp2rs2LF65JFHdMUVVzTaJ+6A+LWF/Y9jVzhqM8ft0av6xLkT4v8eDDIiAhIkXWI3RKC6qkoznnjYWDhp6emaM/MYY+uzCht//SB1PKrpTwQYvQiKg0AdAkkvIKWlpfrwww9tNbVVq1Y6+eSTDxn71ltvJYRh2LBhev3119WsWTNbsRobNG/evMTjW3fccUfimyJOLs6AOKEV3FgExBlbBMQZr6hHIyBRdyB++SsPlGvmU86/jRUmqa++7KuKA2FmdJZr3L8NVOdjWjqbxGgIGEwg6QXEC1tLXM466yydeOKJevfdd2UdKPd6WXdQzjvvvMR5EOuVvk4uBMQJreDGIiDO2CIgznhFPRoBiboD8ctfUV6mz54+8pslo6aypCpfFZWVUZfRaP4zzxyt7r26GlsfhUHAKYHYCsjMmTN1+umnJ75mbolIy5aN/y8L1uNSu3fvTpzpyMrKSjDesWOHrDsqdS/rbszw4cNlfejQOpfStauzf1kgIE63r7/jEQ9vPBERb/zCmo2AhEWaPLUErMPn1iF0k6931m9TTU2NsSVedtlliQ8lc0EgVQjEUkDWrFmjgQMHau/evbrrrrvUvn37Q/pp/f9nnHHGN39n/eJPnjxZq1at+uZfAOPHj1dJSUnii+ddunRJvAXLGrNy5crEK3ytV/k6vRAQp8T8HY+AeOOJgHjjF9ZsBCQs0uSpJVBTXa1PJj1kLJCajAy9s3qTsfVZhf30pz9V585mv6nLaIAUZxyBWAqIdRD9O9/5TqPNqH9YvSEBsT5UaAmH9e0Q626I9fjWoEGDdN111yXOlLi5EBA31Pybg4B4Y4mAeOMX1mwEJCzS5KlL4JM/P6SammojoVRlN9N7K9YZWVttUdYbOgsLC42ukeIg4IRALAXECaAwxyIgYdL+Zy7Ew1/uiIi/PP2OhoD4TZR4dgjMen6yyvcf/GivaVdFs3x9sGy1aWV9U09aWpr+4z/+Q+np6cbWSGEQcEoAAXFKLMDxCEiAcI8QGgHxlzsC4i9Pv6MhIH4TJZ4dAovefl071q6yMzT0MeV5zfXRkpWh57Wb0HrCwvrAMRcEUokAAmJQNxGQaJqBgPjLHQHxl6ff0RAQv4kSzw6BtV98pnVzPrczNPQxJflFmr54eeh57Sa0zplOnDjR7nDGQSApCCAgBrUJAYmmGQiIv9wREH95+h0NAfGbKPHsENi+ZpUWv/O6naGhj9lb0EKfLloWel67CYcMGaKzzz7b7nDGQSApCCAgBrUJAQm3GU7Fo7a6uH/53G6XEBG7pMIdh4CEy5tsBwmU79urWS88aSSOXfkt9PlicwVk3LhxGjBggJHsKAoCbgkgIG7JBTAPAQkA6hFCIiDB8kZAguXrNjoC4pYc87wSmPn046osL/Maxvf52/KKNGeJuY9gXXXVVWrXrp3v6yYgBKIkgIBESb9ebgQk3GYgIMHyRkCC5es2OgLilhzzvBJY8I+/affG9V7D+D6/OKdQC5av8D2uHwGbNWumG264gTdg+QGTGEYRQEAMagcCEk4zEI9wONdmQUTC5d1UNgSkKUL8PCgCa2bP1Pq5s4IK7zruuqx8LV5p5mt4+/XrJ+vDx1wQSDUCCIhBHUVAwmkGAhIOZwQkXM52syEgdkkxzm8Cpbt36Yspz/gd1nO8FWnNtHKtmR8i/MEPfqC+fft6XiMBIGAaAQTEoI4gIOE0AwEJhzMCEi5nu9kQELukGBcEgfmvvaI9mzYGEdp1zEVVmVq/sdj1/KAmZmZmJh6/ys7ODioFcSEQGQEEJDL0hydGQIJtBuIRLN+movMoVlOEwvk5AhIOZ7I0TGDriqVa+sHbRuH5srRGW7ZtM6omq5jjjjtOF1xwgXF1URAE/CCAgPhB0acYCIhPIBsJg4AEy7ep6AhIU4TC+TkCEg5nsjRMoLqqSp8/N0mV5eXGIPpsd7l279ljTD21hVx66aXq2bOncXVREAT8IICA+EHRpxgIiE8gEZBgQbqMjoC4BOfzNATEZ6CEc0xg5acfq/ireY7nBTXh4617VFZmjhBZ67Reu2u9fpcLAqlKAAExqLMISDDN4M5HMFzdRnUqIrV5JkwodJuSeXUIICBsh6gJlOzcoTkvPxd1GYn8NTU1enfD9sQ/TbrOPfdcDRw40KSSqAUCvhJAQHzF6S0YAuKNX2OzEZBguLqNioC4JefPPATEH45E8UZgwet/1e7iDd6C+DC7OiNT76426wB6q1atdPXVVysjI8OHFRICAmYSQEAM6gsCEkwzEJBguLqNioC4JefPPATEH45E8UagZNcOzX3lBdVUV3sL5HF2VXaO3lth1scRrYPn1gF0LgikMgEExKDuIiDBNAMBCYar26gIiFty/sxDQPzhSBTvBNZ+MVPr5kT7YcKK3Hx9sNScjxB2795dl19+uXe4RICA4QQQEIMahID42wzEw1+efkdDRPwmai8eAmKPE6OCJ2C9Ecu6C1K6e2fwyRrJUJ5XqI+WrIgsf93EaWlpmjhxojp37mxEPRQBgSAJICBB0nUYGwFxCKyJ4QiIvzz9joaA+E3UXjwExB4nRoVDYHfxRi14/ZVwkjWQpTS/SNMWL48sf93EI0eO1Pe+9z0jaqEICARNAAEJmrCD+AiIA1g2hiIgNiBFOAQBiQY+AhINd7I2TmD5x+9r89KFkSDam99Cny5eFknuukk7deqkn/zkJxw8j7wTFBAWAQQkLNI28iAgNiAdYYhb4agNOWDIIm8FMNsRAbcCUpuE1/I6wv3NYATEHTdmBUfA+ijhFy89q4rSkuCSNBJ5V34LfR6xgGRlZenKK69UmzZtQl8/CSEQFQEEJCryDeRFQLw1AwHxxi/s2QhI2MQP5kNAouFO1iMT2LN5k776x99UXVUZKqpteS00Z0m0d0DOP/98nXDCCaGum2QQiJoAAhJ1B+rkR0C8NQMB8cYv7NkISNjEEZBoiJPVLoHtq1dq8XtvWF8HtDvF87jinEItWB7dIfTTTz9dI0aM8LwOAkAg2QggIAZ1DAFx1wzEwx03U2YhIuF2gjsg4fImmzMCxQvnaeWMj51N8jB6bWa+lqyK5jW8gwcP1pgxYzxUz1QIJC8BBMSg3iEg7pqBgLjjZsosBCTcTiAg4fImm3MC6+d9oTWfz3A+0cWM5WqmVevWuZjpbYr1yNX48eOVnp7uLRCzIZCkBBAQgxqHgLhrBgLijpspsxCQcDuBgITLm2zuCIQlIYsqM7W+uNhdkS5nDRgwQGPHjkU+XPJjWmoQQEAM6iMC4q4ZCIg7bqbMQkDC7QQCEi5vsrknULxwvlbNnKaa6mr3QZqYObe0Wlu3bQ8sfv3Aw4cP1xlnnBFaPhJBwFQCCIhBnUFAnDUD8XDGy/TRXkWkdn28nvfInUZATP9NoL66BPZu3aKlH7ylsj27AwEzc3e59uzZE0jsukGtV+2ec8456t+/f+C5SACBZCCAgBjUJQTEWTMQEGe8TB+NgITTIQQkHM5k8Y9AVcUBrfjkI21dvsS/oF9H+mjLHpWXl/set25A6/seF1xwgdq1axdoHoJDIJkIICAGdQsBcdYMBMQZL9NHIyDhdAgBCYczWfwnsGX5Eq385ENVVVT4ErympkbvrN/mS6zGglhvuho9erSys7MDzUNwCCQbAQTEoI4hIPaagXjY45SsoxCRYDuHgATLl+jBEijds1tLP3hb+7Zu9pyoOiNT764O5gB6hw4ddPbZZ6tr166e6yQABFKRAAJiUFcREHvNQEDscUrWUQhIsJ1DQILlS/TgCVh3LnasXaX1X37hSUSqspvpvRX+voI3Pz9fI0eO1Mknn8xbroLfCmRIYgIIiEHNQ0DsNQMBsccpWUchIMF2DgEJli/RwyWwu3hDQkR2bVjrOHFFboE+WLrK8byGJhQWFsp6w9WgQYNkHTjnggAEjkwAATFohyAgDTfDq3DUjzpgyCKDuk4pjRFARILZGwhIMFyJGi2Bfdu2yvp2yPbVK6SaGlvFlOUX6uPFK2yNbWxQ9+7dNXDgQJ144onKyMjwFIvJEIgTAQTEoG4jIAgXX33PAAAgAElEQVSIQdsx8lIQkGBagIAEw5WoZhAo379Puzas0+6N62XdHTlQsr/RwkryizR98XJHhVtfLu/YsaP69u2r448/Xi1btnQ0n8EQgMBBAgiIQTsBAUFADNqOkZeCgATTAgQkGK5ENZNAya6dCRFJCMmmDaosK/um0L35LfTp4mVHLLx58+Zq3bq1unTpIutuR7du3ZSTk2PmYqkKAklEAAExqFkIyKHN4NErgzZnhKX4JSK1S4j7hwoRkAg3M6kjJ1BZXq4DpSWJOyN7Skq0dfdeVVRUJA6MW2c3rD/WK3OLiooSdzd4fW7kLaOAFCWAgBjUWAQEATFoOxpTCgLibysQEH95Eg0CEIAABJwTQECcMwtsBgKCgAS2uZI4MALib/MQEH95Eg0CEIAABJwTQECcMwtsBgKCgAS2uZI4MALib/MQEH95Eg0CEIAABJwTQECcMwtsRtwFxO8zH7WN4rW7gW3ZUAL7LSC1Rcf1LAgCEsq2JQkEIAABCByBAAJi0PZAQAYH0g0EJBCsoQVFQPxFjYD4y5NoEIAABCDgnAAC4pxZYDMQEAQksM2VxIEREH+bh4D4y5NoEIAABCDgnAAC4pxZYDPiKiA8ehXYlkqpwIiIP+1EQPzhSBQIQAACEHBPAAFxz873mQiIv0h59MpfnlFHQ0D86QAC4g9HokAAAhCAgHsCsRWQyy67TJMnT26Q3Lp16xJfPW3qqqqq0j333KPHHntM1pyuXbtq4sSJ+s1vfqOMjIymph/2cwTEMbIjTkh1AVm2br0++uJL7SstVUFurk4dNEBHde3sL0SDoiEg/jQDAfGHI1EgAAEIQMA9gdgLiCUh1hdQ617jx49XXl5ek1SvuuoqPfTQQ7r88ss1bNgwffLJJ5o0aZKsv3/wwQebnF9/QNwEhEevHG+RxIT1m7fqziee1pfLVhwWoH+f3vrtZRPUpX1bd8GTYFZQIlK79FR/OxYCkgSbnBIhAAEIpDiB2AtIRUWFMjMzHbd5/vz56t+/v6655v+3dy/QVVT5nsf/eRMgGEOQZ8JLfF0BwRYZYaTb7oEGhoeCitOM+GAJrbY4rXJtsNfIWiJXnJ47NOMgDkwj0CgqeBvsblB7BmZ4CrS8biMSIE0CCQESQkhOkpPHrF14MK+TnDqn6tQ+Vd9ai9VrQdWuf33+Gzs/qmrXL2TJkiXXj58zZ44sXbpUDh06JAMHDjQ1LgHEFFfQnd185yPvfJHMXvQbKb1aHvT6b+jYQZb/6mXXhhACSGR/TwggkflxNAIIIIBA5AKeDyDV1dXiU4+wdOzY7E5Ia7zz58+XN998U06dOiV9+/a9vuvp06elX79+Mm/ePFm4cKGpDhFATHF5MoA899Y/t3jnoymGuhPyzj/+J2tANRuFABJZQwggkflxNAIIIIBA5AKeDyBpaWlSVlYmqampMnbsWFm8eLH079+/TdkxY8YYdzkKCwub7du1a1cZMmSIbNmypc1xGu5AADHF5bkAot75eHLBP4WMtOo//8qV74QQQEKeAi3uSACJzI+jEUAAAQQiF/BsAHn11VdFPX519913S0pKiuzZs8d4dEoFkv3790vv3r1b1VWPVyUnJ8uBAwea7Td06FBjbPWYVrCtoKBA1K+G27Fjx2T69Okyb/MLkn1n2y/BR97+6I5g1zsfTa/CrY9grfzDH+V3m/8cctOemjhO1C+3bgSR8DpLAAnPjaMQQAABBKwTiPkAon7QP3my+cu4LRGpF8uzs7OD6n3xxRcyevRomTFjhqxatapVZXWXRN3pUC+eN93UC+lFRUWSk5MTdIzXX39dFixY0OKfE0Aim+BuDSBLPvxEPv5yW8g4D//khzJn2tSQ94+1HQkg4XWMABKeG0chgAACCFgnEPMBJDc3t9E7GK3RjBo1SrZta/0HOHVHRN2ZOHfuXKvK3AExPwm5A2LerOER3AFp7EcACW8+EUDCc+MoBBBAAAHrBGI+gKgXyLdv3x6SSEZGhgwbNqzVfdUSvJ999pmol9Nb23gHpG3yaAWOQCVuvfMRuD7eAYluAGk6w92yPC8BpO3/drEHAggggIC9AjEfQKzmGTRokJSUlBgfFmxtU6tcLVq0iFWwWkEigFg9O0VYBet7U7vvgBBArJ+/jIgAAggggIAS8GQAKS8vN779oV4+b7itX79epk2bJrNmzZJ33333+h+pR7JKS0uN1bGSkpKM31crYKmVroJ9B+TgwYOiwoyZzW2rYBFAzHQ/tH3VRwhnLfovnv4OSECKABLanGm6F3dAwnPjKAQQQAAB6wQ8GUBUOBg/frxMnjxZBgwYYKxmtXv3blm3bp1kZWXJ3r17jRfMA9sTTzwh6ovp6hsfffr0uf77s2fPluXLlxtfQh8xYoTs3LnT+BJ60wATarvcEkAIHqF2PLz9vP4l9KZq0Q4igfPH6iNZBJDw/t5xFAIIIICAdQKeDCDq2x0vvfSS7Nu3z3jZXK2kpYLHhAkTRH1gMDMzs5FwsABSU1NjfDdkxYoVkp+fL7169ZKZM2fK3Llzw/q6OgEkvInt9nc/gqnk5J2V//v1ISmrqJC09u3l/iGDXfndj7ZmBQGkLaHGf04AMefF3ggggAAC1gt4MoBYz2jNiASQ8By9GkDC03LfUQQQcz0lgJjzYm8EEEAAAesFCCDWm4Y9YqwGkGg/ctUUmAAS9pRz1YEEkdDaSQAJzYm9EEAAAQTsEyCA2GdremQCiGky4wACSHhubjuKABJaRwkgoTmxFwIIIICAfQIEEPtsTY9MADFNRgAJj8yVRxFAQmsrASQ0J/ZCAAEEELBPgABin63pkQkgpskIIOGRufIoAkhobSWAhObEXggggAAC9gkQQOyzNT1yrAQQp9/5CMDy6JXpKeaJA5wKIgFc3ZfnJYB44q8BF4kAAghoLUAA0ag9BBBzzSCAmPPyyt4EkNY7TQDxyt8ErhMBBBDQV4AAolFvCCDmmkEAMefllb0JIAQQr8x1rhMBBBCIVQECiEad0z2A8OiVRpOFUoIKOB1Amham2yNZ3AHhLw8CCCCAgNMCBBCnO9Dg/ASQ0JrBnY/QnLy6FwGEOyBenftcNwIIIBArAgQQjTpFAAmtGQSQ0Jy8uhcBhADi1bnPdSOAAAKxIkAA0ahTugUQXR65CrSI4KHRZI2BUggiLTeJR7BiYPJSIgIIIOByAQKIRg0mgLTeDAKIRpM1BkohgBBAYmCaUiICCCDgSQECiEZtJ4AQQDSajjFfCgGEABLzk5gLQAABBFwqQADRqLFOBxDdHrlq2hrugGg0WWOoFN2CSIDOqdWxeAQrhiYvpSKAAAIuFSCAaNRYAgh3QDSajq4phQDSuJUEENdMbS4EAQQQiFkBAohGrSOAEEA0mo6uKYUAQgBxzWTmQhBAAAGXCBBANGokAYQAotF0dE0pBBACiGsmMxeCAAIIuESAAKJRI6MdQHR/5yPQGt790GiSxmApugaQppTReieER7BicBJTsmUC9fW1UlNTLrW15VJW5pOCgqvi9/slPj5ekpKSjF/Jyclyww03SHp6uvH7bAggYL0AAcR607BHJIC0TEcACXtKcaCIEEC4A8JfBO8K1NSUSUVFnvh8Z8Tny5eamivXMfz+brJ+/bdBcVT4UCGkc+fO0qtXL+nTp4/07NlTEhMTvQvKlSNgkQABxCJIK4YhgBBArJhHjNFYgABCAOHvhHcEamt9UlGhwsa10OH3Xw568XV1XWXduhOmcFT4yMrKkttuu03uuOMOSUtLM3U8OyOAwDUBAohGM8HuABIrj1w1bQl3QDSapDFcSqwEkQCxXY9k8QhWDE9iSg8qUF1dLCUl+6Ss7JiI1IUolSlr154Kcd/mu8XFxUn//v1l6NChRiDhca2wKTnQgwIEEI2aTgDhDohG09F1pRBArrWUAOK6qe3pC6qsLJSSkq+kvDzHtEN8fLqsXn3G9HEtHZCRkSEjR46UwYMHS0JCgiVjMggCbhYggGjUXQIIAUSj6ei6UgggBBDXTWoPX1BFxd+N4KEetQp3i4/vKKtXnwv38BaPUy+v33///cZdEXWHhA0BBFoWIIBoNDOsDiCx+shVoCU8eqXR5HRRKbEWRAL0Vj2SxR0QF01mD16K318mRUV/Nl4oj3SLi0uWNWsuRjpMi8erl9bHjx8v3bt3t2V8BkUg1gUIIBp1kADSuBkEEI0mp4tKIYDky+TJ/ywHDhww/pWWDYFYEbh69YQUFX0udXVVFpUcJ2vXllo0VvNh1B2Qe++9V3784x8by/uyIYDA9wIEEI1mAwGEAKLRdHRtKQQQAohrJ7dLL6yuzi8XL26XK1cOW36Fn35aJeXlVgWalsvr1q2bPPzww8ZyvmwIIHBNgACi0UwggBBANJqOri2FAEIAce3kduGFVVVdlPPn/yjV1ZdsubovvxQpLPz+2yC2nEREUlJSZNKkScbSvWwIIEAA0WoORBpAYv2dj0AzePRKq2npumJiNYAEa4TZd0N4B8R1U9q1F3TlylG5cOEvor5ebte2e3eKnDx5wa7hm437wx/+UNQvNgS8LsAdEI1mAAHkWjMIIBpNSheWQgDhDogLp7XrLqm09KBcuPC/bb+uw4c7yuHD1q6E1VbR99xzj4wbN45VstqC4s9dLUAA0ai9BBACiEbT0bWlEEAIIK6d3C65sGiFD8V14sSNsnfv36MuN2TIEJkwYQIfL4y6PCfURYAAoksnRMRsAHHLI1dNW8AdEI0mpYtLcVsQCbSqrUeyeATLxZPaBZd25coRKSr6ImpXkpeXKdu3h/819EgKHT58uPz0pz+NZAiORSBmBQggGrWOAMIdEI2mo+tLIYCwDK/rJ3mMXWB5+WkpKPiDiNRFrfILF7rK1q0nona+picaO3assVQvGwJeEyCAaNRxAggBRKPp6PpSCCAEENdP8hi6wMrK83L27EdSX++PatWlpd1k8+Zvo3rOhidT3wp59NFH5bbbbnOsBk6MgBMCBBAn1IOcM1gAceujVk0ZePRKo8nogVLcGkCatq7pI1k8guWByR1jl1hXVy1nzqySmpqrUa+8oqKbbNzoXABRF5ycnCyzZ8+WjIyMqF8/J0TAKQECiFPyLZyXAHJMo25QitsFCCDcAXH7HI+V61NL7ZaWHnKkXL+/m6xf72wAUReelZUlTz75JC+lOzILOKkTAgQQJ9S5A9KiAHdANJqMHiiFAEIA8cA01/4SKyvPSX7+ehGpd6TWurqbZN26HEfO3fSkP/rRj2TUqFFa1EIRCNgtQACxW9jE+A3vgPT4bJKJI92xKwHEHX2MtavwShAJ9KWgoEDee+89OXCAABJrc9Vt9aoPDObl/V6qqy86eGmZsnatM6tgNb3o+Ph4eeaZZ6Rbt24OenBqBKIjQACJjnNIZyGA8AhWSBOFnSwVIIBYyslgCIQsUFy8V4qLd4a8vx07xseny+rVZ+wYOqwx+/btKzNmzAjrWA5CIJYECCAadYsAQgDRaDp6phQCiGdazYVqJFBdXSJ5eatF3QVxcouP7yirV0f3S+htXe9jjz0mt956a1u78ecIxLQAAUSj9hFACCAaTUfPlEIA8UyruVCNBM6d2yAVFdH/AnlTgri4ZFmzxslHwJo3JTMzU37+859LQkKCRh2jFASsFSCAWOsZ0WiBAPKPDy2TrC63RDRWLB3Mux+x1C331UoAcV9PuSK9Baqri41ld3XZfv/7Mqmvd+Yl+GAGDz74oAwePFgXIupAwHIBAojlpOEPSAAJ344jEQhXgAASrhzHIRCewMWL2+Xy5QPhHWzDUX/4Q7WUlVXaMHL4Q6oX0dW3QdgQcKsAAUSjzhJANGoGpXhGgADimVZzoRoIqHc+cnPfk9panwbVXCvhL3+Jk4KCUm3qCRSivgvSu3dv7eqiIASsECCAWKFo0RheCyA8emXRxGEYSwS8EkRYhteS6cIgYQqUlR2X8+f/GObR9hy2d287OXGiyJ7BIxh14MCBMmXKlAhG4FAE9BXwZADJzc0VtdRdsC0xMVH8fn+rXWttjKefflpWrFhhuusEENNkHICAZQIEEMsoGQiBoAJnz34iPp8+y96qQo8cSZNDh85q17WkpCSZO3euqP9lQ8BtAp4MIOXl5fLpp58262VeXp7MmzdPJkyYIJs2bQopgEyaNEmmTp3aaN+bb75Zhg8fbnquEEBMk3EAApYJEEAso2QgBFoU8Psvy9///r+008nJuVH27HF+Ra6WYFiSV7vpQkEWCXgygASze+ONN+TXv/61bNiwQR566KGQAsj8+fNFHWfFRgCxQpExEIhMwO1BhEewIpsfHB2+wKVLu6SkZE/4A9h0ZH5+F9m27aRNo0c27F133SWTJ0+ObBCORkBDAQJIg6bccsstUlxcLOfOnZPk5OSQA4gKIWpLTU2NqMUEkIj4OBgBSwQIIJYwMggCzQTOnt0gPp9+dxouXOgqW7ee0LJj6ucK9RhWXFyclvVRFALhChBAvpPbtWuXjBgxQp5//nlZunRpm56Bd0A6duwoV69eNfZXj169+OKL8txzz7V5fEs7EEDCYuMgBCwVIIBYyslgCFwXOH16mVarXwUKu3Klm2za9K22nVI/U3Tp0kXb+igMgXAECCDfqc2aNUvee+892bdvn/zgBz9o0/LMmTPy1FNPGbdG1TJ56q6JevF8//798vLLL8vbb7/d6hjqMQj1q+F27NgxmT59unjlQ4SsgtXmNGMHBwQIIA6gc0rXC9TUlElu7v/U8jp9vu6yYcNxLWtTRfFRQm1bQ2ERCMR8AFGrVZ08Gdqzm+3bt5fs7OxmXFVVVaI++tOzZ085evRo2Jy1tbXywAMPyI4dO+Tbb7+V/v37Bx3r9ddflwULFrT4524PIASPsKcYB0ZBgAASBWRO4TmB8vJTUlDwL1pet9/fTdav1/cOyLBhw2TcuHFa2lEUAuEKxHwAaWtJ3YYwo0aNkm3btjWz+uijj+TRRx+VxYsXyyuvvBKupXHc5s2bZeLEibJ8+XJ55plngo7l5TsgBJCIphgH2yxAALEZmOE9KVBcvEeKi3dpee11dTfJunU5WtamiurVq5fMnDlT2/ooDIFwBGI+gPh8Ptm+fXtI156RkSHqXxKabuPHj5etW7eKWoa3e/fuIY0VbKfDhw/L4MGDZeHChcaSvmY2r7wDQgAxMyvYN9oCBJBoi3M+LwgUFGyS8nJdf8jPlLVrT2nbBvWuqXq0mw0BNwnEfACJtBmFhYXGvy6MHj1a/vSnP0U6nGzcuNH4cql6H0R9kNDMRgAxo8W+CNgr4NYgwjK89s4bRm9ZIDd3hdTUXNGSJz4+XVav1uvjiA2h1ApY6hMB8fHxWvpRFALhCHg+gPzmN78x/mVh/fr18sgjj7RoqP4Pu7S01HinI/BFUrVcr7qj0nBTd2PUSlrqPRL1XkpWVpapnhBATHGxMwK2ChBAbOVlcI8J5OT8NxGp0/Kq4+M7yOrVjReF0a3QX/7yl9KpUyfdyqIeBMIW8HwAGTRokPHolboTkpKS0iLkE088Ie+//76cPn1a+vTpY+yjPlRYUVFhfPFc3UFRq2CpfU6dOiWLFi2SV1991XRTCCCmyTgAAdsECCC20TKwxwTq6+vk5EkVQPTc4uKSZM2aS3oW911V6p3SHj16aF0jxSFgRsDTAeTrr7+WoUOHyuzZs2XZsmVB3VoKICtXrjQCx/Hjx42PF6pnNNVYc+bMMV5CD2dzewDh3Y9wZgXHOCVAAHFKnvO6TaCuzi+nTrX9fS0nr3vdujKpq6t3soRWz61+Dgn8A6i2RVIYAiYEPB1ATDhFZVcCSFSYOQkCIQkQQEJiYicE2hSorfWJ+gihztvuI72lslrPR8SU25iRIyS7J3dAdJ5D1GZOgABizsvWvQkgtvIyOAKmBAggprjYGYGgArW1lXL69P/QWmi3TJMafW+AyE97dpbu7Vt+TFxrWIpDIIgAAUSjqUEA0agZlILAdwJuCyKsgsXUjrZAfX2NnDz522ifNuTz1dUnyE55OOT9ndhxXK/O0jWVAOKEPee0R4AAYo9rWKMSQMJi4yAEbBUggNjKy+AeEcjJ+a/aXmlN3A2yu26stvWpwh7s3UXSk5O0rpHiEDAjQAAxo2XzvgQQm4EZHoEwBAggYaBxCAJNBE6eXCr19X4tXfyJPWSP/34tawsU9bN+3SQ5ge+AaN0kijMlQAAxxWXvzgQQe30ZHYFwBAgg4ahxDAKNBfLyfi9VVee1ZKlMuln2Vf9Ay9pUUYlxcfIfb+6ubX0UhkA4AgSQcNRsOsatAYTld22aMAwbFQECSFSYOYnLBYqKvpArV45oeZUVyYPkQNUdWtamiuqUlCBT+nTVtj4KQyAcAQJIOGo2HUMAsQmWYRGIQIAAEgEehyLwnUBp6SG5cOEvWnqUpQyTg5X9tKxNFZXdoZ38uEeGtvVRGALhCBBAwlGz6RgCiE2wDItABAIEkAjwOBSB7wQqKwskP/8DLT0ut7tfjvj0/cbG0M5pMjgjTUs7ikIgXAECSLhyNhxHALEBlSERsEjALUGEZXgtmhAMY0rg2tfQ/7uI6PexjYvtfiLHfJmmrieaO4/ukSE9O7SL5ik5FwK2CxBAbCcO/QQEkNCt2BOBaAsQQKItzvncJnDmzPtSXX1Ju8sqbDdOTvg6aVdXoKD/0K+bpLAClrb9obDwBAgg4bnZchQBxBZWBkXAEgECiCWMDOJhgcLCP8nVq99oJ5DfbqKc9rXXri5VUOeUJJmY3UXL2igKgUgECCCR6Fl8rNsCCKtfWTxBGM5RAQKIo/yc3AUCZWXH5Pz5P2t3JbkpD0leZbJ2damCeP9Dy7ZQlAUCBBALEK0aggBilSTjIGC9AAHEelNG9JZAfX2NnD79ntTVVWp14SeSH5bCqgStagoU82B2F0lP4QvoWjaHoiISIIBExGftwQQQaz0ZDQErBQggVmoyllcFLlzYJqWlf9Xq8v+WNE0uVWtVklEM3//QrydUZJ0AAcQ6y4hHIoBETMgACNguEOtBhFWwbJ8inKAVAfUSunoZXaftUOJjcsWv3+pcd3dOk0Esv6vTVKEWCwUIIBZiRjoUASRSQY5HwH4BAoj9xpzB3QL5+R9KZeU5bS5yf/xj4qvVK4AkxIk80qertEvU89EwbZpHITErQADRqHUEEI2aQSkIBBEggDA1EIhM4MqVf5Wioq2RDWLh0btkmmiWP2RAp/Yysmu6hVfJUAjoJUAA0agfBBCNmkEpCBBAmAMI2CKgPkqYm6teRq+yZXwzg9bVJ8pOmWrmENv3jRORyb27SHoyL5/bjs0JHBMggDhG3/zEbgkgLL+r0aSiFMsFuANiOSkDelCgpOQruXRph+NXXht/o+yqHeN4HQ0L4O6HVu2gGJsECCA2wYYzLAEkHDWOQSC6AgSQ6HpzNncK1NfXSV7eWqmuvujoBVYn9pS9/n/raA0NT54YFydT+twk7Xn3Q5ueUIg9AgQQe1zDGpUAEhYbByEQVQECSFS5OZmLBSorC0S9kC7i3AvglUkDZF/13dooD8lIk7s6p2lTD4UgYJcAAcQu2TDGJYCEgcYhCDgkEKtBhGV4HZownLZFgQsX/o+Uln7tmE558iD5a9Udjp2/4YlvSEqUidldJDFevQXChoC7BQggGvWXAKJRMygFgTYECCBMEQQiF6irqza+C1JTUxb5YGGMUJZyrxys7BvGkdYeEi8i47MyJbNdsrUDMxoCmgoQQDRqDAFEo2ZQCgIEEOYAAlERKC8/JQUF/xKVczU9SUnK/XK0socj52540qGd02QwHx10vA8UED0BAkj0rNs8U6wHEFa/arPF7OAiAe6AuKiZXIrjAufPb5Gysr9FvY6L7X4ix3yZUT9vwxN2S02WMT07S3wcj1452ghOHlUBAkhUuVs/GQFEo2ZQCgLcAWEOIBA1gfr6Wjl3bqP4fHlRO6c6UWHKODlR2Smq52x4MvXeh3r0KiVBPYTFhoB3BAggGvWaAKJRMygFAQIIcwCBqArU1lbJ2bMfSnX1paidN7/dJDntS43a+RqeqF1CvPz7rExJS0p05PycFAEnBQggTuo3OTcBRKNmUAoCBBDmAAJRF1Avo+fnfyQ1NaVROXduyhTJq4z+F8fV9z7UY1c3pfLSeVQazUm0EyCAaNQSAohGzaAUBEIUiLV3QViGN8TGsptjAn5/mZw9G50QciL5ESmsiu7jT0nxcfLvemRI19QUx4w5MQJOCxBAnO5Ag/MTQDRqBqUgEKIAASREKHZDwISACiHnzn0kfr+9d0L+ljRNLlWbKCzCXdVjVyp8sNxuhJAcHvMCBBCNWkgA0agZlIJAiAIEkBCh2A0BkwK1tT45f36rVFScMnlk6LsfSnhMrtRE50vsNyQnyk+6Z0inZN75CL1D7OlWAQKIRp2N1QDC8rsaTSJKiboAASTq5JzQYwKXL/9VLl36f6JWyrJ62xf/mFTW2h9A+qWlyn033SBJ8dF93MtqL8ZDwCoBAohVkhaMQwCxAJEhEIiyAAEkyuCczpMCVVUXpLDwj+L3F1t6/TtlmtTZmD8S4kSGZd4gt6V3sLRuBkMg1gUIIBp1kACiUTMoBYEQBQggIUKxGwIRCtTV+eXixW1y5cqRCEe6dni9JMmO+imWjNXSIN1Tk+Xf3JQu6tErNgQQaCxAANFoRhBANGoGpSAQogABJEQodkPAIoGrV3OkuHhnxN8LqYm/UXbXjrGoqu+HSU2Il2FdOkm/tPaWj82ACLhFgACiUScJIBo1g1IQCFGAABIiFLshYKFAfX298XJ6Sck+qaw8F9bI1Ym9ZK9/ZFjHtnSQWuHqH9I7yO3pHXjXwzJVBnKrAAFEo84SQDRqBqUgEKIAASREKHZDwCYBny9fSkq+koqKXFNnqEy6RfZVDzV1TEs7d0hMkDtv7CC3dOogifFxEVQN4pMAABAHSURBVI/HAAh4QYAAolGXCSAaNYNSEDApECtBhA8Rmmwsu8eMQFVVkVy+/LURRGpry9usuzx5sPy16vY292tpB/Ul8+yO7eTmtFTp0T5F4uIIHmFBcpBnBQggGrWeAKJRMygFAZMCBBCTYOyOgI0C1dXF4vOdkYqKPPH58qSurrLZ2a6k3CuHKvuGVIWKFxkpSdItNVm6paYYoYO7HSHRsRMCLQoQQDSaGAQQjZpBKQiYFCCAmARjdwSiJKDeF6muvmAEEb//stTUlBt3SC7F3y7/WtlNauvqRT05pe5qJMTHSVJ8nKjHqjolJUpaUqJ0SkowvlyeksA3PKLUMk7jAQECiEZNJoBo1AxKQcCkAAHEJBi7I4AAAgh4VoAAolHrYy2A8AV0jSYPpTguQABxvAUUgAACCCAQIwIEEI0aRQDRqBmUgoBJAQKISTB2RwABBBDwrAABRKPWE0A0agalIGBSgABiEozdEUAAAQQ8K+CqAPL555/LJ598IgcOHJAjR46I3++X06dPS58+fVps8NGjR2Xu3LmyY8cO489HjhwpixcvljvvvDOkCVFbWytvv/22rFixQvLy8iQrK0tmzpwpr7zyiiQkJIQ0RsOdCCCmyTgAAe0EdA8iLMOr3ZShIAQQQMBzAq4KIE888YR88MEHMnDgQKmqqhIVMIIFkBMnTsg999wjGRkZ8otf/MJo/G9/+1u5fPmyfPXVVzJgwIA2J8Ozzz4ry5YtkyeffFLuu+8+2bVrl/zud78T9fvvvPNOm8c33YEAYpqMAxDQToAAol1LKAgBBBBAQDMBVwWQs2fPSmZmpqSkpMhrr70mCxcuDBpApk6dKlu2bJFjx44Zdy7Upu5i3H777TJ27Fj5+OOPW22VusMyePBgI7wsWbLk+r5z5syRpUuXyqFDh4wgZGYjgJjRYl8E9BQggOjZF6pCAAEEENBHwFUBpCFrawHk6tWr0rlzZ5k2bZq8//77jboxY8YMWb9+vVy8eFE6duwYtFPz58+XN998U06dOiV9+37/ISN1x6Vfv34yb948IwCZ2WIlgLD6lZmusq/XBAggXus414sAAgggYFbAkwFk9+7dxiNT6vGp2bNnNzJTv6ceoVL7DB8+PKjnmDFjjLschYWFzfbp2rWrDBkyxLjDYmYjgJjRYl8E9BQggOjZF6pCAAEEENBHwJMBZMOGDaIewdq0aZNMmDChUTfU702aNMl4mX3KlClBO6Uer0pOTjZeeG+6DR061HgBXj2mFWxTL4KqXw23gwcPytNPPy0zfvQr6XZjtj6zpEklt/xDrra1URgCTgvsPV/idAmtnl/d3d24caOx+MaIESO0rpXiEEAAAQTcKaBlAFE/vJ88eTIk8fbt20t2dvMf1lt7BGvNmjXy+OOPy9atW2X06NGNzqNW0lJ3N9Q+06dPD1pD//79Rd3pUC+eN93U3ZWioiLJyckJevzrr78uCxYsCOka2QkBBBCwWmDt2rXys5/9zOphGQ8BBBBAAIE2BbQMILm5uY3eq2jtKkaNGiXbtm1rtktrAUTXOyB79+41Hv9auXKl3HXXXW02z0s7qMUCVCBUPzSphQLYrgngEnwmYNOyjc/nE/XfWPUPLWrRDjYEEEAAAQSiLaBlAFH/B7l9+/aQLNQyusOGDTMVQHR/B0Q91qUe42L7XiDwfgw2jWcFLsH/lmDDf0EQQAABBBDQU0DLAGIFVSSrYH344Ydy6dKlVlfBUqtcLVq0yJZVsPghu/kM4IfJlv9W4EIAseK/l4yBAAIIIIBANAU8GUAUsHrBXL0D8s0330ivXr0M88B3QNSjCeoxrcCmXhYvLS0V9d5HUlKS8dtqBSy10lWw74CoF8oHDRpkqpf8MMkPk6YmjIgwZ5gzZucM+yOAAAIIIOC0gKsCyOHDh42VrdT25ZdfGo9xvfTSS5Kenm78ev755697Hz9+3Hh0S30P5IUXXjB+X30JXd35UF9Cv/XWW6/vq76wrr4X0vSr6moJ3+XLlxtfQleryezcudP4EvqsWbPk3XffNd1bfpjkh0mzk4Y5w5wxO2fYHwEEEEAAAacFXBVAVq1aZYSBlrbevXsbL1423FRgmTt3rhEc1DZy5Eh56623mt25CBZAampqZPHixbJixQrJz8837qTMnDnTGDMxMdF0b9WdFhVoVIDp3r276ePdfAA2LXcXl+CzHhs3/xeBa0MAAQQQiGUBVwWQWG4EtSOAAAIIIIAAAggg4AUBAogXusw1IoAAAggggAACCCCgiQABRJNGUAYCCCCAAAIIIIAAAl4QIIB4octcIwIIIIAAAggggAACmggQQDRpBGUggAACCCCAAAIIIOAFAQKIF7rMNSKAAAIIIIAAAgggoIkAAUSTRnz++efyySefiPoK+pEjR8Tv9zf77kjDUo8ePWos97tjxw7jt9USwmpJ4DvvvFOTK7K3jMDSyC2dRX1QMvBxSXurcG702tpaefvtt40loNX1ZmVlGUtAv/LKK5KQkOBcYQ6fWS213bdv3xarePrppw0vNgQQQAABBBBwVoAA4qz/9bOrH6g/+OADGThwoFRVVYkKGE0/fBjY+cSJE3LPPfdIRkaG8SV2tamPKF6+fNn4iOKAAQM0uSr7yggEEPWByPj4+EYneuihh6R9+/b2nVyDkZ999llZtmyZ8d2b++67T3bt2mV8BFP9/jvvvKNBhc6UEAggkyZNkqlTpzYq4uabb5bhw4c7UxhnRQABBBBAAIHrAgQQTSbD2bNnJTMzU1JSUuS1116ThQsXBg0g6gerLVu2yLFjx4x/+Vab+lfw22+/XcaOHSsff/yxJldlXxmBAKLuFIXz0Uf7KrN/ZHWHbPDgwUb4XLJkyfUTzpkzR5YuXSqHDh0ygqwXt0AAmT9/vrzxxhteJOCaEUAAAQQQ0F6AAKJhi1oLIFevXpXOnTvLtGnTRP3rf8NtxowZsn79erl48aJ07NhRwyuzrqRAAKmurhafz2dcb9M7IdadTa+R1A/Xb775ppw6darR40bqjlm/fv1k3rx5RoD14tYwgCgntaWmpnqRgmtGAAEEEEBAWwECiIataS2A7N6923jkRj1+M3v27EbVq99Tj+Cofdz+qEkggKSlpUlZWZnxQ6a6+6Peg+nfv7+GXbWupDFjxhh3OQoLC5sN2rVrVxkyZIhxh8yLWyCAqECqwrra1KNXL774ojz33HNeJOGaEUAAAQQQ0E6AAKJdS6TVR7A2bNhgPNu+adMmmTBhQqPq1e+pZ9/Vy+xTpkzR8MqsK+nVV181XtS/++67jcfW9uzZYzx+pALJ/v37pXfv3tadTLOR1ONVycnJxoIFTbehQ4caLuoxLS9uZ86ckaeeekomT55szIFz584ZL56rOfHyyy8bL+6zIYAAAggggICzAgQQi/3VD38nT54MaVT1onR2dnazfVu7A7JmzRp5/PHHZevWrTJ69OhGx6qVtNS/jqt9pk+fHlINTu9khVfgGr744gvDRD2KtmrVKqcvzbbzqzs86k6HevG86abujhUVFUlOTo5t54+1gdWKYQ888ICxYty3337r+jtksdYf6kUAAQQQ8J4AAcTinre2DGjTU40aNUq2bdtmKoC47Q6IFV4NAdUdkYKCAuNfvt26cQfEfGc3b94sEydOlOXLl8szzzxjfgCOQAABBBBAAAHLBAggllFeG0i9EL19+/aQRlXL6A4bNsxUAHHbOyBWeDUEVEvwfvbZZ6JeTnfrxjsg5jt7+PBhY+Uw9XK+ekmfDQEEEEAAAQScEyCAOGcf9MyRrIL14YcfyqVLl1y/ClYwvEGDBklJSYmxLLFbN/UD9KJFi1gFy0SDN27caLwXpd4HUR8kZEMAAQQQQAAB5wQIIM7ZhxVA1EHqByn1Dsg333xz/Yvfge+AqH8dV49puXkrLy83vv2hXj5vuKkliNXyxLNmzZJ3333XtQRqBSy10lWw74AcPHhQVBDz4lZcXGx8oLPhpu6yjRgxwvi4p3o/K/DtHC/6cM0IIIAAAgjoIEAA0aELIqIeEVGrWKntyy+/NB7jeumllyQ9Pd349fzzz1+v9Pjx48ajW+p7IC+88ILx++pL6OrOh/oS+q233qrJVdlThvoBe/z48cZKR+qr72pFKPVo2rp164wfLvfu3Wu8pO3mTS3BrN5nUF9CVz9c79y50/gSutvDV1s9VY/gVVRUGMtQ9+rVy3gXSH0vR30zRd01UqunsSGAAAIIIICAswIEEGf9r59drdqkfphsaVPLiaqXtRtuKrDMnTvX+MFTbSNHjpS33nrLE//yrb5/ocLZvn37jB8w1UpaKnioZYnVx+fUF+XdvtXU1BjfPFGPFOXn5xs/bM+cOdOYE177MnzDXq9cudIIHCqkq7sh6nsgamli9ZV49RI6GwIIIIAAAgg4L0AAcb4HVIAAAggggAACCCCAgGcECCCeaTUXigACCCCAAAIIIICA8wIEEOd7QAUIIIAAAggggAACCHhGgADimVZzoQgggAACCCCAAAIIOC9AAHG+B1SAAAIIIIAAAggggIBnBAggnmk1F4oAAggggAACCCCAgPMCBBDne0AFCCCAAAIIIIAAAgh4RoAA4plWc6EIIIAAAggggAACCDgvQABxvgdUgAACCCCAAAIIIICAZwQIIJ5pNReKAAIIIIAAAggggIDzAgQQ53tABQgggAACCCCAAAIIeEaAAOKZVnOhCCCAAAIIIIAAAgg4L0AAcb4HVIAAAggggAACCCCAgGcECCCeaTUXigACCCCAAAIIIICA8wIEEOd7QAUIIIAAAggggAACCHhGgADimVZzoQgggAACCCCAAAIIOC9AAHG+B1SAAAIIIIAAAggggIBnBAggnmk1F4oAAggggAACCCCAgPMCBBDne0AFCCCAAAIIIIAAAgh4RoAA4plWc6EIIIAAAggggAACCDgvQABxvgdUgAACCCCAAAIIIICAZwQIIJ5pNReKAAIIIIAAAggggIDzAgQQ53tABQgggAACCCCAAAIIeEaAAOKZVnOhCCCAAAIIIIAAAgg4L0AAcb4HVIAAAggggAACCCCAgGcECCCeaTUXigACCCCAAAIIIICA8wIEEOd7QAUIIIAAAggggAACCHhGgADimVZzoQgggAACCCCAAAIIOC9AAHG+B1SAAAIIIIAAAggggIBnBAggnmk1F4oAAggggAACCCCAgPMCBBDne0AFCCCAAAIIIIAAAgh4RoAA4plWc6EIIIAAAggggAACCDgvQABxvgdUgAACCCCAAAIIIICAZwQIIJ5pNReKAAIIIIAAAggggIDzAgQQ53tABQgggAACCCCAAAIIeEaAAOKZVnOhCCCAAAIIIIAAAgg4L0AAcb4HVIAAAggggAACCCCAgGcECCCeaTUXigACCCCAAAIIIICA8wIEEOd7QAUIIIAAAggggAACCHhGgADimVZzoQgggAACCCCAAAIIOC/w/wHgR+HXC0e4VgAAAABJRU5ErkJggg==\" width=\"640\">"
      ],
      "text/plain": [
       "<IPython.core.display.HTML object>"
      ]
     },
     "metadata": {},
     "output_type": "display_data"
    },
    {
     "data": {
      "application/vnd.jupyter.widget-view+json": {
       "model_id": "0fcd28003b9d4da59d8a420cd2b20bae",
       "version_major": 2,
       "version_minor": 0
      },
      "text/plain": [
       "Button(description='Save image', style=ButtonStyle())"
      ]
     },
     "metadata": {},
     "output_type": "display_data"
    },
    {
     "data": {
      "application/vnd.jupyter.widget-view+json": {
       "model_id": "4e0cb1591e454f3399758cebdaa3d26f",
       "version_major": 2,
       "version_minor": 0
      },
      "text/plain": [
       "Output()"
      ]
     },
     "metadata": {},
     "output_type": "display_data"
    },
    {
     "data": {
      "application/vnd.jupyter.widget-view+json": {
       "model_id": "0e4a9a8194f34f1192dedc5de53ff7dc",
       "version_major": 2,
       "version_minor": 0
      },
      "text/plain": [
       "interactive(children=(IntSlider(value=10, continuous_update=False, description='frame', max=60, min=-60, step=…"
      ]
     },
     "metadata": {},
     "output_type": "display_data"
    }
   ],
   "source": [
    "%matplotlib notebook\n",
    "import numpy as np\n",
    "import matplotlib.pyplot as plt\n",
    "from matplotlib.colors import ListedColormap\n",
    "import matplotlib\n",
    "from soft_knn import SoftKNN, softmax\n",
    "from ipywidgets import interact, interactive, fixed, interact_manual\n",
    "import ipywidgets as widgets\n",
    "import fractions\n",
    "import itertools\n",
    "from collections import Counter\n",
    "\n",
    "\n",
    "def get_cmap(n, name='tab20'):\n",
    "    '''Returns a function that maps each index in 0, 1, ..., n-1 to a distinct \n",
    "    RGB color; the keyword argument name must be a standard mpl colormap name.'''\n",
    "    return plt.cm.get_cmap(name, n)\n",
    "def create_system(n, verbose=False):\n",
    "    A=[]\n",
    "    for i in range(1,int(np.ceil(n/2.))):\n",
    "        for j in range(2*i, n):#int(np.floor(n/2.))+i\n",
    "            vector = np.zeros(n)\n",
    "            vector[i-1]+=(1./(j/2.))\n",
    "            vector[n-i+1-1]+=(1/(n-(j/2.)))\n",
    "            vector[j-i+1-1]+=(-1./(j/2.))\n",
    "            vector[n-j+i-1]+=(-1/(n-(j/2.)))\n",
    "            A.append(vector)\n",
    "            if verbose:\n",
    "                print (\"(y_{0}/{1})+(y_{2}/{3}) = (y_{4}/{1}) + (y_{5}/{3})    \".format(i,j/2.,n-i+1,n-(j/2.),j-i+1,n-j+i))\n",
    "        if verbose: \n",
    "            print(\"\\n\")\n",
    "    A.append(np.ones(n))\n",
    "    A.append(np.zeros(n))\n",
    "    A[-1][-1]=1\n",
    "    b = np.zeros(len(A))\n",
    "    b[-2]=1\n",
    "    return A, b\n",
    "def solve_system(A,b):\n",
    "    soln, _, _, _ = np.linalg.lstsq(A,b,rcond=None)\n",
    "    return soln\n",
    "def labels_2_points_n_classes(n):\n",
    "    denom = sum([j**2 for j in range(1,n)])\n",
    "    y=[(n*(n-1)-i*(i-1))/denom for i in range(1,n+1)]\n",
    "    y=[elem/sum(y) for elem in y]\n",
    "    return y\n",
    "def M_pairs_with_center(M):\n",
    "    y0=[(1/4),3/(4*(M-1)),0]\n",
    "    y=[(1/2)+(1/(M**2)),(1/2)-(1/(M**2)),0]\n",
    "    return y0,y\n",
    "def expected_num_eqns(n):\n",
    "    return (np.ceil(n/2.)-1)*(n-np.ceil(n/2.))\n",
    "    \n",
    "\n",
    "ims=[]\n",
    "fig=plt.figure()\n",
    "\n",
    "\n",
    "def animate(frame, num_points, num_classes, mode, resolution, zoom, filename, k, normalize, confidence_layer, prediction_layer, invert_shadows):\n",
    "    \n",
    "    #frame+=20\n",
    "    ax_list=fig.axes\n",
    "    [fig.delaxes(ax) for ax in ax_list]\n",
    "    ax1 = fig.add_subplot(1,2,1)\n",
    "    axs = [fig.add_subplot(num_points,2,2*(point+1)) for point in range(num_points)]\n",
    "    if mode == \"poly_and_center\":\n",
    "        frame+=20\n",
    "        num_classes = 2*(num_points-1)+num_points\n",
    "        polygon = matplotlib.patches.RegularPolygon((0,0),num_points-1, radius=5)\n",
    "        dd=polygon.get_verts()[:-1]\n",
    "        dd=np.append(dd,np.array([[0,0]]),axis=0)\n",
    "        dy=np.zeros((num_points,num_classes))\n",
    "        for i in range(num_points-1): \n",
    "            #Set the surrounding polygon classes\n",
    "            dy[i][2*i]=0.4-frame*0.0012\n",
    "            dy[i][(2*i+1)%(2*(num_points-1))]=0.2+frame*0.0004\n",
    "            dy[i][(2*i-1)%(2*(num_points-1))]=0.2+frame*0.0004\n",
    "            dy[i][(2*(num_points-1)+i)]=0.2+frame*0.0004\n",
    "            #Set the central classes\n",
    "            dy[-1][(2*(num_points-1)+i)]=0.2+frame*0.0004\n",
    "        dy[-1][-1]=0.4-frame*0.0004*(num_points-1)\n",
    "    if mode == \"pairs_with_center\":\n",
    "        num_classes = 2*(num_points-1)+1\n",
    "        polygon = matplotlib.patches.RegularPolygon((0,0),num_points-1, radius=5)\n",
    "        dd=polygon.get_verts()[:-1]\n",
    "        dd=np.append(dd,np.array([[0,0]]),axis=0)\n",
    "        dy=np.zeros((num_points,num_classes))\n",
    "        solutions = labels_2_points_n_classes(3)\n",
    "        #solutions = M_pairs_with_center(num_points)\n",
    "        for i in range(num_points-1): \n",
    "            #Set the surrounding polygon classes\n",
    "#             dy[i][2*i]=solutions[1][0]\n",
    "#             dy[i][2*i+1]=solutions[1][1]\n",
    "#             dy[i][-1] = solutions[1][2]\n",
    "            \n",
    "            dy[i][2*i]=solutions[0]\n",
    "            dy[i][2*i+1]=solutions[1]\n",
    "            dy[i][-1] = solutions[2]\n",
    "            #Set the central classes\n",
    "#             dy[-1][2*i]=solutions[0][2]\n",
    "#             dy[-1][2*i+1]=solutions[0][1]\n",
    "    \n",
    "            dy[-1][2*i]=solutions[2]\n",
    "            dy[-1][2*i+1]=solutions[1]\n",
    "        dy[-1][-1]=solutions[0]\n",
    "#         dy[-1][-1]=solutions[0][0]\n",
    "        if normalize:\n",
    "            mag=sum(dy[-1])\n",
    "            for i in range(len(dy[-1])):\n",
    "                dy[-1][i]/=mag\n",
    "    if mode ==\"every_other\":\n",
    "        num_classes = 2*num_points\n",
    "        polygon = matplotlib.patches.RegularPolygon((0,0),num_classes, radius=5)\n",
    "        dd=polygon.get_verts()[:-1:2]\n",
    "        dy=np.zeros((num_points,num_classes))\n",
    "        for i in range(num_points):\n",
    "            dy[i][2*i]=0.49-frame*0.001\n",
    "            dy[i][(2*i+1)%num_classes]=0.255+frame*0.0005\n",
    "            dy[i][(2*i-1)%num_classes]=0.255+frame*0.0005\n",
    "    if mode ==\"every_other2\":\n",
    "        num_classes = 2*num_points\n",
    "        polygon = matplotlib.patches.RegularPolygon((0,0),num_classes, radius=5)\n",
    "        dd=polygon.get_verts()[:-1:2]\n",
    "        dy=np.zeros((num_points,num_classes))\n",
    "        soln = labels_2_points_n_classes(3)\n",
    "        for i in range(num_points):\n",
    "            dy[i][2*i]=soln[0]\n",
    "            dy[i][(2*i+1)%num_classes]=soln[1]\n",
    "            dy[i][(2*i-1)%num_classes]=soln[1]\n",
    "        if normalize:\n",
    "            for j in range(len(dy)):\n",
    "                mag=sum(dy[j])\n",
    "                for i in range(len(dy[j])):\n",
    "                    dy[j][i]/=mag\n",
    "    if mode == \"poly_every_subset\":\n",
    "        num_classes = 2**num_points - 1\n",
    "        polygon = matplotlib.patches.RegularPolygon((0,0),num_points, radius=5)\n",
    "        dd=polygon.get_verts()[:-1]\n",
    "        dy=np.full((num_points,num_classes),num_points/num_classes)\n",
    "        #Incomplete\n",
    "    if mode == \"2points_n_classes\":\n",
    "        dd=np.array([[0,0],[1,0]])\n",
    "        dy=np.zeros((num_points,num_classes))\n",
    "        \n",
    "        dy[0] = labels_2_points_n_classes(num_classes)\n",
    "        #A, b = create_system(num_classes)\n",
    "        #dy[0]=solve_system(A,b)\n",
    "        \n",
    "#         if num_classes ==3:\n",
    "#             dy[0]=np.array([3/5,2/5,0])\n",
    "#         if num_classes==4:\n",
    "#             #dy[0]=np.array([5/12,4/12,3/12,0])\n",
    "#             dy[0]=np.array([6/14,5/14,3/14,0])\n",
    "#         if num_classes==5:\n",
    "#             dy[0]=np.array([60/200,49/200,47/200,44/200,0])\n",
    "#         if num_classes==6:\n",
    "#             dy[0]=np.array([56/210,52/210,42/210,40/210,20/210,0])\n",
    "\n",
    "     \n",
    "        dy[1]=dy[0][::-1]\n",
    "        #print(dy)\n",
    "    if mode == \"2points_half_n_classes\":\n",
    "        #num_classes=2*num_classes\n",
    "        dd=np.array([[0,0],[1,0]])\n",
    "        dy=np.zeros((num_points,2*num_classes))\n",
    "        \n",
    "        dy[0] = labels_2_points_n_classes(2*num_classes)\n",
    "        dy[1]=dy[0][::-1]  \n",
    "        #half_ind = int((num_classes+1)/2)\n",
    "        half_ind = num_classes\n",
    "        dy[0][half_ind:]=np.zeros_like(dy[0][half_ind:])\n",
    "        dy[1][half_ind:]=np.zeros_like(dy[1][half_ind:])\n",
    "        if normalize:\n",
    "            for j in range(len(dy)):\n",
    "                mag=sum(dy[j])\n",
    "                for i in range(len(dy[j])):\n",
    "                    dy[j][i]/=mag\n",
    "    if mode == \"3points_n_classes\":\n",
    "        \n",
    "        dd=np.array([[-1,0],[0,0],[1,0]])\n",
    "        dy=np.zeros((num_points,num_classes))\n",
    "        \n",
    "        dy[0] = labels_2_points_n_classes(num_classes)\n",
    "        #A, b = create_system(num_classes)\n",
    "        #dy[0]=solve_system(A,b)\n",
    "        \n",
    "#         if num_classes ==3:\n",
    "#             dy[0]=np.array([3/5,2/5,0])\n",
    "#         if num_classes==4:\n",
    "#             #dy[0]=np.array([5/12,4/12,3/12,0])\n",
    "#             dy[0]=np.array([6/14,5/14,3/14,0])\n",
    "#         if num_classes==5:\n",
    "#             dy[0]=np.array([60/200,49/200,47/200,44/200,0])\n",
    "#         if num_classes==6:\n",
    "#             dy[0]=np.array([56/210,52/210,42/210,40/210,20/210,0])\n",
    "\n",
    "     \n",
    "        dy[1]=dy[0][::-1] \n",
    "        dy[2]=dy[0]  \n",
    "        \n",
    "    if mode == \"3points_half_n_classes\":\n",
    "#         num_classes=2*num_classes\n",
    "\n",
    "        dd=np.array([[-1,0],[0,0],[1,0]])\n",
    "        dy=np.zeros((num_points,2*num_classes))\n",
    "        \n",
    "        dy[1] = labels_2_points_n_classes(2*num_classes)\n",
    "\n",
    "     \n",
    "        dy[0]=dy[1][::-1] \n",
    "        dy[2]=dy[0]  \n",
    "#         half_ind = int((num_classes+1)/2)\n",
    "        half_ind = num_classes\n",
    "        dy[0][half_ind:]=np.zeros_like(dy[0][half_ind:])\n",
    "        dy[1][half_ind:]=np.zeros_like(dy[1][half_ind:])\n",
    "        dy[2][half_ind:]=np.zeros_like(dy[2][half_ind:])\n",
    "        if normalize:\n",
    "            for j in range(len(dy)):\n",
    "                mag=sum(dy[j])\n",
    "                for i in range(len(dy[j])):\n",
    "                    dy[j][i]/=mag\n",
    "    #print(dy)\n",
    "    if not mode != \"true\":\n",
    "        distX=[]\n",
    "        distY=[]\n",
    "        for i in range(num_points):\n",
    "            class_list = []\n",
    "            for j in range(num_classes):\n",
    "                class_list.append(int(dy[i][j]*granularity)+1*(mode!=\"2points_n_classes\"))\n",
    "                distY.append(np.repeat(j, class_list[-1]))\n",
    "            #print(class_list)\n",
    "            #class_list.append(granularity-sum(class_list))\n",
    "            #print(class_list)\n",
    "            #distY.append(np.repeat(i, class_list[-1]))\n",
    "            distX.append(np.repeat([dd[i]], sum(class_list),axis=0))\n",
    "            #tempy=\n",
    "            \n",
    "            \n",
    "        distX=np.concatenate(distX)\n",
    "        distY=np.concatenate(distY)\n",
    "    distX=dd\n",
    "    distY=dy\n",
    "        #print(distX)\n",
    "        #print(distY)\n",
    "\n",
    "    # Create color maps\n",
    "    cmap_light = ListedColormap(['#FFAAAA', '#AAFFAA', '#AAAAFF', '#FFA8E8', '#A8FFE8', '#E8A8FF', '#E8FFA8' ])\n",
    "    cmap_bold = ListedColormap(['#FF8888', '#88FF88', '#8888FF', '#994282', '#429982', '#824299' ,'#829942' ])\n",
    "    cmap_bolder = ListedColormap(['#000000', '#000000', '#000000'])\n",
    "    colors=['#FFAAAA', '#AAFFAA', '#AAAAFF']\n",
    "    if num_classes>20:\n",
    "        cmap=\"gist_ncar\"\n",
    "    else:\n",
    "        cmap=\"tab20\"\n",
    "    cmap_single = get_cmap(num_classes, cmap)\n",
    "    colors=cmap_single(range(num_classes))\n",
    "    # create KNN classifier\n",
    "    clf = SoftKNN(k=k)\n",
    "    #clf = neighbors.KNeighborsClassifier(min(n_neighbors, len(distX)), weights=weights)\n",
    "    clf.fit(distX, distY)\n",
    "\n",
    "    # Plot the decision boundary. For that, we will assign a color to each\n",
    "    # point in the mesh [x_min, x_max]x[y_min, y_max].\n",
    "    if mode==\"2points_n_classes\":\n",
    "        x_min, x_max = -0-5+zoom, 1 + 5-zoom\n",
    "        y_min, y_max = -1+(-5+zoom)/2, 1 + (5-zoom)/2\n",
    "    elif mode==\"2points_half_n_classes\":\n",
    "        x_min, x_max = -0-5+zoom, 1 + 5-zoom\n",
    "        y_min, y_max = -1+(-5+zoom)/2, 1 + (5-zoom)/2\n",
    "    elif mode==\"3points_n_classes\":\n",
    "        x_min, x_max = -1-5+zoom, 1 + 5-zoom\n",
    "        y_min, y_max = -1+(-5+zoom)/2, 1 + (5-zoom)/2\n",
    "    elif mode==\"3points_half_n_classes\":\n",
    "        x_min, x_max = -1-5+zoom, 1 + 5-zoom\n",
    "        y_min, y_max = -1+(-5+zoom)/2, 1 + (5-zoom)/2\n",
    "    elif mode==\"every_other\":\n",
    "        x_min, x_max = -20+zoom*2,20-zoom*2\n",
    "        y_min, y_max = -20+zoom*2,20-zoom*2\n",
    "    elif mode==\"every_other2\":\n",
    "        x_min, x_max = -20+zoom*2,20-zoom*2\n",
    "        y_min, y_max = -20+zoom*2,20-zoom*2\n",
    "    elif mode==\"pairs_with_center\":\n",
    "        x_min, x_max = -20+zoom*2,20-zoom*2\n",
    "        y_min, y_max = -20+zoom*2,20-zoom*2\n",
    "    else:\n",
    "        x_min, x_max = -20+zoom*2,20-zoom*2\n",
    "        y_min, y_max = -20+zoom*2,20-zoom*2\n",
    "    size = (x_max-x_min)*(y_max-y_min)\n",
    "    desired_particles = 12000./resolution\n",
    "    h = (size/desired_particles)**0.5  # step size in the mesh\n",
    "    \n",
    "    xx, yy = np.meshgrid(np.arange(x_min, x_max, h),\n",
    "                         np.arange(y_min, y_max, h))\n",
    "    use_colors=prediction_layer==\"Color\"\n",
    "    Z = clf.predict(np.c_[xx.ravel(), yy.ravel()])\n",
    "    if confidence_layer!=\"None\":\n",
    "        probs = clf.probabilities(np.c_[xx.ravel(), yy.ravel()])\n",
    "    #probs=softmax(np.array(probs),axis=1)\n",
    "    #print(probs[:5])\n",
    "        prob_diffs=[]\n",
    "        for prob in probs:\n",
    "            #print(sorted(prob)[-2:][::-1])\n",
    "            top_2 = sorted(prob)[-2:][::-1]\n",
    "            a,b=top_2\n",
    "            prob_diffs.append(a-b)\n",
    "    #     print(prob_diffs[:5])\n",
    "    #     print(max(prob_diffs))\n",
    "    #     print(np.mean(prob_diffs))\n",
    "    #     print(min(prob_diffs))\n",
    "        log_shadows=confidence_layer==\"log scale\"\n",
    "        if invert_shadows:\n",
    "            prob_diffs=1/np.array(prob_diffs)\n",
    "        if not log_shadows:\n",
    "            clip = 80 if \"80\" in confidence_layer else 90\n",
    "            perc90=np.percentile(prob_diffs,clip)\n",
    "            prob_diffs=np.clip(prob_diffs, 0, perc90)\n",
    "        else:\n",
    "            prob_diffs=np.log(np.clip(prob_diffs,1e-12,None))\n",
    "#         ax1.clear()\n",
    "#         ax1.hist(prob_diffs)\n",
    "        prob_diffs=prob_diffs.reshape(xx.shape)\n",
    "    \n",
    "    \n",
    "    # Put the result into a color plot\n",
    "    Z = Z.reshape(xx.shape)\n",
    "#     return\n",
    "    ax1.clear()\n",
    "    color_alpha=1\n",
    "    if confidence_layer!=\"None\":\n",
    "        ax1.pcolormesh(xx, yy, prob_diffs, cmap=\"Greys\")\n",
    "        color_alpha=0.2\n",
    "    if use_colors:\n",
    "        ax1.pcolormesh(xx, yy, Z, cmap=cmap_single, alpha=color_alpha)\n",
    "    if not mode ==\"true\": \n",
    "        ax1.scatter(distX[:, 0], distX[:, 1], c=\"black\")\n",
    "    plt.xlim(xx.min(), xx.max())\n",
    "    plt.ylim(yy.min(), yy.max())\n",
    "    #plt.title(\"3-Class classification (k = %i)\")\n",
    "    for i in range(num_points):\n",
    "        axs[i].pie(dy[i], colors=colors)\n",
    "#         axs[i].yaxis.set_label_position(\"right\")\n",
    "#         axs[i].set(ylabel=\"({0}, {1})\".format(dd[i][0],dd[i][1]))\n",
    "\n",
    "    if mode== \"2points_n_classes\":\n",
    "        axs[0].title.set_text(\"Left\")\n",
    "        axs[1].title.set_text(\"Right\")\n",
    "\n",
    "\n",
    "#play = widgets.Play(\n",
    "#      value=50,\n",
    "#      min=0,\n",
    "#      max=100,\n",
    "#      step=1,\n",
    "#      interval=2000,\n",
    "#      description=\"Press play\",\n",
    "#     disabled=False\n",
    "#  )\n",
    "# slider=widgets.IntSlider()\n",
    "# widgets.jslink((play, 'value'), (slider, 'value'))\n",
    "# widgets.HBox([play, slider])\n",
    "#interact(animate,frame=10)\n",
    "frame=widgets.IntSlider(min=-60, max=60, value=10, step=10, continuous_update=False)\n",
    "num_points=widgets.IntSlider(min=2, max=12, continuous_update=False)\n",
    "num_classes=widgets.IntSlider(min=2, max=24, disabled=True, continuous_update=False)\n",
    "k_nearest=widgets.IntSlider(min=1, max=24, value=2, disabled=False, continuous_update=False)\n",
    "mode=widgets.Dropdown(\n",
    "    options=['poly_and_center', 'every_other', 'every_other2','pairs_with_center', '2points_n_classes', '3points_n_classes','2points_half_n_classes', '3points_half_n_classes'],\n",
    "    value='every_other',\n",
    "    description='Mode:',\n",
    "    disabled=False,\n",
    ")\n",
    "resolution = widgets.SelectionSlider(\n",
    "    options=[(\"Very Low\",1.0),(\"Low\",0.8),(\"Medium\",0.6),(\"High\", 0.4),(\"Very High\", 0.2)],\n",
    "    description='Resolution:',\n",
    "    value=0.6,\n",
    "    disabled=False,\n",
    "    continuous_update=False\n",
    ")\n",
    "zoom = widgets.IntSlider(min=-5, max=5, value=5, step=1, continuous_update=False, disabled=True)\n",
    "filename=widgets.Text(\n",
    "    value='image.png',\n",
    "    placeholder='image.png',\n",
    "    description='Filename:',\n",
    "    disabled=False\n",
    ")\n",
    "confidence_layer=widgets.Dropdown(\n",
    "    options=['None', 'Clipped at 80th percentile','Clipped at 90th percentile', 'log scale'],\n",
    "    value='None',\n",
    "    description='Confidence Layer:',\n",
    "    disabled=False,\n",
    ")\n",
    "prediction_layer=widgets.Dropdown(\n",
    "    options=['None', 'Color'],\n",
    "    value='Color',\n",
    "    description='Prediction Layer:',\n",
    "    disabled=False,\n",
    ")\n",
    "normalize=widgets.Checkbox(\n",
    "    value=False,\n",
    "    description='Normalize',\n",
    "    disabled=False,\n",
    "    indent = False\n",
    ")\n",
    "invert_shadows=widgets.Checkbox(\n",
    "    value=False,\n",
    "    description='Invert Shadows',\n",
    "    disabled=False,\n",
    "    indent = False\n",
    ")\n",
    "# save=widgets.Button(\n",
    "#     description='Save Image')\n",
    "# output = widgets.Output()\n",
    "\n",
    "# display(save, output)\n",
    "# def on_save(b):\n",
    "#     with output:\n",
    "#         plt.savefig(\"abc\")\n",
    "# save.on_click(on_save)\n",
    "from IPython.display import display\n",
    "button = widgets.Button(description='Save image')\n",
    "output = widgets.Output()\n",
    "display(button, output)\n",
    "def on_save(b):\n",
    "    with output:\n",
    "        plt.savefig(filename.value)\n",
    "\n",
    "\n",
    "button.on_click(on_save)\n",
    "\n",
    "\n",
    "\n",
    "def update_points_range(*args):\n",
    "    if mode.value==\"every_other\":\n",
    "        num_classes.max=2*num_points.max\n",
    "        num_classes.min=1\n",
    "        num_classes.value = num_points.value*2\n",
    "        num_classes.disabled=True\n",
    "        num_points.disabled=False\n",
    "        new_max_points = 12\n",
    "        new_min_points = 4\n",
    "        frame.disabled=False\n",
    "        zoom.disabled=False\n",
    "    if mode.value==\"every_other2\":\n",
    "        num_classes.max=2*num_points.max\n",
    "        num_classes.min=1\n",
    "        num_classes.value = num_points.value*2\n",
    "        num_classes.disabled=True\n",
    "        num_points.disabled=False\n",
    "        new_max_points = 12\n",
    "        new_min_points = 4\n",
    "        frame.disabled=False\n",
    "        zoom.disabled=False\n",
    "    if mode.value==\"poly_and_center\":\n",
    "        num_points.disabled=False\n",
    "        new_max_points = 12\n",
    "        new_min_points = 4\n",
    "        num_classes.max=3*num_points.max-2\n",
    "        num_classes.min=1\n",
    "        num_classes.value = 3*num_points.value-2\n",
    "        num_classes.disabled=True\n",
    "        frame.disabled=False\n",
    "        zoom.disabled=False\n",
    "    if mode.value==\"pairs_with_center\":\n",
    "        num_points.disabled=False\n",
    "        new_max_points = 120\n",
    "        new_min_points = 4\n",
    "        num_classes.max=2*num_points.max+1\n",
    "        num_classes.min=1\n",
    "        num_classes.value = 2*num_points.value-1\n",
    "        num_classes.disabled=True\n",
    "        frame.disabled=False\n",
    "        zoom.disabled=False\n",
    "    if mode.value==\"2points_n_classes\":\n",
    "        new_min_points = 2\n",
    "        new_max_points = 2\n",
    "        num_points.value = 2\n",
    "        num_points.disabled=True\n",
    "        num_classes.min=2\n",
    "        num_classes.max=20\n",
    "        num_classes.value=3\n",
    "        num_classes.disabled=False\n",
    "        frame.disabled=True\n",
    "        zoom.disabled=False\n",
    "        resolution.value=0.2\n",
    "    if mode.value==\"2points_half_n_classes\":\n",
    "        new_min_points = 2\n",
    "        new_max_points = 2\n",
    "        num_points.value = 2\n",
    "        num_points.disabled=True\n",
    "        num_classes.min=2\n",
    "        num_classes.max=20\n",
    "        num_classes.value=3\n",
    "        num_classes.disabled=False\n",
    "        frame.disabled=True\n",
    "        zoom.disabled=False\n",
    "        resolution.value=0.2\n",
    "    if mode.value==\"3points_n_classes\":\n",
    "        new_min_points = 3\n",
    "        new_max_points = 3\n",
    "        num_points.value = 3\n",
    "        num_points.disabled=True\n",
    "        num_classes.min=2\n",
    "        num_classes.max=20\n",
    "        num_classes.value=3\n",
    "        num_classes.disabled=False\n",
    "        frame.disabled=True\n",
    "        zoom.disabled=False\n",
    "        resolution.value=0.2\n",
    "    if mode.value==\"3points_half_n_classes\":\n",
    "        new_min_points = 3\n",
    "        new_max_points = 3\n",
    "        num_points.value = 3\n",
    "        num_points.disabled=True\n",
    "        num_classes.min=2\n",
    "        num_classes.max=20\n",
    "        num_classes.value=3\n",
    "        num_classes.disabled=False\n",
    "        frame.disabled=True\n",
    "        zoom.disabled=False\n",
    "        resolution.value=0.2\n",
    "    if new_min_points > num_points.max:\n",
    "        num_points.max = new_max_points\n",
    "        num_points.min=new_min_points\n",
    "    else:\n",
    "        num_points.min = new_min_points\n",
    "        num_points.max = new_max_points\n",
    "    k_nearest.max=num_points.max\n",
    "        \n",
    "mode.observe(update_points_range, 'value')\n",
    "num_points.observe(update_points_range)\n",
    "interactive_plot=interactive(animate,frame=frame, num_points=num_points, num_classes=num_classes,k=k_nearest, mode=mode, resolution=resolution, zoom=zoom, filename=filename, normalize=normalize, confidence_layer=confidence_layer, prediction_layer=prediction_layer, invert_shadows=invert_shadows)\n",
    "output = interactive_plot.children[-1]\n",
    "output.layout.height = '350px'\n",
    "\n",
    "interactive_plot\n",
    "\n"
   ]
  },
  {
   "cell_type": "code",
   "execution_count": null,
   "metadata": {},
   "outputs": [],
   "source": [
    "def create_system(n, verbose=False):\n",
    "    A=[]\n",
    "    for i in range(1,int(np.ceil(n/2.))):\n",
    "        for j in range(2*i, n):#int(np.floor(n/2.))+i\n",
    "            vector = np.zeros(n)\n",
    "            vector[i-1]+=(2*n-j)\n",
    "            vector[n-i+1-1]+=(j)\n",
    "            vector[j-i+1-1]+=(-(2*n-j))\n",
    "            vector[n-j+i-1]+=(-j)\n",
    "            A.append(vector)\n",
    "            if verbose:\n",
    "                print (\"(y_{0}/{1})+(y_{2}/{3}) = (y_{4}/{1}) + (y_{5}/{3})    \".format(i,j/2.,n-i+1,n-(j/2.),j-i+1,n-j+i))\n",
    "        if verbose: \n",
    "            print(\"\\n\")\n",
    "    A.append(np.ones(n))\n",
    "    A.append(np.zeros(n))\n",
    "    A[-1][-1]=1\n",
    "    b = np.zeros(len(A))\n",
    "    b[-2]=1\n",
    "    return A, b\n",
    "\n",
    "def do_stuff():\n",
    "    n=8\n",
    "    A,b=create_system(n, verbose=False)\n",
    "    print (\"Expected: {0} Found: {1}\".format(expected_num_eqns(n),len(A)-2))\n",
    "    print(\"\".join([str(a)+\"\\n\" for a in A]))\n",
    "\n",
    "    C=A[:(n-2)]\n",
    "    C.append(A[-1])\n",
    "    C.append(A[-2])\n",
    "    # if n%2==1:\n",
    "    #C.append(A[-3])\n",
    "    print(np.linalg.matrix_rank(C))\n",
    "    def solve_system(A,b):\n",
    "        soln, rsq, _, _ = np.linalg.lstsq(A,b,rcond=None)\n",
    "        return soln, rsq\n",
    "    #print(solve_system(A,b))\n",
    "    soln=solve_system(A,b)[0]\n",
    "    print([str(fractions.Fraction(i).limit_denominator()) for i in soln])\n",
    "    choices = np.transpose(np.array(A[:n-2]))\n",
    "    #print(choices)\n",
    "    target=A[n-2+n-4]\n",
    "    #print(target)\n",
    "    soln=solve_system(choices, target)\n",
    "    #[str(fractions.Fraction(i).limit_denominator()) for i in soln[0]]"
   ]
  },
  {
   "cell_type": "code",
   "execution_count": 2,
   "metadata": {},
   "outputs": [],
   "source": [
    "def make_k_circles(k=2,n_samples=100, shuffle=True, noise=None, random_state=None,\n",
    "                 factor=.8, c=None, rot=None):\n",
    "    \"\"\"Make a large circle containing a smaller circle in 2d.\n",
    "    A simple toy dataset to visualize clustering and classification\n",
    "    algorithms.\n",
    "    Read more in the :ref:`User Guide <sample_generators>`.\n",
    "    Parameters\n",
    "    ----------\n",
    "    n_samples : int or two-element tuple, optional (default=100)\n",
    "        If int, it is the total number of points generated.\n",
    "        For odd numbers, the inner circle will have one point more than the\n",
    "        outer circle.\n",
    "        If two-element tuple, number of points in outer circle and inner\n",
    "        circle.\n",
    "    shuffle : bool, optional (default=True)\n",
    "        Whether to shuffle the samples.\n",
    "    noise : double or None (default=None)\n",
    "        Standard deviation of Gaussian noise added to the data.\n",
    "    random_state : int, RandomState instance, default=None\n",
    "        Determines random number generation for dataset shuffling and noise.\n",
    "        Pass an int for reproducible output across multiple function calls.\n",
    "        See :term:`Glossary <random_state>`.\n",
    "    factor : 0 < double < 1 (default=.8)\n",
    "        Scale factor between inner and outer circle.\n",
    "    Returns\n",
    "    -------\n",
    "    X : array of shape [n_samples, 2]\n",
    "        The generated samples.\n",
    "    y : array of shape [n_samples]\n",
    "        The integer labels (0 or 1) for class membership of each sample.\n",
    "    \"\"\"\n",
    "\n",
    "    if not factor is None and (factor >= 1 or factor < 0):\n",
    "        raise ValueError(\"'factor' has to be between 0 and 1.\")\n",
    "    if factor is None and c is None:\n",
    "        raise ValueError(\"one of 'factor' or 'c' has to be between 0 and 1.\")\n",
    "    if isinstance(n_samples, numbers.Integral):\n",
    "        n_samples_lists = [n_samples//k for i in range(k-1)]\n",
    "        n_samples_lists.append(n_samples-np.sum(n_samples_lists))\n",
    "#         n_samples_out = n_samples // 2\n",
    "#         n_samples_in = n_samples - n_samples_out\n",
    "    else:\n",
    "        try:\n",
    "            n_samples_lists = n_samples\n",
    "            assert(len(n_samples)==k)\n",
    "#             n_samples_out, n_samples_in = n_samples\n",
    "        except ValueError:\n",
    "            raise ValueError('`n_samples_lists` can be either an int or '\n",
    "                             'a k-element tuple.')\n",
    "\n",
    "    generator = check_random_state(random_state)\n",
    "    # so as not to have the first point = last point, we set endpoint=False\n",
    "    linspaces=[np.linspace(0, 2 * np.pi, n_samples_list, endpoint=False) for n_samples_list in n_samples_lists]\n",
    "    if rot is not None:\n",
    "        linspaces=[np.linspace(0+r, r+2 * np.pi, n_samples_list, endpoint=False) for n_samples_list,r in zip(n_samples_lists,rot)]\n",
    "#     linspace_out = np.linspace(0, 2 * np.pi, n_samples_out, endpoint=False)\n",
    "#     linspace_in = np.linspace(0, 2 * np.pi, n_samples_in, endpoint=False)\n",
    "    if factor:\n",
    "        circs_x = [np.cos(linspace)*factor**i for i,linspace in enumerate(linspaces)]\n",
    "        circs_y = [np.sin(linspace)*factor**i for i,linspace in enumerate(linspaces)]\n",
    "    else: \n",
    "        circs_x = [np.cos(linspace)*c*i for i,linspace in enumerate(linspaces)]\n",
    "        circs_y = [np.sin(linspace)*c*i for i,linspace in enumerate(linspaces)]\n",
    "#     outer_circ_x = np.cos(linspace_out)\n",
    "#     outer_circ_y = np.sin(linspace_out)\n",
    "#     inner_circ_x = np.cos(linspace_in) * factor\n",
    "#     inner_circ_y = np.sin(linspace_in) * factor\n",
    "    X = np.vstack([np.concatenate(circs_x, axis=0),\n",
    "                   np.concatenate(circs_y, axis=0)]).T\n",
    "    y = np.hstack([np.ones(n_samples_list, dtype=np.intp)*i for i,n_samples_list in enumerate(n_samples_lists)])\n",
    "#     X = np.vstack([np.append(outer_circ_x, inner_circ_x),\n",
    "#                    np.append(outer_circ_y, inner_circ_y)]).T\n",
    "#     y = np.hstack([np.zeros(n_samples_out, dtype=np.intp),\n",
    "#                    np.ones(n_samples_in, dtype=np.intp)])\n",
    "    if shuffle:\n",
    "        X, y = util_shuffle(X, y, random_state=generator)\n",
    "\n",
    "    if noise is not None:\n",
    "        X += generator.normal(scale=noise, size=X.shape)\n",
    "\n",
    "    return X, y\n",
    "def get_rotation(a,b):\n",
    "    g = np.gcd(a,b)\n",
    "    diff1 = (b/2)%g\n",
    "    diff2 = (a/2)%g\n",
    "    shift1 = min(diff1, g-diff1)\n",
    "    shift2 = min(diff2, g-diff2)\n",
    "    rot=(np.abs(shift2-shift1)/2)*2*np.pi/(a*b)\n",
    "    min_rot_dist = ((shift1+shift2)/2)*2*np.pi/(a*b)\n",
    "    return rot, min_rot_dist\n",
    "def get_rotations(n_samples):\n",
    "    rots=[0,0]\n",
    "    min_rot_dists=[]\n",
    "    for i in range(1,len(n_samples)-1):\n",
    "        rot,min_rot_dist = get_rotation(n_samples[i],n_samples[i+1])\n",
    "        rots.append(rot)\n",
    "        min_rot_dists.append(min_rot_dist)\n",
    "    return rots, min_rot_dists\n",
    "        \n",
    "\n",
    "def get_cmap(n, name='tab20'):\n",
    "    '''Returns a function that maps each index in 0, 1, ..., n-1 to a distinct \n",
    "    RGB color; the keyword argument name must be a standard mpl colormap name.'''\n",
    "    return plt.cm.get_cmap(name, n)\n",
    "    "
   ]
  },
  {
   "cell_type": "code",
   "execution_count": 3,
   "metadata": {},
   "outputs": [
    {
     "name": "stdout",
     "output_type": "stream",
     "text": [
      "[0, 0, 0.2617993877991494, 0.1308996938995747, 0.010069207223044208, 0.007551905417283156]\n",
      "[0.2617993877991494, 0.1308996938995747, 0.010069207223044208, 0.007551905417283156]\n",
      "[0, 0, 0, 0, 0, 0]\n",
      "[(0, 1), (1, 3), (2, 6), (3, 12), (4, 13), (5, 16)]\n"
     ]
    },
    {
     "data": {
      "image/png": "[encoded data removed]",
      "text/plain": [
       "<Figure size 432x288 with 1 Axes>"
      ]
     },
     "metadata": {
      "needs_background": "light"
     },
     "output_type": "display_data"
    }
   ],
   "source": [
    "#%matplotlib notebook\n",
    "\n",
    "from sklearn.utils import check_random_state, shuffle as util_shuffle\n",
    "import numbers\n",
    "from sklearn.cluster import KMeans\n",
    "import matplotlib.pyplot as plt\n",
    "from imblearn.under_sampling import *\n",
    "from collections import Counter\n",
    "from sklearn.neighbors import KNeighborsClassifier as kNC\n",
    "import numpy as np\n",
    "num_classes=6\n",
    "growth=0.5\n",
    "X, y = make_k_circles(k=num_classes,n_samples=800,factor=None, c=growth, noise=.0)\n",
    "#cnn = ClusterCentroids(sampling_strategy='all')#,random_state=0)\n",
    "#n_samples=[1,3,6,9,12]\n",
    "n_samples=[1,4,7,10,13,16]\n",
    "n_samples=[1,3,6,12,13,16]\n",
    "rot,min_rot_dist = get_rotations(n_samples)\n",
    "print(rot)\n",
    "print(min_rot_dist)\n",
    "rot=[0,0,0,0,0,0]\n",
    "for i in range(2,num_classes):\n",
    "    rot[i]+=rot[i-1]#-(2*np.pi/(2*n_samples[i]))+(2*np.pi*np.gcd(n_samples[i-1],n_samples[i])/(2*n_samples[i-1]*n_samples[i]))\n",
    "print(rot)\n",
    "#print([0,0,2*np.pi/(4*6),1.5*np.pi/(6*9),2*1.5*np.pi/(9*12)])\n",
    "#rot=[0,0,2*np.pi/(2*6)+2*np.pi/(4*6),2*np.pi/(2*6)+1.5*np.pi/(6*9),1.5*np.pi/(9*12)]\n",
    "X_resampled, y_resampled = make_k_circles(k=num_classes, n_samples=n_samples, factor=None, c=growth, noise=0, rot =rot)#cnn.fit_resample(X, y)\n",
    "print(sorted(Counter(y_resampled).items()))\n",
    "#plt.title(\"Original space\")\n",
    "classes = [y==i for i in range(num_classes)]\n",
    "# reds = y == 0\n",
    "# blues = y == 1\n",
    "# greens = y == 2\n",
    "classes_resampled = [y_resampled==i for i in range(num_classes)]\n",
    "# reds_resampled = y_resampled == 0\n",
    "# blues_resampled = y_resampled == 1\n",
    "# greens_resampled = y_resampled == 2\n",
    "\n",
    "#plt.show()\n",
    "distX=X_resampled\n",
    "distY=y_resampled\n",
    "clf=kNC(n_neighbors=1, weights=\"distance\") #Can mess around with n_neighbors and weighting type, e.g. sum(n_samples)\n",
    "clf.fit(distX,distY)\n",
    "    #print(distX)\n",
    "    #print(distY)\n",
    "\n",
    "# Create color maps\n",
    "if num_classes>20:\n",
    "    cmap=\"gist_ncar\"\n",
    "else:\n",
    "    cmap=\"tab20\"\n",
    "cmap_single = get_cmap(num_classes, cmap)\n",
    "colors=cmap_single(range(num_classes))\n",
    "#print(colors)\n",
    "# create KNN classifier\n",
    "# clf = SoftKNN(k=k)\n",
    "#clf = neighbors.KNeighborsClassifier(min(n_neighbors, len(distX)), weights=weights)\n",
    "# clf.fit(distX, distY)\n",
    "\n",
    "# Plot the decision boundary. For that, we will assign a color to each\n",
    "# point in the mesh [x_min, x_max]x[y_min, y_max].\n",
    "rad=num_classes*growth\n",
    "x_min, x_max = -rad-1,rad+1\n",
    "y_min, y_max = -rad,rad\n",
    "size = (x_max-x_min)*(y_max-y_min)\n",
    "desired_particles = 800000\n",
    "h = (size/desired_particles)**0.5  # step size in the mesh\n",
    "\n",
    "xx, yy = np.meshgrid(np.arange(x_min, x_max, h),\n",
    "                     np.arange(y_min, y_max, h))\n",
    "Z = clf.predict(np.c_[xx.ravel(), yy.ravel()])\n",
    "# Put the result into a color plot\n",
    "Z = Z.reshape(xx.shape)\n",
    "# ax1.clear()\n",
    "plt.pcolormesh(xx, yy, Z, cmap=cmap_single, alpha=0.1)\n",
    "# if not mode ==\"true\": \n",
    "#     ax1.scatter(distX[:, 0], distX[:, 1], c=\"black\")\n",
    "plt.xlim(xx.min(), xx.max())\n",
    "plt.ylim(yy.min(), yy.max())\n",
    "#plt.title(\"3-Class classification (k = %i)\")\n",
    "# for i in range(num_points):\n",
    "#     axs[i].pie(dy[i], colors=colors)\n",
    "for i in range(num_classes):\n",
    "    plt.scatter(X[classes[i], 0], X[classes[i], 1], c=[colors[i]],\n",
    "            s=20, alpha=1 if i != 2 else 0.2)#edgecolor='k')\n",
    "    plt.scatter(X_resampled[classes_resampled[i], 0], X_resampled[classes_resampled[i], 1], c=[colors[i]],\n",
    "            s=20,edgecolor='k')\n",
    "# plt.scatter(X[reds, 0], X[reds, 1], c=[colors[0]],\n",
    "#             s=20,alpha=0.2)# edgecolor='k')\n",
    "# # km = KMeans(n_clusters=8)\n",
    "# # km.fit(X[reds])\n",
    "# # centers_red=km.cluster_centers_\n",
    "# # plt.scatter(centers_red[:,0],centers_red[:,1],c=\"black\")\n",
    "# plt.scatter(X_resampled[reds_resampled, 0], X_resampled[reds_resampled, 1], c=[colors[0]],\n",
    "#             s=20,edgecolor='k')\n",
    "\n",
    "# plt.scatter(X[blues, 0], X[blues, 1], c=[colors[1]],\n",
    "#             s=20, alpha=0.2)#edgecolor='k')\n",
    "# plt.scatter(X_resampled[blues_resampled, 0], X_resampled[blues_resampled, 1], c=[colors[1]],\n",
    "#             s=20,edgecolor='k')\n",
    "\n",
    "# plt.scatter(X[greens, 0], X[greens, 1], c=[colors[2]],\n",
    "#             s=20, alpha=0.2)#edgecolor='k')# km = KMeans(n_clusters=8)\n",
    "# plt.scatter(X_resampled[greens_resampled, 0], X_resampled[greens_resampled, 1], c=[colors[2]],\n",
    "#             s=20,edgecolor='k')\n",
    "# km.fit(X[blues])\n",
    "# centers_blue=km.cluster_centers_\n",
    "# plt.scatter(centers_blue[:,0],centers_blue[:,1],c=\"black\")\n",
    "plt.xlabel(\"$x_1$\")\n",
    "plt.ylabel(\"$x_2$\")\n",
    "plt.axis('equal')\n",
    "\n",
    "plt.savefig(\"knn_and_6_circles.png\")\n",
    "plt.show()"
   ]
  },
  {
   "cell_type": "code",
   "execution_count": 3,
   "metadata": {
    "scrolled": false
   },
   "outputs": [
    {
     "ename": "NameError",
     "evalue": "name 'make_k_circles' is not defined",
     "output_type": "error",
     "traceback": [
      "\u001b[0;31m---------------------------------------------------------------------------\u001b[0m",
      "\u001b[0;31mNameError\u001b[0m                                 Traceback (most recent call last)",
      "\u001b[0;32m<ipython-input-3-81a484dcba98>\u001b[0m in \u001b[0;36m<module>\u001b[0;34m\u001b[0m\n\u001b[1;32m     14\u001b[0m \u001b[0mk\u001b[0m\u001b[0;34m=\u001b[0m\u001b[0;36m5\u001b[0m\u001b[0;34m\u001b[0m\u001b[0;34m\u001b[0m\u001b[0m\n\u001b[1;32m     15\u001b[0m \u001b[0mgrowth\u001b[0m\u001b[0;34m=\u001b[0m\u001b[0;36m0.5\u001b[0m\u001b[0;34m\u001b[0m\u001b[0;34m\u001b[0m\u001b[0m\n\u001b[0;32m---> 16\u001b[0;31m \u001b[0mX\u001b[0m\u001b[0;34m,\u001b[0m \u001b[0my\u001b[0m \u001b[0;34m=\u001b[0m \u001b[0mmake_k_circles\u001b[0m\u001b[0;34m(\u001b[0m\u001b[0mk\u001b[0m\u001b[0;34m=\u001b[0m\u001b[0mnum_classes\u001b[0m\u001b[0;34m,\u001b[0m\u001b[0mn_samples\u001b[0m\u001b[0;34m=\u001b[0m\u001b[0;36m800\u001b[0m\u001b[0;34m,\u001b[0m\u001b[0mfactor\u001b[0m\u001b[0;34m=\u001b[0m\u001b[0;32mNone\u001b[0m\u001b[0;34m,\u001b[0m \u001b[0mc\u001b[0m\u001b[0;34m=\u001b[0m\u001b[0mgrowth\u001b[0m\u001b[0;34m,\u001b[0m \u001b[0mnoise\u001b[0m\u001b[0;34m=\u001b[0m\u001b[0;36m.0\u001b[0m\u001b[0;34m)\u001b[0m\u001b[0;34m\u001b[0m\u001b[0;34m\u001b[0m\u001b[0m\n\u001b[0m\u001b[1;32m     17\u001b[0m \u001b[0;31m# cnn = ClusterCentroids(sampling_strategy='all')#,random_state=0)\u001b[0m\u001b[0;34m\u001b[0m\u001b[0;34m\u001b[0m\u001b[0;34m\u001b[0m\u001b[0m\n\u001b[1;32m     18\u001b[0m \u001b[0;31m# n_samples=[1,4,6,9,12]\u001b[0m\u001b[0;34m\u001b[0m\u001b[0;34m\u001b[0m\u001b[0;34m\u001b[0m\u001b[0m\n",
      "\u001b[0;31mNameError\u001b[0m: name 'make_k_circles' is not defined"
     ]
    }
   ],
   "source": [
    "%matplotlib notebook\n",
    "\n",
    "from sklearn.utils import check_random_state, shuffle as util_shuffle\n",
    "import numbers\n",
    "# from sklearn.cluster import KMeans\n",
    "import matplotlib.pyplot as plt\n",
    "# from imblearn.under_sampling import *\n",
    "from collections import Counter\n",
    "# from sklearn.neighbors import KNeighborsClassifier as kNC\n",
    "import numpy as np\n",
    "\n",
    "num_classes=6\n",
    "num_points=5\n",
    "k=5\n",
    "growth=0.5\n",
    "X, y = make_k_circles(k=num_classes,n_samples=800,factor=None, c=growth, noise=.0)\n",
    "# cnn = ClusterCentroids(sampling_strategy='all')#,random_state=0)\n",
    "# n_samples=[1,4,6,9,12]\n",
    "# n_samples=[1,4,7,10,13]\n",
    "# rot,min_rot_dist = get_rotations(n_samples)\n",
    "# print(rot)\n",
    "# print(min_rot_dist)\n",
    "# rot=[0,0,0,0,0]\n",
    "# for i in range(2,num_classes):\n",
    "#     rot[i]+=rot[i-1]#-(2*np.pi/(2*n_samples[i]))+(2*np.pi*np.gcd(n_samples[i-1],n_samples[i])/(2*n_samples[i-1]*n_samples[i]))\n",
    "# print(rot)\n",
    "\n",
    "# X_resampled, y_resampled = make_k_circles(k=num_classes, n_samples=n_samples, factor=None, c=growth, noise=0, rot =rot)#cnn.fit_resample(X, y)\n",
    "max_ind=3*(num_classes-1)-1\n",
    "dd=np.array([[0,0],[-max_ind,0],[max_ind,0], [0,max_ind], [0,-max_ind]])\n",
    "dy=np.zeros((num_points,2*num_classes))\n",
    "\n",
    "dy[0] = labels_2_points_n_classes(2*num_classes)\n",
    "\n",
    "\n",
    "dy[1]=dy[0][::-1] \n",
    "print(dy[1])\n",
    "#dy[0,4]*=1.01\n",
    "dy[1,4]*=0.99\n",
    "dy[2]=dy[1] \n",
    "dy[3]=dy[1]\n",
    "dy[4]=dy[1]\n",
    "#dy[0]*=2 This does something cool\n",
    "\n",
    "#         half_ind = int((num_classes+1)/2)\n",
    "half_ind = num_classes\n",
    "dy[0][half_ind:]=np.zeros_like(dy[0][half_ind:])\n",
    "dy[1][half_ind:]=np.zeros_like(dy[1][half_ind:])\n",
    "dy[2][half_ind:]=np.zeros_like(dy[2][half_ind:])\n",
    "dy[3][half_ind:]=np.zeros_like(dy[2][half_ind:])\n",
    "dy[4][half_ind:]=np.zeros_like(dy[2][half_ind:])\n",
    "# if normalize:\n",
    "#     for j in range(len(dy)):\n",
    "#         mag=sum(dy[j])\n",
    "#         for i in range(len(dy[j])):\n",
    "#             dy[j][i]/=mag\n",
    "# print(sorted(Counter(y_resampled).items()))\n",
    "#plt.title(\"Original space\")\n",
    "classes = [y==i for i in range(num_classes)]\n",
    "\n",
    "# classes_resampled = [y_resampled==i for i in range(num_classes)]\n",
    "\n",
    "\n",
    "#plt.show()\n",
    "distX=dd\n",
    "distY=dy\n",
    "# clf=kNC(n_neighbors=1)\n",
    "# clf.fit(distX,distY)\n",
    "    #print(distX)\n",
    "    #print(distY)\n",
    "\n",
    "# Create color maps\n",
    "if num_classes>20:\n",
    "    cmap=\"gist_ncar\"\n",
    "else:\n",
    "    cmap=\"tab20\"\n",
    "cmap_single = get_cmap(num_classes, cmap)\n",
    "colors=cmap_single(range(num_classes))\n",
    "#print(colors)\n",
    "# create KNN classifier\n",
    "clf = SoftKNN(k=k)\n",
    "#clf = neighbors.KNeighborsClassifier(min(n_neighbors, len(distX)), weights=weights)\n",
    "clf.fit(distX, distY)\n",
    "\n",
    "# Plot the decision boundary. For that, we will assign a color to each\n",
    "# point in the mesh [x_min, x_max]x[y_min, y_max].\n",
    "rad=num_classes*growth\n",
    "x_min, x_max = -3,3\n",
    "y_min, y_max = -4,4\n",
    "size = (x_max-x_min)*(y_max-y_min)\n",
    "desired_particles = 800000\n",
    "h = (size/desired_particles)**0.5  # step size in the mesh\n",
    "\n",
    "xx, yy = np.meshgrid(np.arange(x_min, x_max, h),\n",
    "                     np.arange(y_min, y_max, h))\n",
    "Z = clf.predict(np.c_[xx.ravel(), yy.ravel()])\n",
    "# Put the result into a color plot\n",
    "Z = Z.reshape(xx.shape)\n",
    "# ax1.clear()\n",
    "fig = plt.figure()\n",
    "ax1 = fig.add_subplot(1,2,1)\n",
    "axs = [fig.add_subplot(num_points,2,2*(point+1)) for point in range(num_points)]\n",
    "#axs = [fig.add_subplot(2,num_points,num_points+point+1) for point in range(num_points)]\n",
    "ax1.pcolormesh(xx, yy, Z, cmap=cmap_single, alpha=0.05)\n",
    "# if not mode ==\"true\": \n",
    "#     ax1.scatter(distX[:, 0], distX[:, 1], c=\"black\")\n",
    "for i in range(num_classes):\n",
    "    ax1.scatter(X[classes[i], 0], X[classes[i], 1], c=[colors[i]],\n",
    "            s=20, alpha=1 if i != 2 else 0.2)#edgecolor='k')\n",
    "ax1.set_xlim(xx.min(), xx.max())\n",
    "ax1.set_ylim(yy.min(), yy.max())\n",
    "#plt.title(\"3-Class classification (k = %i)\")\n",
    "ax1.set(xlabel=\"$x_1$\", ylabel=\"$x_2$\")\n",
    "ax1.axis('scaled')\n",
    "ax1.scatter(dd[:,0],dd[:,1], c=\"black\", s=20,edgecolor='k')\n",
    "\n",
    "for i in range(num_points):\n",
    "    axs[i].pie(dy[i], colors=colors)\n",
    "    axs[i].set(ylabel=\"({0}, {1})\".format(dd[i][0],dd[i][1]))\n",
    "\n",
    "plt.savefig(\"slapknn_and_6_circles_5points_zoomed_in.png\")\n",
    "plt.show()"
   ]
  },
  {
   "cell_type": "code",
   "execution_count": null,
   "metadata": {},
   "outputs": [],
   "source": [
    "import numpy as np\n",
    "a=np.ones(3)\n",
    "print(a)\n",
    "print(a*3)"
   ]
  },
  {
   "cell_type": "code",
   "execution_count": null,
   "metadata": {
    "scrolled": true
   },
   "outputs": [],
   "source": [
    "\n",
    "def get_midpoint_dists(a,b):\n",
    "    a_series = [a*i for i in range(b+1)] \n",
    "    a_midpoints =[a*(2*i+1)/2 for i in range(b)]\n",
    "    b_series = [b*i for i in range(a+1)] \n",
    "    b_midpoints =[b*(2*i+1)/2 for i in range(a)]\n",
    "#     plt.subplot(211)\n",
    "#     plt.scatter(a_series, np.zeros_like(a_series), \n",
    "#             c='r', cmap=\"hot_r\",vmin=-2)\n",
    "#     plt.scatter(a_midpoints, np.zeros_like(a_midpoints), \n",
    "#             c='b', cmap=\"hot_r\", vmin=-2)\n",
    "\n",
    "#     plt.yticks([])\n",
    "#     plt.subplot(212)\n",
    "    \n",
    "#     plt.scatter(b_series, np.zeros_like(b_series), \n",
    "#             c='r', cmap=\"hot_r\",vmin=-5)\n",
    "#     plt.scatter(b_midpoints, np.zeros_like(b_midpoints), \n",
    "#             c='b', cmap=\"hot_r\", vmin=-5)\n",
    "\n",
    "#     plt.yticks([])\n",
    "#     plt.show()\n",
    "    \n",
    "    a_dists = [a_midpoint-min(b_series, key=lambda x:abs(x-a_midpoint)) for a_midpoint in a_midpoints]\n",
    "    b_dists = [b_midpoint-min(a_series, key=lambda x:abs(x-b_midpoint)) for b_midpoint in b_midpoints]\n",
    "    combined_dists=np.array(a_dists+b_dists)\n",
    "    print(\"Inner Circle ({0}), Outer Circle ({1})\".format(a,b))\n",
    "    if np.any(np.isclose(0,combined_dists)):\n",
    "        min_val=np.min(np.abs(combined_dists[np.nonzero(combined_dists)]))\n",
    "        print(\"Rotation required of {0}\".format(min_val/2))\n",
    "        \n",
    "    print(\"Distances from each midpoint of Inner Circle ({0}) to closest point of Outer Circle ({1})\".format(a,b))\n",
    "    print(a_dists)\n",
    "    print(\"Distances from each midpoint of Outer Circle({1}) to closest point of Inner Circle ({0})\".format(a,b))\n",
    "    print(b_dists)\n",
    "    print(\"\\n\")\n",
    "        \n",
    "    return\n",
    "get_midpoint_dists(5,12)\n",
    "get_midpoint_dists(5,20)\n",
    "get_midpoint_dists(5,10)\n",
    "get_midpoint_dists(5,12)\n",
    "get_midpoint_dists(7,14)\n",
    "get_midpoint_dists(7,16)\n",
    "\n",
    "\n",
    "get_midpoint_dists(4,7)\n",
    "get_midpoint_dists(6,7)\n",
    "get_midpoint_dists(3,6)\n",
    "get_midpoint_dists(6,9)\n",
    "get_midpoint_dists(5,7)\n",
    "get_midpoint_dists(3,9)\n",
    "get_midpoint_dists(9,15)\n",
    "get_midpoint_dists(15,21)\n",
    "get_midpoint_dists(3,12)\n",
    "get_midpoint_dists(3,24)\n",
    "get_midpoint_dists(6,12)\n",
    "get_midpoint_dists(6,16)\n",
    "get_midpoint_dists(6,18)\n",
    "\n",
    "get_midpoint_dists(4,6)\n",
    "get_midpoint_dists(4,10)\n",
    "get_midpoint_dists(4,12)\n",
    "get_midpoint_dists(4,16)\n",
    "get_midpoint_dists(4,18)\n",
    "get_midpoint_dists(4,20)\n",
    "get_midpoint_dists(4,24)\n",
    "get_midpoint_dists(4,26)\n",
    "get_midpoint_dists(4,28)\n",
    "\n",
    "get_midpoint_dists(6,8)\n",
    "get_midpoint_dists(6,10)\n",
    "get_midpoint_dists(6,14)\n",
    "get_midpoint_dists(6,16)\n",
    "get_midpoint_dists(6,24)\n",
    "get_midpoint_dists(6,30)\n",
    "get_midpoint_dists(6,32)\n",
    "get_midpoint_dists(6,42)\n",
    "get_midpoint_dists(6,60)\n",
    "get_midpoint_dists(10,150)\n",
    "get_midpoint_dists(10,142)\n",
    "get_midpoint_dists(10,22)\n",
    "get_midpoint_dists(10,12)\n",
    "get_midpoint_dists(10,14)\n",
    "get_midpoint_dists(10,16)\n",
    "get_midpoint_dists(10,18)\n",
    "get_midpoint_dists(10,20)\n",
    "\n",
    "\n",
    "\n",
    "\n",
    "\n",
    "\n",
    "#When even paired with odd, always requires rotation of gcd(a,b)/4\n",
    "#When both odd, never requires rotation\n",
    "#When both even, does not require rotation if b/a is odd, otherwise gcd(a,b/4)\n"
   ]
  },
  {
   "cell_type": "code",
   "execution_count": null,
   "metadata": {},
   "outputs": [],
   "source": [
    "combined_dists=np.array([1,2]+[2,3])\n",
    "np.min(np.abs(combined_dists[np.nonzero(combined_dists)]))"
   ]
  },
  {
   "cell_type": "code",
   "execution_count": 112,
   "metadata": {},
   "outputs": [
    {
     "name": "stdout",
     "output_type": "stream",
     "text": [
      "Fetched\n",
      "6000\n",
      "PCA complete\n"
     ]
    }
   ],
   "source": [
    "#T-SNE\n",
    "from sklearn.manifold import TSNE\n",
    "from sklearn.decomposition import PCA\n",
    "from sklearn.datasets import fetch_openml\n",
    "from sklearn.model_selection import train_test_split\n",
    "from sklearn.preprocessing import StandardScaler\n",
    "\n",
    "X, y = fetch_openml('mnist_784', version=1, return_X_y=True)\n",
    "print(\"Fetched\")\n",
    "random_state = check_random_state(0)\n",
    "# permutation = random_state.permutation(X.shape[0])\n",
    "# X = X[permutation]\n",
    "# y = y[permutation]\n",
    "X = X.reshape((X.shape[0], -1))\n",
    "X_train, X_test, y_train, y_test = train_test_split(\n",
    "    X, y, train_size=6000, test_size=10000)\n",
    "scaler = StandardScaler()\n",
    "X_train = scaler.fit_transform(X_train)\n",
    "X_test = scaler.transform(X_test)\n",
    "print(len(X_train))\n",
    "decomp = PCA(n_components=30, random_state=0)\n",
    "reduced_data = decomp.fit_transform(X_train)\n",
    "print(\"PCA complete\")\n",
    "model = TSNE(n_components=2, random_state=0, perplexity=40, init=\"pca\", early_exaggeration=4, learning_rate=100)\n",
    "tsne_data = model.fit_transform(reduced_data)\n",
    "\n",
    "\n"
   ]
  },
  {
   "cell_type": "code",
   "execution_count": 113,
   "metadata": {},
   "outputs": [
    {
     "data": {
      "application/javascript": [
       "/* Put everything inside the global mpl namespace */\n",
       "window.mpl = {};\n",
       "\n",
       "\n",
       "mpl.get_websocket_type = function() {\n",
       "    if (typeof(WebSocket) !== 'undefined') {\n",
       "        return WebSocket;\n",
       "    } else if (typeof(MozWebSocket) !== 'undefined') {\n",
       "        return MozWebSocket;\n",
       "    } else {\n",
       "        alert('Your browser does not have WebSocket support. ' +\n",
       "              'Please try Chrome, Safari or Firefox ≥ 6. ' +\n",
       "              'Firefox 4 and 5 are also supported but you ' +\n",
       "              'have to enable WebSockets in about:config.');\n",
       "    };\n",
       "}\n",
       "\n",
       "mpl.figure = function(figure_id, websocket, ondownload, parent_element) {\n",
       "    this.id = figure_id;\n",
       "\n",
       "    this.ws = websocket;\n",
       "\n",
       "    this.supports_binary = (this.ws.binaryType != undefined);\n",
       "\n",
       "    if (!this.supports_binary) {\n",
       "        var warnings = document.getElementById(\"mpl-warnings\");\n",
       "        if (warnings) {\n",
       "            warnings.style.display = 'block';\n",
       "            warnings.textContent = (\n",
       "                \"This browser does not support binary websocket messages. \" +\n",
       "                    \"Performance may be slow.\");\n",
       "        }\n",
       "    }\n",
       "\n",
       "    this.imageObj = new Image();\n",
       "\n",
       "    this.context = undefined;\n",
       "    this.message = undefined;\n",
       "    this.canvas = undefined;\n",
       "    this.rubberband_canvas = undefined;\n",
       "    this.rubberband_context = undefined;\n",
       "    this.format_dropdown = undefined;\n",
       "\n",
       "    this.image_mode = 'full';\n",
       "\n",
       "    this.root = $('<div/>');\n",
       "    this._root_extra_style(this.root)\n",
       "    this.root.attr('style', 'display: inline-block');\n",
       "\n",
       "    $(parent_element).append(this.root);\n",
       "\n",
       "    this._init_header(this);\n",
       "    this._init_canvas(this);\n",
       "    this._init_toolbar(this);\n",
       "\n",
       "    var fig = this;\n",
       "\n",
       "    this.waiting = false;\n",
       "\n",
       "    this.ws.onopen =  function () {\n",
       "            fig.send_message(\"supports_binary\", {value: fig.supports_binary});\n",
       "            fig.send_message(\"send_image_mode\", {});\n",
       "            if (mpl.ratio != 1) {\n",
       "                fig.send_message(\"set_dpi_ratio\", {'dpi_ratio': mpl.ratio});\n",
       "            }\n",
       "            fig.send_message(\"refresh\", {});\n",
       "        }\n",
       "\n",
       "    this.imageObj.onload = function() {\n",
       "            if (fig.image_mode == 'full') {\n",
       "                // Full images could contain transparency (where diff images\n",
       "                // almost always do), so we need to clear the canvas so that\n",
       "                // there is no ghosting.\n",
       "                fig.context.clearRect(0, 0, fig.canvas.width, fig.canvas.height);\n",
       "            }\n",
       "            fig.context.drawImage(fig.imageObj, 0, 0);\n",
       "        };\n",
       "\n",
       "    this.imageObj.onunload = function() {\n",
       "        fig.ws.close();\n",
       "    }\n",
       "\n",
       "    this.ws.onmessage = this._make_on_message_function(this);\n",
       "\n",
       "    this.ondownload = ondownload;\n",
       "}\n",
       "\n",
       "mpl.figure.prototype._init_header = function() {\n",
       "    var titlebar = $(\n",
       "        '<div class=\"ui-dialog-titlebar ui-widget-header ui-corner-all ' +\n",
       "        'ui-helper-clearfix\"/>');\n",
       "    var titletext = $(\n",
       "        '<div class=\"ui-dialog-title\" style=\"width: 100%; ' +\n",
       "        'text-align: center; padding: 3px;\"/>');\n",
       "    titlebar.append(titletext)\n",
       "    this.root.append(titlebar);\n",
       "    this.header = titletext[0];\n",
       "}\n",
       "\n",
       "\n",
       "\n",
       "mpl.figure.prototype._canvas_extra_style = function(canvas_div) {\n",
       "\n",
       "}\n",
       "\n",
       "\n",
       "mpl.figure.prototype._root_extra_style = function(canvas_div) {\n",
       "\n",
       "}\n",
       "\n",
       "mpl.figure.prototype._init_canvas = function() {\n",
       "    var fig = this;\n",
       "\n",
       "    var canvas_div = $('<div/>');\n",
       "\n",
       "    canvas_div.attr('style', 'position: relative; clear: both; outline: 0');\n",
       "\n",
       "    function canvas_keyboard_event(event) {\n",
       "        return fig.key_event(event, event['data']);\n",
       "    }\n",
       "\n",
       "    canvas_div.keydown('key_press', canvas_keyboard_event);\n",
       "    canvas_div.keyup('key_release', canvas_keyboard_event);\n",
       "    this.canvas_div = canvas_div\n",
       "    this._canvas_extra_style(canvas_div)\n",
       "    this.root.append(canvas_div);\n",
       "\n",
       "    var canvas = $('<canvas/>');\n",
       "    canvas.addClass('mpl-canvas');\n",
       "    canvas.attr('style', \"left: 0; top: 0; z-index: 0; outline: 0\")\n",
       "\n",
       "    this.canvas = canvas[0];\n",
       "    this.context = canvas[0].getContext(\"2d\");\n",
       "\n",
       "    var backingStore = this.context.backingStorePixelRatio ||\n",
       "\tthis.context.webkitBackingStorePixelRatio ||\n",
       "\tthis.context.mozBackingStorePixelRatio ||\n",
       "\tthis.context.msBackingStorePixelRatio ||\n",
       "\tthis.context.oBackingStorePixelRatio ||\n",
       "\tthis.context.backingStorePixelRatio || 1;\n",
       "\n",
       "    mpl.ratio = (window.devicePixelRatio || 1) / backingStore;\n",
       "\n",
       "    var rubberband = $('<canvas/>');\n",
       "    rubberband.attr('style', \"position: absolute; left: 0; top: 0; z-index: 1;\")\n",
       "\n",
       "    var pass_mouse_events = true;\n",
       "\n",
       "    canvas_div.resizable({\n",
       "        start: function(event, ui) {\n",
       "            pass_mouse_events = false;\n",
       "        },\n",
       "        resize: function(event, ui) {\n",
       "            fig.request_resize(ui.size.width, ui.size.height);\n",
       "        },\n",
       "        stop: function(event, ui) {\n",
       "            pass_mouse_events = true;\n",
       "            fig.request_resize(ui.size.width, ui.size.height);\n",
       "        },\n",
       "    });\n",
       "\n",
       "    function mouse_event_fn(event) {\n",
       "        if (pass_mouse_events)\n",
       "            return fig.mouse_event(event, event['data']);\n",
       "    }\n",
       "\n",
       "    rubberband.mousedown('button_press', mouse_event_fn);\n",
       "    rubberband.mouseup('button_release', mouse_event_fn);\n",
       "    // Throttle sequential mouse events to 1 every 20ms.\n",
       "    rubberband.mousemove('motion_notify', mouse_event_fn);\n",
       "\n",
       "    rubberband.mouseenter('figure_enter', mouse_event_fn);\n",
       "    rubberband.mouseleave('figure_leave', mouse_event_fn);\n",
       "\n",
       "    canvas_div.on(\"wheel\", function (event) {\n",
       "        event = event.originalEvent;\n",
       "        event['data'] = 'scroll'\n",
       "        if (event.deltaY < 0) {\n",
       "            event.step = 1;\n",
       "        } else {\n",
       "            event.step = -1;\n",
       "        }\n",
       "        mouse_event_fn(event);\n",
       "    });\n",
       "\n",
       "    canvas_div.append(canvas);\n",
       "    canvas_div.append(rubberband);\n",
       "\n",
       "    this.rubberband = rubberband;\n",
       "    this.rubberband_canvas = rubberband[0];\n",
       "    this.rubberband_context = rubberband[0].getContext(\"2d\");\n",
       "    this.rubberband_context.strokeStyle = \"#000000\";\n",
       "\n",
       "    this._resize_canvas = function(width, height) {\n",
       "        // Keep the size of the canvas, canvas container, and rubber band\n",
       "        // canvas in synch.\n",
       "        canvas_div.css('width', width)\n",
       "        canvas_div.css('height', height)\n",
       "\n",
       "        canvas.attr('width', width * mpl.ratio);\n",
       "        canvas.attr('height', height * mpl.ratio);\n",
       "        canvas.attr('style', 'width: ' + width + 'px; height: ' + height + 'px;');\n",
       "\n",
       "        rubberband.attr('width', width);\n",
       "        rubberband.attr('height', height);\n",
       "    }\n",
       "\n",
       "    // Set the figure to an initial 600x600px, this will subsequently be updated\n",
       "    // upon first draw.\n",
       "    this._resize_canvas(600, 600);\n",
       "\n",
       "    // Disable right mouse context menu.\n",
       "    $(this.rubberband_canvas).bind(\"contextmenu\",function(e){\n",
       "        return false;\n",
       "    });\n",
       "\n",
       "    function set_focus () {\n",
       "        canvas.focus();\n",
       "        canvas_div.focus();\n",
       "    }\n",
       "\n",
       "    window.setTimeout(set_focus, 100);\n",
       "}\n",
       "\n",
       "mpl.figure.prototype._init_toolbar = function() {\n",
       "    var fig = this;\n",
       "\n",
       "    var nav_element = $('<div/>');\n",
       "    nav_element.attr('style', 'width: 100%');\n",
       "    this.root.append(nav_element);\n",
       "\n",
       "    // Define a callback function for later on.\n",
       "    function toolbar_event(event) {\n",
       "        return fig.toolbar_button_onclick(event['data']);\n",
       "    }\n",
       "    function toolbar_mouse_event(event) {\n",
       "        return fig.toolbar_button_onmouseover(event['data']);\n",
       "    }\n",
       "\n",
       "    for(var toolbar_ind in mpl.toolbar_items) {\n",
       "        var name = mpl.toolbar_items[toolbar_ind][0];\n",
       "        var tooltip = mpl.toolbar_items[toolbar_ind][1];\n",
       "        var image = mpl.toolbar_items[toolbar_ind][2];\n",
       "        var method_name = mpl.toolbar_items[toolbar_ind][3];\n",
       "\n",
       "        if (!name) {\n",
       "            // put a spacer in here.\n",
       "            continue;\n",
       "        }\n",
       "        var button = $('<button/>');\n",
       "        button.addClass('ui-button ui-widget ui-state-default ui-corner-all ' +\n",
       "                        'ui-button-icon-only');\n",
       "        button.attr('role', 'button');\n",
       "        button.attr('aria-disabled', 'false');\n",
       "        button.click(method_name, toolbar_event);\n",
       "        button.mouseover(tooltip, toolbar_mouse_event);\n",
       "\n",
       "        var icon_img = $('<span/>');\n",
       "        icon_img.addClass('ui-button-icon-primary ui-icon');\n",
       "        icon_img.addClass(image);\n",
       "        icon_img.addClass('ui-corner-all');\n",
       "\n",
       "        var tooltip_span = $('<span/>');\n",
       "        tooltip_span.addClass('ui-button-text');\n",
       "        tooltip_span.html(tooltip);\n",
       "\n",
       "        button.append(icon_img);\n",
       "        button.append(tooltip_span);\n",
       "\n",
       "        nav_element.append(button);\n",
       "    }\n",
       "\n",
       "    var fmt_picker_span = $('<span/>');\n",
       "\n",
       "    var fmt_picker = $('<select/>');\n",
       "    fmt_picker.addClass('mpl-toolbar-option ui-widget ui-widget-content');\n",
       "    fmt_picker_span.append(fmt_picker);\n",
       "    nav_element.append(fmt_picker_span);\n",
       "    this.format_dropdown = fmt_picker[0];\n",
       "\n",
       "    for (var ind in mpl.extensions) {\n",
       "        var fmt = mpl.extensions[ind];\n",
       "        var option = $(\n",
       "            '<option/>', {selected: fmt === mpl.default_extension}).html(fmt);\n",
       "        fmt_picker.append(option);\n",
       "    }\n",
       "\n",
       "    // Add hover states to the ui-buttons\n",
       "    $( \".ui-button\" ).hover(\n",
       "        function() { $(this).addClass(\"ui-state-hover\");},\n",
       "        function() { $(this).removeClass(\"ui-state-hover\");}\n",
       "    );\n",
       "\n",
       "    var status_bar = $('<span class=\"mpl-message\"/>');\n",
       "    nav_element.append(status_bar);\n",
       "    this.message = status_bar[0];\n",
       "}\n",
       "\n",
       "mpl.figure.prototype.request_resize = function(x_pixels, y_pixels) {\n",
       "    // Request matplotlib to resize the figure. Matplotlib will then trigger a resize in the client,\n",
       "    // which will in turn request a refresh of the image.\n",
       "    this.send_message('resize', {'width': x_pixels, 'height': y_pixels});\n",
       "}\n",
       "\n",
       "mpl.figure.prototype.send_message = function(type, properties) {\n",
       "    properties['type'] = type;\n",
       "    properties['figure_id'] = this.id;\n",
       "    this.ws.send(JSON.stringify(properties));\n",
       "}\n",
       "\n",
       "mpl.figure.prototype.send_draw_message = function() {\n",
       "    if (!this.waiting) {\n",
       "        this.waiting = true;\n",
       "        this.ws.send(JSON.stringify({type: \"draw\", figure_id: this.id}));\n",
       "    }\n",
       "}\n",
       "\n",
       "\n",
       "mpl.figure.prototype.handle_save = function(fig, msg) {\n",
       "    var format_dropdown = fig.format_dropdown;\n",
       "    var format = format_dropdown.options[format_dropdown.selectedIndex].value;\n",
       "    fig.ondownload(fig, format);\n",
       "}\n",
       "\n",
       "\n",
       "mpl.figure.prototype.handle_resize = function(fig, msg) {\n",
       "    var size = msg['size'];\n",
       "    if (size[0] != fig.canvas.width || size[1] != fig.canvas.height) {\n",
       "        fig._resize_canvas(size[0], size[1]);\n",
       "        fig.send_message(\"refresh\", {});\n",
       "    };\n",
       "}\n",
       "\n",
       "mpl.figure.prototype.handle_rubberband = function(fig, msg) {\n",
       "    var x0 = msg['x0'] / mpl.ratio;\n",
       "    var y0 = (fig.canvas.height - msg['y0']) / mpl.ratio;\n",
       "    var x1 = msg['x1'] / mpl.ratio;\n",
       "    var y1 = (fig.canvas.height - msg['y1']) / mpl.ratio;\n",
       "    x0 = Math.floor(x0) + 0.5;\n",
       "    y0 = Math.floor(y0) + 0.5;\n",
       "    x1 = Math.floor(x1) + 0.5;\n",
       "    y1 = Math.floor(y1) + 0.5;\n",
       "    var min_x = Math.min(x0, x1);\n",
       "    var min_y = Math.min(y0, y1);\n",
       "    var width = Math.abs(x1 - x0);\n",
       "    var height = Math.abs(y1 - y0);\n",
       "\n",
       "    fig.rubberband_context.clearRect(\n",
       "        0, 0, fig.canvas.width / mpl.ratio, fig.canvas.height / mpl.ratio);\n",
       "\n",
       "    fig.rubberband_context.strokeRect(min_x, min_y, width, height);\n",
       "}\n",
       "\n",
       "mpl.figure.prototype.handle_figure_label = function(fig, msg) {\n",
       "    // Updates the figure title.\n",
       "    fig.header.textContent = msg['label'];\n",
       "}\n",
       "\n",
       "mpl.figure.prototype.handle_cursor = function(fig, msg) {\n",
       "    var cursor = msg['cursor'];\n",
       "    switch(cursor)\n",
       "    {\n",
       "    case 0:\n",
       "        cursor = 'pointer';\n",
       "        break;\n",
       "    case 1:\n",
       "        cursor = 'default';\n",
       "        break;\n",
       "    case 2:\n",
       "        cursor = 'crosshair';\n",
       "        break;\n",
       "    case 3:\n",
       "        cursor = 'move';\n",
       "        break;\n",
       "    }\n",
       "    fig.rubberband_canvas.style.cursor = cursor;\n",
       "}\n",
       "\n",
       "mpl.figure.prototype.handle_message = function(fig, msg) {\n",
       "    fig.message.textContent = msg['message'];\n",
       "}\n",
       "\n",
       "mpl.figure.prototype.handle_draw = function(fig, msg) {\n",
       "    // Request the server to send over a new figure.\n",
       "    fig.send_draw_message();\n",
       "}\n",
       "\n",
       "mpl.figure.prototype.handle_image_mode = function(fig, msg) {\n",
       "    fig.image_mode = msg['mode'];\n",
       "}\n",
       "\n",
       "mpl.figure.prototype.updated_canvas_event = function() {\n",
       "    // Called whenever the canvas gets updated.\n",
       "    this.send_message(\"ack\", {});\n",
       "}\n",
       "\n",
       "// A function to construct a web socket function for onmessage handling.\n",
       "// Called in the figure constructor.\n",
       "mpl.figure.prototype._make_on_message_function = function(fig) {\n",
       "    return function socket_on_message(evt) {\n",
       "        if (evt.data instanceof Blob) {\n",
       "            /* FIXME: We get \"Resource interpreted as Image but\n",
       "             * transferred with MIME type text/plain:\" errors on\n",
       "             * Chrome.  But how to set the MIME type?  It doesn't seem\n",
       "             * to be part of the websocket stream */\n",
       "            evt.data.type = \"image/png\";\n",
       "\n",
       "            /* Free the memory for the previous frames */\n",
       "            if (fig.imageObj.src) {\n",
       "                (window.URL || window.webkitURL).revokeObjectURL(\n",
       "                    fig.imageObj.src);\n",
       "            }\n",
       "\n",
       "            fig.imageObj.src = (window.URL || window.webkitURL).createObjectURL(\n",
       "                evt.data);\n",
       "            fig.updated_canvas_event();\n",
       "            fig.waiting = false;\n",
       "            return;\n",
       "        }\n",
       "        else if (typeof evt.data === 'string' && evt.data.slice(0, 21) == \"data:image/png;base64\") {\n",
       "            fig.imageObj.src = evt.data;\n",
       "            fig.updated_canvas_event();\n",
       "            fig.waiting = false;\n",
       "            return;\n",
       "        }\n",
       "\n",
       "        var msg = JSON.parse(evt.data);\n",
       "        var msg_type = msg['type'];\n",
       "\n",
       "        // Call the  \"handle_{type}\" callback, which takes\n",
       "        // the figure and JSON message as its only arguments.\n",
       "        try {\n",
       "            var callback = fig[\"handle_\" + msg_type];\n",
       "        } catch (e) {\n",
       "            console.log(\"No handler for the '\" + msg_type + \"' message type: \", msg);\n",
       "            return;\n",
       "        }\n",
       "\n",
       "        if (callback) {\n",
       "            try {\n",
       "                // console.log(\"Handling '\" + msg_type + \"' message: \", msg);\n",
       "                callback(fig, msg);\n",
       "            } catch (e) {\n",
       "                console.log(\"Exception inside the 'handler_\" + msg_type + \"' callback:\", e, e.stack, msg);\n",
       "            }\n",
       "        }\n",
       "    };\n",
       "}\n",
       "\n",
       "// from http://stackoverflow.com/questions/1114465/getting-mouse-location-in-canvas\n",
       "mpl.findpos = function(e) {\n",
       "    //this section is from http://www.quirksmode.org/js/events_properties.html\n",
       "    var targ;\n",
       "    if (!e)\n",
       "        e = window.event;\n",
       "    if (e.target)\n",
       "        targ = e.target;\n",
       "    else if (e.srcElement)\n",
       "        targ = e.srcElement;\n",
       "    if (targ.nodeType == 3) // defeat Safari bug\n",
       "        targ = targ.parentNode;\n",
       "\n",
       "    // jQuery normalizes the pageX and pageY\n",
       "    // pageX,Y are the mouse positions relative to the document\n",
       "    // offset() returns the position of the element relative to the document\n",
       "    var x = e.pageX - $(targ).offset().left;\n",
       "    var y = e.pageY - $(targ).offset().top;\n",
       "\n",
       "    return {\"x\": x, \"y\": y};\n",
       "};\n",
       "\n",
       "/*\n",
       " * return a copy of an object with only non-object keys\n",
       " * we need this to avoid circular references\n",
       " * http://stackoverflow.com/a/24161582/3208463\n",
       " */\n",
       "function simpleKeys (original) {\n",
       "  return Object.keys(original).reduce(function (obj, key) {\n",
       "    if (typeof original[key] !== 'object')\n",
       "        obj[key] = original[key]\n",
       "    return obj;\n",
       "  }, {});\n",
       "}\n",
       "\n",
       "mpl.figure.prototype.mouse_event = function(event, name) {\n",
       "    var canvas_pos = mpl.findpos(event)\n",
       "\n",
       "    if (name === 'button_press')\n",
       "    {\n",
       "        this.canvas.focus();\n",
       "        this.canvas_div.focus();\n",
       "    }\n",
       "\n",
       "    var x = canvas_pos.x * mpl.ratio;\n",
       "    var y = canvas_pos.y * mpl.ratio;\n",
       "\n",
       "    this.send_message(name, {x: x, y: y, button: event.button,\n",
       "                             step: event.step,\n",
       "                             guiEvent: simpleKeys(event)});\n",
       "\n",
       "    /* This prevents the web browser from automatically changing to\n",
       "     * the text insertion cursor when the button is pressed.  We want\n",
       "     * to control all of the cursor setting manually through the\n",
       "     * 'cursor' event from matplotlib */\n",
       "    event.preventDefault();\n",
       "    return false;\n",
       "}\n",
       "\n",
       "mpl.figure.prototype._key_event_extra = function(event, name) {\n",
       "    // Handle any extra behaviour associated with a key event\n",
       "}\n",
       "\n",
       "mpl.figure.prototype.key_event = function(event, name) {\n",
       "\n",
       "    // Prevent repeat events\n",
       "    if (name == 'key_press')\n",
       "    {\n",
       "        if (event.which === this._key)\n",
       "            return;\n",
       "        else\n",
       "            this._key = event.which;\n",
       "    }\n",
       "    if (name == 'key_release')\n",
       "        this._key = null;\n",
       "\n",
       "    var value = '';\n",
       "    if (event.ctrlKey && event.which != 17)\n",
       "        value += \"ctrl+\";\n",
       "    if (event.altKey && event.which != 18)\n",
       "        value += \"alt+\";\n",
       "    if (event.shiftKey && event.which != 16)\n",
       "        value += \"shift+\";\n",
       "\n",
       "    value += 'k';\n",
       "    value += event.which.toString();\n",
       "\n",
       "    this._key_event_extra(event, name);\n",
       "\n",
       "    this.send_message(name, {key: value,\n",
       "                             guiEvent: simpleKeys(event)});\n",
       "    return false;\n",
       "}\n",
       "\n",
       "mpl.figure.prototype.toolbar_button_onclick = function(name) {\n",
       "    if (name == 'download') {\n",
       "        this.handle_save(this, null);\n",
       "    } else {\n",
       "        this.send_message(\"toolbar_button\", {name: name});\n",
       "    }\n",
       "};\n",
       "\n",
       "mpl.figure.prototype.toolbar_button_onmouseover = function(tooltip) {\n",
       "    this.message.textContent = tooltip;\n",
       "};\n",
       "mpl.toolbar_items = [[\"Home\", \"Reset original view\", \"fa fa-home icon-home\", \"home\"], [\"Back\", \"Back to previous view\", \"fa fa-arrow-left icon-arrow-left\", \"back\"], [\"Forward\", \"Forward to next view\", \"fa fa-arrow-right icon-arrow-right\", \"forward\"], [\"\", \"\", \"\", \"\"], [\"Pan\", \"Pan axes with left mouse, zoom with right\", \"fa fa-arrows icon-move\", \"pan\"], [\"Zoom\", \"Zoom to rectangle\", \"fa fa-square-o icon-check-empty\", \"zoom\"], [\"\", \"\", \"\", \"\"], [\"Download\", \"Download plot\", \"fa fa-floppy-o icon-save\", \"download\"]];\n",
       "\n",
       "mpl.extensions = [\"eps\", \"jpeg\", \"pdf\", \"png\", \"ps\", \"raw\", \"svg\", \"tif\"];\n",
       "\n",
       "mpl.default_extension = \"png\";var comm_websocket_adapter = function(comm) {\n",
       "    // Create a \"websocket\"-like object which calls the given IPython comm\n",
       "    // object with the appropriate methods. Currently this is a non binary\n",
       "    // socket, so there is still some room for performance tuning.\n",
       "    var ws = {};\n",
       "\n",
       "    ws.close = function() {\n",
       "        comm.close()\n",
       "    };\n",
       "    ws.send = function(m) {\n",
       "        //console.log('sending', m);\n",
       "        comm.send(m);\n",
       "    };\n",
       "    // Register the callback with on_msg.\n",
       "    comm.on_msg(function(msg) {\n",
       "        //console.log('receiving', msg['content']['data'], msg);\n",
       "        // Pass the mpl event to the overridden (by mpl) onmessage function.\n",
       "        ws.onmessage(msg['content']['data'])\n",
       "    });\n",
       "    return ws;\n",
       "}\n",
       "\n",
       "mpl.mpl_figure_comm = function(comm, msg) {\n",
       "    // This is the function which gets called when the mpl process\n",
       "    // starts-up an IPython Comm through the \"matplotlib\" channel.\n",
       "\n",
       "    var id = msg.content.data.id;\n",
       "    // Get hold of the div created by the display call when the Comm\n",
       "    // socket was opened in Python.\n",
       "    var element = $(\"#\" + id);\n",
       "    var ws_proxy = comm_websocket_adapter(comm)\n",
       "\n",
       "    function ondownload(figure, format) {\n",
       "        window.open(figure.imageObj.src);\n",
       "    }\n",
       "\n",
       "    var fig = new mpl.figure(id, ws_proxy,\n",
       "                           ondownload,\n",
       "                           element.get(0));\n",
       "\n",
       "    // Call onopen now - mpl needs it, as it is assuming we've passed it a real\n",
       "    // web socket which is closed, not our websocket->open comm proxy.\n",
       "    ws_proxy.onopen();\n",
       "\n",
       "    fig.parent_element = element.get(0);\n",
       "    fig.cell_info = mpl.find_output_cell(\"<div id='\" + id + \"'></div>\");\n",
       "    if (!fig.cell_info) {\n",
       "        console.error(\"Failed to find cell for figure\", id, fig);\n",
       "        return;\n",
       "    }\n",
       "\n",
       "    var output_index = fig.cell_info[2]\n",
       "    var cell = fig.cell_info[0];\n",
       "\n",
       "};\n",
       "\n",
       "mpl.figure.prototype.handle_close = function(fig, msg) {\n",
       "    var width = fig.canvas.width/mpl.ratio\n",
       "    fig.root.unbind('remove')\n",
       "\n",
       "    // Update the output cell to use the data from the current canvas.\n",
       "    fig.push_to_output();\n",
       "    var dataURL = fig.canvas.toDataURL();\n",
       "    // Re-enable the keyboard manager in IPython - without this line, in FF,\n",
       "    // the notebook keyboard shortcuts fail.\n",
       "    IPython.keyboard_manager.enable()\n",
       "    $(fig.parent_element).html('<img src=\"' + dataURL + '\" width=\"' + width + '\">');\n",
       "    fig.close_ws(fig, msg);\n",
       "}\n",
       "\n",
       "mpl.figure.prototype.close_ws = function(fig, msg){\n",
       "    fig.send_message('closing', msg);\n",
       "    // fig.ws.close()\n",
       "}\n",
       "\n",
       "mpl.figure.prototype.push_to_output = function(remove_interactive) {\n",
       "    // Turn the data on the canvas into data in the output cell.\n",
       "    var width = this.canvas.width/mpl.ratio\n",
       "    var dataURL = this.canvas.toDataURL();\n",
       "    this.cell_info[1]['text/html'] = '<img src=\"' + dataURL + '\" width=\"' + width + '\">';\n",
       "}\n",
       "\n",
       "mpl.figure.prototype.updated_canvas_event = function() {\n",
       "    // Tell IPython that the notebook contents must change.\n",
       "    IPython.notebook.set_dirty(true);\n",
       "    this.send_message(\"ack\", {});\n",
       "    var fig = this;\n",
       "    // Wait a second, then push the new image to the DOM so\n",
       "    // that it is saved nicely (might be nice to debounce this).\n",
       "    setTimeout(function () { fig.push_to_output() }, 1000);\n",
       "}\n",
       "\n",
       "mpl.figure.prototype._init_toolbar = function() {\n",
       "    var fig = this;\n",
       "\n",
       "    var nav_element = $('<div/>');\n",
       "    nav_element.attr('style', 'width: 100%');\n",
       "    this.root.append(nav_element);\n",
       "\n",
       "    // Define a callback function for later on.\n",
       "    function toolbar_event(event) {\n",
       "        return fig.toolbar_button_onclick(event['data']);\n",
       "    }\n",
       "    function toolbar_mouse_event(event) {\n",
       "        return fig.toolbar_button_onmouseover(event['data']);\n",
       "    }\n",
       "\n",
       "    for(var toolbar_ind in mpl.toolbar_items){\n",
       "        var name = mpl.toolbar_items[toolbar_ind][0];\n",
       "        var tooltip = mpl.toolbar_items[toolbar_ind][1];\n",
       "        var image = mpl.toolbar_items[toolbar_ind][2];\n",
       "        var method_name = mpl.toolbar_items[toolbar_ind][3];\n",
       "\n",
       "        if (!name) { continue; };\n",
       "\n",
       "        var button = $('<button class=\"btn btn-default\" href=\"#\" title=\"' + name + '\"><i class=\"fa ' + image + ' fa-lg\"></i></button>');\n",
       "        button.click(method_name, toolbar_event);\n",
       "        button.mouseover(tooltip, toolbar_mouse_event);\n",
       "        nav_element.append(button);\n",
       "    }\n",
       "\n",
       "    // Add the status bar.\n",
       "    var status_bar = $('<span class=\"mpl-message\" style=\"text-align:right; float: right;\"/>');\n",
       "    nav_element.append(status_bar);\n",
       "    this.message = status_bar[0];\n",
       "\n",
       "    // Add the close button to the window.\n",
       "    var buttongrp = $('<div class=\"btn-group inline pull-right\"></div>');\n",
       "    var button = $('<button class=\"btn btn-mini btn-primary\" href=\"#\" title=\"Stop Interaction\"><i class=\"fa fa-power-off icon-remove icon-large\"></i></button>');\n",
       "    button.click(function (evt) { fig.handle_close(fig, {}); } );\n",
       "    button.mouseover('Stop Interaction', toolbar_mouse_event);\n",
       "    buttongrp.append(button);\n",
       "    var titlebar = this.root.find($('.ui-dialog-titlebar'));\n",
       "    titlebar.prepend(buttongrp);\n",
       "}\n",
       "\n",
       "mpl.figure.prototype._root_extra_style = function(el){\n",
       "    var fig = this\n",
       "    el.on(\"remove\", function(){\n",
       "\tfig.close_ws(fig, {});\n",
       "    });\n",
       "}\n",
       "\n",
       "mpl.figure.prototype._canvas_extra_style = function(el){\n",
       "    // this is important to make the div 'focusable\n",
       "    el.attr('tabindex', 0)\n",
       "    // reach out to IPython and tell the keyboard manager to turn it's self\n",
       "    // off when our div gets focus\n",
       "\n",
       "    // location in version 3\n",
       "    if (IPython.notebook.keyboard_manager) {\n",
       "        IPython.notebook.keyboard_manager.register_events(el);\n",
       "    }\n",
       "    else {\n",
       "        // location in version 2\n",
       "        IPython.keyboard_manager.register_events(el);\n",
       "    }\n",
       "\n",
       "}\n",
       "\n",
       "mpl.figure.prototype._key_event_extra = function(event, name) {\n",
       "    var manager = IPython.notebook.keyboard_manager;\n",
       "    if (!manager)\n",
       "        manager = IPython.keyboard_manager;\n",
       "\n",
       "    // Check for shift+enter\n",
       "    if (event.shiftKey && event.which == 13) {\n",
       "        this.canvas_div.blur();\n",
       "        // select the cell after this one\n",
       "        var index = IPython.notebook.find_cell_index(this.cell_info[0]);\n",
       "        IPython.notebook.select(index + 1);\n",
       "    }\n",
       "}\n",
       "\n",
       "mpl.figure.prototype.handle_save = function(fig, msg) {\n",
       "    fig.ondownload(fig, null);\n",
       "}\n",
       "\n",
       "\n",
       "mpl.find_output_cell = function(html_output) {\n",
       "    // Return the cell and output element which can be found *uniquely* in the notebook.\n",
       "    // Note - this is a bit hacky, but it is done because the \"notebook_saving.Notebook\"\n",
       "    // IPython event is triggered only after the cells have been serialised, which for\n",
       "    // our purposes (turning an active figure into a static one), is too late.\n",
       "    var cells = IPython.notebook.get_cells();\n",
       "    var ncells = cells.length;\n",
       "    for (var i=0; i<ncells; i++) {\n",
       "        var cell = cells[i];\n",
       "        if (cell.cell_type === 'code'){\n",
       "            for (var j=0; j<cell.output_area.outputs.length; j++) {\n",
       "                var data = cell.output_area.outputs[j];\n",
       "                if (data.data) {\n",
       "                    // IPython >= 3 moved mimebundle to data attribute of output\n",
       "                    data = data.data;\n",
       "                }\n",
       "                if (data['text/html'] == html_output) {\n",
       "                    return [cell, data, j];\n",
       "                }\n",
       "            }\n",
       "        }\n",
       "    }\n",
       "}\n",
       "\n",
       "// Register the function which deals with the matplotlib target/channel.\n",
       "// The kernel may be null if the page has been refreshed.\n",
       "if (IPython.notebook.kernel != null) {\n",
       "    IPython.notebook.kernel.comm_manager.register_target('matplotlib', mpl.mpl_figure_comm);\n",
       "}\n"
      ],
      "text/plain": [
       "<IPython.core.display.Javascript object>"
      ]
     },
     "metadata": {},
     "output_type": "display_data"
    },
    {
     "data": {
      "text/html": [
       "<img src=\"data:image/png;base64,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\" width=\"640\">"
      ],
      "text/plain": [
       "<IPython.core.display.HTML object>"
      ]
     },
     "metadata": {},
     "output_type": "display_data"
    }
   ],
   "source": [
    "%matplotlib notebook\n",
    "import numpy as np\n",
    "import matplotlib.pyplot as plt\n",
    "cmap_single = get_cmap(10, \"tab20\")\n",
    "colors=cmap_single(range(10))\n",
    "plt.scatter(tsne_data[:,0],tsne_data[:,1], c=[colors[int(i)] for i in y_train], alpha=0.2)\n",
    "plt.show()"
   ]
  },
  {
   "cell_type": "code",
   "execution_count": 94,
   "metadata": {},
   "outputs": [
    {
     "name": "stdout",
     "output_type": "stream",
     "text": [
      "Fetched\n",
      "20\n",
      "177\n"
     ]
    },
    {
     "data": {
      "application/javascript": [
       "/* Put everything inside the global mpl namespace */\n",
       "window.mpl = {};\n",
       "\n",
       "\n",
       "mpl.get_websocket_type = function() {\n",
       "    if (typeof(WebSocket) !== 'undefined') {\n",
       "        return WebSocket;\n",
       "    } else if (typeof(MozWebSocket) !== 'undefined') {\n",
       "        return MozWebSocket;\n",
       "    } else {\n",
       "        alert('Your browser does not have WebSocket support. ' +\n",
       "              'Please try Chrome, Safari or Firefox ≥ 6. ' +\n",
       "              'Firefox 4 and 5 are also supported but you ' +\n",
       "              'have to enable WebSockets in about:config.');\n",
       "    };\n",
       "}\n",
       "\n",
       "mpl.figure = function(figure_id, websocket, ondownload, parent_element) {\n",
       "    this.id = figure_id;\n",
       "\n",
       "    this.ws = websocket;\n",
       "\n",
       "    this.supports_binary = (this.ws.binaryType != undefined);\n",
       "\n",
       "    if (!this.supports_binary) {\n",
       "        var warnings = document.getElementById(\"mpl-warnings\");\n",
       "        if (warnings) {\n",
       "            warnings.style.display = 'block';\n",
       "            warnings.textContent = (\n",
       "                \"This browser does not support binary websocket messages. \" +\n",
       "                    \"Performance may be slow.\");\n",
       "        }\n",
       "    }\n",
       "\n",
       "    this.imageObj = new Image();\n",
       "\n",
       "    this.context = undefined;\n",
       "    this.message = undefined;\n",
       "    this.canvas = undefined;\n",
       "    this.rubberband_canvas = undefined;\n",
       "    this.rubberband_context = undefined;\n",
       "    this.format_dropdown = undefined;\n",
       "\n",
       "    this.image_mode = 'full';\n",
       "\n",
       "    this.root = $('<div/>');\n",
       "    this._root_extra_style(this.root)\n",
       "    this.root.attr('style', 'display: inline-block');\n",
       "\n",
       "    $(parent_element).append(this.root);\n",
       "\n",
       "    this._init_header(this);\n",
       "    this._init_canvas(this);\n",
       "    this._init_toolbar(this);\n",
       "\n",
       "    var fig = this;\n",
       "\n",
       "    this.waiting = false;\n",
       "\n",
       "    this.ws.onopen =  function () {\n",
       "            fig.send_message(\"supports_binary\", {value: fig.supports_binary});\n",
       "            fig.send_message(\"send_image_mode\", {});\n",
       "            if (mpl.ratio != 1) {\n",
       "                fig.send_message(\"set_dpi_ratio\", {'dpi_ratio': mpl.ratio});\n",
       "            }\n",
       "            fig.send_message(\"refresh\", {});\n",
       "        }\n",
       "\n",
       "    this.imageObj.onload = function() {\n",
       "            if (fig.image_mode == 'full') {\n",
       "                // Full images could contain transparency (where diff images\n",
       "                // almost always do), so we need to clear the canvas so that\n",
       "                // there is no ghosting.\n",
       "                fig.context.clearRect(0, 0, fig.canvas.width, fig.canvas.height);\n",
       "            }\n",
       "            fig.context.drawImage(fig.imageObj, 0, 0);\n",
       "        };\n",
       "\n",
       "    this.imageObj.onunload = function() {\n",
       "        fig.ws.close();\n",
       "    }\n",
       "\n",
       "    this.ws.onmessage = this._make_on_message_function(this);\n",
       "\n",
       "    this.ondownload = ondownload;\n",
       "}\n",
       "\n",
       "mpl.figure.prototype._init_header = function() {\n",
       "    var titlebar = $(\n",
       "        '<div class=\"ui-dialog-titlebar ui-widget-header ui-corner-all ' +\n",
       "        'ui-helper-clearfix\"/>');\n",
       "    var titletext = $(\n",
       "        '<div class=\"ui-dialog-title\" style=\"width: 100%; ' +\n",
       "        'text-align: center; padding: 3px;\"/>');\n",
       "    titlebar.append(titletext)\n",
       "    this.root.append(titlebar);\n",
       "    this.header = titletext[0];\n",
       "}\n",
       "\n",
       "\n",
       "\n",
       "mpl.figure.prototype._canvas_extra_style = function(canvas_div) {\n",
       "\n",
       "}\n",
       "\n",
       "\n",
       "mpl.figure.prototype._root_extra_style = function(canvas_div) {\n",
       "\n",
       "}\n",
       "\n",
       "mpl.figure.prototype._init_canvas = function() {\n",
       "    var fig = this;\n",
       "\n",
       "    var canvas_div = $('<div/>');\n",
       "\n",
       "    canvas_div.attr('style', 'position: relative; clear: both; outline: 0');\n",
       "\n",
       "    function canvas_keyboard_event(event) {\n",
       "        return fig.key_event(event, event['data']);\n",
       "    }\n",
       "\n",
       "    canvas_div.keydown('key_press', canvas_keyboard_event);\n",
       "    canvas_div.keyup('key_release', canvas_keyboard_event);\n",
       "    this.canvas_div = canvas_div\n",
       "    this._canvas_extra_style(canvas_div)\n",
       "    this.root.append(canvas_div);\n",
       "\n",
       "    var canvas = $('<canvas/>');\n",
       "    canvas.addClass('mpl-canvas');\n",
       "    canvas.attr('style', \"left: 0; top: 0; z-index: 0; outline: 0\")\n",
       "\n",
       "    this.canvas = canvas[0];\n",
       "    this.context = canvas[0].getContext(\"2d\");\n",
       "\n",
       "    var backingStore = this.context.backingStorePixelRatio ||\n",
       "\tthis.context.webkitBackingStorePixelRatio ||\n",
       "\tthis.context.mozBackingStorePixelRatio ||\n",
       "\tthis.context.msBackingStorePixelRatio ||\n",
       "\tthis.context.oBackingStorePixelRatio ||\n",
       "\tthis.context.backingStorePixelRatio || 1;\n",
       "\n",
       "    mpl.ratio = (window.devicePixelRatio || 1) / backingStore;\n",
       "\n",
       "    var rubberband = $('<canvas/>');\n",
       "    rubberband.attr('style', \"position: absolute; left: 0; top: 0; z-index: 1;\")\n",
       "\n",
       "    var pass_mouse_events = true;\n",
       "\n",
       "    canvas_div.resizable({\n",
       "        start: function(event, ui) {\n",
       "            pass_mouse_events = false;\n",
       "        },\n",
       "        resize: function(event, ui) {\n",
       "            fig.request_resize(ui.size.width, ui.size.height);\n",
       "        },\n",
       "        stop: function(event, ui) {\n",
       "            pass_mouse_events = true;\n",
       "            fig.request_resize(ui.size.width, ui.size.height);\n",
       "        },\n",
       "    });\n",
       "\n",
       "    function mouse_event_fn(event) {\n",
       "        if (pass_mouse_events)\n",
       "            return fig.mouse_event(event, event['data']);\n",
       "    }\n",
       "\n",
       "    rubberband.mousedown('button_press', mouse_event_fn);\n",
       "    rubberband.mouseup('button_release', mouse_event_fn);\n",
       "    // Throttle sequential mouse events to 1 every 20ms.\n",
       "    rubberband.mousemove('motion_notify', mouse_event_fn);\n",
       "\n",
       "    rubberband.mouseenter('figure_enter', mouse_event_fn);\n",
       "    rubberband.mouseleave('figure_leave', mouse_event_fn);\n",
       "\n",
       "    canvas_div.on(\"wheel\", function (event) {\n",
       "        event = event.originalEvent;\n",
       "        event['data'] = 'scroll'\n",
       "        if (event.deltaY < 0) {\n",
       "            event.step = 1;\n",
       "        } else {\n",
       "            event.step = -1;\n",
       "        }\n",
       "        mouse_event_fn(event);\n",
       "    });\n",
       "\n",
       "    canvas_div.append(canvas);\n",
       "    canvas_div.append(rubberband);\n",
       "\n",
       "    this.rubberband = rubberband;\n",
       "    this.rubberband_canvas = rubberband[0];\n",
       "    this.rubberband_context = rubberband[0].getContext(\"2d\");\n",
       "    this.rubberband_context.strokeStyle = \"#000000\";\n",
       "\n",
       "    this._resize_canvas = function(width, height) {\n",
       "        // Keep the size of the canvas, canvas container, and rubber band\n",
       "        // canvas in synch.\n",
       "        canvas_div.css('width', width)\n",
       "        canvas_div.css('height', height)\n",
       "\n",
       "        canvas.attr('width', width * mpl.ratio);\n",
       "        canvas.attr('height', height * mpl.ratio);\n",
       "        canvas.attr('style', 'width: ' + width + 'px; height: ' + height + 'px;');\n",
       "\n",
       "        rubberband.attr('width', width);\n",
       "        rubberband.attr('height', height);\n",
       "    }\n",
       "\n",
       "    // Set the figure to an initial 600x600px, this will subsequently be updated\n",
       "    // upon first draw.\n",
       "    this._resize_canvas(600, 600);\n",
       "\n",
       "    // Disable right mouse context menu.\n",
       "    $(this.rubberband_canvas).bind(\"contextmenu\",function(e){\n",
       "        return false;\n",
       "    });\n",
       "\n",
       "    function set_focus () {\n",
       "        canvas.focus();\n",
       "        canvas_div.focus();\n",
       "    }\n",
       "\n",
       "    window.setTimeout(set_focus, 100);\n",
       "}\n",
       "\n",
       "mpl.figure.prototype._init_toolbar = function() {\n",
       "    var fig = this;\n",
       "\n",
       "    var nav_element = $('<div/>');\n",
       "    nav_element.attr('style', 'width: 100%');\n",
       "    this.root.append(nav_element);\n",
       "\n",
       "    // Define a callback function for later on.\n",
       "    function toolbar_event(event) {\n",
       "        return fig.toolbar_button_onclick(event['data']);\n",
       "    }\n",
       "    function toolbar_mouse_event(event) {\n",
       "        return fig.toolbar_button_onmouseover(event['data']);\n",
       "    }\n",
       "\n",
       "    for(var toolbar_ind in mpl.toolbar_items) {\n",
       "        var name = mpl.toolbar_items[toolbar_ind][0];\n",
       "        var tooltip = mpl.toolbar_items[toolbar_ind][1];\n",
       "        var image = mpl.toolbar_items[toolbar_ind][2];\n",
       "        var method_name = mpl.toolbar_items[toolbar_ind][3];\n",
       "\n",
       "        if (!name) {\n",
       "            // put a spacer in here.\n",
       "            continue;\n",
       "        }\n",
       "        var button = $('<button/>');\n",
       "        button.addClass('ui-button ui-widget ui-state-default ui-corner-all ' +\n",
       "                        'ui-button-icon-only');\n",
       "        button.attr('role', 'button');\n",
       "        button.attr('aria-disabled', 'false');\n",
       "        button.click(method_name, toolbar_event);\n",
       "        button.mouseover(tooltip, toolbar_mouse_event);\n",
       "\n",
       "        var icon_img = $('<span/>');\n",
       "        icon_img.addClass('ui-button-icon-primary ui-icon');\n",
       "        icon_img.addClass(image);\n",
       "        icon_img.addClass('ui-corner-all');\n",
       "\n",
       "        var tooltip_span = $('<span/>');\n",
       "        tooltip_span.addClass('ui-button-text');\n",
       "        tooltip_span.html(tooltip);\n",
       "\n",
       "        button.append(icon_img);\n",
       "        button.append(tooltip_span);\n",
       "\n",
       "        nav_element.append(button);\n",
       "    }\n",
       "\n",
       "    var fmt_picker_span = $('<span/>');\n",
       "\n",
       "    var fmt_picker = $('<select/>');\n",
       "    fmt_picker.addClass('mpl-toolbar-option ui-widget ui-widget-content');\n",
       "    fmt_picker_span.append(fmt_picker);\n",
       "    nav_element.append(fmt_picker_span);\n",
       "    this.format_dropdown = fmt_picker[0];\n",
       "\n",
       "    for (var ind in mpl.extensions) {\n",
       "        var fmt = mpl.extensions[ind];\n",
       "        var option = $(\n",
       "            '<option/>', {selected: fmt === mpl.default_extension}).html(fmt);\n",
       "        fmt_picker.append(option);\n",
       "    }\n",
       "\n",
       "    // Add hover states to the ui-buttons\n",
       "    $( \".ui-button\" ).hover(\n",
       "        function() { $(this).addClass(\"ui-state-hover\");},\n",
       "        function() { $(this).removeClass(\"ui-state-hover\");}\n",
       "    );\n",
       "\n",
       "    var status_bar = $('<span class=\"mpl-message\"/>');\n",
       "    nav_element.append(status_bar);\n",
       "    this.message = status_bar[0];\n",
       "}\n",
       "\n",
       "mpl.figure.prototype.request_resize = function(x_pixels, y_pixels) {\n",
       "    // Request matplotlib to resize the figure. Matplotlib will then trigger a resize in the client,\n",
       "    // which will in turn request a refresh of the image.\n",
       "    this.send_message('resize', {'width': x_pixels, 'height': y_pixels});\n",
       "}\n",
       "\n",
       "mpl.figure.prototype.send_message = function(type, properties) {\n",
       "    properties['type'] = type;\n",
       "    properties['figure_id'] = this.id;\n",
       "    this.ws.send(JSON.stringify(properties));\n",
       "}\n",
       "\n",
       "mpl.figure.prototype.send_draw_message = function() {\n",
       "    if (!this.waiting) {\n",
       "        this.waiting = true;\n",
       "        this.ws.send(JSON.stringify({type: \"draw\", figure_id: this.id}));\n",
       "    }\n",
       "}\n",
       "\n",
       "\n",
       "mpl.figure.prototype.handle_save = function(fig, msg) {\n",
       "    var format_dropdown = fig.format_dropdown;\n",
       "    var format = format_dropdown.options[format_dropdown.selectedIndex].value;\n",
       "    fig.ondownload(fig, format);\n",
       "}\n",
       "\n",
       "\n",
       "mpl.figure.prototype.handle_resize = function(fig, msg) {\n",
       "    var size = msg['size'];\n",
       "    if (size[0] != fig.canvas.width || size[1] != fig.canvas.height) {\n",
       "        fig._resize_canvas(size[0], size[1]);\n",
       "        fig.send_message(\"refresh\", {});\n",
       "    };\n",
       "}\n",
       "\n",
       "mpl.figure.prototype.handle_rubberband = function(fig, msg) {\n",
       "    var x0 = msg['x0'] / mpl.ratio;\n",
       "    var y0 = (fig.canvas.height - msg['y0']) / mpl.ratio;\n",
       "    var x1 = msg['x1'] / mpl.ratio;\n",
       "    var y1 = (fig.canvas.height - msg['y1']) / mpl.ratio;\n",
       "    x0 = Math.floor(x0) + 0.5;\n",
       "    y0 = Math.floor(y0) + 0.5;\n",
       "    x1 = Math.floor(x1) + 0.5;\n",
       "    y1 = Math.floor(y1) + 0.5;\n",
       "    var min_x = Math.min(x0, x1);\n",
       "    var min_y = Math.min(y0, y1);\n",
       "    var width = Math.abs(x1 - x0);\n",
       "    var height = Math.abs(y1 - y0);\n",
       "\n",
       "    fig.rubberband_context.clearRect(\n",
       "        0, 0, fig.canvas.width / mpl.ratio, fig.canvas.height / mpl.ratio);\n",
       "\n",
       "    fig.rubberband_context.strokeRect(min_x, min_y, width, height);\n",
       "}\n",
       "\n",
       "mpl.figure.prototype.handle_figure_label = function(fig, msg) {\n",
       "    // Updates the figure title.\n",
       "    fig.header.textContent = msg['label'];\n",
       "}\n",
       "\n",
       "mpl.figure.prototype.handle_cursor = function(fig, msg) {\n",
       "    var cursor = msg['cursor'];\n",
       "    switch(cursor)\n",
       "    {\n",
       "    case 0:\n",
       "        cursor = 'pointer';\n",
       "        break;\n",
       "    case 1:\n",
       "        cursor = 'default';\n",
       "        break;\n",
       "    case 2:\n",
       "        cursor = 'crosshair';\n",
       "        break;\n",
       "    case 3:\n",
       "        cursor = 'move';\n",
       "        break;\n",
       "    }\n",
       "    fig.rubberband_canvas.style.cursor = cursor;\n",
       "}\n",
       "\n",
       "mpl.figure.prototype.handle_message = function(fig, msg) {\n",
       "    fig.message.textContent = msg['message'];\n",
       "}\n",
       "\n",
       "mpl.figure.prototype.handle_draw = function(fig, msg) {\n",
       "    // Request the server to send over a new figure.\n",
       "    fig.send_draw_message();\n",
       "}\n",
       "\n",
       "mpl.figure.prototype.handle_image_mode = function(fig, msg) {\n",
       "    fig.image_mode = msg['mode'];\n",
       "}\n",
       "\n",
       "mpl.figure.prototype.updated_canvas_event = function() {\n",
       "    // Called whenever the canvas gets updated.\n",
       "    this.send_message(\"ack\", {});\n",
       "}\n",
       "\n",
       "// A function to construct a web socket function for onmessage handling.\n",
       "// Called in the figure constructor.\n",
       "mpl.figure.prototype._make_on_message_function = function(fig) {\n",
       "    return function socket_on_message(evt) {\n",
       "        if (evt.data instanceof Blob) {\n",
       "            /* FIXME: We get \"Resource interpreted as Image but\n",
       "             * transferred with MIME type text/plain:\" errors on\n",
       "             * Chrome.  But how to set the MIME type?  It doesn't seem\n",
       "             * to be part of the websocket stream */\n",
       "            evt.data.type = \"image/png\";\n",
       "\n",
       "            /* Free the memory for the previous frames */\n",
       "            if (fig.imageObj.src) {\n",
       "                (window.URL || window.webkitURL).revokeObjectURL(\n",
       "                    fig.imageObj.src);\n",
       "            }\n",
       "\n",
       "            fig.imageObj.src = (window.URL || window.webkitURL).createObjectURL(\n",
       "                evt.data);\n",
       "            fig.updated_canvas_event();\n",
       "            fig.waiting = false;\n",
       "            return;\n",
       "        }\n",
       "        else if (typeof evt.data === 'string' && evt.data.slice(0, 21) == \"data:image/png;base64\") {\n",
       "            fig.imageObj.src = evt.data;\n",
       "            fig.updated_canvas_event();\n",
       "            fig.waiting = false;\n",
       "            return;\n",
       "        }\n",
       "\n",
       "        var msg = JSON.parse(evt.data);\n",
       "        var msg_type = msg['type'];\n",
       "\n",
       "        // Call the  \"handle_{type}\" callback, which takes\n",
       "        // the figure and JSON message as its only arguments.\n",
       "        try {\n",
       "            var callback = fig[\"handle_\" + msg_type];\n",
       "        } catch (e) {\n",
       "            console.log(\"No handler for the '\" + msg_type + \"' message type: \", msg);\n",
       "            return;\n",
       "        }\n",
       "\n",
       "        if (callback) {\n",
       "            try {\n",
       "                // console.log(\"Handling '\" + msg_type + \"' message: \", msg);\n",
       "                callback(fig, msg);\n",
       "            } catch (e) {\n",
       "                console.log(\"Exception inside the 'handler_\" + msg_type + \"' callback:\", e, e.stack, msg);\n",
       "            }\n",
       "        }\n",
       "    };\n",
       "}\n",
       "\n",
       "// from http://stackoverflow.com/questions/1114465/getting-mouse-location-in-canvas\n",
       "mpl.findpos = function(e) {\n",
       "    //this section is from http://www.quirksmode.org/js/events_properties.html\n",
       "    var targ;\n",
       "    if (!e)\n",
       "        e = window.event;\n",
       "    if (e.target)\n",
       "        targ = e.target;\n",
       "    else if (e.srcElement)\n",
       "        targ = e.srcElement;\n",
       "    if (targ.nodeType == 3) // defeat Safari bug\n",
       "        targ = targ.parentNode;\n",
       "\n",
       "    // jQuery normalizes the pageX and pageY\n",
       "    // pageX,Y are the mouse positions relative to the document\n",
       "    // offset() returns the position of the element relative to the document\n",
       "    var x = e.pageX - $(targ).offset().left;\n",
       "    var y = e.pageY - $(targ).offset().top;\n",
       "\n",
       "    return {\"x\": x, \"y\": y};\n",
       "};\n",
       "\n",
       "/*\n",
       " * return a copy of an object with only non-object keys\n",
       " * we need this to avoid circular references\n",
       " * http://stackoverflow.com/a/24161582/3208463\n",
       " */\n",
       "function simpleKeys (original) {\n",
       "  return Object.keys(original).reduce(function (obj, key) {\n",
       "    if (typeof original[key] !== 'object')\n",
       "        obj[key] = original[key]\n",
       "    return obj;\n",
       "  }, {});\n",
       "}\n",
       "\n",
       "mpl.figure.prototype.mouse_event = function(event, name) {\n",
       "    var canvas_pos = mpl.findpos(event)\n",
       "\n",
       "    if (name === 'button_press')\n",
       "    {\n",
       "        this.canvas.focus();\n",
       "        this.canvas_div.focus();\n",
       "    }\n",
       "\n",
       "    var x = canvas_pos.x * mpl.ratio;\n",
       "    var y = canvas_pos.y * mpl.ratio;\n",
       "\n",
       "    this.send_message(name, {x: x, y: y, button: event.button,\n",
       "                             step: event.step,\n",
       "                             guiEvent: simpleKeys(event)});\n",
       "\n",
       "    /* This prevents the web browser from automatically changing to\n",
       "     * the text insertion cursor when the button is pressed.  We want\n",
       "     * to control all of the cursor setting manually through the\n",
       "     * 'cursor' event from matplotlib */\n",
       "    event.preventDefault();\n",
       "    return false;\n",
       "}\n",
       "\n",
       "mpl.figure.prototype._key_event_extra = function(event, name) {\n",
       "    // Handle any extra behaviour associated with a key event\n",
       "}\n",
       "\n",
       "mpl.figure.prototype.key_event = function(event, name) {\n",
       "\n",
       "    // Prevent repeat events\n",
       "    if (name == 'key_press')\n",
       "    {\n",
       "        if (event.which === this._key)\n",
       "            return;\n",
       "        else\n",
       "            this._key = event.which;\n",
       "    }\n",
       "    if (name == 'key_release')\n",
       "        this._key = null;\n",
       "\n",
       "    var value = '';\n",
       "    if (event.ctrlKey && event.which != 17)\n",
       "        value += \"ctrl+\";\n",
       "    if (event.altKey && event.which != 18)\n",
       "        value += \"alt+\";\n",
       "    if (event.shiftKey && event.which != 16)\n",
       "        value += \"shift+\";\n",
       "\n",
       "    value += 'k';\n",
       "    value += event.which.toString();\n",
       "\n",
       "    this._key_event_extra(event, name);\n",
       "\n",
       "    this.send_message(name, {key: value,\n",
       "                             guiEvent: simpleKeys(event)});\n",
       "    return false;\n",
       "}\n",
       "\n",
       "mpl.figure.prototype.toolbar_button_onclick = function(name) {\n",
       "    if (name == 'download') {\n",
       "        this.handle_save(this, null);\n",
       "    } else {\n",
       "        this.send_message(\"toolbar_button\", {name: name});\n",
       "    }\n",
       "};\n",
       "\n",
       "mpl.figure.prototype.toolbar_button_onmouseover = function(tooltip) {\n",
       "    this.message.textContent = tooltip;\n",
       "};\n",
       "mpl.toolbar_items = [[\"Home\", \"Reset original view\", \"fa fa-home icon-home\", \"home\"], [\"Back\", \"Back to previous view\", \"fa fa-arrow-left icon-arrow-left\", \"back\"], [\"Forward\", \"Forward to next view\", \"fa fa-arrow-right icon-arrow-right\", \"forward\"], [\"\", \"\", \"\", \"\"], [\"Pan\", \"Pan axes with left mouse, zoom with right\", \"fa fa-arrows icon-move\", \"pan\"], [\"Zoom\", \"Zoom to rectangle\", \"fa fa-square-o icon-check-empty\", \"zoom\"], [\"\", \"\", \"\", \"\"], [\"Download\", \"Download plot\", \"fa fa-floppy-o icon-save\", \"download\"]];\n",
       "\n",
       "mpl.extensions = [\"eps\", \"jpeg\", \"pdf\", \"png\", \"ps\", \"raw\", \"svg\", \"tif\"];\n",
       "\n",
       "mpl.default_extension = \"png\";var comm_websocket_adapter = function(comm) {\n",
       "    // Create a \"websocket\"-like object which calls the given IPython comm\n",
       "    // object with the appropriate methods. Currently this is a non binary\n",
       "    // socket, so there is still some room for performance tuning.\n",
       "    var ws = {};\n",
       "\n",
       "    ws.close = function() {\n",
       "        comm.close()\n",
       "    };\n",
       "    ws.send = function(m) {\n",
       "        //console.log('sending', m);\n",
       "        comm.send(m);\n",
       "    };\n",
       "    // Register the callback with on_msg.\n",
       "    comm.on_msg(function(msg) {\n",
       "        //console.log('receiving', msg['content']['data'], msg);\n",
       "        // Pass the mpl event to the overridden (by mpl) onmessage function.\n",
       "        ws.onmessage(msg['content']['data'])\n",
       "    });\n",
       "    return ws;\n",
       "}\n",
       "\n",
       "mpl.mpl_figure_comm = function(comm, msg) {\n",
       "    // This is the function which gets called when the mpl process\n",
       "    // starts-up an IPython Comm through the \"matplotlib\" channel.\n",
       "\n",
       "    var id = msg.content.data.id;\n",
       "    // Get hold of the div created by the display call when the Comm\n",
       "    // socket was opened in Python.\n",
       "    var element = $(\"#\" + id);\n",
       "    var ws_proxy = comm_websocket_adapter(comm)\n",
       "\n",
       "    function ondownload(figure, format) {\n",
       "        window.open(figure.imageObj.src);\n",
       "    }\n",
       "\n",
       "    var fig = new mpl.figure(id, ws_proxy,\n",
       "                           ondownload,\n",
       "                           element.get(0));\n",
       "\n",
       "    // Call onopen now - mpl needs it, as it is assuming we've passed it a real\n",
       "    // web socket which is closed, not our websocket->open comm proxy.\n",
       "    ws_proxy.onopen();\n",
       "\n",
       "    fig.parent_element = element.get(0);\n",
       "    fig.cell_info = mpl.find_output_cell(\"<div id='\" + id + \"'></div>\");\n",
       "    if (!fig.cell_info) {\n",
       "        console.error(\"Failed to find cell for figure\", id, fig);\n",
       "        return;\n",
       "    }\n",
       "\n",
       "    var output_index = fig.cell_info[2]\n",
       "    var cell = fig.cell_info[0];\n",
       "\n",
       "};\n",
       "\n",
       "mpl.figure.prototype.handle_close = function(fig, msg) {\n",
       "    var width = fig.canvas.width/mpl.ratio\n",
       "    fig.root.unbind('remove')\n",
       "\n",
       "    // Update the output cell to use the data from the current canvas.\n",
       "    fig.push_to_output();\n",
       "    var dataURL = fig.canvas.toDataURL();\n",
       "    // Re-enable the keyboard manager in IPython - without this line, in FF,\n",
       "    // the notebook keyboard shortcuts fail.\n",
       "    IPython.keyboard_manager.enable()\n",
       "    $(fig.parent_element).html('<img src=\"' + dataURL + '\" width=\"' + width + '\">');\n",
       "    fig.close_ws(fig, msg);\n",
       "}\n",
       "\n",
       "mpl.figure.prototype.close_ws = function(fig, msg){\n",
       "    fig.send_message('closing', msg);\n",
       "    // fig.ws.close()\n",
       "}\n",
       "\n",
       "mpl.figure.prototype.push_to_output = function(remove_interactive) {\n",
       "    // Turn the data on the canvas into data in the output cell.\n",
       "    var width = this.canvas.width/mpl.ratio\n",
       "    var dataURL = this.canvas.toDataURL();\n",
       "    this.cell_info[1]['text/html'] = '<img src=\"' + dataURL + '\" width=\"' + width + '\">';\n",
       "}\n",
       "\n",
       "mpl.figure.prototype.updated_canvas_event = function() {\n",
       "    // Tell IPython that the notebook contents must change.\n",
       "    IPython.notebook.set_dirty(true);\n",
       "    this.send_message(\"ack\", {});\n",
       "    var fig = this;\n",
       "    // Wait a second, then push the new image to the DOM so\n",
       "    // that it is saved nicely (might be nice to debounce this).\n",
       "    setTimeout(function () { fig.push_to_output() }, 1000);\n",
       "}\n",
       "\n",
       "mpl.figure.prototype._init_toolbar = function() {\n",
       "    var fig = this;\n",
       "\n",
       "    var nav_element = $('<div/>');\n",
       "    nav_element.attr('style', 'width: 100%');\n",
       "    this.root.append(nav_element);\n",
       "\n",
       "    // Define a callback function for later on.\n",
       "    function toolbar_event(event) {\n",
       "        return fig.toolbar_button_onclick(event['data']);\n",
       "    }\n",
       "    function toolbar_mouse_event(event) {\n",
       "        return fig.toolbar_button_onmouseover(event['data']);\n",
       "    }\n",
       "\n",
       "    for(var toolbar_ind in mpl.toolbar_items){\n",
       "        var name = mpl.toolbar_items[toolbar_ind][0];\n",
       "        var tooltip = mpl.toolbar_items[toolbar_ind][1];\n",
       "        var image = mpl.toolbar_items[toolbar_ind][2];\n",
       "        var method_name = mpl.toolbar_items[toolbar_ind][3];\n",
       "\n",
       "        if (!name) { continue; };\n",
       "\n",
       "        var button = $('<button class=\"btn btn-default\" href=\"#\" title=\"' + name + '\"><i class=\"fa ' + image + ' fa-lg\"></i></button>');\n",
       "        button.click(method_name, toolbar_event);\n",
       "        button.mouseover(tooltip, toolbar_mouse_event);\n",
       "        nav_element.append(button);\n",
       "    }\n",
       "\n",
       "    // Add the status bar.\n",
       "    var status_bar = $('<span class=\"mpl-message\" style=\"text-align:right; float: right;\"/>');\n",
       "    nav_element.append(status_bar);\n",
       "    this.message = status_bar[0];\n",
       "\n",
       "    // Add the close button to the window.\n",
       "    var buttongrp = $('<div class=\"btn-group inline pull-right\"></div>');\n",
       "    var button = $('<button class=\"btn btn-mini btn-primary\" href=\"#\" title=\"Stop Interaction\"><i class=\"fa fa-power-off icon-remove icon-large\"></i></button>');\n",
       "    button.click(function (evt) { fig.handle_close(fig, {}); } );\n",
       "    button.mouseover('Stop Interaction', toolbar_mouse_event);\n",
       "    buttongrp.append(button);\n",
       "    var titlebar = this.root.find($('.ui-dialog-titlebar'));\n",
       "    titlebar.prepend(buttongrp);\n",
       "}\n",
       "\n",
       "mpl.figure.prototype._root_extra_style = function(el){\n",
       "    var fig = this\n",
       "    el.on(\"remove\", function(){\n",
       "\tfig.close_ws(fig, {});\n",
       "    });\n",
       "}\n",
       "\n",
       "mpl.figure.prototype._canvas_extra_style = function(el){\n",
       "    // this is important to make the div 'focusable\n",
       "    el.attr('tabindex', 0)\n",
       "    // reach out to IPython and tell the keyboard manager to turn it's self\n",
       "    // off when our div gets focus\n",
       "\n",
       "    // location in version 3\n",
       "    if (IPython.notebook.keyboard_manager) {\n",
       "        IPython.notebook.keyboard_manager.register_events(el);\n",
       "    }\n",
       "    else {\n",
       "        // location in version 2\n",
       "        IPython.keyboard_manager.register_events(el);\n",
       "    }\n",
       "\n",
       "}\n",
       "\n",
       "mpl.figure.prototype._key_event_extra = function(event, name) {\n",
       "    var manager = IPython.notebook.keyboard_manager;\n",
       "    if (!manager)\n",
       "        manager = IPython.keyboard_manager;\n",
       "\n",
       "    // Check for shift+enter\n",
       "    if (event.shiftKey && event.which == 13) {\n",
       "        this.canvas_div.blur();\n",
       "        // select the cell after this one\n",
       "        var index = IPython.notebook.find_cell_index(this.cell_info[0]);\n",
       "        IPython.notebook.select(index + 1);\n",
       "    }\n",
       "}\n",
       "\n",
       "mpl.figure.prototype.handle_save = function(fig, msg) {\n",
       "    fig.ondownload(fig, null);\n",
       "}\n",
       "\n",
       "\n",
       "mpl.find_output_cell = function(html_output) {\n",
       "    // Return the cell and output element which can be found *uniquely* in the notebook.\n",
       "    // Note - this is a bit hacky, but it is done because the \"notebook_saving.Notebook\"\n",
       "    // IPython event is triggered only after the cells have been serialised, which for\n",
       "    // our purposes (turning an active figure into a static one), is too late.\n",
       "    var cells = IPython.notebook.get_cells();\n",
       "    var ncells = cells.length;\n",
       "    for (var i=0; i<ncells; i++) {\n",
       "        var cell = cells[i];\n",
       "        if (cell.cell_type === 'code'){\n",
       "            for (var j=0; j<cell.output_area.outputs.length; j++) {\n",
       "                var data = cell.output_area.outputs[j];\n",
       "                if (data.data) {\n",
       "                    // IPython >= 3 moved mimebundle to data attribute of output\n",
       "                    data = data.data;\n",
       "                }\n",
       "                if (data['text/html'] == html_output) {\n",
       "                    return [cell, data, j];\n",
       "                }\n",
       "            }\n",
       "        }\n",
       "    }\n",
       "}\n",
       "\n",
       "// Register the function which deals with the matplotlib target/channel.\n",
       "// The kernel may be null if the page has been refreshed.\n",
       "if (IPython.notebook.kernel != null) {\n",
       "    IPython.notebook.kernel.comm_manager.register_target('matplotlib', mpl.mpl_figure_comm);\n",
       "}\n"
      ],
      "text/plain": [
       "<IPython.core.display.Javascript object>"
      ]
     },
     "metadata": {},
     "output_type": "display_data"
    },
    {
     "data": {
      "text/html": [
       "<img src=\"data:image/png;base64,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\" width=\"640\">"
      ],
      "text/plain": [
       "<IPython.core.display.HTML object>"
      ]
     },
     "metadata": {},
     "output_type": "display_data"
    }
   ],
   "source": [
    "%matplotlib notebook\n",
    "from collections import defaultdict \n",
    "from sklearn.manifold import TSNE\n",
    "from sklearn.decomposition import PCA\n",
    "from sklearn.datasets import fetch_openml\n",
    "from sklearn.model_selection import train_test_split\n",
    "from sklearn.preprocessing import StandardScaler\n",
    "from sklearn.neighbors import NeighborhoodComponentsAnalysis as NCA\n",
    "X, y = fetch_openml('wine', version=1, return_X_y=True)\n",
    "from sklearn.datasets import make_classification\n",
    "from sklearn.datasets import make_blobs\n",
    "from sklearn.utils import check_random_state, shuffle as util_shuffle\n",
    "\n",
    "#X, y = make_blobs(n_samples =2001, n_features=2, centers=15, random_state=0)\n",
    "print(\"Fetched\")\n",
    "random_state = check_random_state(0)\n",
    "not_nan=[~np.any(row) for row in np.isnan(X)]\n",
    "X=X[not_nan]\n",
    "y = y[not_nan]\n",
    "temp = defaultdict(lambda: len(temp)) \n",
    "y = [temp[ele] for ele in y] \n",
    "y=np.array(y)\n",
    "num_classes = 20#len(temp.keys())\n",
    "print(num_classes)\n",
    "n_classes = y<num_classes\n",
    "X=X[n_classes]\n",
    "y=y[n_classes]\n",
    "# permutation = random_state.permutation(X.shape[0])\n",
    "\n",
    "# X = X[permutation]\n",
    "# y = y[permutation]\n",
    "\n",
    "\n",
    "X = X.reshape((X.shape[0], -1))\n",
    "X_train, X_test, y_train, y_test = train_test_split(\n",
    "    X, y, train_size=177, test_size=1)\n",
    "scaler = StandardScaler()\n",
    "# X_train = scaler.fit_transform(X_train)\n",
    "# X_test = scaler.transform(X_test)\n",
    "print(len(X_train))\n",
    "model = NCA(n_components=2, random_state=1)#, max_iter=100)#, perplexity=40)\n",
    "tsne_data = model.fit_transform(X_train, y_train)\n",
    "import numpy as np\n",
    "import matplotlib.pyplot as plt\n",
    "cmap_single = get_cmap(num_classes, \"tab20\")\n",
    "colors=cmap_single(range(num_classes))\n",
    "plt.scatter(tsne_data[:,0],tsne_data[:,1], c=[colors[int(i)] for i in y_train], alpha=0.2)\n",
    "plt.show()"
   ]
  },
  {
   "cell_type": "code",
   "execution_count": 97,
   "metadata": {},
   "outputs": [
    {
     "ename": "TypeError",
     "evalue": "list indices must be integers or slices, not tuple",
     "output_type": "error",
     "traceback": [
      "\u001b[0;31m---------------------------------------------------------------------------\u001b[0m",
      "\u001b[0;31mTypeError\u001b[0m                                 Traceback (most recent call last)",
      "\u001b[0;32m<ipython-input-97-6ca9be7cd0e4>\u001b[0m in \u001b[0;36m<module>\u001b[0;34m\u001b[0m\n\u001b[0;32m----> 1\u001b[0;31m \u001b[0my\u001b[0m\u001b[0;34m[\u001b[0m\u001b[0mnp\u001b[0m\u001b[0;34m.\u001b[0m\u001b[0mwhere\u001b[0m\u001b[0;34m(\u001b[0m\u001b[0mnp\u001b[0m\u001b[0;34m.\u001b[0m\u001b[0marray\u001b[0m\u001b[0;34m(\u001b[0m\u001b[0my\u001b[0m\u001b[0;34m)\u001b[0m\u001b[0;34m<\u001b[0m\u001b[0;36m10\u001b[0m\u001b[0;34m)\u001b[0m\u001b[0;34m]\u001b[0m\u001b[0;34m\u001b[0m\u001b[0;34m\u001b[0m\u001b[0m\n\u001b[0m",
      "\u001b[0;31mTypeError\u001b[0m: list indices must be integers or slices, not tuple"
     ]
    }
   ],
   "source": [
    "y[np.where(np.array(y)<10)]\n"
   ]
  },
  {
   "cell_type": "code",
   "execution_count": 3,
   "metadata": {},
   "outputs": [],
   "source": [
    "from palmerpenguins import load_penguins \n",
    "penguins = load_penguins()"
   ]
  },
  {
   "cell_type": "code",
   "execution_count": 1,
   "metadata": {
    "scrolled": false
   },
   "outputs": [
    {
     "name": "stderr",
     "output_type": "stream",
     "text": [
      "100%|██████████| 8/8 [00:00<00:00, 8715.44it/s]"
     ]
    },
    {
     "name": "stdout",
     "output_type": "stream",
     "text": [
      "N: 2 M: 1 Valid: False\n"
     ]
    },
    {
     "name": "stderr",
     "output_type": "stream",
     "text": [
      "\n"
     ]
    },
    {
     "data": {
      "image/png": "[encoded data removed]",
      "text/plain": [
       "<Figure size 432x288 with 1 Axes>"
      ]
     },
     "metadata": {
      "needs_background": "light"
     },
     "output_type": "display_data"
    },
    {
     "name": "stderr",
     "output_type": "stream",
     "text": [
      "100%|██████████| 12/12 [00:00<00:00, 8145.60it/s]\n"
     ]
    },
    {
     "name": "stdout",
     "output_type": "stream",
     "text": [
      "N: 3 M: 1 Valid: True\n"
     ]
    },
    {
     "data": {
      "image/png": "[encoded data removed]",
      "text/plain": [
       "<Figure size 432x288 with 1 Axes>"
      ]
     },
     "metadata": {
      "needs_background": "light"
     },
     "output_type": "display_data"
    },
    {
     "name": "stdout",
     "output_type": "stream",
     "text": [
      "3\n"
     ]
    },
    {
     "data": {
      "text/plain": [
       "[1, 4, 7, 10, 13, 16, 19, 22, 26, 29, 32, 35, 38, 41]"
      ]
     },
     "execution_count": 1,
     "metadata": {},
     "output_type": "execute_result"
    }
   ],
   "source": [
    "#%matplotlib notebook\n",
    "from tqdm import tqdm\n",
    "import numpy as np\n",
    "from numpy import sqrt as sqrt\n",
    "import matplotlib.pyplot as plt\n",
    "def d1(t,c,m,n,theta):\n",
    "    dists = []\n",
    "    for i in range(m):\n",
    "        for j in range(n):\n",
    "            dist = sqrt((t*c)**2 +((t+1)*c)**2 -2*t*(t+1)*(c**2)*np.cos((i*2*np.pi/m) - (j*2*np.pi/n) -np.pi/n - theta))\n",
    "            dists.append(dist)\n",
    "    return np.min(dists)\n",
    "def d2(t,c,m,n,theta):\n",
    "    dists = []\n",
    "    for i in range(m):\n",
    "        for j in range(n):\n",
    "            dist = sqrt((t*c)**2 +((t+1)*c)**2 -2*t*(t+1)*(c**2)*np.cos((i*2*np.pi/m) - (j*2*np.pi/n) +np.pi/m - theta))\n",
    "            dists.append(dist)\n",
    "    return np.min(dists)\n",
    "\n",
    "\n",
    "def check_configuration(m,n,t):\n",
    "    db = sqrt(2*((t+1)*c)**2 - (2*((t+1)*c)**2)*np.cos(np.pi/n))\n",
    "    #print(db)\n",
    "    da = sqrt(2*(t*c)**2 - (2*(t*c)**2)*np.cos(np.pi/m))\n",
    "    thetas = [i*np.pi/(m*n*16) for i in range(m*n*4)]\n",
    "    bools = []\n",
    "    d1s=[]\n",
    "    d2s=[]\n",
    "    for theta in tqdm(thetas):\n",
    "            d1_temp=d1(t,c,m,n,theta)\n",
    "            d2_temp=d2(t,c,m,n,theta)\n",
    "            valid = d1_temp> db and d2_temp> da\n",
    "            bools.append(valid)\n",
    "            d1s.append(d1_temp)\n",
    "            d2s.append(d2_temp)\n",
    "\n",
    "        #valid_reg = np.array(thetas)[bools]\n",
    "        #print (valid_reg)\n",
    "    print (\"N: {0} M: {1} Valid: {2}\".format(n,m,np.any(bools)))\n",
    "    #print(np.where(bools))\n",
    "    plt.plot(thetas,d1s, \"b\")\n",
    "    plt.plot([thetas[0],thetas[-1]],[db,db], \"b--\")\n",
    "    plt.plot(thetas,d2s, \"r\")\n",
    "    plt.plot([thetas[0],thetas[-1]],[da,da], \"r--\")\n",
    "    plt.show()\n",
    "    return np.any(bools)\n",
    "def find_smallest_n(m,t, max_iters=100):\n",
    "    for n in range(m+1,m+max_iters):\n",
    "        if check_configuration(m,n,t):\n",
    "            return n\n",
    "    print(\"Failed to find valid N!\")\n",
    "    return -1\n",
    "m=1\n",
    "n= 5\n",
    "t=0\n",
    "c=1     \n",
    "print(find_smallest_n(m,t))\n",
    "    \n",
    "[1,4,6,12,13,16,19,22,26,29,32,35,38,41]#Empirical method\n",
    "[1,4,7,10,13,16,19,22,26,29,32,35,38,41]#Guaranteed method\n",
    "    "
   ]
  },
  {
   "cell_type": "code",
   "execution_count": 2,
   "metadata": {},
   "outputs": [
    {
     "data": {
      "text/plain": [
       "40.840704496667314"
      ]
     },
     "execution_count": 2,
     "metadata": {},
     "output_type": "execute_result"
    }
   ],
   "source": [
    "np.pi*13"
   ]
  },
  {
   "cell_type": "code",
   "execution_count": 342,
   "metadata": {},
   "outputs": [
    {
     "name": "stdout",
     "output_type": "stream",
     "text": [
      "3\n",
      "4\n",
      "5\n",
      "6\n",
      "8\n",
      "9\n",
      "10\n",
      "11\n"
     ]
    }
   ],
   "source": [
    "t=2\n",
    "m=7\n",
    "for n in range(12):\n",
    "    if n/np.gcd(n,m)>np.pi/(m*np.arccos((1/(2*t*(t+1))) + np.cos(np.pi/m))): print(n)"
   ]
  },
  {
   "cell_type": "code",
   "execution_count": 43,
   "metadata": {},
   "outputs": [
    {
     "data": {
      "image/png": "[encoded data removed]",
      "text/plain": [
       "<Figure size 432x288 with 1 Axes>"
      ]
     },
     "metadata": {
      "needs_background": "light"
     },
     "output_type": "display_data"
    }
   ],
   "source": [
    "import palmerpenguins as pp\n",
    "import matplotlib.pyplot as plt\n",
    "from sklearn import neighbors, datasets\n",
    "p=pp.load_penguins()\n",
    "colors_dict = {}\n",
    "for s,color in zip(list(set(p.species)),[\"red\",\"blue\",\"green\"]):\n",
    "    colors_dict[s]=color\n",
    "adelie=penguins[penguins.species==\"Adelie\"]\n",
    "adelie_cent=np.mean(adelie)\n",
    "chin=penguins[penguins.species==\"Chinstrap\"]\n",
    "chin_cent=np.mean(chin)\n",
    "gentoo=penguins[penguins.species==\"Gentoo\"]\n",
    "gentoo_cent=np.mean(gentoo)\n",
    "\n",
    "plt.scatter(p.bill_length_mm, p.bill_depth_mm, c=[colors_dict[s] for s in p.species])\n",
    "plt.scatter(adelie_cent.bill_length_mm, adelie_cent.bill_depth_mm, c=\"black\")\n",
    "plt.scatter(chin_cent.bill_length_mm, chin_cent.bill_depth_mm, c=\"black\")\n",
    "plt.scatter(gentoo_cent.bill_length_mm, gentoo_cent.bill_depth_mm, c=\"black\")\n",
    "\n",
    "plt.show()"
   ]
  },
  {
   "cell_type": "code",
   "execution_count": 59,
   "metadata": {
    "scrolled": false
   },
   "outputs": [
    {
     "data": {
      "image/png": "[encoded data removed]",
      "text/plain": [
       "<Figure size 432x288 with 1 Axes>"
      ]
     },
     "metadata": {
      "needs_background": "light"
     },
     "output_type": "display_data"
    }
   ],
   "source": [
    "dat=datasets.make_blobs(n_samples=1000, centers=10, random_state=0)\n",
    "centroids=[]\n",
    "for i in range(10):\n",
    "    temp=dat[0][dat[1]==i]\n",
    "    x=[t[0] for t in temp]\n",
    "    y=[t[1] for t in temp]\n",
    "    centroid=np.array([np.mean(x),np.mean(y)])\n",
    "    centroids.append(centroid)\n",
    "    plt.scatter(x,y)\n",
    "    plt.scatter(np.mean(x),np.mean(y),c=\"black\")\n"
   ]
  },
  {
   "cell_type": "code",
   "execution_count": 60,
   "metadata": {},
   "outputs": [
    {
     "data": {
      "text/plain": [
       "array([[0., 1., 1., 0., 0., 0., 0., 0., 0., 0.],\n",
       "       [1., 0., 1., 0., 0., 0., 0., 0., 0., 0.],\n",
       "       [1., 1., 0., 0., 0., 0., 0., 0., 0., 0.],\n",
       "       [1., 0., 0., 0., 0., 0., 1., 0., 0., 0.],\n",
       "       [0., 1., 0., 0., 0., 1., 0., 0., 0., 0.],\n",
       "       [0., 1., 0., 0., 1., 0., 0., 0., 0., 0.],\n",
       "       [1., 0., 0., 1., 0., 0., 0., 0., 0., 0.],\n",
       "       [0., 1., 1., 0., 0., 0., 0., 0., 0., 0.],\n",
       "       [0., 0., 1., 1., 0., 0., 0., 0., 0., 0.],\n",
       "       [1., 0., 0., 0., 0., 0., 1., 0., 0., 0.]])"
      ]
     },
     "execution_count": 60,
     "metadata": {},
     "output_type": "execute_result"
    }
   ],
   "source": [
    "mat=sklearn.neighbors.kneighbors_graph(np.array(centroids),2)\n",
    "mat.toarray()"
   ]
  },
  {
   "cell_type": "code",
   "execution_count": null,
   "metadata": {},
   "outputs": [],
   "source": []
  }
 ],
 "metadata": {
  "kernelspec": {
   "display_name": "Python 3",
   "language": "python",
   "name": "python3"
  },
  "language_info": {
   "codemirror_mode": {
    "name": "ipython",
    "version": 3
   },
   "file_extension": ".py",
   "mimetype": "text/x-python",
   "name": "python",
   "nbconvert_exporter": "python",
   "pygments_lexer": "ipython3",
   "version": "3.7.3"
  },
  "widgets": {
   "application/vnd.jupyter.widget-state+json": {
    "state": {
     "01a4fc5ae7004e07beb1e43f97544f57": {
      "model_module": "@jupyter-widgets/controls",
      "model_module_version": "1.5.0",
      "model_name": "IntSliderModel",
      "state": {
       "continuous_update": false,
       "description": "frame",
       "layout": "IPY_MODEL_295604e36d824903864903c09774409a",
       "max": 60,
       "min": -60,
       "step": 10,
       "style": "IPY_MODEL_d1813e7f5b66432db6011421b3f0ab78",
       "value": 10
      }
     },
     "0230f19b86504a7181e9aefafbe17bcd": {
      "model_module": "@jupyter-widgets/controls",
      "model_module_version": "1.5.0",
      "model_name": "SliderStyleModel",
      "state": {
       "description_width": ""
      }
     },
     "025a4d00c9c1494b86f11d581f1ae53e": {
      "model_module": "@jupyter-widgets/base",
      "model_module_version": "1.2.0",
      "model_name": "LayoutModel",
      "state": {}
     },
     "02a6f2d1539b4ce7b32ea24c923b8664": {
      "model_module": "@jupyter-widgets/controls",
      "model_module_version": "1.5.0",
      "model_name": "DescriptionStyleModel",
      "state": {
       "description_width": ""
      }
     },
     "02b054920bf04f5b879e1425ad04ed60": {
      "model_module": "@jupyter-widgets/controls",
      "model_module_version": "1.5.0",
      "model_name": "ButtonStyleModel",
      "state": {}
     },
     "0355885167d7484fa86980cdcd099aad": {
      "model_module": "@jupyter-widgets/base",
      "model_module_version": "1.2.0",
      "model_name": "LayoutModel",
      "state": {}
     },
     "0363f7d404714500af9ab37ac2f4e1bd": {
      "model_module": "@jupyter-widgets/controls",
      "model_module_version": "1.5.0",
      "model_name": "TextModel",
      "state": {
       "description": "Filename:",
       "layout": "IPY_MODEL_4c824113c0ac40f5ba3b1e0b8300bf24",
       "placeholder": "image.png",
       "style": "IPY_MODEL_bcae59261f944854b44eee5d2d9333cb",
       "value": "image.png"
      }
     },
     "03ad7b0e5db945c2b7bca4484f3a1d33": {
      "model_module": "@jupyter-widgets/controls",
      "model_module_version": "1.5.0",
      "model_name": "IntSliderModel",
      "state": {
       "continuous_update": false,
       "description": "frame",
       "layout": "IPY_MODEL_2a6597d00874411eb1fa8cfbe2c6ff83",
       "max": 60,
       "min": -60,
       "step": 10,
       "style": "IPY_MODEL_5f1f60fe52dd4d01ae84d87b7b527556",
       "value": 10
      }
     },
     "03c39a9506804d759d3231cbf3f285cb": {
      "model_module": "@jupyter-widgets/controls",
      "model_module_version": "1.5.0",
      "model_name": "IntSliderModel",
      "state": {
       "continuous_update": false,
       "description": "num_points",
       "layout": "IPY_MODEL_8711481de24e4f898c85d905ac2f8484",
       "max": 12,
       "min": 4,
       "style": "IPY_MODEL_8b0e8b2dc4464ef6b8d0cba0d7d90972",
       "value": 4
      }
     },
     "03d444ce591346049604936eae2cd5be": {
      "model_module": "@jupyter-widgets/base",
      "model_module_version": "1.2.0",
      "model_name": "LayoutModel",
      "state": {}
     },
     "04441ec512c24d93970f36d5c069661c": {
      "model_module": "@jupyter-widgets/controls",
      "model_module_version": "1.5.0",
      "model_name": "IntSliderModel",
      "state": {
       "continuous_update": false,
       "description": "num_points",
       "layout": "IPY_MODEL_4395d1c8618749cca461934c3c9eb596",
       "max": 12,
       "min": 4,
       "style": "IPY_MODEL_5697c75d418e4169ac2f6977de0634d2",
       "value": 4
      }
     },
     "04ddf22778cf491da30a934607d759aa": {
      "model_module": "@jupyter-widgets/base",
      "model_module_version": "1.2.0",
      "model_name": "LayoutModel",
      "state": {}
     },
     "058dfb76cdde4d4f9416dfde7d9b3a76": {
      "model_module": "@jupyter-widgets/base",
      "model_module_version": "1.2.0",
      "model_name": "LayoutModel",
      "state": {}
     },
     "06933a8750d84eb38f7ff6d693031b77": {
      "model_module": "@jupyter-widgets/controls",
      "model_module_version": "1.5.0",
      "model_name": "SliderStyleModel",
      "state": {
       "description_width": ""
      }
     },
     "069bab03fb0b487c9c35ff5e91f7cee7": {
      "model_module": "@jupyter-widgets/controls",
      "model_module_version": "1.5.0",
      "model_name": "VBoxModel",
      "state": {
       "_dom_classes": [
        "widget-interact"
       ],
       "children": [
        "IPY_MODEL_59dc739b8839457c9c2e86c483afbe1c",
        "IPY_MODEL_04441ec512c24d93970f36d5c069661c",
        "IPY_MODEL_7439e7c668794e0d890ac826a4cca73b",
        "IPY_MODEL_4fffa390c1374688a1a5b96e329e9f49",
        "IPY_MODEL_42ef5d8d2df64aa084880db9dc6961a2",
        "IPY_MODEL_28d126adbced44fdbd00f8da31c26974",
        "IPY_MODEL_4701be596ff846ba916e4d892ad50f63",
        "IPY_MODEL_e7d01248b79944eea005ede1bbd16055"
       ],
       "layout": "IPY_MODEL_569879ea9def40e696236684a8268aae"
      }
     },
     "06a4e4290b5546aba03a2b9a61131d22": {
      "model_module": "@jupyter-widgets/base",
      "model_module_version": "1.2.0",
      "model_name": "LayoutModel",
      "state": {}
     },
     "06a5995b35be4fb4857e46992391ffb0": {
      "model_module": "@jupyter-widgets/base",
      "model_module_version": "1.2.0",
      "model_name": "LayoutModel",
      "state": {}
     },
     "06f36ddf609d40a59f92d7c7cc106d7a": {
      "model_module": "@jupyter-widgets/controls",
      "model_module_version": "1.5.0",
      "model_name": "DescriptionStyleModel",
      "state": {
       "description_width": ""
      }
     },
     "08e2f7cd069a4e3c9c9705b4f23a6fab": {
      "model_module": "@jupyter-widgets/controls",
      "model_module_version": "1.5.0",
      "model_name": "IntSliderModel",
      "state": {
       "continuous_update": false,
       "description": "frame",
       "layout": "IPY_MODEL_98eaa6ea82e04a4cb4796ac542c7b26c",
       "max": 60,
       "min": -60,
       "step": 10,
       "style": "IPY_MODEL_24d8bc778e024fc9bb36ea38e13c070f",
       "value": 10
      }
     },
     "08efd1778b2c46febb5eb62067994032": {
      "model_module": "@jupyter-widgets/controls",
      "model_module_version": "1.5.0",
      "model_name": "IntSliderModel",
      "state": {
       "continuous_update": false,
       "description": "num_points",
       "layout": "IPY_MODEL_1b87869ac6df48a99137d2ba8d8388b3",
       "max": 12,
       "min": 4,
       "style": "IPY_MODEL_e9a26ffaf6ef430b9f9a86fa000e05a5",
       "value": 4
      }
     },
     "0a264ea52df54329a8c66cb5f38bd5b1": {
      "model_module": "@jupyter-widgets/base",
      "model_module_version": "1.2.0",
      "model_name": "LayoutModel",
      "state": {}
     },
     "0ad3cfcd96f7451b845f3d064994c522": {
      "model_module": "@jupyter-widgets/controls",
      "model_module_version": "1.5.0",
      "model_name": "DropdownModel",
      "state": {
       "_options_labels": [
        "poly_and_center",
        "every_other",
        "2points_n_classes",
        "3points_n_classes"
       ],
       "description": "Mode:",
       "index": 1,
       "layout": "IPY_MODEL_67bcd54a399b4f8097a49b724ccc3a66",
       "style": "IPY_MODEL_650b80a9bb134f01bb619aa628da0a95"
      }
     },
     "0d2a8114948644aaab36e01e84f0d6e4": {
      "model_module": "@jupyter-widgets/controls",
      "model_module_version": "1.5.0",
      "model_name": "DescriptionStyleModel",
      "state": {
       "description_width": ""
      }
     },
     "0e91b512510f4094aa3cc18f31c0b2a0": {
      "model_module": "@jupyter-widgets/controls",
      "model_module_version": "1.5.0",
      "model_name": "DescriptionStyleModel",
      "state": {
       "description_width": ""
      }
     },
     "0f6b5ca32f7549bd9083b89406be0ace": {
      "model_module": "@jupyter-widgets/base",
      "model_module_version": "1.2.0",
      "model_name": "LayoutModel",
      "state": {}
     },
     "106dadb3769a45eaa031a3cb84ef527e": {
      "model_module": "@jupyter-widgets/output",
      "model_module_version": "1.0.0",
      "model_name": "OutputModel",
      "state": {
       "layout": "IPY_MODEL_3e4ac1df44bd4baaadb5458a10c00a6f"
      }
     },
     "106ea0c847ba4ec4ab02590af717e513": {
      "model_module": "@jupyter-widgets/controls",
      "model_module_version": "1.5.0",
      "model_name": "IntSliderModel",
      "state": {
       "continuous_update": false,
       "description": "num_classes",
       "disabled": true,
       "layout": "IPY_MODEL_7379878c62904aaf81655be94bfa28aa",
       "max": 24,
       "min": 1,
       "style": "IPY_MODEL_abf2beb16e5d4f58a6ea1cc2f51fa05e",
       "value": 8
      }
     },
     "117fbdaf985b4922a76bdbff2fc2e0f2": {
      "model_module": "@jupyter-widgets/base",
      "model_module_version": "1.2.0",
      "model_name": "LayoutModel",
      "state": {}
     },
     "12944d198d154bf7b734ed2c0fec07df": {
      "model_module": "@jupyter-widgets/base",
      "model_module_version": "1.2.0",
      "model_name": "LayoutModel",
      "state": {
       "height": "350px"
      }
     },
     "1687e9dea56f4874b028846ec673f650": {
      "model_module": "@jupyter-widgets/controls",
      "model_module_version": "1.5.0",
      "model_name": "SliderStyleModel",
      "state": {
       "description_width": ""
      }
     },
     "16f0762b2e864ff5abca381fc81d29a8": {
      "model_module": "@jupyter-widgets/base",
      "model_module_version": "1.2.0",
      "model_name": "LayoutModel",
      "state": {}
     },
     "17b4234f4ef44613882cd6611c980cd5": {
      "model_module": "@jupyter-widgets/controls",
      "model_module_version": "1.5.0",
      "model_name": "SliderStyleModel",
      "state": {
       "description_width": ""
      }
     },
     "180f2e2b2f9b40ce958b0e2095892e2e": {
      "model_module": "@jupyter-widgets/controls",
      "model_module_version": "1.5.0",
      "model_name": "SliderStyleModel",
      "state": {
       "description_width": ""
      }
     },
     "186d2c417c5249099197aba167038fc9": {
      "model_module": "@jupyter-widgets/controls",
      "model_module_version": "1.5.0",
      "model_name": "TextModel",
      "state": {
       "description": "Filename:",
       "layout": "IPY_MODEL_058dfb76cdde4d4f9416dfde7d9b3a76",
       "placeholder": "image.png",
       "style": "IPY_MODEL_afaed3715c384baaa7de4742b3465f2a",
       "value": "image.png"
      }
     },
     "187f56e973f94e5d8ad9b3b98cb20aca": {
      "model_module": "@jupyter-widgets/base",
      "model_module_version": "1.2.0",
      "model_name": "LayoutModel",
      "state": {}
     },
     "18c9b8dbd176451e8579640121e6bb85": {
      "model_module": "@jupyter-widgets/controls",
      "model_module_version": "1.5.0",
      "model_name": "VBoxModel",
      "state": {
       "_dom_classes": [
        "widget-interact"
       ],
       "children": [
        "IPY_MODEL_01a4fc5ae7004e07beb1e43f97544f57",
        "IPY_MODEL_98b8bc679ad74cf6baa7b5312b7bb19c",
        "IPY_MODEL_bb0f53edfe464c7993cb191e0d1bc0b8",
        "IPY_MODEL_d2b0ff5ada8f477fb017c043ba92e54f",
        "IPY_MODEL_d6fffa8827374b788c2b8b25ccc673b0",
        "IPY_MODEL_8779afae79df4f01ba9613d8628190af",
        "IPY_MODEL_33cc0b10d64e463cb86570ea7c33e52e",
        "IPY_MODEL_84946cbe3077401cb5faf2bae3b4cedd"
       ],
       "layout": "IPY_MODEL_df2e40018a0d4734b0c8f956eeef34fd"
      }
     },
     "1b118411b9ae4331807b21d59f319e43": {
      "model_module": "@jupyter-widgets/controls",
      "model_module_version": "1.5.0",
      "model_name": "SliderStyleModel",
      "state": {
       "description_width": ""
      }
     },
     "1b75e02e7ee54662acb3ea343e9edd28": {
      "model_module": "@jupyter-widgets/base",
      "model_module_version": "1.2.0",
      "model_name": "LayoutModel",
      "state": {}
     },
     "1b87869ac6df48a99137d2ba8d8388b3": {
      "model_module": "@jupyter-widgets/base",
      "model_module_version": "1.2.0",
      "model_name": "LayoutModel",
      "state": {}
     },
     "1c0e5dfbf4484d4cbbe77da591fce7cd": {
      "model_module": "@jupyter-widgets/controls",
      "model_module_version": "1.5.0",
      "model_name": "RadioButtonsModel",
      "state": {
       "_options_labels": [
        "Very Low",
        "Low",
        "Medium",
        "High",
        "Very High"
       ],
       "description": "Resolution:",
       "index": 4,
       "layout": "IPY_MODEL_a83fcb0fc89d4aee968b9ab97dd34762",
       "style": "IPY_MODEL_70f854fb38e44187837263d6f09e7487"
      }
     },
     "1cdc290bc8514818af984fd144470825": {
      "model_module": "@jupyter-widgets/base",
      "model_module_version": "1.2.0",
      "model_name": "LayoutModel",
      "state": {
       "height": "350px"
      }
     },
     "1dec1054b3364a24b5ae775fceb186f1": {
      "model_module": "@jupyter-widgets/controls",
      "model_module_version": "1.5.0",
      "model_name": "DescriptionStyleModel",
      "state": {
       "description_width": ""
      }
     },
     "1e9220e2e94c4b0680944872ca24d164": {
      "model_module": "@jupyter-widgets/output",
      "model_module_version": "1.0.0",
      "model_name": "OutputModel",
      "state": {
       "layout": "IPY_MODEL_d898efbb93d94aeb89379f49389e8780"
      }
     },
     "1f206444ddc54523b41ae62eda2c2b08": {
      "model_module": "@jupyter-widgets/base",
      "model_module_version": "1.2.0",
      "model_name": "LayoutModel",
      "state": {}
     },
     "20c5273e31ea4404ac51135dda090de8": {
      "model_module": "@jupyter-widgets/controls",
      "model_module_version": "1.5.0",
      "model_name": "SliderStyleModel",
      "state": {
       "description_width": ""
      }
     },
     "22521160ab1f41679a9eb6d198e87347": {
      "model_module": "@jupyter-widgets/controls",
      "model_module_version": "1.5.0",
      "model_name": "IntSliderModel",
      "state": {
       "continuous_update": false,
       "description": "num_points",
       "layout": "IPY_MODEL_f9523b6430d7484f9e5b9d2c5d0daa2a",
       "max": 12,
       "min": 4,
       "style": "IPY_MODEL_5199a586edb24c30ac7e7bbfbfdc8bfb",
       "value": 4
      }
     },
     "228be73401b5443f90986f3cf23a0bbc": {
      "model_module": "@jupyter-widgets/controls",
      "model_module_version": "1.5.0",
      "model_name": "DropdownModel",
      "state": {
       "_options_labels": [
        "poly_and_center",
        "every_other",
        "2points_n_classes",
        "3points_n_classes"
       ],
       "description": "Mode:",
       "index": 1,
       "layout": "IPY_MODEL_c653507a7e564f9389e18033c5d39949",
       "style": "IPY_MODEL_795e916fbaa34789bc6d42d2544859d7"
      }
     },
     "22f199bf76bf47fc91a0722f973f7651": {
      "model_module": "@jupyter-widgets/controls",
      "model_module_version": "1.5.0",
      "model_name": "VBoxModel",
      "state": {
       "_dom_classes": [
        "widget-interact"
       ],
       "children": [
        "IPY_MODEL_2574b3334a814ee5b80057f0957b812b",
        "IPY_MODEL_d995359963aa4896b44ff567c6c1e1be",
        "IPY_MODEL_7f3de45af001495eb6b873f1bea58a04",
        "IPY_MODEL_b002866d717a42629f47a15566d05703",
        "IPY_MODEL_9b0a8dc02e1f412f8e4755e768874ca7",
        "IPY_MODEL_2db5a9bcb27f41c5b08dd887ca13159d",
        "IPY_MODEL_59ea4cbb77ed49e4b9246b9f85e50533",
        "IPY_MODEL_72d6ffab2f0d4aafb671f624beebf9f4"
       ],
       "layout": "IPY_MODEL_a9bed6f80670432f9befac97b10d0178"
      }
     },
     "239d75b397684936abfdd7240b26cbe1": {
      "model_module": "@jupyter-widgets/controls",
      "model_module_version": "1.5.0",
      "model_name": "VBoxModel",
      "state": {
       "_dom_classes": [
        "widget-interact"
       ],
       "children": [
        "IPY_MODEL_fa6acaabf9e04ea086eabfda6cb5bc6b",
        "IPY_MODEL_c22f70ed32794efb85f8e3d5dc218e21",
        "IPY_MODEL_d7438918041a431d9246785f39c70711",
        "IPY_MODEL_c53f317cbe6545528203bc56c405e065",
        "IPY_MODEL_dae4e3935d0f4c549c8cc99ccc6b8739",
        "IPY_MODEL_b071438467494eee89d56b9ec635583c",
        "IPY_MODEL_42d67f2ad11541daaa7b8517a0d55932",
        "IPY_MODEL_506e9add428a483db18b367010917635"
       ],
       "layout": "IPY_MODEL_7f9e78cc68544adda02de7fc092f056d"
      }
     },
     "23aaf2c0e40d4154a7e6fed2514261c4": {
      "model_module": "@jupyter-widgets/controls",
      "model_module_version": "1.5.0",
      "model_name": "TextModel",
      "state": {
       "description": "Filename:",
       "layout": "IPY_MODEL_bece4f56058c43b283a8c0e0778900ee",
       "placeholder": "image.png",
       "style": "IPY_MODEL_d1be0e91f5f84f64ae2dd98b32af2103",
       "value": "image.png"
      }
     },
     "24666321686b498dbe12db630f6c5017": {
      "model_module": "@jupyter-widgets/controls",
      "model_module_version": "1.5.0",
      "model_name": "SliderStyleModel",
      "state": {
       "description_width": ""
      }
     },
     "24d8bc778e024fc9bb36ea38e13c070f": {
      "model_module": "@jupyter-widgets/controls",
      "model_module_version": "1.5.0",
      "model_name": "SliderStyleModel",
      "state": {
       "description_width": ""
      }
     },
     "254543630b2e4579bf4256887bebe484": {
      "model_module": "@jupyter-widgets/base",
      "model_module_version": "1.2.0",
      "model_name": "LayoutModel",
      "state": {}
     },
     "2559d63287884aeb9c98fff7880dd0c1": {
      "model_module": "@jupyter-widgets/base",
      "model_module_version": "1.2.0",
      "model_name": "LayoutModel",
      "state": {
       "height": "350px"
      }
     },
     "2574b3334a814ee5b80057f0957b812b": {
      "model_module": "@jupyter-widgets/controls",
      "model_module_version": "1.5.0",
      "model_name": "IntSliderModel",
      "state": {
       "continuous_update": false,
       "description": "frame",
       "layout": "IPY_MODEL_9371059fc5574ed9aa791a7328fad5ff",
       "max": 60,
       "min": -60,
       "step": 10,
       "style": "IPY_MODEL_ef8ee34dd59c4541a6d568a01ad78143",
       "value": 10
      }
     },
     "25edb56be39f47f88d89aa8a698944c7": {
      "model_module": "@jupyter-widgets/controls",
      "model_module_version": "1.5.0",
      "model_name": "ButtonStyleModel",
      "state": {}
     },
     "272cb574968b4629b683d8b7d6a4f168": {
      "model_module": "@jupyter-widgets/output",
      "model_module_version": "1.0.0",
      "model_name": "OutputModel",
      "state": {
       "layout": "IPY_MODEL_646bd33f23e9494bbeb9f51e4453e846"
      }
     },
     "275e63faffc94e71bb30e12f70869a3a": {
      "model_module": "@jupyter-widgets/base",
      "model_module_version": "1.2.0",
      "model_name": "LayoutModel",
      "state": {}
     },
     "27891239da264d36af0c64795a3597a7": {
      "model_module": "@jupyter-widgets/output",
      "model_module_version": "1.0.0",
      "model_name": "OutputModel",
      "state": {
       "layout": "IPY_MODEL_1cdc290bc8514818af984fd144470825"
      }
     },
     "2794a456cc58472b936581c4d0235415": {
      "model_module": "@jupyter-widgets/controls",
      "model_module_version": "1.5.0",
      "model_name": "SliderStyleModel",
      "state": {
       "description_width": ""
      }
     },
     "28af8abfdab34476b6e47f98bb7aaa69": {
      "model_module": "@jupyter-widgets/controls",
      "model_module_version": "1.5.0",
      "model_name": "SliderStyleModel",
      "state": {
       "description_width": ""
      }
     },
     "28d126adbced44fdbd00f8da31c26974": {
      "model_module": "@jupyter-widgets/controls",
      "model_module_version": "1.5.0",
      "model_name": "IntSliderModel",
      "state": {
       "continuous_update": false,
       "description": "zoom",
       "disabled": true,
       "layout": "IPY_MODEL_e751df4250824168acba5e6c1696a58d",
       "max": 5,
       "min": -5,
       "style": "IPY_MODEL_bb584037b893458e87de43c5db4ab9c2",
       "value": 5
      }
     },
     "29300d5d8aef4b54ac761802accf8bb6": {
      "model_module": "@jupyter-widgets/base",
      "model_module_version": "1.2.0",
      "model_name": "LayoutModel",
      "state": {}
     },
     "295604e36d824903864903c09774409a": {
      "model_module": "@jupyter-widgets/base",
      "model_module_version": "1.2.0",
      "model_name": "LayoutModel",
      "state": {}
     },
     "2a6597d00874411eb1fa8cfbe2c6ff83": {
      "model_module": "@jupyter-widgets/base",
      "model_module_version": "1.2.0",
      "model_name": "LayoutModel",
      "state": {}
     },
     "2a9225dfc57a494b97aa7b9d7227e8ed": {
      "model_module": "@jupyter-widgets/controls",
      "model_module_version": "1.5.0",
      "model_name": "SliderStyleModel",
      "state": {
       "description_width": ""
      }
     },
     "2b29bea959014ff9b27184f1ac69c6fe": {
      "model_module": "@jupyter-widgets/output",
      "model_module_version": "1.0.0",
      "model_name": "OutputModel",
      "state": {
       "layout": "IPY_MODEL_a8018102e09d4f32b7f26daaefc3b093"
      }
     },
     "2cb8995808814a29a7b9ba310862483a": {
      "model_module": "@jupyter-widgets/controls",
      "model_module_version": "1.5.0",
      "model_name": "DescriptionStyleModel",
      "state": {
       "description_width": ""
      }
     },
     "2d6ebbf4539b4e6994e368cdc8c8f5db": {
      "model_module": "@jupyter-widgets/base",
      "model_module_version": "1.2.0",
      "model_name": "LayoutModel",
      "state": {}
     },
     "2db5a9bcb27f41c5b08dd887ca13159d": {
      "model_module": "@jupyter-widgets/controls",
      "model_module_version": "1.5.0",
      "model_name": "IntSliderModel",
      "state": {
       "continuous_update": false,
       "description": "zoom",
       "disabled": true,
       "layout": "IPY_MODEL_2fbaa13e09d842b692d2af9cddab956e",
       "max": 5,
       "min": -5,
       "style": "IPY_MODEL_20c5273e31ea4404ac51135dda090de8",
       "value": 5
      }
     },
     "2dcb96d392c147d2aacbe83d027875b6": {
      "model_module": "@jupyter-widgets/controls",
      "model_module_version": "1.5.0",
      "model_name": "VBoxModel",
      "state": {
       "_dom_classes": [
        "widget-interact"
       ],
       "children": [
        "IPY_MODEL_3e3c6495b98843198a978c65be893b82",
        "IPY_MODEL_22521160ab1f41679a9eb6d198e87347",
        "IPY_MODEL_d6663c9d4d4f42ffaa114b4945b9fca6",
        "IPY_MODEL_2e4858fbe32a42608457070aea56909b",
        "IPY_MODEL_5d4aa5a076e149b4b09aea89d8acc9a2",
        "IPY_MODEL_6eccd509a8954c458f38f5a347b9d12f",
        "IPY_MODEL_186d2c417c5249099197aba167038fc9",
        "IPY_MODEL_2b29bea959014ff9b27184f1ac69c6fe"
       ],
       "layout": "IPY_MODEL_82eb7921ae904fd7aa03c9ffdba95969"
      }
     },
     "2e4858fbe32a42608457070aea56909b": {
      "model_module": "@jupyter-widgets/controls",
      "model_module_version": "1.5.0",
      "model_name": "DropdownModel",
      "state": {
       "_options_labels": [
        "poly_and_center",
        "every_other",
        "2points_n_classes",
        "3points_n_classes"
       ],
       "description": "Mode:",
       "index": 1,
       "layout": "IPY_MODEL_f2559a881e4d4adb88fb09030ee48184",
       "style": "IPY_MODEL_8381e71f4b30442d9004307513418618"
      }
     },
     "2fbaa13e09d842b692d2af9cddab956e": {
      "model_module": "@jupyter-widgets/base",
      "model_module_version": "1.2.0",
      "model_name": "LayoutModel",
      "state": {}
     },
     "3149a2679c3b4b5dbabbb2adc6745163": {
      "model_module": "@jupyter-widgets/base",
      "model_module_version": "1.2.0",
      "model_name": "LayoutModel",
      "state": {}
     },
     "32b0af7b7d794860b5790e32b1e1b44e": {
      "model_module": "@jupyter-widgets/output",
      "model_module_version": "1.0.0",
      "model_name": "OutputModel",
      "state": {
       "layout": "IPY_MODEL_8a552da9ddba480c8c8921d2dafdd750"
      }
     },
     "32b5a09476b5457bbcb0ee669b7b9359": {
      "model_module": "@jupyter-widgets/controls",
      "model_module_version": "1.5.0",
      "model_name": "IntSliderModel",
      "state": {
       "continuous_update": false,
       "description": "zoom",
       "disabled": true,
       "layout": "IPY_MODEL_8c63f87ba9c145049ae7e92a7b2e4665",
       "max": 5,
       "min": -5,
       "style": "IPY_MODEL_eb4eba8fccde44419704ac911597ca77",
       "value": 5
      }
     },
     "33cc0b10d64e463cb86570ea7c33e52e": {
      "model_module": "@jupyter-widgets/controls",
      "model_module_version": "1.5.0",
      "model_name": "TextModel",
      "state": {
       "description": "Filename:",
       "layout": "IPY_MODEL_72f2db47245e49c4be24ac9f4ad10dcb",
       "placeholder": "image.png",
       "style": "IPY_MODEL_416a29f7eb0443eb8b5f1ce4e2c420cc",
       "value": "image.png"
      }
     },
     "34d6a5790d7f46518037fdadd20a495d": {
      "model_module": "@jupyter-widgets/controls",
      "model_module_version": "1.5.0",
      "model_name": "SliderStyleModel",
      "state": {
       "description_width": ""
      }
     },
     "36dcc0fe13644bafb6499227731f7708": {
      "model_module": "@jupyter-widgets/base",
      "model_module_version": "1.2.0",
      "model_name": "LayoutModel",
      "state": {}
     },
     "37a4cb86791e4f70b0e32aa532e2f521": {
      "model_module": "@jupyter-widgets/base",
      "model_module_version": "1.2.0",
      "model_name": "LayoutModel",
      "state": {}
     },
     "38f7705d731a487ea9b20636c27e313b": {
      "model_module": "@jupyter-widgets/controls",
      "model_module_version": "1.5.0",
      "model_name": "ButtonStyleModel",
      "state": {}
     },
     "394cff04415944249c682bdb1e7783b5": {
      "model_module": "@jupyter-widgets/base",
      "model_module_version": "1.2.0",
      "model_name": "LayoutModel",
      "state": {}
     },
     "39c587588b7a4250aed602d5b2c795d4": {
      "model_module": "@jupyter-widgets/controls",
      "model_module_version": "1.5.0",
      "model_name": "SliderStyleModel",
      "state": {
       "description_width": ""
      }
     },
     "3ac6a6b58df84352add8af23bd1b952c": {
      "model_module": "@jupyter-widgets/base",
      "model_module_version": "1.2.0",
      "model_name": "LayoutModel",
      "state": {}
     },
     "3bc0e0b23aef4e9cad224d5c57d74f3f": {
      "model_module": "@jupyter-widgets/base",
      "model_module_version": "1.2.0",
      "model_name": "LayoutModel",
      "state": {}
     },
     "3c79e20e300c4b52b1dc256746926247": {
      "model_module": "@jupyter-widgets/base",
      "model_module_version": "1.2.0",
      "model_name": "LayoutModel",
      "state": {}
     },
     "3c8c4fd405d24c8f91a0b43704677cf5": {
      "model_module": "@jupyter-widgets/base",
      "model_module_version": "1.2.0",
      "model_name": "LayoutModel",
      "state": {}
     },
     "3e3c6495b98843198a978c65be893b82": {
      "model_module": "@jupyter-widgets/controls",
      "model_module_version": "1.5.0",
      "model_name": "IntSliderModel",
      "state": {
       "continuous_update": false,
       "description": "frame",
       "layout": "IPY_MODEL_03d444ce591346049604936eae2cd5be",
       "max": 60,
       "min": -60,
       "step": 10,
       "style": "IPY_MODEL_550a3c1f45904aed857e8f28adf2ab6a",
       "value": 10
      }
     },
     "3e4ac1df44bd4baaadb5458a10c00a6f": {
      "model_module": "@jupyter-widgets/base",
      "model_module_version": "1.2.0",
      "model_name": "LayoutModel",
      "state": {
       "height": "350px"
      }
     },
     "3efb5db3a6a04e5da8788c607e0e33bb": {
      "model_module": "@jupyter-widgets/controls",
      "model_module_version": "1.5.0",
      "model_name": "IntSliderModel",
      "state": {
       "continuous_update": false,
       "description": "num_classes",
       "layout": "IPY_MODEL_06a5995b35be4fb4857e46992391ffb0",
       "max": 20,
       "min": 2,
       "style": "IPY_MODEL_180f2e2b2f9b40ce958b0e2095892e2e",
       "value": 7
      }
     },
     "3f195463de5a460eada42417d134357a": {
      "model_module": "@jupyter-widgets/output",
      "model_module_version": "1.0.0",
      "model_name": "OutputModel",
      "state": {
       "layout": "IPY_MODEL_c58061758af44806bb627fb025b5dfd3"
      }
     },
     "401829fdca494c05bc8a6e1d35d657a4": {
      "model_module": "@jupyter-widgets/controls",
      "model_module_version": "1.5.0",
      "model_name": "DropdownModel",
      "state": {
       "_options_labels": [
        "poly_and_center",
        "every_other",
        "2points_n_classes",
        "3points_n_classes"
       ],
       "description": "Mode:",
       "index": 1,
       "layout": "IPY_MODEL_d18e9d8d34a24dd0b52b43e16aeeafae",
       "style": "IPY_MODEL_60d1a3bff5b147c4b6b3cc1b9455c61e"
      }
     },
     "416a29f7eb0443eb8b5f1ce4e2c420cc": {
      "model_module": "@jupyter-widgets/controls",
      "model_module_version": "1.5.0",
      "model_name": "DescriptionStyleModel",
      "state": {
       "description_width": ""
      }
     },
     "41a74390c64348bc85aaa1001840c2dc": {
      "model_module": "@jupyter-widgets/controls",
      "model_module_version": "1.5.0",
      "model_name": "ButtonStyleModel",
      "state": {}
     },
     "41ac8d43355a48c9aef561a51fef5473": {
      "model_module": "@jupyter-widgets/controls",
      "model_module_version": "1.5.0",
      "model_name": "ButtonStyleModel",
      "state": {}
     },
     "420278ec40fe4080a1a8163fb13201ec": {
      "model_module": "@jupyter-widgets/base",
      "model_module_version": "1.2.0",
      "model_name": "LayoutModel",
      "state": {}
     },
     "42bee52820614430a0e82c04292099b3": {
      "model_module": "@jupyter-widgets/controls",
      "model_module_version": "1.5.0",
      "model_name": "DescriptionStyleModel",
      "state": {
       "description_width": ""
      }
     },
     "42d67f2ad11541daaa7b8517a0d55932": {
      "model_module": "@jupyter-widgets/controls",
      "model_module_version": "1.5.0",
      "model_name": "TextModel",
      "state": {
       "description": "Filename:",
       "layout": "IPY_MODEL_caf683284ff54a1fb6985bd99e9c7e29",
       "placeholder": "image.png",
       "style": "IPY_MODEL_2cb8995808814a29a7b9ba310862483a",
       "value": "image.png"
      }
     },
     "42ef5d8d2df64aa084880db9dc6961a2": {
      "model_module": "@jupyter-widgets/controls",
      "model_module_version": "1.5.0",
      "model_name": "RadioButtonsModel",
      "state": {
       "_options_labels": [
        "Very Low",
        "Low",
        "Medium",
        "High",
        "Very High"
       ],
       "description": "Resolution:",
       "index": 2,
       "layout": "IPY_MODEL_c40c4ff2c89d43fe9c8716864a155a83",
       "style": "IPY_MODEL_4ce348803ba44e87ad5d352cfe0ba90b"
      }
     },
     "4395d1c8618749cca461934c3c9eb596": {
      "model_module": "@jupyter-widgets/base",
      "model_module_version": "1.2.0",
      "model_name": "LayoutModel",
      "state": {}
     },
     "4472560ed49a40189508184b07a5e5a1": {
      "model_module": "@jupyter-widgets/controls",
      "model_module_version": "1.5.0",
      "model_name": "VBoxModel",
      "state": {
       "_dom_classes": [
        "widget-interact"
       ],
       "children": [
        "IPY_MODEL_08e2f7cd069a4e3c9c9705b4f23a6fab",
        "IPY_MODEL_aa4219faeed340f49d3f0d449d70c63b",
        "IPY_MODEL_54643cf97be74483a266a76b1e65f7e3",
        "IPY_MODEL_9d19e1518abd4b5e96c0ffe52f9f31f2",
        "IPY_MODEL_a98f49be2d634e4491f0407820e609b3",
        "IPY_MODEL_32b5a09476b5457bbcb0ee669b7b9359",
        "IPY_MODEL_23aaf2c0e40d4154a7e6fed2514261c4",
        "IPY_MODEL_3f195463de5a460eada42417d134357a"
       ],
       "layout": "IPY_MODEL_4babbfd5d0324eac8f8b9a7994357867"
      }
     },
     "456eb002d05848a89e6fb5156b60a97c": {
      "model_module": "@jupyter-widgets/controls",
      "model_module_version": "1.5.0",
      "model_name": "IntSliderModel",
      "state": {
       "continuous_update": false,
       "description": "num_points",
       "layout": "IPY_MODEL_04ddf22778cf491da30a934607d759aa",
       "max": 12,
       "min": 4,
       "style": "IPY_MODEL_60d0f2f2cbf844c4a14856a897f591cc",
       "value": 4
      }
     },
     "45768a1de72348f49459e82a26fb3a05": {
      "model_module": "@jupyter-widgets/controls",
      "model_module_version": "1.5.0",
      "model_name": "IntSliderModel",
      "state": {
       "continuous_update": false,
       "description": "zoom",
       "disabled": true,
       "layout": "IPY_MODEL_b20d74ab64c94d258aa35604bdf50d13",
       "max": 5,
       "min": -5,
       "style": "IPY_MODEL_89ed37fa51ca4df8accd5c32c6e185ba",
       "value": 5
      }
     },
     "457814f167bf4e40a524268461fc8776": {
      "model_module": "@jupyter-widgets/controls",
      "model_module_version": "1.5.0",
      "model_name": "DescriptionStyleModel",
      "state": {
       "description_width": ""
      }
     },
     "46d310bad583403498b7d50b8cd6dc15": {
      "model_module": "@jupyter-widgets/base",
      "model_module_version": "1.2.0",
      "model_name": "LayoutModel",
      "state": {}
     },
     "4701be596ff846ba916e4d892ad50f63": {
      "model_module": "@jupyter-widgets/controls",
      "model_module_version": "1.5.0",
      "model_name": "TextModel",
      "state": {
       "description": "Filename:",
       "layout": "IPY_MODEL_a6d1973f15ec46a99c396a40f0017152",
       "placeholder": "image.png",
       "style": "IPY_MODEL_52b17e5a008549dba9c5a2a0ab54b641",
       "value": "image.png"
      }
     },
     "4747b0d96e1d470d97e4d7cc6a28f400": {
      "model_module": "@jupyter-widgets/output",
      "model_module_version": "1.0.0",
      "model_name": "OutputModel",
      "state": {
       "layout": "IPY_MODEL_3bc0e0b23aef4e9cad224d5c57d74f3f"
      }
     },
     "47accdf2212844c295f76a4f6b88ce70": {
      "model_module": "@jupyter-widgets/controls",
      "model_module_version": "1.5.0",
      "model_name": "SliderStyleModel",
      "state": {
       "description_width": ""
      }
     },
     "47d3794697844ea9b3033d8a97f9db48": {
      "model_module": "@jupyter-widgets/controls",
      "model_module_version": "1.5.0",
      "model_name": "IntSliderModel",
      "state": {
       "continuous_update": false,
       "description": "frame",
       "layout": "IPY_MODEL_bebd1e326a574f9fa237f19c04ec21cb",
       "max": 60,
       "min": -60,
       "step": 10,
       "style": "IPY_MODEL_7743d9b4bb9349e78035cc9b57f8e42f",
       "value": 10
      }
     },
     "47d62be925e44cd6abd135af4e250fd2": {
      "model_module": "@jupyter-widgets/controls",
      "model_module_version": "1.5.0",
      "model_name": "ButtonModel",
      "state": {
       "description": "Save image",
       "layout": "IPY_MODEL_487fd241bf274cdbb4d0b24291347514",
       "style": "IPY_MODEL_ac5cb17193ee46e196d5da459537719f"
      }
     },
     "487fd241bf274cdbb4d0b24291347514": {
      "model_module": "@jupyter-widgets/base",
      "model_module_version": "1.2.0",
      "model_name": "LayoutModel",
      "state": {}
     },
     "4991f16735684dc38d61655b3e87af44": {
      "model_module": "@jupyter-widgets/controls",
      "model_module_version": "1.5.0",
      "model_name": "SliderStyleModel",
      "state": {
       "description_width": ""
      }
     },
     "4b7aa7ed821140599e844b76f930808e": {
      "model_module": "@jupyter-widgets/controls",
      "model_module_version": "1.5.0",
      "model_name": "ButtonStyleModel",
      "state": {}
     },
     "4babbfd5d0324eac8f8b9a7994357867": {
      "model_module": "@jupyter-widgets/base",
      "model_module_version": "1.2.0",
      "model_name": "LayoutModel",
      "state": {}
     },
     "4bb6269c63b241b9b7b9527d8ee0b2c7": {
      "model_module": "@jupyter-widgets/controls",
      "model_module_version": "1.5.0",
      "model_name": "DropdownModel",
      "state": {
       "_options_labels": [
        "poly_and_center",
        "every_other",
        "2points_n_classes",
        "3points_n_classes"
       ],
       "description": "Mode:",
       "index": 1,
       "layout": "IPY_MODEL_75cb3384f4ba451aad7a038c83e85992",
       "style": "IPY_MODEL_71413c28cdc44131b2216f5de306f959"
      }
     },
     "4c824113c0ac40f5ba3b1e0b8300bf24": {
      "model_module": "@jupyter-widgets/base",
      "model_module_version": "1.2.0",
      "model_name": "LayoutModel",
      "state": {}
     },
     "4ce348803ba44e87ad5d352cfe0ba90b": {
      "model_module": "@jupyter-widgets/controls",
      "model_module_version": "1.5.0",
      "model_name": "DescriptionStyleModel",
      "state": {
       "description_width": ""
      }
     },
     "4d1c50d66e13485d854fd24e7ceb1330": {
      "model_module": "@jupyter-widgets/base",
      "model_module_version": "1.2.0",
      "model_name": "LayoutModel",
      "state": {}
     },
     "4d2c2a828da44d98806178aec31f7ef8": {
      "model_module": "@jupyter-widgets/controls",
      "model_module_version": "1.5.0",
      "model_name": "SliderStyleModel",
      "state": {
       "description_width": ""
      }
     },
     "4ff71ffc1a3349b29e8984ebd08049b9": {
      "model_module": "@jupyter-widgets/controls",
      "model_module_version": "1.5.0",
      "model_name": "RadioButtonsModel",
      "state": {
       "_options_labels": [
        "Very Low",
        "Low",
        "Medium",
        "High",
        "Very High"
       ],
       "description": "Resolution:",
       "index": 2,
       "layout": "IPY_MODEL_37a4cb86791e4f70b0e32aa532e2f521",
       "style": "IPY_MODEL_d7f9dafed27b45ad9797aa9b01c22ad4"
      }
     },
     "4fffa390c1374688a1a5b96e329e9f49": {
      "model_module": "@jupyter-widgets/controls",
      "model_module_version": "1.5.0",
      "model_name": "DropdownModel",
      "state": {
       "_options_labels": [
        "poly_and_center",
        "every_other",
        "2points_n_classes",
        "3points_n_classes"
       ],
       "description": "Mode:",
       "index": 1,
       "layout": "IPY_MODEL_9c7cc69208a74d18be16ffbf80557a29",
       "style": "IPY_MODEL_cb68ccb3867d488ca74888458841ed16"
      }
     },
     "504248b60ca94ba08895d0ab5e0eb882": {
      "model_module": "@jupyter-widgets/base",
      "model_module_version": "1.2.0",
      "model_name": "LayoutModel",
      "state": {}
     },
     "506e9add428a483db18b367010917635": {
      "model_module": "@jupyter-widgets/output",
      "model_module_version": "1.0.0",
      "model_name": "OutputModel",
      "state": {
       "layout": "IPY_MODEL_b155d79cde854a84968e530922968412"
      }
     },
     "5113308e5f304115b788152907ca13d3": {
      "model_module": "@jupyter-widgets/base",
      "model_module_version": "1.2.0",
      "model_name": "LayoutModel",
      "state": {}
     },
     "517d13b0b31548a692f0fcd9c2d40775": {
      "model_module": "@jupyter-widgets/controls",
      "model_module_version": "1.5.0",
      "model_name": "DescriptionStyleModel",
      "state": {
       "description_width": ""
      }
     },
     "5199a586edb24c30ac7e7bbfbfdc8bfb": {
      "model_module": "@jupyter-widgets/controls",
      "model_module_version": "1.5.0",
      "model_name": "SliderStyleModel",
      "state": {
       "description_width": ""
      }
     },
     "51d161f85aea4411baad428ff5038f1e": {
      "model_module": "@jupyter-widgets/base",
      "model_module_version": "1.2.0",
      "model_name": "LayoutModel",
      "state": {}
     },
     "52b17e5a008549dba9c5a2a0ab54b641": {
      "model_module": "@jupyter-widgets/controls",
      "model_module_version": "1.5.0",
      "model_name": "DescriptionStyleModel",
      "state": {
       "description_width": ""
      }
     },
     "52c49cac66b34e758901cca5b476ca29": {
      "model_module": "@jupyter-widgets/output",
      "model_module_version": "1.0.0",
      "model_name": "OutputModel",
      "state": {
       "layout": "IPY_MODEL_420278ec40fe4080a1a8163fb13201ec"
      }
     },
     "5379d0c43b24472a985586d87f3a4965": {
      "model_module": "@jupyter-widgets/controls",
      "model_module_version": "1.5.0",
      "model_name": "IntSliderModel",
      "state": {
       "continuous_update": false,
       "description": "zoom",
       "disabled": true,
       "layout": "IPY_MODEL_940e4903a7774f87b2596eb2e103999b",
       "max": 5,
       "min": -5,
       "style": "IPY_MODEL_5c09030212ff493f84049bfb1c9bfb41",
       "value": 5
      }
     },
     "542aab1f2a3642c29466b61d840c0450": {
      "model_module": "@jupyter-widgets/base",
      "model_module_version": "1.2.0",
      "model_name": "LayoutModel",
      "state": {}
     },
     "54643cf97be74483a266a76b1e65f7e3": {
      "model_module": "@jupyter-widgets/controls",
      "model_module_version": "1.5.0",
      "model_name": "IntSliderModel",
      "state": {
       "continuous_update": false,
       "description": "num_classes",
       "disabled": true,
       "layout": "IPY_MODEL_c8a35215954249e7a5e306af8d7700e6",
       "max": 24,
       "min": 1,
       "style": "IPY_MODEL_9677ae26a5f8429ca505614a0c2b57ef",
       "value": 8
      }
     },
     "550a3c1f45904aed857e8f28adf2ab6a": {
      "model_module": "@jupyter-widgets/controls",
      "model_module_version": "1.5.0",
      "model_name": "SliderStyleModel",
      "state": {
       "description_width": ""
      }
     },
     "563d68e7de7d46e394d3226aa0c32498": {
      "model_module": "@jupyter-widgets/controls",
      "model_module_version": "1.5.0",
      "model_name": "SliderStyleModel",
      "state": {
       "description_width": ""
      }
     },
     "5697c75d418e4169ac2f6977de0634d2": {
      "model_module": "@jupyter-widgets/controls",
      "model_module_version": "1.5.0",
      "model_name": "SliderStyleModel",
      "state": {
       "description_width": ""
      }
     },
     "569879ea9def40e696236684a8268aae": {
      "model_module": "@jupyter-widgets/base",
      "model_module_version": "1.2.0",
      "model_name": "LayoutModel",
      "state": {}
     },
     "5846caa706274cc59f708ecf321f2a10": {
      "model_module": "@jupyter-widgets/base",
      "model_module_version": "1.2.0",
      "model_name": "LayoutModel",
      "state": {}
     },
     "58ab936bb3e14cf19c3209afa80eaea0": {
      "model_module": "@jupyter-widgets/output",
      "model_module_version": "1.0.0",
      "model_name": "OutputModel",
      "state": {
       "layout": "IPY_MODEL_d4105f47852b4bbea3ac497c0091ce6f"
      }
     },
     "598a6fbe3dad46fbb0b8c5dc69c8e714": {
      "model_module": "@jupyter-widgets/controls",
      "model_module_version": "1.5.0",
      "model_name": "DescriptionStyleModel",
      "state": {
       "description_width": ""
      }
     },
     "59dc739b8839457c9c2e86c483afbe1c": {
      "model_module": "@jupyter-widgets/controls",
      "model_module_version": "1.5.0",
      "model_name": "IntSliderModel",
      "state": {
       "continuous_update": false,
       "description": "frame",
       "layout": "IPY_MODEL_6723b2e67d9b4ed4ac621548e6ae8304",
       "max": 60,
       "min": -60,
       "step": 10,
       "style": "IPY_MODEL_ed27f7c15ef047dcbb3fbf9682275cc9",
       "value": 10
      }
     },
     "59ea4cbb77ed49e4b9246b9f85e50533": {
      "model_module": "@jupyter-widgets/controls",
      "model_module_version": "1.5.0",
      "model_name": "TextModel",
      "state": {
       "description": "Filename:",
       "layout": "IPY_MODEL_ad6624461ae9442aa4f9ec0d67dc09f1",
       "placeholder": "image.png",
       "style": "IPY_MODEL_ef2a4617823b41b7ba0e1bb53005f5f7",
       "value": "image.png"
      }
     },
     "5a2919b23ef44239a628f58a2950a9fe": {
      "model_module": "@jupyter-widgets/controls",
      "model_module_version": "1.5.0",
      "model_name": "RadioButtonsModel",
      "state": {
       "_options_labels": [
        "Very Low",
        "Low",
        "Medium",
        "High",
        "Very High"
       ],
       "description": "Resolution:",
       "index": 2,
       "layout": "IPY_MODEL_7a565445aa824ed4a74f562218c9bd63",
       "style": "IPY_MODEL_7388ac401a124a5e91a61638cebd6a25"
      }
     },
     "5a69a439da504d31a101895e4834d3e2": {
      "model_module": "@jupyter-widgets/base",
      "model_module_version": "1.2.0",
      "model_name": "LayoutModel",
      "state": {}
     },
     "5ab1e6497eb84d02b3680a6838e4be8f": {
      "model_module": "@jupyter-widgets/base",
      "model_module_version": "1.2.0",
      "model_name": "LayoutModel",
      "state": {}
     },
     "5b31579438af4fe9af44677072f78dcf": {
      "model_module": "@jupyter-widgets/base",
      "model_module_version": "1.2.0",
      "model_name": "LayoutModel",
      "state": {
       "height": "350px"
      }
     },
     "5c09030212ff493f84049bfb1c9bfb41": {
      "model_module": "@jupyter-widgets/controls",
      "model_module_version": "1.5.0",
      "model_name": "SliderStyleModel",
      "state": {
       "description_width": ""
      }
     },
     "5c3cbc618c4543d7b074cbaf2911478c": {
      "model_module": "@jupyter-widgets/controls",
      "model_module_version": "1.5.0",
      "model_name": "TextModel",
      "state": {
       "description": "Filename:",
       "layout": "IPY_MODEL_2d6ebbf4539b4e6994e368cdc8c8f5db",
       "placeholder": "image.png",
       "style": "IPY_MODEL_517d13b0b31548a692f0fcd9c2d40775",
       "value": "image.png"
      }
     },
     "5d18fd1cdd254fb98f642b8d25199629": {
      "model_module": "@jupyter-widgets/controls",
      "model_module_version": "1.5.0",
      "model_name": "IntSliderModel",
      "state": {
       "continuous_update": false,
       "description": "frame",
       "layout": "IPY_MODEL_4d1c50d66e13485d854fd24e7ceb1330",
       "max": 60,
       "min": -60,
       "step": 10,
       "style": "IPY_MODEL_859e9d9eaf294aaebb65caa6d836dce6",
       "value": 10
      }
     },
     "5d4aa5a076e149b4b09aea89d8acc9a2": {
      "model_module": "@jupyter-widgets/controls",
      "model_module_version": "1.5.0",
      "model_name": "RadioButtonsModel",
      "state": {
       "_options_labels": [
        "Very Low",
        "Low",
        "Medium",
        "High",
        "Very High"
       ],
       "description": "Resolution:",
       "index": 2,
       "layout": "IPY_MODEL_b14a8ffa69d44189a8778dc8dcb0f3a8",
       "style": "IPY_MODEL_8a096222a0a04f168f87250e98d937c1"
      }
     },
     "5d7ff55557f241c7aab737935b0d74ae": {
      "model_module": "@jupyter-widgets/base",
      "model_module_version": "1.2.0",
      "model_name": "LayoutModel",
      "state": {}
     },
     "5e865e1b9bb24e0aa386818e21b76636": {
      "model_module": "@jupyter-widgets/controls",
      "model_module_version": "1.5.0",
      "model_name": "SliderStyleModel",
      "state": {
       "description_width": ""
      }
     },
     "5f1f60fe52dd4d01ae84d87b7b527556": {
      "model_module": "@jupyter-widgets/controls",
      "model_module_version": "1.5.0",
      "model_name": "SliderStyleModel",
      "state": {
       "description_width": ""
      }
     },
     "5f490ba4470e42c294a3413b2b420d53": {
      "model_module": "@jupyter-widgets/base",
      "model_module_version": "1.2.0",
      "model_name": "LayoutModel",
      "state": {}
     },
     "5f86d663f5c84f22bbf621711f2d4635": {
      "model_module": "@jupyter-widgets/base",
      "model_module_version": "1.2.0",
      "model_name": "LayoutModel",
      "state": {}
     },
     "60d0f2f2cbf844c4a14856a897f591cc": {
      "model_module": "@jupyter-widgets/controls",
      "model_module_version": "1.5.0",
      "model_name": "SliderStyleModel",
      "state": {
       "description_width": ""
      }
     },
     "60d1a3bff5b147c4b6b3cc1b9455c61e": {
      "model_module": "@jupyter-widgets/controls",
      "model_module_version": "1.5.0",
      "model_name": "DescriptionStyleModel",
      "state": {
       "description_width": ""
      }
     },
     "62299593b62b48da80cec856c160c0b7": {
      "model_module": "@jupyter-widgets/base",
      "model_module_version": "1.2.0",
      "model_name": "LayoutModel",
      "state": {}
     },
     "6235c85a5a074020b95b2b7b9b88437e": {
      "model_module": "@jupyter-widgets/controls",
      "model_module_version": "1.5.0",
      "model_name": "SliderStyleModel",
      "state": {
       "description_width": ""
      }
     },
     "630d2534ffb047529777a45129e542bf": {
      "model_module": "@jupyter-widgets/controls",
      "model_module_version": "1.5.0",
      "model_name": "IntSliderModel",
      "state": {
       "continuous_update": false,
       "description": "zoom",
       "disabled": true,
       "layout": "IPY_MODEL_1f206444ddc54523b41ae62eda2c2b08",
       "max": 5,
       "min": -5,
       "style": "IPY_MODEL_24666321686b498dbe12db630f6c5017",
       "value": 5
      }
     },
     "6413eb8c130f4313aca73647d7792d0c": {
      "model_module": "@jupyter-widgets/controls",
      "model_module_version": "1.5.0",
      "model_name": "DescriptionStyleModel",
      "state": {
       "description_width": ""
      }
     },
     "646bd33f23e9494bbeb9f51e4453e846": {
      "model_module": "@jupyter-widgets/base",
      "model_module_version": "1.2.0",
      "model_name": "LayoutModel",
      "state": {
       "height": "350px"
      }
     },
     "64cde2ef0e4f4e2dab6b9b3fc80bf447": {
      "model_module": "@jupyter-widgets/controls",
      "model_module_version": "1.5.0",
      "model_name": "TextModel",
      "state": {
       "description": "Filename:",
       "layout": "IPY_MODEL_025a4d00c9c1494b86f11d581f1ae53e",
       "placeholder": "image.png",
       "style": "IPY_MODEL_02a6f2d1539b4ce7b32ea24c923b8664",
       "value": "image.png"
      }
     },
     "650b80a9bb134f01bb619aa628da0a95": {
      "model_module": "@jupyter-widgets/controls",
      "model_module_version": "1.5.0",
      "model_name": "DescriptionStyleModel",
      "state": {
       "description_width": ""
      }
     },
     "65b1ff06e66a4440a2adff77cc68db75": {
      "model_module": "@jupyter-widgets/controls",
      "model_module_version": "1.5.0",
      "model_name": "DescriptionStyleModel",
      "state": {
       "description_width": ""
      }
     },
     "66c539b6e79f4a13a42405f56d17e026": {
      "model_module": "@jupyter-widgets/base",
      "model_module_version": "1.2.0",
      "model_name": "LayoutModel",
      "state": {}
     },
     "66de3b25a49649098d4510a7ffcd77a7": {
      "model_module": "@jupyter-widgets/controls",
      "model_module_version": "1.5.0",
      "model_name": "TextModel",
      "state": {
       "description": "Filename:",
       "layout": "IPY_MODEL_e49c0f8a80ff49988abff2cf952a3755",
       "placeholder": "image.png",
       "style": "IPY_MODEL_7dc7f1e337b843a28e0c4fa70ff4f78c",
       "value": "image.png"
      }
     },
     "66ea9403a7f4427197c708146e6ae8e0": {
      "model_module": "@jupyter-widgets/output",
      "model_module_version": "1.0.0",
      "model_name": "OutputModel",
      "state": {
       "layout": "IPY_MODEL_a3b69459bd094f1a816c44413b2fe3bc"
      }
     },
     "6723b2e67d9b4ed4ac621548e6ae8304": {
      "model_module": "@jupyter-widgets/base",
      "model_module_version": "1.2.0",
      "model_name": "LayoutModel",
      "state": {}
     },
     "6767512fd20247689c08fcb421fa2969": {
      "model_module": "@jupyter-widgets/base",
      "model_module_version": "1.2.0",
      "model_name": "LayoutModel",
      "state": {}
     },
     "67bcd54a399b4f8097a49b724ccc3a66": {
      "model_module": "@jupyter-widgets/base",
      "model_module_version": "1.2.0",
      "model_name": "LayoutModel",
      "state": {}
     },
     "689871b80fa8414293843bf0654f15db": {
      "model_module": "@jupyter-widgets/controls",
      "model_module_version": "1.5.0",
      "model_name": "ButtonStyleModel",
      "state": {}
     },
     "6a7c43a69aef44198e4addccfec07998": {
      "model_module": "@jupyter-widgets/base",
      "model_module_version": "1.2.0",
      "model_name": "LayoutModel",
      "state": {}
     },
     "6a905c1416ac481da4eb2c5a024da223": {
      "model_module": "@jupyter-widgets/controls",
      "model_module_version": "1.5.0",
      "model_name": "DescriptionStyleModel",
      "state": {
       "description_width": ""
      }
     },
     "6aacc601fc124f71a2870979fe97fda1": {
      "model_module": "@jupyter-widgets/controls",
      "model_module_version": "1.5.0",
      "model_name": "SliderStyleModel",
      "state": {
       "description_width": ""
      }
     },
     "6b130968476f434b9d43cc62c9bcebe2": {
      "model_module": "@jupyter-widgets/controls",
      "model_module_version": "1.5.0",
      "model_name": "DropdownModel",
      "state": {
       "_options_labels": [
        "poly_and_center",
        "every_other",
        "2points_n_classes",
        "3points_n_classes"
       ],
       "description": "Mode:",
       "index": 2,
       "layout": "IPY_MODEL_cd1c909f7f324b85ac08c7fdb12927fe",
       "style": "IPY_MODEL_0d2a8114948644aaab36e01e84f0d6e4"
      }
     },
     "6c5ae7b80b9d415a962ba478350ad124": {
      "model_module": "@jupyter-widgets/base",
      "model_module_version": "1.2.0",
      "model_name": "LayoutModel",
      "state": {}
     },
     "6ce08dbbb9b24df49e682ba08c748bac": {
      "model_module": "@jupyter-widgets/output",
      "model_module_version": "1.0.0",
      "model_name": "OutputModel",
      "state": {
       "layout": "IPY_MODEL_dda0d290e3914021ae6ab2526e6ae98c"
      }
     },
     "6eccd509a8954c458f38f5a347b9d12f": {
      "model_module": "@jupyter-widgets/controls",
      "model_module_version": "1.5.0",
      "model_name": "IntSliderModel",
      "state": {
       "continuous_update": false,
       "description": "zoom",
       "disabled": true,
       "layout": "IPY_MODEL_8741b5bd4bf04276b15657b96656369c",
       "max": 5,
       "min": -5,
       "style": "IPY_MODEL_5e865e1b9bb24e0aa386818e21b76636",
       "value": 5
      }
     },
     "6f2b147a025b442987a11e4b9d8395c2": {
      "model_module": "@jupyter-widgets/controls",
      "model_module_version": "1.5.0",
      "model_name": "IntSliderModel",
      "state": {
       "continuous_update": false,
       "description": "num_classes",
       "disabled": true,
       "layout": "IPY_MODEL_edd3721f07d84e1ba8b014e8232640df",
       "max": 24,
       "min": 1,
       "style": "IPY_MODEL_8cdf60c21c60455fac0305607e244d73",
       "value": 8
      }
     },
     "70ad8e4661464edcb751a5c6a0c3360b": {
      "model_module": "@jupyter-widgets/base",
      "model_module_version": "1.2.0",
      "model_name": "LayoutModel",
      "state": {}
     },
     "70c564dd43de4399aa5585778755c9a9": {
      "model_module": "@jupyter-widgets/controls",
      "model_module_version": "1.5.0",
      "model_name": "SliderStyleModel",
      "state": {
       "description_width": ""
      }
     },
     "70f854fb38e44187837263d6f09e7487": {
      "model_module": "@jupyter-widgets/controls",
      "model_module_version": "1.5.0",
      "model_name": "DescriptionStyleModel",
      "state": {
       "description_width": ""
      }
     },
     "71413c28cdc44131b2216f5de306f959": {
      "model_module": "@jupyter-widgets/controls",
      "model_module_version": "1.5.0",
      "model_name": "DescriptionStyleModel",
      "state": {
       "description_width": ""
      }
     },
     "7197062e7b294552a7dd04377fd5949c": {
      "model_module": "@jupyter-widgets/base",
      "model_module_version": "1.2.0",
      "model_name": "LayoutModel",
      "state": {}
     },
     "71c9795075104401b4c75ab28a2b1bc4": {
      "model_module": "@jupyter-widgets/controls",
      "model_module_version": "1.5.0",
      "model_name": "VBoxModel",
      "state": {
       "_dom_classes": [
        "widget-interact"
       ],
       "children": [
        "IPY_MODEL_d9f0a51faff24f84889d36d5cd085776",
        "IPY_MODEL_f7eae17659284565ac272322f4418936",
        "IPY_MODEL_106ea0c847ba4ec4ab02590af717e513",
        "IPY_MODEL_0ad3cfcd96f7451b845f3d064994c522",
        "IPY_MODEL_aa9ed39ed1cc401bab5ee0e0704d049b",
        "IPY_MODEL_45768a1de72348f49459e82a26fb3a05",
        "IPY_MODEL_caf500af7f104ad2b924bab70c3c11bb",
        "IPY_MODEL_8a475dd82dda4380b7cdd55fca2334a7"
       ],
       "layout": "IPY_MODEL_5846caa706274cc59f708ecf321f2a10"
      }
     },
     "72d6ffab2f0d4aafb671f624beebf9f4": {
      "model_module": "@jupyter-widgets/output",
      "model_module_version": "1.0.0",
      "model_name": "OutputModel",
      "state": {
       "layout": "IPY_MODEL_dd09634f590d4fb3aad8465a477323f5"
      }
     },
     "72f2db47245e49c4be24ac9f4ad10dcb": {
      "model_module": "@jupyter-widgets/base",
      "model_module_version": "1.2.0",
      "model_name": "LayoutModel",
      "state": {}
     },
     "7379878c62904aaf81655be94bfa28aa": {
      "model_module": "@jupyter-widgets/base",
      "model_module_version": "1.2.0",
      "model_name": "LayoutModel",
      "state": {}
     },
     "7388ac401a124a5e91a61638cebd6a25": {
      "model_module": "@jupyter-widgets/controls",
      "model_module_version": "1.5.0",
      "model_name": "DescriptionStyleModel",
      "state": {
       "description_width": ""
      }
     },
     "73afda1d91d94614926d26f02b27ce9c": {
      "model_module": "@jupyter-widgets/controls",
      "model_module_version": "1.5.0",
      "model_name": "ButtonStyleModel",
      "state": {}
     },
     "740c73aecf704938a13d31e2bbe6a517": {
      "model_module": "@jupyter-widgets/controls",
      "model_module_version": "1.5.0",
      "model_name": "DescriptionStyleModel",
      "state": {
       "description_width": ""
      }
     },
     "7439e7c668794e0d890ac826a4cca73b": {
      "model_module": "@jupyter-widgets/controls",
      "model_module_version": "1.5.0",
      "model_name": "IntSliderModel",
      "state": {
       "continuous_update": false,
       "description": "num_classes",
       "disabled": true,
       "layout": "IPY_MODEL_a4e120e10f1c4c24ad884e35845abd9c",
       "max": 24,
       "min": 1,
       "style": "IPY_MODEL_b2c52a7d43ce4fc6a1f2e7b37fe9feeb",
       "value": 8
      }
     },
     "753fc1d4bc2e493cb6153e17319338f3": {
      "model_module": "@jupyter-widgets/base",
      "model_module_version": "1.2.0",
      "model_name": "LayoutModel",
      "state": {}
     },
     "756fd2b0f9d2442bbc80998274eaae9a": {
      "model_module": "@jupyter-widgets/controls",
      "model_module_version": "1.5.0",
      "model_name": "ButtonModel",
      "state": {
       "description": "Save image",
       "layout": "IPY_MODEL_809493b290eb4882ac07cbb2320b1a3d",
       "style": "IPY_MODEL_c5bdad07ebab4af480d2e9307e03b2eb"
      }
     },
     "759095f67ccd4beab1b1d5712f2b1598": {
      "model_module": "@jupyter-widgets/base",
      "model_module_version": "1.2.0",
      "model_name": "LayoutModel",
      "state": {}
     },
     "75cb3384f4ba451aad7a038c83e85992": {
      "model_module": "@jupyter-widgets/base",
      "model_module_version": "1.2.0",
      "model_name": "LayoutModel",
      "state": {}
     },
     "76a60d2f7e3a49d08b26515534d81024": {
      "model_module": "@jupyter-widgets/controls",
      "model_module_version": "1.5.0",
      "model_name": "ButtonModel",
      "state": {
       "description": "Save image",
       "layout": "IPY_MODEL_fc6ea7dbd3bb469dbdcd7e109fce94b9",
       "style": "IPY_MODEL_41ac8d43355a48c9aef561a51fef5473"
      }
     },
     "7743d9b4bb9349e78035cc9b57f8e42f": {
      "model_module": "@jupyter-widgets/controls",
      "model_module_version": "1.5.0",
      "model_name": "SliderStyleModel",
      "state": {
       "description_width": ""
      }
     },
     "78a96179272b49829ad2b633f092c26a": {
      "model_module": "@jupyter-widgets/controls",
      "model_module_version": "1.5.0",
      "model_name": "ButtonModel",
      "state": {
       "description": "Save image",
       "layout": "IPY_MODEL_187f56e973f94e5d8ad9b3b98cb20aca",
       "style": "IPY_MODEL_689871b80fa8414293843bf0654f15db"
      }
     },
     "795e916fbaa34789bc6d42d2544859d7": {
      "model_module": "@jupyter-widgets/controls",
      "model_module_version": "1.5.0",
      "model_name": "DescriptionStyleModel",
      "state": {
       "description_width": ""
      }
     },
     "7a565445aa824ed4a74f562218c9bd63": {
      "model_module": "@jupyter-widgets/base",
      "model_module_version": "1.2.0",
      "model_name": "LayoutModel",
      "state": {}
     },
     "7a98d7650dab4d50a57664015add566d": {
      "model_module": "@jupyter-widgets/controls",
      "model_module_version": "1.5.0",
      "model_name": "IntSliderModel",
      "state": {
       "continuous_update": false,
       "description": "num_points",
       "layout": "IPY_MODEL_759095f67ccd4beab1b1d5712f2b1598",
       "max": 12,
       "min": 4,
       "style": "IPY_MODEL_4d2c2a828da44d98806178aec31f7ef8",
       "value": 4
      }
     },
     "7ad041c432dd4a3faf29872b99277bce": {
      "model_module": "@jupyter-widgets/base",
      "model_module_version": "1.2.0",
      "model_name": "LayoutModel",
      "state": {}
     },
     "7dc7f1e337b843a28e0c4fa70ff4f78c": {
      "model_module": "@jupyter-widgets/controls",
      "model_module_version": "1.5.0",
      "model_name": "DescriptionStyleModel",
      "state": {
       "description_width": ""
      }
     },
     "7f3de45af001495eb6b873f1bea58a04": {
      "model_module": "@jupyter-widgets/controls",
      "model_module_version": "1.5.0",
      "model_name": "IntSliderModel",
      "state": {
       "continuous_update": false,
       "description": "num_classes",
       "disabled": true,
       "layout": "IPY_MODEL_ad1abe60855241fd9bceb2e0faf034e0",
       "max": 24,
       "min": 1,
       "style": "IPY_MODEL_e115403c7aaf40de9f246cc9826a891b",
       "value": 8
      }
     },
     "7f6b8d69fdac4a67af4bdf60d28c64dc": {
      "model_module": "@jupyter-widgets/controls",
      "model_module_version": "1.5.0",
      "model_name": "ButtonModel",
      "state": {
       "description": "Save image",
       "layout": "IPY_MODEL_b6ec49e52ae1410bbfe8c494033b90cd",
       "style": "IPY_MODEL_4b7aa7ed821140599e844b76f930808e"
      }
     },
     "7f859b529297436c8a8d72b4b706e2fc": {
      "model_module": "@jupyter-widgets/output",
      "model_module_version": "1.0.0",
      "model_name": "OutputModel",
      "state": {
       "layout": "IPY_MODEL_a84b51eb57ad43efb6a56c7bd5c6266b"
      }
     },
     "7f9e78cc68544adda02de7fc092f056d": {
      "model_module": "@jupyter-widgets/base",
      "model_module_version": "1.2.0",
      "model_name": "LayoutModel",
      "state": {}
     },
     "809493b290eb4882ac07cbb2320b1a3d": {
      "model_module": "@jupyter-widgets/base",
      "model_module_version": "1.2.0",
      "model_name": "LayoutModel",
      "state": {}
     },
     "81176380c4174e14b764da7efd13beda": {
      "model_module": "@jupyter-widgets/base",
      "model_module_version": "1.2.0",
      "model_name": "LayoutModel",
      "state": {}
     },
     "81c6f84f791340b18125bc07c263e9e0": {
      "model_module": "@jupyter-widgets/controls",
      "model_module_version": "1.5.0",
      "model_name": "ButtonModel",
      "state": {
       "description": "Save image",
       "layout": "IPY_MODEL_f7e6a505a68e4f4f801787e6a8a0a8e2",
       "style": "IPY_MODEL_9439f526da50431887347fbf18a1b3c7"
      }
     },
     "82ddcd7774044c02bc9792e91b7f8a6e": {
      "model_module": "@jupyter-widgets/controls",
      "model_module_version": "1.5.0",
      "model_name": "DropdownModel",
      "state": {
       "_options_labels": [
        "poly_and_center",
        "every_other",
        "2points_n_classes",
        "3points_n_classes"
       ],
       "description": "Mode:",
       "index": 1,
       "layout": "IPY_MODEL_16f0762b2e864ff5abca381fc81d29a8",
       "style": "IPY_MODEL_0e91b512510f4094aa3cc18f31c0b2a0"
      }
     },
     "82eb7921ae904fd7aa03c9ffdba95969": {
      "model_module": "@jupyter-widgets/base",
      "model_module_version": "1.2.0",
      "model_name": "LayoutModel",
      "state": {}
     },
     "834953fa9e3f4d75bf2d595bee71c20e": {
      "model_module": "@jupyter-widgets/base",
      "model_module_version": "1.2.0",
      "model_name": "LayoutModel",
      "state": {}
     },
     "8381e71f4b30442d9004307513418618": {
      "model_module": "@jupyter-widgets/controls",
      "model_module_version": "1.5.0",
      "model_name": "DescriptionStyleModel",
      "state": {
       "description_width": ""
      }
     },
     "84583671c64d4613a6fc953a2d04fcb5": {
      "model_module": "@jupyter-widgets/controls",
      "model_module_version": "1.5.0",
      "model_name": "VBoxModel",
      "state": {
       "_dom_classes": [
        "widget-interact"
       ],
       "children": [
        "IPY_MODEL_a6a82ea3026c4243994cdbf50c7a522c",
        "IPY_MODEL_08efd1778b2c46febb5eb62067994032",
        "IPY_MODEL_9ada6b96f6ac42299c3d4ca7db381550",
        "IPY_MODEL_9268ea74e77649beb306d96dd0db4fcf",
        "IPY_MODEL_ca5f83291343454aa7f7f938084f89c6",
        "IPY_MODEL_5379d0c43b24472a985586d87f3a4965",
        "IPY_MODEL_64cde2ef0e4f4e2dab6b9b3fc80bf447",
        "IPY_MODEL_e4bbe30cffcb4c01a165c0c43637b07f"
       ],
       "layout": "IPY_MODEL_70ad8e4661464edcb751a5c6a0c3360b"
      }
     },
     "84946cbe3077401cb5faf2bae3b4cedd": {
      "model_module": "@jupyter-widgets/output",
      "model_module_version": "1.0.0",
      "model_name": "OutputModel",
      "state": {
       "layout": "IPY_MODEL_a7dc0e5eb8c74954bce60c3c37fb5b9b"
      }
     },
     "859e9d9eaf294aaebb65caa6d836dce6": {
      "model_module": "@jupyter-widgets/controls",
      "model_module_version": "1.5.0",
      "model_name": "SliderStyleModel",
      "state": {
       "description_width": ""
      }
     },
     "85c243d4ef57465a9613cbc3edd6e27d": {
      "model_module": "@jupyter-widgets/controls",
      "model_module_version": "1.5.0",
      "model_name": "SliderStyleModel",
      "state": {
       "description_width": ""
      }
     },
     "870f976359d64df5b27a612be1d7a760": {
      "model_module": "@jupyter-widgets/base",
      "model_module_version": "1.2.0",
      "model_name": "LayoutModel",
      "state": {}
     },
     "8711481de24e4f898c85d905ac2f8484": {
      "model_module": "@jupyter-widgets/base",
      "model_module_version": "1.2.0",
      "model_name": "LayoutModel",
      "state": {}
     },
     "8741b5bd4bf04276b15657b96656369c": {
      "model_module": "@jupyter-widgets/base",
      "model_module_version": "1.2.0",
      "model_name": "LayoutModel",
      "state": {}
     },
     "8779afae79df4f01ba9613d8628190af": {
      "model_module": "@jupyter-widgets/controls",
      "model_module_version": "1.5.0",
      "model_name": "IntSliderModel",
      "state": {
       "continuous_update": false,
       "description": "zoom",
       "disabled": true,
       "layout": "IPY_MODEL_b04937f8a0dc46c090a4479daa038594",
       "max": 5,
       "min": -5,
       "style": "IPY_MODEL_28af8abfdab34476b6e47f98bb7aaa69",
       "value": 5
      }
     },
     "880f1a1773344a5da1401aa40c7ef924": {
      "model_module": "@jupyter-widgets/controls",
      "model_module_version": "1.5.0",
      "model_name": "VBoxModel",
      "state": {
       "_dom_classes": [
        "widget-interact"
       ],
       "children": [
        "IPY_MODEL_e74e962f0f68489fab028f3cff302a0d",
        "IPY_MODEL_7a98d7650dab4d50a57664015add566d",
        "IPY_MODEL_6f2b147a025b442987a11e4b9d8395c2",
        "IPY_MODEL_b3af0e40f1f44871885243f8761c75ef",
        "IPY_MODEL_4ff71ffc1a3349b29e8984ebd08049b9",
        "IPY_MODEL_9bb913b034b6496b8477022cc2ca579a",
        "IPY_MODEL_0363f7d404714500af9ab37ac2f4e1bd",
        "IPY_MODEL_dd6f9965bddb4ec4988accf41cd0af66"
       ],
       "layout": "IPY_MODEL_6a7c43a69aef44198e4addccfec07998"
      }
     },
     "89ed37fa51ca4df8accd5c32c6e185ba": {
      "model_module": "@jupyter-widgets/controls",
      "model_module_version": "1.5.0",
      "model_name": "SliderStyleModel",
      "state": {
       "description_width": ""
      }
     },
     "89f1ec10bd5942d58db5bc160307b0f4": {
      "model_module": "@jupyter-widgets/output",
      "model_module_version": "1.0.0",
      "model_name": "OutputModel",
      "state": {
       "layout": "IPY_MODEL_8fe592f5e6924ed29501131a88f7b966"
      }
     },
     "8a096222a0a04f168f87250e98d937c1": {
      "model_module": "@jupyter-widgets/controls",
      "model_module_version": "1.5.0",
      "model_name": "DescriptionStyleModel",
      "state": {
       "description_width": ""
      }
     },
     "8a185b02db664820a56affda26f193c9": {
      "model_module": "@jupyter-widgets/base",
      "model_module_version": "1.2.0",
      "model_name": "LayoutModel",
      "state": {}
     },
     "8a2ef60c384340d789d09de6dddd348a": {
      "model_module": "@jupyter-widgets/base",
      "model_module_version": "1.2.0",
      "model_name": "LayoutModel",
      "state": {}
     },
     "8a3845779ed14e0da480a090c0547adc": {
      "model_module": "@jupyter-widgets/controls",
      "model_module_version": "1.5.0",
      "model_name": "VBoxModel",
      "state": {
       "_dom_classes": [
        "widget-interact"
       ],
       "children": [
        "IPY_MODEL_47d3794697844ea9b3033d8a97f9db48",
        "IPY_MODEL_456eb002d05848a89e6fb5156b60a97c",
        "IPY_MODEL_978f598e949d4cb59f51627771adf4eb",
        "IPY_MODEL_82ddcd7774044c02bc9792e91b7f8a6e",
        "IPY_MODEL_f1256990b95d465489453e8ea637bf43",
        "IPY_MODEL_9143e5ed8e1744a3bb85df138f8799ad",
        "IPY_MODEL_ac25e95194364777bedff480745c94cd",
        "IPY_MODEL_32b0af7b7d794860b5790e32b1e1b44e"
       ],
       "layout": "IPY_MODEL_a76a6d920dd2464c8807b354fc70eeb5"
      }
     },
     "8a3ff2ebd512400a9b79212430c1f6f1": {
      "model_module": "@jupyter-widgets/controls",
      "model_module_version": "1.5.0",
      "model_name": "DescriptionStyleModel",
      "state": {
       "description_width": ""
      }
     },
     "8a475dd82dda4380b7cdd55fca2334a7": {
      "model_module": "@jupyter-widgets/output",
      "model_module_version": "1.0.0",
      "model_name": "OutputModel",
      "state": {
       "layout": "IPY_MODEL_b242ab3538fb4836afee10004210431e"
      }
     },
     "8a552da9ddba480c8c8921d2dafdd750": {
      "model_module": "@jupyter-widgets/base",
      "model_module_version": "1.2.0",
      "model_name": "LayoutModel",
      "state": {
       "height": "350px"
      }
     },
     "8ad51d181a364a68b867b4991573af63": {
      "model_module": "@jupyter-widgets/output",
      "model_module_version": "1.0.0",
      "model_name": "OutputModel",
      "state": {
       "layout": "IPY_MODEL_394cff04415944249c682bdb1e7783b5"
      }
     },
     "8ad6cbc5d50448a5a524de7d508024cb": {
      "model_module": "@jupyter-widgets/controls",
      "model_module_version": "1.5.0",
      "model_name": "DescriptionStyleModel",
      "state": {
       "description_width": ""
      }
     },
     "8b0e8b2dc4464ef6b8d0cba0d7d90972": {
      "model_module": "@jupyter-widgets/controls",
      "model_module_version": "1.5.0",
      "model_name": "SliderStyleModel",
      "state": {
       "description_width": ""
      }
     },
     "8bcdb893db674b759be457b82c9b9829": {
      "model_module": "@jupyter-widgets/controls",
      "model_module_version": "1.5.0",
      "model_name": "SliderStyleModel",
      "state": {
       "description_width": ""
      }
     },
     "8c63f87ba9c145049ae7e92a7b2e4665": {
      "model_module": "@jupyter-widgets/base",
      "model_module_version": "1.2.0",
      "model_name": "LayoutModel",
      "state": {}
     },
     "8c9ad17af7f8439fbfe9c02d13aa04b0": {
      "model_module": "@jupyter-widgets/controls",
      "model_module_version": "1.5.0",
      "model_name": "TextModel",
      "state": {
       "description": "Filename:",
       "layout": "IPY_MODEL_06a4e4290b5546aba03a2b9a61131d22",
       "placeholder": "image.png",
       "style": "IPY_MODEL_df86414ea8f74e82bae06ae03501aaa8",
       "value": "image.png"
      }
     },
     "8cdf60c21c60455fac0305607e244d73": {
      "model_module": "@jupyter-widgets/controls",
      "model_module_version": "1.5.0",
      "model_name": "SliderStyleModel",
      "state": {
       "description_width": ""
      }
     },
     "8f6bbc1543334d55a4032ea26a2e31d9": {
      "model_module": "@jupyter-widgets/controls",
      "model_module_version": "1.5.0",
      "model_name": "SliderStyleModel",
      "state": {
       "description_width": ""
      }
     },
     "8fe592f5e6924ed29501131a88f7b966": {
      "model_module": "@jupyter-widgets/base",
      "model_module_version": "1.2.0",
      "model_name": "LayoutModel",
      "state": {}
     },
     "90cb6cf3e90a4d2693d36e3ec1f8b650": {
      "model_module": "@jupyter-widgets/controls",
      "model_module_version": "1.5.0",
      "model_name": "ButtonModel",
      "state": {
       "description": "Save image",
       "layout": "IPY_MODEL_b1e42048b66e41b58ebac671dc2cf497",
       "style": "IPY_MODEL_38f7705d731a487ea9b20636c27e313b"
      }
     },
     "90ed935a84ca4e839091152866e56897": {
      "model_module": "@jupyter-widgets/controls",
      "model_module_version": "1.5.0",
      "model_name": "SliderStyleModel",
      "state": {
       "description_width": ""
      }
     },
     "9143e5ed8e1744a3bb85df138f8799ad": {
      "model_module": "@jupyter-widgets/controls",
      "model_module_version": "1.5.0",
      "model_name": "IntSliderModel",
      "state": {
       "continuous_update": false,
       "description": "zoom",
       "disabled": true,
       "layout": "IPY_MODEL_ff1ebbb9593045a1bb76751be453e232",
       "max": 5,
       "min": -5,
       "style": "IPY_MODEL_563d68e7de7d46e394d3226aa0c32498",
       "value": 5
      }
     },
     "9268ea74e77649beb306d96dd0db4fcf": {
      "model_module": "@jupyter-widgets/controls",
      "model_module_version": "1.5.0",
      "model_name": "DropdownModel",
      "state": {
       "_options_labels": [
        "poly_and_center",
        "every_other",
        "2points_n_classes",
        "3points_n_classes"
       ],
       "description": "Mode:",
       "index": 1,
       "layout": "IPY_MODEL_3149a2679c3b4b5dbabbb2adc6745163",
       "style": "IPY_MODEL_ccf2c7ebd9164dd0b38afd89d41e9dd1"
      }
     },
     "9371059fc5574ed9aa791a7328fad5ff": {
      "model_module": "@jupyter-widgets/base",
      "model_module_version": "1.2.0",
      "model_name": "LayoutModel",
      "state": {}
     },
     "940e4903a7774f87b2596eb2e103999b": {
      "model_module": "@jupyter-widgets/base",
      "model_module_version": "1.2.0",
      "model_name": "LayoutModel",
      "state": {}
     },
     "9439f526da50431887347fbf18a1b3c7": {
      "model_module": "@jupyter-widgets/controls",
      "model_module_version": "1.5.0",
      "model_name": "ButtonStyleModel",
      "state": {}
     },
     "95e782cbb7374cb397b0167b8c35d720": {
      "model_module": "@jupyter-widgets/controls",
      "model_module_version": "1.5.0",
      "model_name": "ButtonModel",
      "state": {
       "description": "Save image",
       "layout": "IPY_MODEL_504248b60ca94ba08895d0ab5e0eb882",
       "style": "IPY_MODEL_73afda1d91d94614926d26f02b27ce9c"
      }
     },
     "960c21bd1211411db8533335167fc7e9": {
      "model_module": "@jupyter-widgets/controls",
      "model_module_version": "1.5.0",
      "model_name": "DescriptionStyleModel",
      "state": {
       "description_width": ""
      }
     },
     "9677ae26a5f8429ca505614a0c2b57ef": {
      "model_module": "@jupyter-widgets/controls",
      "model_module_version": "1.5.0",
      "model_name": "SliderStyleModel",
      "state": {
       "description_width": ""
      }
     },
     "978f598e949d4cb59f51627771adf4eb": {
      "model_module": "@jupyter-widgets/controls",
      "model_module_version": "1.5.0",
      "model_name": "IntSliderModel",
      "state": {
       "continuous_update": false,
       "description": "num_classes",
       "disabled": true,
       "layout": "IPY_MODEL_c47002ac350347f98373b962485ce099",
       "max": 24,
       "min": 1,
       "style": "IPY_MODEL_70c564dd43de4399aa5585778755c9a9",
       "value": 8
      }
     },
     "98b640dc17af4dbca7ce1c0ee27ccdaf": {
      "model_module": "@jupyter-widgets/output",
      "model_module_version": "1.0.0",
      "model_name": "OutputModel",
      "state": {
       "layout": "IPY_MODEL_0a264ea52df54329a8c66cb5f38bd5b1"
      }
     },
     "98b8bc679ad74cf6baa7b5312b7bb19c": {
      "model_module": "@jupyter-widgets/controls",
      "model_module_version": "1.5.0",
      "model_name": "IntSliderModel",
      "state": {
       "continuous_update": false,
       "description": "num_points",
       "layout": "IPY_MODEL_0355885167d7484fa86980cdcd099aad",
       "max": 12,
       "min": 4,
       "style": "IPY_MODEL_2a9225dfc57a494b97aa7b9d7227e8ed",
       "value": 4
      }
     },
     "98eaa6ea82e04a4cb4796ac542c7b26c": {
      "model_module": "@jupyter-widgets/base",
      "model_module_version": "1.2.0",
      "model_name": "LayoutModel",
      "state": {}
     },
     "9ada6b96f6ac42299c3d4ca7db381550": {
      "model_module": "@jupyter-widgets/controls",
      "model_module_version": "1.5.0",
      "model_name": "IntSliderModel",
      "state": {
       "continuous_update": false,
       "description": "num_classes",
       "disabled": true,
       "layout": "IPY_MODEL_fad33eef822f4725831ad721575da14d",
       "max": 24,
       "min": 1,
       "style": "IPY_MODEL_8f6bbc1543334d55a4032ea26a2e31d9",
       "value": 8
      }
     },
     "9b0a8dc02e1f412f8e4755e768874ca7": {
      "model_module": "@jupyter-widgets/controls",
      "model_module_version": "1.5.0",
      "model_name": "RadioButtonsModel",
      "state": {
       "_options_labels": [
        "Very Low",
        "Low",
        "Medium",
        "High",
        "Very High"
       ],
       "description": "Resolution:",
       "index": 2,
       "layout": "IPY_MODEL_ba2a29032ffb428ebdedb68719f7eb81",
       "style": "IPY_MODEL_b0985378c620426dbaf7a38d1d36124c"
      }
     },
     "9bace9b711a240d28c3ddfd06c488667": {
      "model_module": "@jupyter-widgets/controls",
      "model_module_version": "1.5.0",
      "model_name": "DescriptionStyleModel",
      "state": {
       "description_width": ""
      }
     },
     "9bb913b034b6496b8477022cc2ca579a": {
      "model_module": "@jupyter-widgets/controls",
      "model_module_version": "1.5.0",
      "model_name": "IntSliderModel",
      "state": {
       "continuous_update": false,
       "description": "zoom",
       "disabled": true,
       "layout": "IPY_MODEL_7197062e7b294552a7dd04377fd5949c",
       "max": 5,
       "min": -5,
       "style": "IPY_MODEL_06933a8750d84eb38f7ff6d693031b77",
       "value": 5
      }
     },
     "9c7cc69208a74d18be16ffbf80557a29": {
      "model_module": "@jupyter-widgets/base",
      "model_module_version": "1.2.0",
      "model_name": "LayoutModel",
      "state": {}
     },
     "9d19e1518abd4b5e96c0ffe52f9f31f2": {
      "model_module": "@jupyter-widgets/controls",
      "model_module_version": "1.5.0",
      "model_name": "DropdownModel",
      "state": {
       "_options_labels": [
        "poly_and_center",
        "every_other",
        "2points_n_classes",
        "3points_n_classes"
       ],
       "description": "Mode:",
       "index": 1,
       "layout": "IPY_MODEL_3c8c4fd405d24c8f91a0b43704677cf5",
       "style": "IPY_MODEL_1dec1054b3364a24b5ae775fceb186f1"
      }
     },
     "9dc7263effa2453d88122b7ca08cfd77": {
      "model_module": "@jupyter-widgets/controls",
      "model_module_version": "1.5.0",
      "model_name": "SliderStyleModel",
      "state": {
       "description_width": ""
      }
     },
     "9e989e9d356a4b57b9bf684f294d6c44": {
      "model_module": "@jupyter-widgets/base",
      "model_module_version": "1.2.0",
      "model_name": "LayoutModel",
      "state": {}
     },
     "9f30a17bfac54334b66e60c3db24cbce": {
      "model_module": "@jupyter-widgets/controls",
      "model_module_version": "1.5.0",
      "model_name": "SliderStyleModel",
      "state": {
       "description_width": ""
      }
     },
     "a062cf1414b348819c1e9f711a6e95f5": {
      "model_module": "@jupyter-widgets/base",
      "model_module_version": "1.2.0",
      "model_name": "LayoutModel",
      "state": {}
     },
     "a0d4b109450c4ac2a80d74e800ab1830": {
      "model_module": "@jupyter-widgets/controls",
      "model_module_version": "1.5.0",
      "model_name": "SliderStyleModel",
      "state": {
       "description_width": ""
      }
     },
     "a35a908d8d1c466181df59c8b530a24e": {
      "model_module": "@jupyter-widgets/base",
      "model_module_version": "1.2.0",
      "model_name": "LayoutModel",
      "state": {}
     },
     "a3b69459bd094f1a816c44413b2fe3bc": {
      "model_module": "@jupyter-widgets/base",
      "model_module_version": "1.2.0",
      "model_name": "LayoutModel",
      "state": {}
     },
     "a4e120e10f1c4c24ad884e35845abd9c": {
      "model_module": "@jupyter-widgets/base",
      "model_module_version": "1.2.0",
      "model_name": "LayoutModel",
      "state": {}
     },
     "a5526cf3dc1143019cfe08531dd179ab": {
      "model_module": "@jupyter-widgets/controls",
      "model_module_version": "1.5.0",
      "model_name": "VBoxModel",
      "state": {
       "_dom_classes": [
        "widget-interact"
       ],
       "children": [
        "IPY_MODEL_5d18fd1cdd254fb98f642b8d25199629",
        "IPY_MODEL_03c39a9506804d759d3231cbf3f285cb",
        "IPY_MODEL_aad6eaa74a304aa4848d00c84b46e3b1",
        "IPY_MODEL_4bb6269c63b241b9b7b9527d8ee0b2c7",
        "IPY_MODEL_d2793efaeef6424eaab710a0a0eae22c",
        "IPY_MODEL_c06b7a1c5f484922980dcd4b301adb4d",
        "IPY_MODEL_a9d23d8902864549b420205efc9ca4e3",
        "IPY_MODEL_d7a720fb172d4734925277cb9a7d1315"
       ],
       "layout": "IPY_MODEL_0f6b5ca32f7549bd9083b89406be0ace"
      }
     },
     "a5d508483055422aba728096683e8f7b": {
      "model_module": "@jupyter-widgets/base",
      "model_module_version": "1.2.0",
      "model_name": "LayoutModel",
      "state": {}
     },
     "a6a82ea3026c4243994cdbf50c7a522c": {
      "model_module": "@jupyter-widgets/controls",
      "model_module_version": "1.5.0",
      "model_name": "IntSliderModel",
      "state": {
       "continuous_update": false,
       "description": "frame",
       "layout": "IPY_MODEL_edcfa694a61e4c2c88d1b5846966f224",
       "max": 60,
       "min": -60,
       "step": 10,
       "style": "IPY_MODEL_c658113b5770444f808e7ab5e3eb1772",
       "value": 10
      }
     },
     "a6a834c9eb174da7845f2dee261d9b0d": {
      "model_module": "@jupyter-widgets/controls",
      "model_module_version": "1.5.0",
      "model_name": "ButtonStyleModel",
      "state": {}
     },
     "a6d1973f15ec46a99c396a40f0017152": {
      "model_module": "@jupyter-widgets/base",
      "model_module_version": "1.2.0",
      "model_name": "LayoutModel",
      "state": {}
     },
     "a76a6d920dd2464c8807b354fc70eeb5": {
      "model_module": "@jupyter-widgets/base",
      "model_module_version": "1.2.0",
      "model_name": "LayoutModel",
      "state": {}
     },
     "a7bb5f039da34846b42e7c4c40514205": {
      "model_module": "@jupyter-widgets/controls",
      "model_module_version": "1.5.0",
      "model_name": "VBoxModel",
      "state": {
       "_dom_classes": [
        "widget-interact"
       ],
       "children": [
        "IPY_MODEL_d01d504005ab4f45a6bda981f9e24220",
        "IPY_MODEL_ae745ad5cddf4ff38fbf41fa1d3ed8e1",
        "IPY_MODEL_bf8fc11ee6944822b0de826ae283344b",
        "IPY_MODEL_401829fdca494c05bc8a6e1d35d657a4",
        "IPY_MODEL_c5f74680eb904d29a5378e0b81403765",
        "IPY_MODEL_630d2534ffb047529777a45129e542bf",
        "IPY_MODEL_8c9ad17af7f8439fbfe9c02d13aa04b0",
        "IPY_MODEL_106dadb3769a45eaa031a3cb84ef527e"
       ],
       "layout": "IPY_MODEL_f722d1e46b0642d091a5c4478ba814f8"
      }
     },
     "a7dc0e5eb8c74954bce60c3c37fb5b9b": {
      "model_module": "@jupyter-widgets/base",
      "model_module_version": "1.2.0",
      "model_name": "LayoutModel",
      "state": {
       "height": "350px"
      }
     },
     "a8018102e09d4f32b7f26daaefc3b093": {
      "model_module": "@jupyter-widgets/base",
      "model_module_version": "1.2.0",
      "model_name": "LayoutModel",
      "state": {
       "height": "350px"
      }
     },
     "a80e9052f5f64a18b2c6bf7aa7e22f31": {
      "model_module": "@jupyter-widgets/base",
      "model_module_version": "1.2.0",
      "model_name": "LayoutModel",
      "state": {}
     },
     "a83fcb0fc89d4aee968b9ab97dd34762": {
      "model_module": "@jupyter-widgets/base",
      "model_module_version": "1.2.0",
      "model_name": "LayoutModel",
      "state": {}
     },
     "a84b51eb57ad43efb6a56c7bd5c6266b": {
      "model_module": "@jupyter-widgets/base",
      "model_module_version": "1.2.0",
      "model_name": "LayoutModel",
      "state": {}
     },
     "a88382b827f94c7ab5442cb140fc5a37": {
      "model_module": "@jupyter-widgets/controls",
      "model_module_version": "1.5.0",
      "model_name": "DescriptionStyleModel",
      "state": {
       "description_width": ""
      }
     },
     "a98f49be2d634e4491f0407820e609b3": {
      "model_module": "@jupyter-widgets/controls",
      "model_module_version": "1.5.0",
      "model_name": "RadioButtonsModel",
      "state": {
       "_options_labels": [
        "Very Low",
        "Low",
        "Medium",
        "High",
        "Very High"
       ],
       "description": "Resolution:",
       "index": 2,
       "layout": "IPY_MODEL_81176380c4174e14b764da7efd13beda",
       "style": "IPY_MODEL_457814f167bf4e40a524268461fc8776"
      }
     },
     "a9bed6f80670432f9befac97b10d0178": {
      "model_module": "@jupyter-widgets/base",
      "model_module_version": "1.2.0",
      "model_name": "LayoutModel",
      "state": {}
     },
     "a9d23d8902864549b420205efc9ca4e3": {
      "model_module": "@jupyter-widgets/controls",
      "model_module_version": "1.5.0",
      "model_name": "TextModel",
      "state": {
       "description": "Filename:",
       "layout": "IPY_MODEL_5f86d663f5c84f22bbf621711f2d4635",
       "placeholder": "image.png",
       "style": "IPY_MODEL_8a3ff2ebd512400a9b79212430c1f6f1",
       "value": "image.png"
      }
     },
     "aa39aabfe4b840e28c2f4e5f5f981042": {
      "model_module": "@jupyter-widgets/controls",
      "model_module_version": "1.5.0",
      "model_name": "IntSliderModel",
      "state": {
       "continuous_update": false,
       "description": "zoom",
       "disabled": true,
       "layout": "IPY_MODEL_fef72de3508e4e39b9bd40f59030e9ec",
       "max": 5,
       "min": -5,
       "style": "IPY_MODEL_bcaa963d5836467c9743d88d36a0de1c",
       "value": 5
      }
     },
     "aa4219faeed340f49d3f0d449d70c63b": {
      "model_module": "@jupyter-widgets/controls",
      "model_module_version": "1.5.0",
      "model_name": "IntSliderModel",
      "state": {
       "continuous_update": false,
       "description": "num_points",
       "layout": "IPY_MODEL_51d161f85aea4411baad428ff5038f1e",
       "max": 12,
       "min": 4,
       "style": "IPY_MODEL_34d6a5790d7f46518037fdadd20a495d",
       "value": 4
      }
     },
     "aa9ed39ed1cc401bab5ee0e0704d049b": {
      "model_module": "@jupyter-widgets/controls",
      "model_module_version": "1.5.0",
      "model_name": "RadioButtonsModel",
      "state": {
       "_options_labels": [
        "Very Low",
        "Low",
        "Medium",
        "High",
        "Very High"
       ],
       "description": "Resolution:",
       "index": 2,
       "layout": "IPY_MODEL_e9b2549e170a4ba4b1e0d6493214ad78",
       "style": "IPY_MODEL_b1ab02036e7f4e9380f2732e462aeb13"
      }
     },
     "aad6eaa74a304aa4848d00c84b46e3b1": {
      "model_module": "@jupyter-widgets/controls",
      "model_module_version": "1.5.0",
      "model_name": "IntSliderModel",
      "state": {
       "continuous_update": false,
       "description": "num_classes",
       "disabled": true,
       "layout": "IPY_MODEL_af2726cf224048f79539010f94bde349",
       "max": 24,
       "min": 1,
       "style": "IPY_MODEL_47accdf2212844c295f76a4f6b88ce70",
       "value": 8
      }
     },
     "abf2beb16e5d4f58a6ea1cc2f51fa05e": {
      "model_module": "@jupyter-widgets/controls",
      "model_module_version": "1.5.0",
      "model_name": "SliderStyleModel",
      "state": {
       "description_width": ""
      }
     },
     "ac25e95194364777bedff480745c94cd": {
      "model_module": "@jupyter-widgets/controls",
      "model_module_version": "1.5.0",
      "model_name": "TextModel",
      "state": {
       "description": "Filename:",
       "layout": "IPY_MODEL_62299593b62b48da80cec856c160c0b7",
       "placeholder": "image.png",
       "style": "IPY_MODEL_b5e46c72ed90485fb4310472f843e3c2",
       "value": "image.png"
      }
     },
     "ac5cb17193ee46e196d5da459537719f": {
      "model_module": "@jupyter-widgets/controls",
      "model_module_version": "1.5.0",
      "model_name": "ButtonStyleModel",
      "state": {}
     },
     "ad1abe60855241fd9bceb2e0faf034e0": {
      "model_module": "@jupyter-widgets/base",
      "model_module_version": "1.2.0",
      "model_name": "LayoutModel",
      "state": {}
     },
     "ad6624461ae9442aa4f9ec0d67dc09f1": {
      "model_module": "@jupyter-widgets/base",
      "model_module_version": "1.2.0",
      "model_name": "LayoutModel",
      "state": {}
     },
     "ae745ad5cddf4ff38fbf41fa1d3ed8e1": {
      "model_module": "@jupyter-widgets/controls",
      "model_module_version": "1.5.0",
      "model_name": "IntSliderModel",
      "state": {
       "continuous_update": false,
       "description": "num_points",
       "layout": "IPY_MODEL_254543630b2e4579bf4256887bebe484",
       "max": 12,
       "min": 4,
       "style": "IPY_MODEL_6235c85a5a074020b95b2b7b9b88437e",
       "value": 4
      }
     },
     "af2726cf224048f79539010f94bde349": {
      "model_module": "@jupyter-widgets/base",
      "model_module_version": "1.2.0",
      "model_name": "LayoutModel",
      "state": {}
     },
     "afaed3715c384baaa7de4742b3465f2a": {
      "model_module": "@jupyter-widgets/controls",
      "model_module_version": "1.5.0",
      "model_name": "DescriptionStyleModel",
      "state": {
       "description_width": ""
      }
     },
     "b002866d717a42629f47a15566d05703": {
      "model_module": "@jupyter-widgets/controls",
      "model_module_version": "1.5.0",
      "model_name": "DropdownModel",
      "state": {
       "_options_labels": [
        "poly_and_center",
        "every_other",
        "2points_n_classes",
        "3points_n_classes"
       ],
       "description": "Mode:",
       "index": 1,
       "layout": "IPY_MODEL_5f490ba4470e42c294a3413b2b420d53",
       "style": "IPY_MODEL_740c73aecf704938a13d31e2bbe6a517"
      }
     },
     "b0086946fef4433e8efe8730b39ce8e4": {
      "model_module": "@jupyter-widgets/output",
      "model_module_version": "1.0.0",
      "model_name": "OutputModel",
      "state": {
       "layout": "IPY_MODEL_ce9a02e26c6f4416bc2c0e66aa8e5772"
      }
     },
     "b04937f8a0dc46c090a4479daa038594": {
      "model_module": "@jupyter-widgets/base",
      "model_module_version": "1.2.0",
      "model_name": "LayoutModel",
      "state": {}
     },
     "b071438467494eee89d56b9ec635583c": {
      "model_module": "@jupyter-widgets/controls",
      "model_module_version": "1.5.0",
      "model_name": "IntSliderModel",
      "state": {
       "continuous_update": false,
       "description": "zoom",
       "disabled": true,
       "layout": "IPY_MODEL_753fc1d4bc2e493cb6153e17319338f3",
       "max": 5,
       "min": -5,
       "style": "IPY_MODEL_85c243d4ef57465a9613cbc3edd6e27d",
       "value": 5
      }
     },
     "b0985378c620426dbaf7a38d1d36124c": {
      "model_module": "@jupyter-widgets/controls",
      "model_module_version": "1.5.0",
      "model_name": "DescriptionStyleModel",
      "state": {
       "description_width": ""
      }
     },
     "b14a8ffa69d44189a8778dc8dcb0f3a8": {
      "model_module": "@jupyter-widgets/base",
      "model_module_version": "1.2.0",
      "model_name": "LayoutModel",
      "state": {}
     },
     "b155d79cde854a84968e530922968412": {
      "model_module": "@jupyter-widgets/base",
      "model_module_version": "1.2.0",
      "model_name": "LayoutModel",
      "state": {
       "height": "350px"
      }
     },
     "b174bf22d84e4957920a102bdb0e80d1": {
      "model_module": "@jupyter-widgets/controls",
      "model_module_version": "1.5.0",
      "model_name": "VBoxModel",
      "state": {
       "_dom_classes": [
        "widget-interact"
       ],
       "children": [
        "IPY_MODEL_f5e7068271e5442797a29e84b1e97dd8",
        "IPY_MODEL_c209e9c25c93496ca4cbb064c9be7126",
        "IPY_MODEL_3efb5db3a6a04e5da8788c607e0e33bb",
        "IPY_MODEL_6b130968476f434b9d43cc62c9bcebe2",
        "IPY_MODEL_1c0e5dfbf4484d4cbbe77da591fce7cd",
        "IPY_MODEL_d99675da08864bafa49533a4defd1eae",
        "IPY_MODEL_5c3cbc618c4543d7b074cbaf2911478c",
        "IPY_MODEL_27891239da264d36af0c64795a3597a7"
       ],
       "layout": "IPY_MODEL_dca47b7feb2a4f23a38cd7b77e91f101"
      }
     },
     "b1ab02036e7f4e9380f2732e462aeb13": {
      "model_module": "@jupyter-widgets/controls",
      "model_module_version": "1.5.0",
      "model_name": "DescriptionStyleModel",
      "state": {
       "description_width": ""
      }
     },
     "b1e42048b66e41b58ebac671dc2cf497": {
      "model_module": "@jupyter-widgets/base",
      "model_module_version": "1.2.0",
      "model_name": "LayoutModel",
      "state": {}
     },
     "b20d74ab64c94d258aa35604bdf50d13": {
      "model_module": "@jupyter-widgets/base",
      "model_module_version": "1.2.0",
      "model_name": "LayoutModel",
      "state": {}
     },
     "b242ab3538fb4836afee10004210431e": {
      "model_module": "@jupyter-widgets/base",
      "model_module_version": "1.2.0",
      "model_name": "LayoutModel",
      "state": {
       "height": "350px"
      }
     },
     "b2c52a7d43ce4fc6a1f2e7b37fe9feeb": {
      "model_module": "@jupyter-widgets/controls",
      "model_module_version": "1.5.0",
      "model_name": "SliderStyleModel",
      "state": {
       "description_width": ""
      }
     },
     "b36844c9b3814ffa9d329601202668ee": {
      "model_module": "@jupyter-widgets/controls",
      "model_module_version": "1.5.0",
      "model_name": "ButtonModel",
      "state": {
       "description": "Save image",
       "layout": "IPY_MODEL_46d310bad583403498b7d50b8cd6dc15",
       "style": "IPY_MODEL_41a74390c64348bc85aaa1001840c2dc"
      }
     },
     "b3af0e40f1f44871885243f8761c75ef": {
      "model_module": "@jupyter-widgets/controls",
      "model_module_version": "1.5.0",
      "model_name": "DropdownModel",
      "state": {
       "_options_labels": [
        "poly_and_center",
        "every_other",
        "2points_n_classes",
        "3points_n_classes"
       ],
       "description": "Mode:",
       "index": 1,
       "layout": "IPY_MODEL_ee185e304ca94485b3030d3ecce984b7",
       "style": "IPY_MODEL_6a905c1416ac481da4eb2c5a024da223"
      }
     },
     "b403f74615c24ca69f1577a227b03367": {
      "model_module": "@jupyter-widgets/base",
      "model_module_version": "1.2.0",
      "model_name": "LayoutModel",
      "state": {
       "height": "350px"
      }
     },
     "b5e46c72ed90485fb4310472f843e3c2": {
      "model_module": "@jupyter-widgets/controls",
      "model_module_version": "1.5.0",
      "model_name": "DescriptionStyleModel",
      "state": {
       "description_width": ""
      }
     },
     "b6318c9efb3143ff90353c927932fd61": {
      "model_module": "@jupyter-widgets/controls",
      "model_module_version": "1.5.0",
      "model_name": "SliderStyleModel",
      "state": {
       "description_width": ""
      }
     },
     "b6ec49e52ae1410bbfe8c494033b90cd": {
      "model_module": "@jupyter-widgets/base",
      "model_module_version": "1.2.0",
      "model_name": "LayoutModel",
      "state": {}
     },
     "b9ef5f98a43f4af38eef278ac98e73dc": {
      "model_module": "@jupyter-widgets/base",
      "model_module_version": "1.2.0",
      "model_name": "LayoutModel",
      "state": {}
     },
     "ba2a29032ffb428ebdedb68719f7eb81": {
      "model_module": "@jupyter-widgets/base",
      "model_module_version": "1.2.0",
      "model_name": "LayoutModel",
      "state": {}
     },
     "bad2ac4758384905994b8735890add27": {
      "model_module": "@jupyter-widgets/controls",
      "model_module_version": "1.5.0",
      "model_name": "SliderStyleModel",
      "state": {
       "description_width": ""
      }
     },
     "bb0f53edfe464c7993cb191e0d1bc0b8": {
      "model_module": "@jupyter-widgets/controls",
      "model_module_version": "1.5.0",
      "model_name": "IntSliderModel",
      "state": {
       "continuous_update": false,
       "description": "num_classes",
       "disabled": true,
       "layout": "IPY_MODEL_f023c32c4c824f5b8917606712b48d8e",
       "max": 24,
       "min": 1,
       "style": "IPY_MODEL_d5862b65c47740508f46300c26c066bf",
       "value": 8
      }
     },
     "bb584037b893458e87de43c5db4ab9c2": {
      "model_module": "@jupyter-widgets/controls",
      "model_module_version": "1.5.0",
      "model_name": "SliderStyleModel",
      "state": {
       "description_width": ""
      }
     },
     "bba1a9b204f647b5a60b41c057684559": {
      "model_module": "@jupyter-widgets/controls",
      "model_module_version": "1.5.0",
      "model_name": "IntSliderModel",
      "state": {
       "continuous_update": false,
       "description": "num_points",
       "layout": "IPY_MODEL_8a2ef60c384340d789d09de6dddd348a",
       "max": 12,
       "min": 4,
       "style": "IPY_MODEL_b6318c9efb3143ff90353c927932fd61",
       "value": 4
      }
     },
     "bcaa963d5836467c9743d88d36a0de1c": {
      "model_module": "@jupyter-widgets/controls",
      "model_module_version": "1.5.0",
      "model_name": "SliderStyleModel",
      "state": {
       "description_width": ""
      }
     },
     "bcae59261f944854b44eee5d2d9333cb": {
      "model_module": "@jupyter-widgets/controls",
      "model_module_version": "1.5.0",
      "model_name": "DescriptionStyleModel",
      "state": {
       "description_width": ""
      }
     },
     "bebd1e326a574f9fa237f19c04ec21cb": {
      "model_module": "@jupyter-widgets/base",
      "model_module_version": "1.2.0",
      "model_name": "LayoutModel",
      "state": {}
     },
     "bece4f56058c43b283a8c0e0778900ee": {
      "model_module": "@jupyter-widgets/base",
      "model_module_version": "1.2.0",
      "model_name": "LayoutModel",
      "state": {}
     },
     "bf3fdea8347b4e6884c78ed54a1ec609": {
      "model_module": "@jupyter-widgets/controls",
      "model_module_version": "1.5.0",
      "model_name": "ButtonModel",
      "state": {
       "description": "Save image",
       "layout": "IPY_MODEL_36dcc0fe13644bafb6499227731f7708",
       "style": "IPY_MODEL_02b054920bf04f5b879e1425ad04ed60"
      }
     },
     "bf8fc11ee6944822b0de826ae283344b": {
      "model_module": "@jupyter-widgets/controls",
      "model_module_version": "1.5.0",
      "model_name": "IntSliderModel",
      "state": {
       "continuous_update": false,
       "description": "num_classes",
       "disabled": true,
       "layout": "IPY_MODEL_e1ceeeb079df4202a8977d1162173736",
       "max": 24,
       "min": 1,
       "style": "IPY_MODEL_6aacc601fc124f71a2870979fe97fda1",
       "value": 8
      }
     },
     "c06b7a1c5f484922980dcd4b301adb4d": {
      "model_module": "@jupyter-widgets/controls",
      "model_module_version": "1.5.0",
      "model_name": "IntSliderModel",
      "state": {
       "continuous_update": false,
       "description": "zoom",
       "disabled": true,
       "layout": "IPY_MODEL_66c539b6e79f4a13a42405f56d17e026",
       "max": 5,
       "min": -5,
       "style": "IPY_MODEL_2794a456cc58472b936581c4d0235415",
       "value": 5
      }
     },
     "c0ab77cc720a472aa0f95190c8012181": {
      "model_module": "@jupyter-widgets/controls",
      "model_module_version": "1.5.0",
      "model_name": "ButtonModel",
      "state": {
       "description": "Save image",
       "layout": "IPY_MODEL_7ad041c432dd4a3faf29872b99277bce",
       "style": "IPY_MODEL_a6a834c9eb174da7845f2dee261d9b0d"
      }
     },
     "c209e9c25c93496ca4cbb064c9be7126": {
      "model_module": "@jupyter-widgets/controls",
      "model_module_version": "1.5.0",
      "model_name": "IntSliderModel",
      "state": {
       "continuous_update": false,
       "description": "num_points",
       "disabled": true,
       "layout": "IPY_MODEL_b9ef5f98a43f4af38eef278ac98e73dc",
       "max": 2,
       "min": 2,
       "style": "IPY_MODEL_90ed935a84ca4e839091152866e56897",
       "value": 2
      }
     },
     "c22f70ed32794efb85f8e3d5dc218e21": {
      "model_module": "@jupyter-widgets/controls",
      "model_module_version": "1.5.0",
      "model_name": "IntSliderModel",
      "state": {
       "continuous_update": false,
       "description": "num_points",
       "layout": "IPY_MODEL_29300d5d8aef4b54ac761802accf8bb6",
       "max": 12,
       "min": 4,
       "style": "IPY_MODEL_17b4234f4ef44613882cd6611c980cd5",
       "value": 4
      }
     },
     "c368901a8ed94ce6977a2b39a4eac54b": {
      "model_module": "@jupyter-widgets/controls",
      "model_module_version": "1.5.0",
      "model_name": "ButtonModel",
      "state": {
       "description": "Save image",
       "layout": "IPY_MODEL_117fbdaf985b4922a76bdbff2fc2e0f2",
       "style": "IPY_MODEL_25edb56be39f47f88d89aa8a698944c7"
      }
     },
     "c40c4ff2c89d43fe9c8716864a155a83": {
      "model_module": "@jupyter-widgets/base",
      "model_module_version": "1.2.0",
      "model_name": "LayoutModel",
      "state": {}
     },
     "c46d2496f1c247ccb62b761e694b3651": {
      "model_module": "@jupyter-widgets/base",
      "model_module_version": "1.2.0",
      "model_name": "LayoutModel",
      "state": {}
     },
     "c47002ac350347f98373b962485ce099": {
      "model_module": "@jupyter-widgets/base",
      "model_module_version": "1.2.0",
      "model_name": "LayoutModel",
      "state": {}
     },
     "c53f317cbe6545528203bc56c405e065": {
      "model_module": "@jupyter-widgets/controls",
      "model_module_version": "1.5.0",
      "model_name": "DropdownModel",
      "state": {
       "_options_labels": [
        "poly_and_center",
        "every_other",
        "2points_n_classes",
        "3points_n_classes"
       ],
       "description": "Mode:",
       "index": 1,
       "layout": "IPY_MODEL_a5d508483055422aba728096683e8f7b",
       "style": "IPY_MODEL_9bace9b711a240d28c3ddfd06c488667"
      }
     },
     "c58061758af44806bb627fb025b5dfd3": {
      "model_module": "@jupyter-widgets/base",
      "model_module_version": "1.2.0",
      "model_name": "LayoutModel",
      "state": {
       "height": "350px"
      }
     },
     "c5bdad07ebab4af480d2e9307e03b2eb": {
      "model_module": "@jupyter-widgets/controls",
      "model_module_version": "1.5.0",
      "model_name": "ButtonStyleModel",
      "state": {}
     },
     "c5f74680eb904d29a5378e0b81403765": {
      "model_module": "@jupyter-widgets/controls",
      "model_module_version": "1.5.0",
      "model_name": "RadioButtonsModel",
      "state": {
       "_options_labels": [
        "Very Low",
        "Low",
        "Medium",
        "High",
        "Very High"
       ],
       "description": "Resolution:",
       "index": 2,
       "layout": "IPY_MODEL_a35a908d8d1c466181df59c8b530a24e",
       "style": "IPY_MODEL_a88382b827f94c7ab5442cb140fc5a37"
      }
     },
     "c653507a7e564f9389e18033c5d39949": {
      "model_module": "@jupyter-widgets/base",
      "model_module_version": "1.2.0",
      "model_name": "LayoutModel",
      "state": {}
     },
     "c658113b5770444f808e7ab5e3eb1772": {
      "model_module": "@jupyter-widgets/controls",
      "model_module_version": "1.5.0",
      "model_name": "SliderStyleModel",
      "state": {
       "description_width": ""
      }
     },
     "c8a35215954249e7a5e306af8d7700e6": {
      "model_module": "@jupyter-widgets/base",
      "model_module_version": "1.2.0",
      "model_name": "LayoutModel",
      "state": {}
     },
     "ca5f83291343454aa7f7f938084f89c6": {
      "model_module": "@jupyter-widgets/controls",
      "model_module_version": "1.5.0",
      "model_name": "RadioButtonsModel",
      "state": {
       "_options_labels": [
        "Very Low",
        "Low",
        "Medium",
        "High",
        "Very High"
       ],
       "description": "Resolution:",
       "index": 2,
       "layout": "IPY_MODEL_1b75e02e7ee54662acb3ea343e9edd28",
       "style": "IPY_MODEL_960c21bd1211411db8533335167fc7e9"
      }
     },
     "caf500af7f104ad2b924bab70c3c11bb": {
      "model_module": "@jupyter-widgets/controls",
      "model_module_version": "1.5.0",
      "model_name": "TextModel",
      "state": {
       "description": "Filename:",
       "layout": "IPY_MODEL_834953fa9e3f4d75bf2d595bee71c20e",
       "placeholder": "image.png",
       "style": "IPY_MODEL_8ad6cbc5d50448a5a524de7d508024cb",
       "value": "image.png"
      }
     },
     "caf683284ff54a1fb6985bd99e9c7e29": {
      "model_module": "@jupyter-widgets/base",
      "model_module_version": "1.2.0",
      "model_name": "LayoutModel",
      "state": {}
     },
     "cb68ccb3867d488ca74888458841ed16": {
      "model_module": "@jupyter-widgets/controls",
      "model_module_version": "1.5.0",
      "model_name": "DescriptionStyleModel",
      "state": {
       "description_width": ""
      }
     },
     "cbd1354d088f4d9192583fcc341793a4": {
      "model_module": "@jupyter-widgets/base",
      "model_module_version": "1.2.0",
      "model_name": "LayoutModel",
      "state": {}
     },
     "ccf2c7ebd9164dd0b38afd89d41e9dd1": {
      "model_module": "@jupyter-widgets/controls",
      "model_module_version": "1.5.0",
      "model_name": "DescriptionStyleModel",
      "state": {
       "description_width": ""
      }
     },
     "cd1c909f7f324b85ac08c7fdb12927fe": {
      "model_module": "@jupyter-widgets/base",
      "model_module_version": "1.2.0",
      "model_name": "LayoutModel",
      "state": {}
     },
     "cdc3a83518c646749f5d2bb0fb6e26ae": {
      "model_module": "@jupyter-widgets/base",
      "model_module_version": "1.2.0",
      "model_name": "LayoutModel",
      "state": {}
     },
     "ce9a02e26c6f4416bc2c0e66aa8e5772": {
      "model_module": "@jupyter-widgets/base",
      "model_module_version": "1.2.0",
      "model_name": "LayoutModel",
      "state": {}
     },
     "d01d504005ab4f45a6bda981f9e24220": {
      "model_module": "@jupyter-widgets/controls",
      "model_module_version": "1.5.0",
      "model_name": "IntSliderModel",
      "state": {
       "continuous_update": false,
       "description": "frame",
       "layout": "IPY_MODEL_cbd1354d088f4d9192583fcc341793a4",
       "max": 60,
       "min": -60,
       "step": 10,
       "style": "IPY_MODEL_9dc7263effa2453d88122b7ca08cfd77",
       "value": 10
      }
     },
     "d1813e7f5b66432db6011421b3f0ab78": {
      "model_module": "@jupyter-widgets/controls",
      "model_module_version": "1.5.0",
      "model_name": "SliderStyleModel",
      "state": {
       "description_width": ""
      }
     },
     "d18e9d8d34a24dd0b52b43e16aeeafae": {
      "model_module": "@jupyter-widgets/base",
      "model_module_version": "1.2.0",
      "model_name": "LayoutModel",
      "state": {}
     },
     "d1be0e91f5f84f64ae2dd98b32af2103": {
      "model_module": "@jupyter-widgets/controls",
      "model_module_version": "1.5.0",
      "model_name": "DescriptionStyleModel",
      "state": {
       "description_width": ""
      }
     },
     "d2793efaeef6424eaab710a0a0eae22c": {
      "model_module": "@jupyter-widgets/controls",
      "model_module_version": "1.5.0",
      "model_name": "RadioButtonsModel",
      "state": {
       "_options_labels": [
        "Very Low",
        "Low",
        "Medium",
        "High",
        "Very High"
       ],
       "description": "Resolution:",
       "index": 2,
       "layout": "IPY_MODEL_275e63faffc94e71bb30e12f70869a3a",
       "style": "IPY_MODEL_65b1ff06e66a4440a2adff77cc68db75"
      }
     },
     "d2b0ff5ada8f477fb017c043ba92e54f": {
      "model_module": "@jupyter-widgets/controls",
      "model_module_version": "1.5.0",
      "model_name": "DropdownModel",
      "state": {
       "_options_labels": [
        "poly_and_center",
        "every_other",
        "2points_n_classes",
        "3points_n_classes"
       ],
       "description": "Mode:",
       "index": 1,
       "layout": "IPY_MODEL_a062cf1414b348819c1e9f711a6e95f5",
       "style": "IPY_MODEL_6413eb8c130f4313aca73647d7792d0c"
      }
     },
     "d4105f47852b4bbea3ac497c0091ce6f": {
      "model_module": "@jupyter-widgets/base",
      "model_module_version": "1.2.0",
      "model_name": "LayoutModel",
      "state": {}
     },
     "d5862b65c47740508f46300c26c066bf": {
      "model_module": "@jupyter-widgets/controls",
      "model_module_version": "1.5.0",
      "model_name": "SliderStyleModel",
      "state": {
       "description_width": ""
      }
     },
     "d58e1242109147e7969e9c599b18d4c5": {
      "model_module": "@jupyter-widgets/controls",
      "model_module_version": "1.5.0",
      "model_name": "ButtonStyleModel",
      "state": {}
     },
     "d6663c9d4d4f42ffaa114b4945b9fca6": {
      "model_module": "@jupyter-widgets/controls",
      "model_module_version": "1.5.0",
      "model_name": "IntSliderModel",
      "state": {
       "continuous_update": false,
       "description": "num_classes",
       "disabled": true,
       "layout": "IPY_MODEL_dcc6a86f59414ad6b5a4553031e87f46",
       "max": 24,
       "min": 1,
       "style": "IPY_MODEL_1687e9dea56f4874b028846ec673f650",
       "value": 8
      }
     },
     "d6fffa8827374b788c2b8b25ccc673b0": {
      "model_module": "@jupyter-widgets/controls",
      "model_module_version": "1.5.0",
      "model_name": "RadioButtonsModel",
      "state": {
       "_options_labels": [
        "Very Low",
        "Low",
        "Medium",
        "High",
        "Very High"
       ],
       "description": "Resolution:",
       "index": 2,
       "layout": "IPY_MODEL_5113308e5f304115b788152907ca13d3",
       "style": "IPY_MODEL_42bee52820614430a0e82c04292099b3"
      }
     },
     "d7438918041a431d9246785f39c70711": {
      "model_module": "@jupyter-widgets/controls",
      "model_module_version": "1.5.0",
      "model_name": "IntSliderModel",
      "state": {
       "continuous_update": false,
       "description": "num_classes",
       "disabled": true,
       "layout": "IPY_MODEL_8a185b02db664820a56affda26f193c9",
       "max": 24,
       "min": 1,
       "style": "IPY_MODEL_f1e080d040274dcfa622ffb335e157ff",
       "value": 8
      }
     },
     "d7a720fb172d4734925277cb9a7d1315": {
      "model_module": "@jupyter-widgets/output",
      "model_module_version": "1.0.0",
      "model_name": "OutputModel",
      "state": {
       "layout": "IPY_MODEL_12944d198d154bf7b734ed2c0fec07df"
      }
     },
     "d7f9dafed27b45ad9797aa9b01c22ad4": {
      "model_module": "@jupyter-widgets/controls",
      "model_module_version": "1.5.0",
      "model_name": "DescriptionStyleModel",
      "state": {
       "description_width": ""
      }
     },
     "d898efbb93d94aeb89379f49389e8780": {
      "model_module": "@jupyter-widgets/base",
      "model_module_version": "1.2.0",
      "model_name": "LayoutModel",
      "state": {}
     },
     "d995359963aa4896b44ff567c6c1e1be": {
      "model_module": "@jupyter-widgets/controls",
      "model_module_version": "1.5.0",
      "model_name": "IntSliderModel",
      "state": {
       "continuous_update": false,
       "description": "num_points",
       "layout": "IPY_MODEL_fd7bbadde6ed4e08884c2bae6993e150",
       "max": 12,
       "min": 4,
       "style": "IPY_MODEL_4991f16735684dc38d61655b3e87af44",
       "value": 4
      }
     },
     "d99675da08864bafa49533a4defd1eae": {
      "model_module": "@jupyter-widgets/controls",
      "model_module_version": "1.5.0",
      "model_name": "IntSliderModel",
      "state": {
       "continuous_update": false,
       "description": "zoom",
       "layout": "IPY_MODEL_6c5ae7b80b9d415a962ba478350ad124",
       "max": 5,
       "min": -5,
       "style": "IPY_MODEL_39c587588b7a4250aed602d5b2c795d4",
       "value": 5
      }
     },
     "d9f0a51faff24f84889d36d5cd085776": {
      "model_module": "@jupyter-widgets/controls",
      "model_module_version": "1.5.0",
      "model_name": "IntSliderModel",
      "state": {
       "continuous_update": false,
       "description": "frame",
       "layout": "IPY_MODEL_6767512fd20247689c08fcb421fa2969",
       "max": 60,
       "min": -60,
       "step": 10,
       "style": "IPY_MODEL_0230f19b86504a7181e9aefafbe17bcd",
       "value": 10
      }
     },
     "dae4e3935d0f4c549c8cc99ccc6b8739": {
      "model_module": "@jupyter-widgets/controls",
      "model_module_version": "1.5.0",
      "model_name": "RadioButtonsModel",
      "state": {
       "_options_labels": [
        "Very Low",
        "Low",
        "Medium",
        "High",
        "Very High"
       ],
       "description": "Resolution:",
       "index": 2,
       "layout": "IPY_MODEL_5d7ff55557f241c7aab737935b0d74ae",
       "style": "IPY_MODEL_598a6fbe3dad46fbb0b8c5dc69c8e714"
      }
     },
     "dca47b7feb2a4f23a38cd7b77e91f101": {
      "model_module": "@jupyter-widgets/base",
      "model_module_version": "1.2.0",
      "model_name": "LayoutModel",
      "state": {}
     },
     "dcc6a86f59414ad6b5a4553031e87f46": {
      "model_module": "@jupyter-widgets/base",
      "model_module_version": "1.2.0",
      "model_name": "LayoutModel",
      "state": {}
     },
     "dd09634f590d4fb3aad8465a477323f5": {
      "model_module": "@jupyter-widgets/base",
      "model_module_version": "1.2.0",
      "model_name": "LayoutModel",
      "state": {
       "height": "350px"
      }
     },
     "dd6f9965bddb4ec4988accf41cd0af66": {
      "model_module": "@jupyter-widgets/output",
      "model_module_version": "1.0.0",
      "model_name": "OutputModel",
      "state": {
       "layout": "IPY_MODEL_5b31579438af4fe9af44677072f78dcf"
      }
     },
     "dda0d290e3914021ae6ab2526e6ae98c": {
      "model_module": "@jupyter-widgets/base",
      "model_module_version": "1.2.0",
      "model_name": "LayoutModel",
      "state": {}
     },
     "de493d67ab944d5480e421156d4f97f3": {
      "model_module": "@jupyter-widgets/controls",
      "model_module_version": "1.5.0",
      "model_name": "ButtonModel",
      "state": {
       "description": "Save image",
       "layout": "IPY_MODEL_e93f9f2a896b43f490c7949c067f76bc",
       "style": "IPY_MODEL_d58e1242109147e7969e9c599b18d4c5"
      }
     },
     "df2e40018a0d4734b0c8f956eeef34fd": {
      "model_module": "@jupyter-widgets/base",
      "model_module_version": "1.2.0",
      "model_name": "LayoutModel",
      "state": {}
     },
     "df86414ea8f74e82bae06ae03501aaa8": {
      "model_module": "@jupyter-widgets/controls",
      "model_module_version": "1.5.0",
      "model_name": "DescriptionStyleModel",
      "state": {
       "description_width": ""
      }
     },
     "e03aa0c213254922998ded0c55a3a4d4": {
      "model_module": "@jupyter-widgets/output",
      "model_module_version": "1.0.0",
      "model_name": "OutputModel",
      "state": {
       "layout": "IPY_MODEL_3ac6a6b58df84352add8af23bd1b952c"
      }
     },
     "e0f45b768a12414893e2ae9e804038ca": {
      "model_module": "@jupyter-widgets/controls",
      "model_module_version": "1.5.0",
      "model_name": "ButtonStyleModel",
      "state": {}
     },
     "e115403c7aaf40de9f246cc9826a891b": {
      "model_module": "@jupyter-widgets/controls",
      "model_module_version": "1.5.0",
      "model_name": "SliderStyleModel",
      "state": {
       "description_width": ""
      }
     },
     "e1ceeeb079df4202a8977d1162173736": {
      "model_module": "@jupyter-widgets/base",
      "model_module_version": "1.2.0",
      "model_name": "LayoutModel",
      "state": {}
     },
     "e21be09ea5824aa68649ff17b0b0be3b": {
      "model_module": "@jupyter-widgets/base",
      "model_module_version": "1.2.0",
      "model_name": "LayoutModel",
      "state": {}
     },
     "e49c0f8a80ff49988abff2cf952a3755": {
      "model_module": "@jupyter-widgets/base",
      "model_module_version": "1.2.0",
      "model_name": "LayoutModel",
      "state": {}
     },
     "e4bbe30cffcb4c01a165c0c43637b07f": {
      "model_module": "@jupyter-widgets/output",
      "model_module_version": "1.0.0",
      "model_name": "OutputModel",
      "state": {
       "layout": "IPY_MODEL_b403f74615c24ca69f1577a227b03367"
      }
     },
     "e74e962f0f68489fab028f3cff302a0d": {
      "model_module": "@jupyter-widgets/controls",
      "model_module_version": "1.5.0",
      "model_name": "IntSliderModel",
      "state": {
       "continuous_update": false,
       "description": "frame",
       "layout": "IPY_MODEL_a80e9052f5f64a18b2c6bf7aa7e22f31",
       "max": 60,
       "min": -60,
       "step": 10,
       "style": "IPY_MODEL_a0d4b109450c4ac2a80d74e800ab1830",
       "value": 10
      }
     },
     "e751df4250824168acba5e6c1696a58d": {
      "model_module": "@jupyter-widgets/base",
      "model_module_version": "1.2.0",
      "model_name": "LayoutModel",
      "state": {}
     },
     "e7d01248b79944eea005ede1bbd16055": {
      "model_module": "@jupyter-widgets/output",
      "model_module_version": "1.0.0",
      "model_name": "OutputModel",
      "state": {
       "layout": "IPY_MODEL_2559d63287884aeb9c98fff7880dd0c1"
      }
     },
     "e93f9f2a896b43f490c7949c067f76bc": {
      "model_module": "@jupyter-widgets/base",
      "model_module_version": "1.2.0",
      "model_name": "LayoutModel",
      "state": {}
     },
     "e9a26ffaf6ef430b9f9a86fa000e05a5": {
      "model_module": "@jupyter-widgets/controls",
      "model_module_version": "1.5.0",
      "model_name": "SliderStyleModel",
      "state": {
       "description_width": ""
      }
     },
     "e9b2549e170a4ba4b1e0d6493214ad78": {
      "model_module": "@jupyter-widgets/base",
      "model_module_version": "1.2.0",
      "model_name": "LayoutModel",
      "state": {}
     },
     "eb4eba8fccde44419704ac911597ca77": {
      "model_module": "@jupyter-widgets/controls",
      "model_module_version": "1.5.0",
      "model_name": "SliderStyleModel",
      "state": {
       "description_width": ""
      }
     },
     "ed27f7c15ef047dcbb3fbf9682275cc9": {
      "model_module": "@jupyter-widgets/controls",
      "model_module_version": "1.5.0",
      "model_name": "SliderStyleModel",
      "state": {
       "description_width": ""
      }
     },
     "edcfa694a61e4c2c88d1b5846966f224": {
      "model_module": "@jupyter-widgets/base",
      "model_module_version": "1.2.0",
      "model_name": "LayoutModel",
      "state": {}
     },
     "edd3721f07d84e1ba8b014e8232640df": {
      "model_module": "@jupyter-widgets/base",
      "model_module_version": "1.2.0",
      "model_name": "LayoutModel",
      "state": {}
     },
     "ee185e304ca94485b3030d3ecce984b7": {
      "model_module": "@jupyter-widgets/base",
      "model_module_version": "1.2.0",
      "model_name": "LayoutModel",
      "state": {}
     },
     "ef2a4617823b41b7ba0e1bb53005f5f7": {
      "model_module": "@jupyter-widgets/controls",
      "model_module_version": "1.5.0",
      "model_name": "DescriptionStyleModel",
      "state": {
       "description_width": ""
      }
     },
     "ef8ee34dd59c4541a6d568a01ad78143": {
      "model_module": "@jupyter-widgets/controls",
      "model_module_version": "1.5.0",
      "model_name": "SliderStyleModel",
      "state": {
       "description_width": ""
      }
     },
     "f023c32c4c824f5b8917606712b48d8e": {
      "model_module": "@jupyter-widgets/base",
      "model_module_version": "1.2.0",
      "model_name": "LayoutModel",
      "state": {}
     },
     "f1256990b95d465489453e8ea637bf43": {
      "model_module": "@jupyter-widgets/controls",
      "model_module_version": "1.5.0",
      "model_name": "RadioButtonsModel",
      "state": {
       "_options_labels": [
        "Very Low",
        "Low",
        "Medium",
        "High",
        "Very High"
       ],
       "description": "Resolution:",
       "index": 2,
       "layout": "IPY_MODEL_e21be09ea5824aa68649ff17b0b0be3b",
       "style": "IPY_MODEL_06f36ddf609d40a59f92d7c7cc106d7a"
      }
     },
     "f1e080d040274dcfa622ffb335e157ff": {
      "model_module": "@jupyter-widgets/controls",
      "model_module_version": "1.5.0",
      "model_name": "SliderStyleModel",
      "state": {
       "description_width": ""
      }
     },
     "f2559a881e4d4adb88fb09030ee48184": {
      "model_module": "@jupyter-widgets/base",
      "model_module_version": "1.2.0",
      "model_name": "LayoutModel",
      "state": {}
     },
     "f4a98750e04944d397fd9ec097aa834c": {
      "model_module": "@jupyter-widgets/output",
      "model_module_version": "1.0.0",
      "model_name": "OutputModel",
      "state": {
       "layout": "IPY_MODEL_542aab1f2a3642c29466b61d840c0450"
      }
     },
     "f4de5a79ec9c497183bc978aa0d11805": {
      "model_module": "@jupyter-widgets/controls",
      "model_module_version": "1.5.0",
      "model_name": "IntSliderModel",
      "state": {
       "continuous_update": false,
       "description": "num_classes",
       "disabled": true,
       "layout": "IPY_MODEL_5a69a439da504d31a101895e4834d3e2",
       "max": 24,
       "min": 1,
       "style": "IPY_MODEL_bad2ac4758384905994b8735890add27",
       "value": 8
      }
     },
     "f596d3bce1de4d4ba7dbb2080b9cb81e": {
      "model_module": "@jupyter-widgets/output",
      "model_module_version": "1.0.0",
      "model_name": "OutputModel",
      "state": {
       "layout": "IPY_MODEL_cdc3a83518c646749f5d2bb0fb6e26ae"
      }
     },
     "f5e7068271e5442797a29e84b1e97dd8": {
      "model_module": "@jupyter-widgets/controls",
      "model_module_version": "1.5.0",
      "model_name": "IntSliderModel",
      "state": {
       "continuous_update": false,
       "description": "frame",
       "disabled": true,
       "layout": "IPY_MODEL_c46d2496f1c247ccb62b761e694b3651",
       "max": 60,
       "min": -60,
       "step": 10,
       "style": "IPY_MODEL_8bcdb893db674b759be457b82c9b9829",
       "value": 10
      }
     },
     "f722d1e46b0642d091a5c4478ba814f8": {
      "model_module": "@jupyter-widgets/base",
      "model_module_version": "1.2.0",
      "model_name": "LayoutModel",
      "state": {}
     },
     "f7e6a505a68e4f4f801787e6a8a0a8e2": {
      "model_module": "@jupyter-widgets/base",
      "model_module_version": "1.2.0",
      "model_name": "LayoutModel",
      "state": {}
     },
     "f7eae17659284565ac272322f4418936": {
      "model_module": "@jupyter-widgets/controls",
      "model_module_version": "1.5.0",
      "model_name": "IntSliderModel",
      "state": {
       "continuous_update": false,
       "description": "num_points",
       "layout": "IPY_MODEL_3c79e20e300c4b52b1dc256746926247",
       "max": 12,
       "min": 4,
       "style": "IPY_MODEL_1b118411b9ae4331807b21d59f319e43",
       "value": 4
      }
     },
     "f9523b6430d7484f9e5b9d2c5d0daa2a": {
      "model_module": "@jupyter-widgets/base",
      "model_module_version": "1.2.0",
      "model_name": "LayoutModel",
      "state": {}
     },
     "fa6acaabf9e04ea086eabfda6cb5bc6b": {
      "model_module": "@jupyter-widgets/controls",
      "model_module_version": "1.5.0",
      "model_name": "IntSliderModel",
      "state": {
       "continuous_update": false,
       "description": "frame",
       "layout": "IPY_MODEL_5ab1e6497eb84d02b3680a6838e4be8f",
       "max": 60,
       "min": -60,
       "step": 10,
       "style": "IPY_MODEL_9f30a17bfac54334b66e60c3db24cbce",
       "value": 10
      }
     },
     "fac4da50679744bfb0d7abbf30267f26": {
      "model_module": "@jupyter-widgets/controls",
      "model_module_version": "1.5.0",
      "model_name": "VBoxModel",
      "state": {
       "_dom_classes": [
        "widget-interact"
       ],
       "children": [
        "IPY_MODEL_03ad7b0e5db945c2b7bca4484f3a1d33",
        "IPY_MODEL_bba1a9b204f647b5a60b41c057684559",
        "IPY_MODEL_f4de5a79ec9c497183bc978aa0d11805",
        "IPY_MODEL_228be73401b5443f90986f3cf23a0bbc",
        "IPY_MODEL_5a2919b23ef44239a628f58a2950a9fe",
        "IPY_MODEL_aa39aabfe4b840e28c2f4e5f5f981042",
        "IPY_MODEL_66de3b25a49649098d4510a7ffcd77a7",
        "IPY_MODEL_272cb574968b4629b683d8b7d6a4f168"
       ],
       "layout": "IPY_MODEL_870f976359d64df5b27a612be1d7a760"
      }
     },
     "fad33eef822f4725831ad721575da14d": {
      "model_module": "@jupyter-widgets/base",
      "model_module_version": "1.2.0",
      "model_name": "LayoutModel",
      "state": {}
     },
     "fb2936d0e0004bcb831b83ec00691518": {
      "model_module": "@jupyter-widgets/controls",
      "model_module_version": "1.5.0",
      "model_name": "ButtonModel",
      "state": {
       "description": "Save image",
       "layout": "IPY_MODEL_9e989e9d356a4b57b9bf684f294d6c44",
       "style": "IPY_MODEL_e0f45b768a12414893e2ae9e804038ca"
      }
     },
     "fc6ea7dbd3bb469dbdcd7e109fce94b9": {
      "model_module": "@jupyter-widgets/base",
      "model_module_version": "1.2.0",
      "model_name": "LayoutModel",
      "state": {}
     },
     "fd7bbadde6ed4e08884c2bae6993e150": {
      "model_module": "@jupyter-widgets/base",
      "model_module_version": "1.2.0",
      "model_name": "LayoutModel",
      "state": {}
     },
     "fef72de3508e4e39b9bd40f59030e9ec": {
      "model_module": "@jupyter-widgets/base",
      "model_module_version": "1.2.0",
      "model_name": "LayoutModel",
      "state": {}
     },
     "ff1ebbb9593045a1bb76751be453e232": {
      "model_module": "@jupyter-widgets/base",
      "model_module_version": "1.2.0",
      "model_name": "LayoutModel",
      "state": {}
     }
    },
    "version_major": 2,
    "version_minor": 0
   }
  }
 },
 "nbformat": 4,
 "nbformat_minor": 4
}
